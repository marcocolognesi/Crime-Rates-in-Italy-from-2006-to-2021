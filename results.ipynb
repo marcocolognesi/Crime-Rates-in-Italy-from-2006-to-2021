{
 "cells": [
  {
   "cell_type": "code",
   "execution_count": 1,
   "metadata": {},
   "outputs": [],
   "source": [
    "import pandas as pd\n",
    "import numpy as np\n",
    "import functions\n",
    "import plotly.express as px"
   ]
  },
  {
   "attachments": {},
   "cell_type": "markdown",
   "metadata": {},
   "source": [
    "First we start by importing the csv file created in the `\"data_manipulation.ipynb\"` file "
   ]
  },
  {
   "cell_type": "code",
   "execution_count": 2,
   "metadata": {},
   "outputs": [],
   "source": [
    "df = pd.read_csv(\"data/final.csv\")\n",
    "df = df.drop(columns='Unnamed: 0')"
   ]
  },
  {
   "attachments": {},
   "cell_type": "markdown",
   "metadata": {},
   "source": [
    "We are gonna see some results based on different units of analysis."
   ]
  },
  {
   "attachments": {},
   "cell_type": "markdown",
   "metadata": {},
   "source": [
    "### Italy (*national level*)"
   ]
  },
  {
   "attachments": {},
   "cell_type": "markdown",
   "metadata": {},
   "source": [
    "The first unit of analysis taken into consideration will be the **Italian territory** as a whole:\n",
    "\n",
    "* We will see the **total number** of **crimes** reported in the time span taken into consideration, and we will compute the **average** per year;\n",
    "* We will check the **years** with the **maximum** and **minimum** amount;\n",
    "* We will compute the **trend** from `2006` to `2021`, to see if the numbers are **increasing** or **decreasing**."
   ]
  },
  {
   "cell_type": "code",
   "execution_count": 3,
   "metadata": {},
   "outputs": [
    {
     "name": "stdout",
     "output_type": "stream",
     "text": [
      "Overall, in the 16 years taken into consideration, 41196129 crimes were reported. \n",
      "A mean of 2574758 per year and 7054 per day \n",
      "A standard deviation of 281984.\n"
     ]
    },
    {
     "data": {
      "application/vnd.plotly.v1+json": {
       "config": {
        "plotlyServerURL": "https://plot.ly"
       },
       "data": [
        {
         "alignmentgroup": "True",
         "hovertemplate": "Year=%{x}<br>Value=%{y}<extra></extra>",
         "legendgroup": "",
         "marker": {
          "color": "#636efa",
          "pattern": {
           "shape": ""
          }
         },
         "name": "",
         "offsetgroup": "",
         "orientation": "v",
         "showlegend": false,
         "textposition": "auto",
         "type": "bar",
         "x": [
          2006,
          2007,
          2008,
          2009,
          2010,
          2011,
          2012,
          2013,
          2014,
          2015,
          2016,
          2017,
          2018,
          2019,
          2020,
          2021
         ],
         "xaxis": "x",
         "y": [
          2768407,
          2929755,
          2706832,
          2627066,
          2618464,
          2760473,
          2816291,
          2889474,
          2810427,
          2684934,
          2485035,
          2427667,
          2369960,
          2300101,
          1898784,
          2102459
         ],
         "yaxis": "y"
        }
       ],
       "layout": {
        "barmode": "relative",
        "legend": {
         "tracegroupgap": 0
        },
        "template": {
         "data": {
          "bar": [
           {
            "error_x": {
             "color": "#2a3f5f"
            },
            "error_y": {
             "color": "#2a3f5f"
            },
            "marker": {
             "line": {
              "color": "#E5ECF6",
              "width": 0.5
             },
             "pattern": {
              "fillmode": "overlay",
              "size": 10,
              "solidity": 0.2
             }
            },
            "type": "bar"
           }
          ],
          "barpolar": [
           {
            "marker": {
             "line": {
              "color": "#E5ECF6",
              "width": 0.5
             },
             "pattern": {
              "fillmode": "overlay",
              "size": 10,
              "solidity": 0.2
             }
            },
            "type": "barpolar"
           }
          ],
          "carpet": [
           {
            "aaxis": {
             "endlinecolor": "#2a3f5f",
             "gridcolor": "white",
             "linecolor": "white",
             "minorgridcolor": "white",
             "startlinecolor": "#2a3f5f"
            },
            "baxis": {
             "endlinecolor": "#2a3f5f",
             "gridcolor": "white",
             "linecolor": "white",
             "minorgridcolor": "white",
             "startlinecolor": "#2a3f5f"
            },
            "type": "carpet"
           }
          ],
          "choropleth": [
           {
            "colorbar": {
             "outlinewidth": 0,
             "ticks": ""
            },
            "type": "choropleth"
           }
          ],
          "contour": [
           {
            "colorbar": {
             "outlinewidth": 0,
             "ticks": ""
            },
            "colorscale": [
             [
              0,
              "#0d0887"
             ],
             [
              0.1111111111111111,
              "#46039f"
             ],
             [
              0.2222222222222222,
              "#7201a8"
             ],
             [
              0.3333333333333333,
              "#9c179e"
             ],
             [
              0.4444444444444444,
              "#bd3786"
             ],
             [
              0.5555555555555556,
              "#d8576b"
             ],
             [
              0.6666666666666666,
              "#ed7953"
             ],
             [
              0.7777777777777778,
              "#fb9f3a"
             ],
             [
              0.8888888888888888,
              "#fdca26"
             ],
             [
              1,
              "#f0f921"
             ]
            ],
            "type": "contour"
           }
          ],
          "contourcarpet": [
           {
            "colorbar": {
             "outlinewidth": 0,
             "ticks": ""
            },
            "type": "contourcarpet"
           }
          ],
          "heatmap": [
           {
            "colorbar": {
             "outlinewidth": 0,
             "ticks": ""
            },
            "colorscale": [
             [
              0,
              "#0d0887"
             ],
             [
              0.1111111111111111,
              "#46039f"
             ],
             [
              0.2222222222222222,
              "#7201a8"
             ],
             [
              0.3333333333333333,
              "#9c179e"
             ],
             [
              0.4444444444444444,
              "#bd3786"
             ],
             [
              0.5555555555555556,
              "#d8576b"
             ],
             [
              0.6666666666666666,
              "#ed7953"
             ],
             [
              0.7777777777777778,
              "#fb9f3a"
             ],
             [
              0.8888888888888888,
              "#fdca26"
             ],
             [
              1,
              "#f0f921"
             ]
            ],
            "type": "heatmap"
           }
          ],
          "heatmapgl": [
           {
            "colorbar": {
             "outlinewidth": 0,
             "ticks": ""
            },
            "colorscale": [
             [
              0,
              "#0d0887"
             ],
             [
              0.1111111111111111,
              "#46039f"
             ],
             [
              0.2222222222222222,
              "#7201a8"
             ],
             [
              0.3333333333333333,
              "#9c179e"
             ],
             [
              0.4444444444444444,
              "#bd3786"
             ],
             [
              0.5555555555555556,
              "#d8576b"
             ],
             [
              0.6666666666666666,
              "#ed7953"
             ],
             [
              0.7777777777777778,
              "#fb9f3a"
             ],
             [
              0.8888888888888888,
              "#fdca26"
             ],
             [
              1,
              "#f0f921"
             ]
            ],
            "type": "heatmapgl"
           }
          ],
          "histogram": [
           {
            "marker": {
             "pattern": {
              "fillmode": "overlay",
              "size": 10,
              "solidity": 0.2
             }
            },
            "type": "histogram"
           }
          ],
          "histogram2d": [
           {
            "colorbar": {
             "outlinewidth": 0,
             "ticks": ""
            },
            "colorscale": [
             [
              0,
              "#0d0887"
             ],
             [
              0.1111111111111111,
              "#46039f"
             ],
             [
              0.2222222222222222,
              "#7201a8"
             ],
             [
              0.3333333333333333,
              "#9c179e"
             ],
             [
              0.4444444444444444,
              "#bd3786"
             ],
             [
              0.5555555555555556,
              "#d8576b"
             ],
             [
              0.6666666666666666,
              "#ed7953"
             ],
             [
              0.7777777777777778,
              "#fb9f3a"
             ],
             [
              0.8888888888888888,
              "#fdca26"
             ],
             [
              1,
              "#f0f921"
             ]
            ],
            "type": "histogram2d"
           }
          ],
          "histogram2dcontour": [
           {
            "colorbar": {
             "outlinewidth": 0,
             "ticks": ""
            },
            "colorscale": [
             [
              0,
              "#0d0887"
             ],
             [
              0.1111111111111111,
              "#46039f"
             ],
             [
              0.2222222222222222,
              "#7201a8"
             ],
             [
              0.3333333333333333,
              "#9c179e"
             ],
             [
              0.4444444444444444,
              "#bd3786"
             ],
             [
              0.5555555555555556,
              "#d8576b"
             ],
             [
              0.6666666666666666,
              "#ed7953"
             ],
             [
              0.7777777777777778,
              "#fb9f3a"
             ],
             [
              0.8888888888888888,
              "#fdca26"
             ],
             [
              1,
              "#f0f921"
             ]
            ],
            "type": "histogram2dcontour"
           }
          ],
          "mesh3d": [
           {
            "colorbar": {
             "outlinewidth": 0,
             "ticks": ""
            },
            "type": "mesh3d"
           }
          ],
          "parcoords": [
           {
            "line": {
             "colorbar": {
              "outlinewidth": 0,
              "ticks": ""
             }
            },
            "type": "parcoords"
           }
          ],
          "pie": [
           {
            "automargin": true,
            "type": "pie"
           }
          ],
          "scatter": [
           {
            "fillpattern": {
             "fillmode": "overlay",
             "size": 10,
             "solidity": 0.2
            },
            "type": "scatter"
           }
          ],
          "scatter3d": [
           {
            "line": {
             "colorbar": {
              "outlinewidth": 0,
              "ticks": ""
             }
            },
            "marker": {
             "colorbar": {
              "outlinewidth": 0,
              "ticks": ""
             }
            },
            "type": "scatter3d"
           }
          ],
          "scattercarpet": [
           {
            "marker": {
             "colorbar": {
              "outlinewidth": 0,
              "ticks": ""
             }
            },
            "type": "scattercarpet"
           }
          ],
          "scattergeo": [
           {
            "marker": {
             "colorbar": {
              "outlinewidth": 0,
              "ticks": ""
             }
            },
            "type": "scattergeo"
           }
          ],
          "scattergl": [
           {
            "marker": {
             "colorbar": {
              "outlinewidth": 0,
              "ticks": ""
             }
            },
            "type": "scattergl"
           }
          ],
          "scattermapbox": [
           {
            "marker": {
             "colorbar": {
              "outlinewidth": 0,
              "ticks": ""
             }
            },
            "type": "scattermapbox"
           }
          ],
          "scatterpolar": [
           {
            "marker": {
             "colorbar": {
              "outlinewidth": 0,
              "ticks": ""
             }
            },
            "type": "scatterpolar"
           }
          ],
          "scatterpolargl": [
           {
            "marker": {
             "colorbar": {
              "outlinewidth": 0,
              "ticks": ""
             }
            },
            "type": "scatterpolargl"
           }
          ],
          "scatterternary": [
           {
            "marker": {
             "colorbar": {
              "outlinewidth": 0,
              "ticks": ""
             }
            },
            "type": "scatterternary"
           }
          ],
          "surface": [
           {
            "colorbar": {
             "outlinewidth": 0,
             "ticks": ""
            },
            "colorscale": [
             [
              0,
              "#0d0887"
             ],
             [
              0.1111111111111111,
              "#46039f"
             ],
             [
              0.2222222222222222,
              "#7201a8"
             ],
             [
              0.3333333333333333,
              "#9c179e"
             ],
             [
              0.4444444444444444,
              "#bd3786"
             ],
             [
              0.5555555555555556,
              "#d8576b"
             ],
             [
              0.6666666666666666,
              "#ed7953"
             ],
             [
              0.7777777777777778,
              "#fb9f3a"
             ],
             [
              0.8888888888888888,
              "#fdca26"
             ],
             [
              1,
              "#f0f921"
             ]
            ],
            "type": "surface"
           }
          ],
          "table": [
           {
            "cells": {
             "fill": {
              "color": "#EBF0F8"
             },
             "line": {
              "color": "white"
             }
            },
            "header": {
             "fill": {
              "color": "#C8D4E3"
             },
             "line": {
              "color": "white"
             }
            },
            "type": "table"
           }
          ]
         },
         "layout": {
          "annotationdefaults": {
           "arrowcolor": "#2a3f5f",
           "arrowhead": 0,
           "arrowwidth": 1
          },
          "autotypenumbers": "strict",
          "coloraxis": {
           "colorbar": {
            "outlinewidth": 0,
            "ticks": ""
           }
          },
          "colorscale": {
           "diverging": [
            [
             0,
             "#8e0152"
            ],
            [
             0.1,
             "#c51b7d"
            ],
            [
             0.2,
             "#de77ae"
            ],
            [
             0.3,
             "#f1b6da"
            ],
            [
             0.4,
             "#fde0ef"
            ],
            [
             0.5,
             "#f7f7f7"
            ],
            [
             0.6,
             "#e6f5d0"
            ],
            [
             0.7,
             "#b8e186"
            ],
            [
             0.8,
             "#7fbc41"
            ],
            [
             0.9,
             "#4d9221"
            ],
            [
             1,
             "#276419"
            ]
           ],
           "sequential": [
            [
             0,
             "#0d0887"
            ],
            [
             0.1111111111111111,
             "#46039f"
            ],
            [
             0.2222222222222222,
             "#7201a8"
            ],
            [
             0.3333333333333333,
             "#9c179e"
            ],
            [
             0.4444444444444444,
             "#bd3786"
            ],
            [
             0.5555555555555556,
             "#d8576b"
            ],
            [
             0.6666666666666666,
             "#ed7953"
            ],
            [
             0.7777777777777778,
             "#fb9f3a"
            ],
            [
             0.8888888888888888,
             "#fdca26"
            ],
            [
             1,
             "#f0f921"
            ]
           ],
           "sequentialminus": [
            [
             0,
             "#0d0887"
            ],
            [
             0.1111111111111111,
             "#46039f"
            ],
            [
             0.2222222222222222,
             "#7201a8"
            ],
            [
             0.3333333333333333,
             "#9c179e"
            ],
            [
             0.4444444444444444,
             "#bd3786"
            ],
            [
             0.5555555555555556,
             "#d8576b"
            ],
            [
             0.6666666666666666,
             "#ed7953"
            ],
            [
             0.7777777777777778,
             "#fb9f3a"
            ],
            [
             0.8888888888888888,
             "#fdca26"
            ],
            [
             1,
             "#f0f921"
            ]
           ]
          },
          "colorway": [
           "#636efa",
           "#EF553B",
           "#00cc96",
           "#ab63fa",
           "#FFA15A",
           "#19d3f3",
           "#FF6692",
           "#B6E880",
           "#FF97FF",
           "#FECB52"
          ],
          "font": {
           "color": "#2a3f5f"
          },
          "geo": {
           "bgcolor": "white",
           "lakecolor": "white",
           "landcolor": "#E5ECF6",
           "showlakes": true,
           "showland": true,
           "subunitcolor": "white"
          },
          "hoverlabel": {
           "align": "left"
          },
          "hovermode": "closest",
          "mapbox": {
           "style": "light"
          },
          "paper_bgcolor": "white",
          "plot_bgcolor": "#E5ECF6",
          "polar": {
           "angularaxis": {
            "gridcolor": "white",
            "linecolor": "white",
            "ticks": ""
           },
           "bgcolor": "#E5ECF6",
           "radialaxis": {
            "gridcolor": "white",
            "linecolor": "white",
            "ticks": ""
           }
          },
          "scene": {
           "xaxis": {
            "backgroundcolor": "#E5ECF6",
            "gridcolor": "white",
            "gridwidth": 2,
            "linecolor": "white",
            "showbackground": true,
            "ticks": "",
            "zerolinecolor": "white"
           },
           "yaxis": {
            "backgroundcolor": "#E5ECF6",
            "gridcolor": "white",
            "gridwidth": 2,
            "linecolor": "white",
            "showbackground": true,
            "ticks": "",
            "zerolinecolor": "white"
           },
           "zaxis": {
            "backgroundcolor": "#E5ECF6",
            "gridcolor": "white",
            "gridwidth": 2,
            "linecolor": "white",
            "showbackground": true,
            "ticks": "",
            "zerolinecolor": "white"
           }
          },
          "shapedefaults": {
           "line": {
            "color": "#2a3f5f"
           }
          },
          "ternary": {
           "aaxis": {
            "gridcolor": "white",
            "linecolor": "white",
            "ticks": ""
           },
           "baxis": {
            "gridcolor": "white",
            "linecolor": "white",
            "ticks": ""
           },
           "bgcolor": "#E5ECF6",
           "caxis": {
            "gridcolor": "white",
            "linecolor": "white",
            "ticks": ""
           }
          },
          "title": {
           "x": 0.05
          },
          "xaxis": {
           "automargin": true,
           "gridcolor": "white",
           "linecolor": "white",
           "ticks": "",
           "title": {
            "standoff": 15
           },
           "zerolinecolor": "white",
           "zerolinewidth": 2
          },
          "yaxis": {
           "automargin": true,
           "gridcolor": "white",
           "linecolor": "white",
           "ticks": "",
           "title": {
            "standoff": 15
           },
           "zerolinecolor": "white",
           "zerolinewidth": 2
          }
         }
        },
        "title": {
         "text": "Trend of the total number of crimes reported over the years in Italy"
        },
        "xaxis": {
         "anchor": "y",
         "domain": [
          0,
          1
         ],
         "title": {
          "text": "Year"
         }
        },
        "yaxis": {
         "anchor": "x",
         "domain": [
          0,
          1
         ],
         "title": {
          "text": "Value"
         }
        }
       }
      }
     },
     "metadata": {},
     "output_type": "display_data"
    }
   ],
   "source": [
    "# Finding the number of crimes reported in the time span taken into consideration\n",
    "year_and_total_values = df.loc[df['Crime'] == 'totale'].groupby(['Year']).sum(numeric_only=True)['Value']\n",
    "\n",
    "\n",
    "print(f\"Overall, in the 16 years taken into consideration, {sum(year_and_total_values)} crimes were reported.\",\n",
    "        f\"\\nA mean of {round(sum(year_and_total_values)/len(year_and_total_values))} per year and {round((sum(year_and_total_values)/len(year_and_total_values) / 365))} per day\",\n",
    "        f\"\\nA standard deviation of {round(np.std(year_and_total_values))}.\")\n",
    "\n",
    "px.bar(data_frame= year_and_total_values.reset_index(),\n",
    "       x = 'Year',\n",
    "       y = 'Value',\n",
    "       title= 'Trend of the total number of crimes reported over the years in Italy')"
   ]
  },
  {
   "cell_type": "code",
   "execution_count": 4,
   "metadata": {},
   "outputs": [
    {
     "name": "stdout",
     "output_type": "stream",
     "text": [
      "Max:\n",
      " Year\n",
      "2007    2929755\n",
      "Name: Value, dtype: int64\n",
      "\n",
      "Min:\n",
      " Year\n",
      "2020    1898784\n",
      "Name: Value, dtype: int64\n"
     ]
    }
   ],
   "source": [
    "# Finding the year with the maximum crimes reported\n",
    "print('Max:\\n', year_and_total_values[year_and_total_values == max(year_and_total_values)])\n",
    "\n",
    "# Finding the year with the minimum crimes reported\n",
    "print('\\nMin:\\n',year_and_total_values[year_and_total_values == min(year_and_total_values)])"
   ]
  },
  {
   "cell_type": "code",
   "execution_count": 5,
   "metadata": {},
   "outputs": [
    {
     "data": {
      "application/vnd.plotly.v1+json": {
       "config": {
        "plotlyServerURL": "https://plot.ly"
       },
       "data": [
        {
         "alignmentgroup": "True",
         "hovertemplate": "Crime=furti<br>Year=%{x}<br>Value=%{y}<extra></extra>",
         "legendgroup": "furti",
         "marker": {
          "color": "#636efa",
          "pattern": {
           "shape": ""
          }
         },
         "name": "furti",
         "offsetgroup": "furti",
         "orientation": "v",
         "showlegend": true,
         "textposition": "auto",
         "type": "bar",
         "x": [
          2007,
          2006,
          2014,
          2013,
          2012,
          2015,
          2011,
          2008,
          2016,
          2010,
          2009,
          2017,
          2018,
          2019,
          2021,
          2020
         ],
         "xaxis": "x",
         "y": [
          1635918,
          1584359,
          1572591,
          1554275,
          1520130,
          1462962,
          1459705,
          1391838,
          1346140,
          1324508,
          1317560,
          1265184,
          1192153,
          1071290,
          811332,
          721451
         ],
         "yaxis": "y"
        },
        {
         "alignmentgroup": "True",
         "hovertemplate": "Crime=altri delitti<br>Year=%{x}<br>Value=%{y}<extra></extra>",
         "legendgroup": "altri delitti",
         "marker": {
          "color": "#EF553B",
          "pattern": {
           "shape": ""
          }
         },
         "name": "altri delitti",
         "offsetgroup": "altri delitti",
         "orientation": "v",
         "showlegend": true,
         "textposition": "auto",
         "type": "bar",
         "x": [
          2021,
          2019,
          2013,
          2020,
          2017,
          2014,
          2018,
          2016,
          2015,
          2009,
          2008,
          2012,
          2010,
          2011,
          2007,
          2006
         ],
         "xaxis": "x",
         "y": [
          466628,
          462619,
          458723,
          444180,
          438488,
          438150,
          433909,
          420209,
          419114,
          418997,
          413905,
          409934,
          408447,
          402642,
          387399,
          362390
         ],
         "yaxis": "y"
        },
        {
         "alignmentgroup": "True",
         "hovertemplate": "Crime=danneggiamenti<br>Year=%{x}<br>Value=%{y}<extra></extra>",
         "legendgroup": "danneggiamenti",
         "marker": {
          "color": "#00cc96",
          "pattern": {
           "shape": ""
          }
         },
         "name": "danneggiamenti",
         "offsetgroup": "danneggiamenti",
         "orientation": "v",
         "showlegend": true,
         "textposition": "auto",
         "type": "bar",
         "x": [
          2009,
          2010,
          2008,
          2011,
          2007,
          2012,
          2006,
          2013,
          2015,
          2014,
          2019,
          2018,
          2021,
          2017,
          2016,
          2020
         ],
         "xaxis": "x",
         "y": [
          415296,
          414831,
          402021,
          398459,
          384439,
          364329,
          344144,
          341054,
          284660,
          279172,
          262161,
          257659,
          255058,
          252953,
          249787,
          222687
         ],
         "yaxis": "y"
        },
        {
         "alignmentgroup": "True",
         "hovertemplate": "Crime=truffe e frodi informatiche<br>Year=%{x}<br>Value=%{y}<extra></extra>",
         "legendgroup": "truffe e frodi informatiche",
         "marker": {
          "color": "#ab63fa",
          "pattern": {
           "shape": ""
          }
         },
         "name": "truffe e frodi informatiche",
         "offsetgroup": "truffe e frodi informatiche",
         "orientation": "v",
         "showlegend": true,
         "textposition": "auto",
         "type": "bar",
         "x": [
          2021,
          2020,
          2019,
          2018,
          2017,
          2016,
          2015,
          2013,
          2014,
          2007,
          2012,
          2006,
          2011,
          2008,
          2009,
          2010
         ],
         "xaxis": "x",
         "y": [
          294439,
          248007,
          211914,
          188854,
          163909,
          151200,
          144756,
          140287,
          132968,
          120170,
          116447,
          108750,
          105398,
          103768,
          99025,
          96135
         ],
         "yaxis": "y"
        },
        {
         "alignmentgroup": "True",
         "hovertemplate": "Crime=furti in abitazioni<br>Year=%{x}<br>Value=%{y}<extra></extra>",
         "legendgroup": "furti in abitazioni",
         "marker": {
          "color": "#FFA15A",
          "pattern": {
           "shape": ""
          }
         },
         "name": "furti in abitazioni",
         "offsetgroup": "furti in abitazioni",
         "orientation": "v",
         "showlegend": true,
         "textposition": "auto",
         "type": "bar",
         "x": [
          2014,
          2013,
          2012,
          2015,
          2016,
          2011,
          2017,
          2018,
          2010,
          2007,
          2019,
          2009,
          2008,
          2006,
          2021,
          2020
         ],
         "xaxis": "x",
         "y": [
          255872,
          251417,
          237344,
          234713,
          214046,
          204883,
          195818,
          191369,
          169155,
          166826,
          165266,
          150840,
          150750,
          141591,
          124710,
          109498
         ],
         "yaxis": "y"
        },
        {
         "alignmentgroup": "True",
         "hovertemplate": "Crime=furti in auto in sosta<br>Year=%{x}<br>Value=%{y}<extra></extra>",
         "legendgroup": "furti in auto in sosta",
         "marker": {
          "color": "#19d3f3",
          "pattern": {
           "shape": ""
          }
         },
         "name": "furti in auto in sosta",
         "offsetgroup": "furti in auto in sosta",
         "orientation": "v",
         "showlegend": true,
         "textposition": "auto",
         "type": "bar",
         "x": [
          2007,
          2006,
          2008,
          2014,
          2011,
          2013,
          2015,
          2009,
          2012,
          2010,
          2016,
          2017,
          2018,
          2019,
          2020,
          2021
         ],
         "xaxis": "x",
         "y": [
          240474,
          227768,
          205896,
          203164,
          196221,
          194312,
          192528,
          191135,
          190386,
          184955,
          178253,
          162161,
          152233,
          136504,
          84545,
          80599
         ],
         "yaxis": "y"
        },
        {
         "alignmentgroup": "True",
         "hovertemplate": "Crime=furti di autovetture<br>Year=%{x}<br>Value=%{y}<extra></extra>",
         "legendgroup": "furti di autovetture",
         "marker": {
          "color": "#FF6692",
          "pattern": {
           "shape": ""
          }
         },
         "name": "furti di autovetture",
         "offsetgroup": "furti di autovetture",
         "orientation": "v",
         "showlegend": true,
         "textposition": "auto",
         "type": "bar",
         "x": [
          2006,
          2007,
          2008,
          2009,
          2010,
          2011,
          2012,
          2013,
          2014,
          2015,
          2016,
          2018,
          2017,
          2019,
          2021,
          2020
         ],
         "xaxis": "x",
         "y": [
          182514,
          173125,
          144660,
          135519,
          127845,
          126901,
          126619,
          122923,
          119949,
          114422,
          110553,
          103450,
          103040,
          97675,
          82167,
          75697
         ],
         "yaxis": "y"
        },
        {
         "alignmentgroup": "True",
         "hovertemplate": "Crime=furti con destrezza<br>Year=%{x}<br>Value=%{y}<extra></extra>",
         "legendgroup": "furti con destrezza",
         "marker": {
          "color": "#B6E880",
          "pattern": {
           "shape": ""
          }
         },
         "name": "furti con destrezza",
         "offsetgroup": "furti con destrezza",
         "orientation": "v",
         "showlegend": true,
         "textposition": "auto",
         "type": "bar",
         "x": [
          2014,
          2015,
          2013,
          2016,
          2007,
          2017,
          2006,
          2018,
          2012,
          2019,
          2011,
          2008,
          2010,
          2009,
          2021,
          2020
         ],
         "xaxis": "x",
         "y": [
          179480,
          173118,
          166020,
          162077,
          160295,
          159261,
          156239,
          152048,
          148573,
          137048,
          134049,
          123691,
          115504,
          114424,
          92912,
          73943
         ],
         "yaxis": "y"
        },
        {
         "alignmentgroup": "True",
         "hovertemplate": "Crime=furti in esercizi commerciali<br>Year=%{x}<br>Value=%{y}<extra></extra>",
         "legendgroup": "furti in esercizi commerciali",
         "marker": {
          "color": "#FF97FF",
          "pattern": {
           "shape": ""
          }
         },
         "name": "furti in esercizi commerciali",
         "offsetgroup": "furti in esercizi commerciali",
         "orientation": "v",
         "showlegend": true,
         "textposition": "auto",
         "type": "bar",
         "x": [
          2007,
          2014,
          2013,
          2015,
          2006,
          2012,
          2016,
          2011,
          2008,
          2010,
          2017,
          2009,
          2018,
          2019,
          2021,
          2020
         ],
         "xaxis": "x",
         "y": [
          107444,
          106440,
          104379,
          102029,
          101102,
          98569,
          95797,
          92721,
          92246,
          90584,
          89877,
          88170,
          84758,
          74406,
          56774,
          51223
         ],
         "yaxis": "y"
        },
        {
         "alignmentgroup": "True",
         "hovertemplate": "Crime=minacce<br>Year=%{x}<br>Value=%{y}<extra></extra>",
         "legendgroup": "minacce",
         "marker": {
          "color": "#FECB52",
          "pattern": {
           "shape": ""
          }
         },
         "name": "minacce",
         "offsetgroup": "minacce",
         "orientation": "v",
         "showlegend": true,
         "textposition": "auto",
         "type": "bar",
         "x": [
          2012,
          2013,
          2014,
          2008,
          2009,
          2011,
          2015,
          2010,
          2007,
          2017,
          2016,
          2018,
          2019,
          2006,
          2021,
          2020
         ],
         "xaxis": "x",
         "y": [
          86307,
          86234,
          85172,
          83528,
          83425,
          83274,
          82501,
          81108,
          81006,
          75608,
          74965,
          74928,
          74692,
          71817,
          70784,
          70266
         ],
         "yaxis": "y"
        },
        {
         "alignmentgroup": "True",
         "hovertemplate": "Crime=lesioni dolose<br>Year=%{x}<br>Value=%{y}<extra></extra>",
         "legendgroup": "lesioni dolose",
         "marker": {
          "color": "#636efa",
          "pattern": {
           "shape": ""
          }
         },
         "name": "lesioni dolose",
         "offsetgroup": "lesioni dolose",
         "orientation": "v",
         "showlegend": true,
         "textposition": "auto",
         "type": "bar",
         "x": [
          2012,
          2011,
          2013,
          2014,
          2008,
          2009,
          2018,
          2019,
          2010,
          2017,
          2015,
          2007,
          2016,
          2006,
          2021,
          2020
         ],
         "xaxis": "x",
         "y": [
          69517,
          68479,
          66297,
          66168,
          65785,
          65596,
          65370,
          64872,
          64840,
          64797,
          64032,
          63586,
          63142,
          59126,
          58778,
          53694
         ],
         "yaxis": "y"
        },
        {
         "alignmentgroup": "True",
         "hovertemplate": "Crime=ingiurie<br>Year=%{x}<br>Value=%{y}<extra></extra>",
         "legendgroup": "ingiurie",
         "marker": {
          "color": "#EF553B",
          "pattern": {
           "shape": ""
          }
         },
         "name": "ingiurie",
         "offsetgroup": "ingiurie",
         "orientation": "v",
         "showlegend": true,
         "textposition": "auto",
         "type": "bar",
         "x": [
          2012,
          2013,
          2011,
          2014,
          2009,
          2008,
          2010,
          2007,
          2015,
          2006,
          2016,
          2017
         ],
         "xaxis": "x",
         "y": [
          67188,
          66376,
          65339,
          64576,
          64437,
          64417,
          62192,
          61705,
          58597,
          55336,
          15774,
          2063
         ],
         "yaxis": "y"
        },
        {
         "alignmentgroup": "True",
         "hovertemplate": "Crime=furti di motocicli<br>Year=%{x}<br>Value=%{y}<extra></extra>",
         "legendgroup": "furti di motocicli",
         "marker": {
          "color": "#00cc96",
          "pattern": {
           "shape": ""
          }
         },
         "name": "furti di motocicli",
         "offsetgroup": "furti di motocicli",
         "orientation": "v",
         "showlegend": true,
         "textposition": "auto",
         "type": "bar",
         "x": [
          2007,
          2006,
          2008,
          2011,
          2012,
          2009,
          2010,
          2013,
          2014,
          2015,
          2016,
          2017,
          2018,
          2019,
          2021,
          2020
         ],
         "xaxis": "x",
         "y": [
          52331,
          47552,
          44930,
          42542,
          42224,
          41709,
          39126,
          37559,
          36780,
          33893,
          30839,
          28542,
          26154,
          23432,
          19656,
          17826
         ],
         "yaxis": "y"
        },
        {
         "alignmentgroup": "True",
         "hovertemplate": "Crime=rapine<br>Year=%{x}<br>Value=%{y}<extra></extra>",
         "legendgroup": "rapine",
         "marker": {
          "color": "#ab63fa",
          "pattern": {
           "shape": ""
          }
         },
         "name": "rapine",
         "offsetgroup": "rapine",
         "orientation": "v",
         "showlegend": true,
         "textposition": "auto",
         "type": "bar",
         "x": [
          2007,
          2006,
          2008,
          2013,
          2012,
          2011,
          2014,
          2009,
          2015,
          2010,
          2016,
          2017,
          2018,
          2019,
          2021,
          2020
         ],
         "xaxis": "x",
         "y": [
          51195,
          50256,
          45853,
          43745,
          42620,
          40533,
          39226,
          35815,
          35051,
          33746,
          32911,
          30559,
          28437,
          24271,
          22083,
          19993
         ],
         "yaxis": "y"
        },
        {
         "alignmentgroup": "True",
         "hovertemplate": "Crime=furti di ciclomotori<br>Year=%{x}<br>Value=%{y}<extra></extra>",
         "legendgroup": "furti di ciclomotori",
         "marker": {
          "color": "#FFA15A",
          "pattern": {
           "shape": ""
          }
         },
         "name": "furti di ciclomotori",
         "offsetgroup": "furti di ciclomotori",
         "orientation": "v",
         "showlegend": true,
         "textposition": "auto",
         "type": "bar",
         "x": [
          2007,
          2006,
          2008,
          2009,
          2010,
          2011,
          2012,
          2013,
          2014,
          2015,
          2016,
          2017,
          2018,
          2019,
          2021,
          2020
         ],
         "xaxis": "x",
         "y": [
          49948,
          47982,
          38653,
          34438,
          29161,
          28108,
          26498,
          21760,
          18691,
          16226,
          14589,
          13434,
          10829,
          9433,
          8082,
          7124
         ],
         "yaxis": "y"
        },
        {
         "alignmentgroup": "True",
         "hovertemplate": "Crime=normativa sugli stupefacenti<br>Year=%{x}<br>Value=%{y}<extra></extra>",
         "legendgroup": "normativa sugli stupefacenti",
         "marker": {
          "color": "#19d3f3",
          "pattern": {
           "shape": ""
          }
         },
         "name": "normativa sugli stupefacenti",
         "offsetgroup": "normativa sugli stupefacenti",
         "orientation": "v",
         "showlegend": true,
         "textposition": "auto",
         "type": "bar",
         "x": [
          2018,
          2017,
          2019,
          2016,
          2020,
          2007,
          2009,
          2008,
          2011,
          2012,
          2013,
          2014,
          2010,
          2015,
          2006,
          2021
         ],
         "xaxis": "x",
         "y": [
          40296,
          39494,
          39207,
          36036,
          35050,
          34327,
          33975,
          33954,
          33934,
          33717,
          33445,
          33169,
          32615,
          32520,
          32183,
          31092
         ],
         "yaxis": "y"
        },
        {
         "alignmentgroup": "True",
         "hovertemplate": "Crime=ricettazione<br>Year=%{x}<br>Value=%{y}<extra></extra>",
         "legendgroup": "ricettazione",
         "marker": {
          "color": "#FF6692",
          "pattern": {
           "shape": ""
          }
         },
         "name": "ricettazione",
         "offsetgroup": "ricettazione",
         "orientation": "v",
         "showlegend": true,
         "textposition": "auto",
         "type": "bar",
         "x": [
          2007,
          2006,
          2008,
          2013,
          2012,
          2014,
          2011,
          2010,
          2009,
          2015,
          2016,
          2017,
          2018,
          2019,
          2021,
          2020
         ],
         "xaxis": "x",
         "y": [
          31021,
          29936,
          27694,
          25160,
          24966,
          24808,
          23694,
          23609,
          23523,
          22976,
          21598,
          19955,
          18130,
          16121,
          12290,
          12158
         ],
         "yaxis": "y"
        },
        {
         "alignmentgroup": "True",
         "hovertemplate": "Crime=rapine in pubblica via<br>Year=%{x}<br>Value=%{y}<extra></extra>",
         "legendgroup": "rapine in pubblica via",
         "marker": {
          "color": "#B6E880",
          "pattern": {
           "shape": ""
          }
         },
         "name": "rapine in pubblica via",
         "offsetgroup": "rapine in pubblica via",
         "orientation": "v",
         "showlegend": true,
         "textposition": "auto",
         "type": "bar",
         "x": [
          2006,
          2007,
          2008,
          2013,
          2012,
          2011,
          2014,
          2015,
          2009,
          2016,
          2017,
          2010,
          2018,
          2019,
          2021,
          2020
         ],
         "xaxis": "x",
         "y": [
          26043,
          25905,
          23039,
          22307,
          21208,
          20647,
          20524,
          18461,
          18349,
          18020,
          16909,
          16869,
          16041,
          13304,
          12859,
          11079
         ],
         "yaxis": "y"
        },
        {
         "alignmentgroup": "True",
         "hovertemplate": "Crime=furti con strappo<br>Year=%{x}<br>Value=%{y}<extra></extra>",
         "legendgroup": "furti con strappo",
         "marker": {
          "color": "#FF97FF",
          "pattern": {
           "shape": ""
          }
         },
         "name": "furti con strappo",
         "offsetgroup": "furti con strappo",
         "orientation": "v",
         "showlegend": true,
         "textposition": "auto",
         "type": "bar",
         "x": [
          2007,
          2006,
          2013,
          2012,
          2014,
          2008,
          2015,
          2011,
          2016,
          2017,
          2009,
          2018,
          2010,
          2019,
          2021,
          2020
         ],
         "xaxis": "x",
         "y": [
          22919,
          21491,
          20016,
          20010,
          19105,
          18674,
          17775,
          17657,
          16671,
          16053,
          14908,
          14804,
          14242,
          12488,
          11164,
          9353
         ],
         "yaxis": "y"
        },
        {
         "alignmentgroup": "True",
         "hovertemplate": "Crime=delitti informatici<br>Year=%{x}<br>Value=%{y}<extra></extra>",
         "legendgroup": "delitti informatici",
         "marker": {
          "color": "#FECB52",
          "pattern": {
           "shape": ""
          }
         },
         "name": "delitti informatici",
         "offsetgroup": "delitti informatici",
         "orientation": "v",
         "showlegend": true,
         "textposition": "auto",
         "type": "bar",
         "x": [
          2021,
          2020,
          2019,
          2018,
          2014,
          2016,
          2017,
          2015,
          2013,
          2012,
          2011,
          2010,
          2009,
          2008,
          2007,
          2006
         ],
         "xaxis": "x",
         "y": [
          22053,
          19336,
          16136,
          13273,
          10839,
          10822,
          10572,
          9851,
          9407,
          7338,
          6928,
          5969,
          5506,
          4937,
          3777,
          2388
         ],
         "yaxis": "y"
        },
        {
         "alignmentgroup": "True",
         "hovertemplate": "Crime=incendi<br>Year=%{x}<br>Value=%{y}<extra></extra>",
         "legendgroup": "incendi",
         "marker": {
          "color": "#636efa",
          "pattern": {
           "shape": ""
          }
         },
         "name": "incendi",
         "offsetgroup": "incendi",
         "orientation": "v",
         "showlegend": true,
         "textposition": "auto",
         "type": "bar",
         "x": [
          2007,
          2012,
          2011,
          2008,
          2006,
          2009,
          2017,
          2010,
          2015,
          2016,
          2013,
          2021,
          2014,
          2019,
          2020,
          2018
         ],
         "xaxis": "x",
         "y": [
          16715,
          13166,
          12977,
          12661,
          12657,
          10921,
          10307,
          9620,
          8931,
          8004,
          7387,
          6994,
          6853,
          6531,
          6300,
          4749
         ],
         "yaxis": "y"
        },
        {
         "alignmentgroup": "True",
         "hovertemplate": "Crime=percosse<br>Year=%{x}<br>Value=%{y}<extra></extra>",
         "legendgroup": "percosse",
         "marker": {
          "color": "#EF553B",
          "pattern": {
           "shape": ""
          }
         },
         "name": "percosse",
         "offsetgroup": "percosse",
         "orientation": "v",
         "showlegend": true,
         "textposition": "auto",
         "type": "bar",
         "x": [
          2012,
          2013,
          2008,
          2014,
          2015,
          2009,
          2011,
          2021,
          2007,
          2019,
          2010,
          2017,
          2018,
          2016,
          2006,
          2020
         ],
         "xaxis": "x",
         "y": [
          15659,
          15602,
          15281,
          15279,
          15247,
          15197,
          15190,
          15124,
          14912,
          14387,
          14265,
          14136,
          13938,
          13814,
          13805,
          13564
         ],
         "yaxis": "y"
        },
        {
         "alignmentgroup": "True",
         "hovertemplate": "Crime=danneggiamento seguito da incendio<br>Year=%{x}<br>Value=%{y}<extra></extra>",
         "legendgroup": "danneggiamento seguito da incendio",
         "marker": {
          "color": "#00cc96",
          "pattern": {
           "shape": ""
          }
         },
         "name": "danneggiamento seguito da incendio",
         "offsetgroup": "danneggiamento seguito da incendio",
         "orientation": "v",
         "showlegend": true,
         "textposition": "auto",
         "type": "bar",
         "x": [
          2007,
          2012,
          2008,
          2011,
          2006,
          2013,
          2009,
          2017,
          2010,
          2015,
          2014,
          2016,
          2021,
          2018,
          2019,
          2020
         ],
         "xaxis": "x",
         "y": [
          11760,
          11209,
          10726,
          10498,
          10102,
          9812,
          9796,
          9776,
          9720,
          8939,
          8570,
          8499,
          7929,
          7655,
          7435,
          6896
         ],
         "yaxis": "y"
        },
        {
         "alignmentgroup": "True",
         "hovertemplate": "Crime=contraffazione di marchi e prodotti industriali<br>Year=%{x}<br>Value=%{y}<extra></extra>",
         "legendgroup": "contraffazione di marchi e prodotti industriali",
         "marker": {
          "color": "#ab63fa",
          "pattern": {
           "shape": ""
          }
         },
         "name": "contraffazione di marchi e prodotti industriali",
         "offsetgroup": "contraffazione di marchi e prodotti industriali",
         "orientation": "v",
         "showlegend": true,
         "textposition": "auto",
         "type": "bar",
         "x": [
          2010,
          2011,
          2012,
          2015,
          2014,
          2016,
          2013,
          2017,
          2018,
          2019,
          2021,
          2020,
          2006,
          2007,
          2008,
          2009
         ],
         "xaxis": "x",
         "y": [
          11712,
          9149,
          8895,
          8442,
          7827,
          7731,
          7433,
          6330,
          5911,
          4979,
          3394,
          2872,
          2180,
          1857,
          1852,
          1652
         ],
         "yaxis": "y"
        },
        {
         "alignmentgroup": "True",
         "hovertemplate": "Crime=estorsioni<br>Year=%{x}<br>Value=%{y}<extra></extra>",
         "legendgroup": "estorsioni",
         "marker": {
          "color": "#FFA15A",
          "pattern": {
           "shape": ""
          }
         },
         "name": "estorsioni",
         "offsetgroup": "estorsioni",
         "orientation": "v",
         "showlegend": true,
         "textposition": "auto",
         "type": "bar",
         "x": [
          2021,
          2018,
          2015,
          2016,
          2019,
          2020,
          2017,
          2014,
          2013,
          2008,
          2007,
          2012,
          2009,
          2011,
          2010,
          2006
         ],
         "xaxis": "x",
         "y": [
          10042,
          9944,
          9820,
          9547,
          8979,
          8699,
          8477,
          8196,
          6859,
          6623,
          6526,
          6457,
          6158,
          6078,
          5973,
          5388
         ],
         "yaxis": "y"
        },
        {
         "alignmentgroup": "True",
         "hovertemplate": "Crime=rapine in esercizi commerciali<br>Year=%{x}<br>Value=%{y}<extra></extra>",
         "legendgroup": "rapine in esercizi commerciali",
         "marker": {
          "color": "#19d3f3",
          "pattern": {
           "shape": ""
          }
         },
         "name": "rapine in esercizi commerciali",
         "offsetgroup": "rapine in esercizi commerciali",
         "orientation": "v",
         "showlegend": true,
         "textposition": "auto",
         "type": "bar",
         "x": [
          2007,
          2006,
          2008,
          2012,
          2013,
          2011,
          2014,
          2009,
          2010,
          2015,
          2016,
          2017,
          2018,
          2019,
          2021,
          2020
         ],
         "xaxis": "x",
         "y": [
          8149,
          8075,
          7762,
          7088,
          6864,
          6258,
          6175,
          5921,
          5872,
          5336,
          4848,
          4515,
          4197,
          3691,
          3171,
          3046
         ],
         "yaxis": "y"
        },
        {
         "alignmentgroup": "True",
         "hovertemplate": "Crime=incendi boschivi<br>Year=%{x}<br>Value=%{y}<extra></extra>",
         "legendgroup": "incendi boschivi",
         "marker": {
          "color": "#FF6692",
          "pattern": {
           "shape": ""
          }
         },
         "name": "incendi boschivi",
         "offsetgroup": "incendi boschivi",
         "orientation": "v",
         "showlegend": true,
         "textposition": "auto",
         "type": "bar",
         "x": [
          2007,
          2012,
          2011,
          2017,
          2008,
          2015,
          2009,
          2006,
          2016,
          2021,
          2020,
          2010,
          2019,
          2013,
          2014,
          2018
         ],
         "xaxis": "x",
         "y": [
          7048,
          6104,
          5869,
          5130,
          4499,
          3846,
          3734,
          3688,
          3409,
          3328,
          2949,
          2770,
          2668,
          2035,
          1775,
          1139
         ],
         "yaxis": "y"
        },
        {
         "alignmentgroup": "True",
         "hovertemplate": "Crime=violazione della proprietà intellettuale<br>Year=%{x}<br>Value=%{y}<extra></extra>",
         "legendgroup": "violazione della proprietà intellettuale",
         "marker": {
          "color": "#B6E880",
          "pattern": {
           "shape": ""
          }
         },
         "name": "violazione della proprietà intellettuale",
         "offsetgroup": "violazione della proprietà intellettuale",
         "orientation": "v",
         "showlegend": true,
         "textposition": "auto",
         "type": "bar",
         "x": [
          2006,
          2007,
          2008,
          2009,
          2010,
          2011,
          2012,
          2015,
          2013,
          2014,
          2016,
          2017,
          2018,
          2019,
          2020,
          2021
         ],
         "xaxis": "x",
         "y": [
          6459,
          5600,
          4497,
          3437,
          2557,
          1933,
          1522,
          1209,
          1073,
          1069,
          1052,
          792,
          575,
          515,
          224,
          224
         ],
         "yaxis": "y"
        },
        {
         "alignmentgroup": "True",
         "hovertemplate": "Crime=violenze sessuali<br>Year=%{x}<br>Value=%{y}<extra></extra>",
         "legendgroup": "violenze sessuali",
         "marker": {
          "color": "#FF97FF",
          "pattern": {
           "shape": ""
          }
         },
         "name": "violenze sessuali",
         "offsetgroup": "violenze sessuali",
         "orientation": "v",
         "showlegend": true,
         "textposition": "auto",
         "type": "bar",
         "x": [
          2021,
          2009,
          2007,
          2018,
          2008,
          2019,
          2010,
          2012,
          2017,
          2011,
          2006,
          2020,
          2013,
          2014,
          2016,
          2015
         ],
         "xaxis": "x",
         "y": [
          5267,
          4953,
          4885,
          4884,
          4875,
          4870,
          4800,
          4677,
          4628,
          4600,
          4505,
          4492,
          4481,
          4251,
          4045,
          3998
         ],
         "yaxis": "y"
        },
        {
         "alignmentgroup": "True",
         "hovertemplate": "Crime=rapine in abitazione<br>Year=%{x}<br>Value=%{y}<extra></extra>",
         "legendgroup": "rapine in abitazione",
         "marker": {
          "color": "#FECB52",
          "pattern": {
           "shape": ""
          }
         },
         "name": "rapine in abitazione",
         "offsetgroup": "rapine in abitazione",
         "orientation": "v",
         "showlegend": true,
         "textposition": "auto",
         "type": "bar",
         "x": [
          2013,
          2012,
          2014,
          2015,
          2011,
          2016,
          2007,
          2008,
          2017,
          2006,
          2010,
          2018,
          2009,
          2019,
          2021,
          2020
         ],
         "xaxis": "x",
         "y": [
          3619,
          3490,
          3209,
          3061,
          2858,
          2560,
          2528,
          2319,
          2301,
          2122,
          2106,
          2104,
          1961,
          1818,
          1646,
          1575
         ],
         "yaxis": "y"
        },
        {
         "alignmentgroup": "True",
         "hovertemplate": "Crime=rapine in banca<br>Year=%{x}<br>Value=%{y}<extra></extra>",
         "legendgroup": "rapine in banca",
         "marker": {
          "color": "#636efa",
          "pattern": {
           "shape": ""
          }
         },
         "name": "rapine in banca",
         "offsetgroup": "rapine in banca",
         "orientation": "v",
         "showlegend": true,
         "textposition": "auto",
         "type": "bar",
         "x": [
          2007,
          2006,
          2008,
          2009,
          2010,
          2011,
          2012,
          2013,
          2014,
          2015,
          2016,
          2017,
          2018,
          2019,
          2020,
          2021
         ],
         "xaxis": "x",
         "y": [
          3050,
          2821,
          2558,
          1752,
          1380,
          1360,
          1228,
          1220,
          789,
          788,
          563,
          396,
          276,
          264,
          126,
          90
         ],
         "yaxis": "y"
        },
        {
         "alignmentgroup": "True",
         "hovertemplate": "Crime=omicidi colposi<br>Year=%{x}<br>Value=%{y}<extra></extra>",
         "legendgroup": "omicidi colposi",
         "marker": {
          "color": "#EF553B",
          "pattern": {
           "shape": ""
          }
         },
         "name": "omicidi colposi",
         "offsetgroup": "omicidi colposi",
         "orientation": "v",
         "showlegend": true,
         "textposition": "auto",
         "type": "bar",
         "x": [
          2006,
          2007,
          2008,
          2011,
          2021,
          2010,
          2019,
          2015,
          2018,
          2009,
          2012,
          2017,
          2020,
          2014,
          2016,
          2013
         ],
         "xaxis": "x",
         "y": [
          2145,
          2039,
          1881,
          1782,
          1777,
          1763,
          1756,
          1745,
          1732,
          1718,
          1716,
          1705,
          1644,
          1632,
          1628,
          1595
         ],
         "yaxis": "y"
        },
        {
         "alignmentgroup": "True",
         "hovertemplate": "Crime=furti di automezzi pesanti trasportanti merci<br>Year=%{x}<br>Value=%{y}<extra></extra>",
         "legendgroup": "furti di automezzi pesanti trasportanti merci",
         "marker": {
          "color": "#00cc96",
          "pattern": {
           "shape": ""
          }
         },
         "name": "furti di automezzi pesanti trasportanti merci",
         "offsetgroup": "furti di automezzi pesanti trasportanti merci",
         "orientation": "v",
         "showlegend": true,
         "textposition": "auto",
         "type": "bar",
         "x": [
          2007,
          2006,
          2009,
          2008,
          2010,
          2013,
          2012,
          2011,
          2015,
          2014,
          2016,
          2017,
          2018,
          2019,
          2020,
          2021
         ],
         "xaxis": "x",
         "y": [
          2123,
          2105,
          1730,
          1705,
          1437,
          1242,
          1236,
          1212,
          1103,
          1031,
          958,
          737,
          691,
          600,
          392,
          264
         ],
         "yaxis": "y"
        },
        {
         "alignmentgroup": "True",
         "hovertemplate": "Crime=riciclaggio e impiego di denaro, beni o utilità di provenienza illecita<br>Year=%{x}<br>Value=%{y}<extra></extra>",
         "legendgroup": "riciclaggio e impiego di denaro, beni o utilità di provenienza illecita",
         "marker": {
          "color": "#ab63fa",
          "pattern": {
           "shape": ""
          }
         },
         "name": "riciclaggio e impiego di denaro, beni o utilità di provenienza illecita",
         "offsetgroup": "riciclaggio e impiego di denaro, beni o utilità di provenienza illecita",
         "orientation": "v",
         "showlegend": true,
         "textposition": "auto",
         "type": "bar",
         "x": [
          2013,
          2018,
          2017,
          2019,
          2015,
          2020,
          2016,
          2012,
          2014,
          2021,
          2011,
          2010,
          2009,
          2008,
          2007,
          2006
         ],
         "xaxis": "x",
         "y": [
          1867,
          1853,
          1851,
          1813,
          1786,
          1736,
          1724,
          1660,
          1582,
          1338,
          1327,
          1314,
          1241,
          1226,
          1188,
          1169
         ],
         "yaxis": "y"
        },
        {
         "alignmentgroup": "True",
         "hovertemplate": "Crime=sequestri di persona<br>Year=%{x}<br>Value=%{y}<extra></extra>",
         "legendgroup": "sequestri di persona",
         "marker": {
          "color": "#FFA15A",
          "pattern": {
           "shape": ""
          }
         },
         "name": "sequestri di persona",
         "offsetgroup": "sequestri di persona",
         "orientation": "v",
         "showlegend": true,
         "textposition": "auto",
         "type": "bar",
         "x": [
          2007,
          2008,
          2006,
          2009,
          2012,
          2011,
          2010,
          2013,
          2014,
          2015,
          2016,
          2017,
          2018,
          2019,
          2020,
          2021
         ],
         "xaxis": "x",
         "y": [
          1859,
          1812,
          1597,
          1475,
          1473,
          1435,
          1429,
          1348,
          1273,
          1161,
          1047,
          1032,
          958,
          851,
          793,
          764
         ],
         "yaxis": "y"
        },
        {
         "alignmentgroup": "True",
         "hovertemplate": "Crime=omicidi colposi da incidente stradale<br>Year=%{x}<br>Value=%{y}<extra></extra>",
         "legendgroup": "omicidi colposi da incidente stradale",
         "marker": {
          "color": "#19d3f3",
          "pattern": {
           "shape": ""
          }
         },
         "name": "omicidi colposi da incidente stradale",
         "offsetgroup": "omicidi colposi da incidente stradale",
         "orientation": "v",
         "showlegend": true,
         "textposition": "auto",
         "type": "bar",
         "x": [
          2006,
          2007,
          2008,
          2010,
          2009,
          2011,
          2012,
          2017,
          2016,
          2015,
          2019,
          2018,
          2014,
          2013,
          2021,
          2020
         ],
         "xaxis": "x",
         "y": [
          1773,
          1706,
          1509,
          1327,
          1314,
          1285,
          1211,
          1162,
          1146,
          1121,
          1097,
          1094,
          1087,
          1049,
          988,
          810
         ],
         "yaxis": "y"
        },
        {
         "alignmentgroup": "True",
         "hovertemplate": "Crime=tentati omicidi<br>Year=%{x}<br>Value=%{y}<extra></extra>",
         "legendgroup": "tentati omicidi",
         "marker": {
          "color": "#FF6692",
          "pattern": {
           "shape": ""
          }
         },
         "name": "tentati omicidi",
         "offsetgroup": "tentati omicidi",
         "orientation": "v",
         "showlegend": true,
         "textposition": "auto",
         "type": "bar",
         "x": [
          2008,
          2007,
          2006,
          2011,
          2009,
          2012,
          2010,
          2014,
          2013,
          2015,
          2017,
          2016,
          2018,
          2019,
          2021,
          2020
         ],
         "xaxis": "x",
         "y": [
          1621,
          1587,
          1468,
          1401,
          1345,
          1327,
          1306,
          1250,
          1222,
          1203,
          1098,
          1078,
          1050,
          1019,
          928,
          876
         ],
         "yaxis": "y"
        },
        {
         "alignmentgroup": "True",
         "hovertemplate": "Crime=sfruttamento e favoreggiamento della prostituzione<br>Year=%{x}<br>Value=%{y}<extra></extra>",
         "legendgroup": "sfruttamento e favoreggiamento della prostituzione",
         "marker": {
          "color": "#B6E880",
          "pattern": {
           "shape": ""
          }
         },
         "name": "sfruttamento e favoreggiamento della prostituzione",
         "offsetgroup": "sfruttamento e favoreggiamento della prostituzione",
         "orientation": "v",
         "showlegend": true,
         "textposition": "auto",
         "type": "bar",
         "x": [
          2010,
          2011,
          2008,
          2007,
          2006,
          2012,
          2009,
          2013,
          2014,
          2015,
          2016,
          2017,
          2018,
          2019,
          2020,
          2021
         ],
         "xaxis": "x",
         "y": [
          1565,
          1486,
          1461,
          1447,
          1390,
          1288,
          1287,
          1153,
          1086,
          973,
          932,
          750,
          626,
          522,
          376,
          365
         ],
         "yaxis": "y"
        },
        {
         "alignmentgroup": "True",
         "hovertemplate": "Crime=contrabbando<br>Year=%{x}<br>Value=%{y}<extra></extra>",
         "legendgroup": "contrabbando",
         "marker": {
          "color": "#FF97FF",
          "pattern": {
           "shape": ""
          }
         },
         "name": "contrabbando",
         "offsetgroup": "contrabbando",
         "orientation": "v",
         "showlegend": true,
         "textposition": "auto",
         "type": "bar",
         "x": [
          2012,
          2013,
          2014,
          2006,
          2009,
          2015,
          2007,
          2010,
          2008,
          2011,
          2021,
          2020,
          2018,
          2016,
          2019,
          2017
         ],
         "xaxis": "x",
         "y": [
          1282,
          1248,
          1231,
          1141,
          1130,
          1103,
          1087,
          1067,
          1054,
          1032,
          516,
          491,
          427,
          407,
          396,
          360
         ],
         "yaxis": "y"
        },
        {
         "alignmentgroup": "True",
         "hovertemplate": "Crime=pornografia minorile e detenzione di materiale pedopornografico<br>Year=%{x}<br>Value=%{y}<extra></extra>",
         "legendgroup": "pornografia minorile e detenzione di materiale pedopornografico",
         "marker": {
          "color": "#FECB52",
          "pattern": {
           "shape": ""
          }
         },
         "name": "pornografia minorile e detenzione di materiale pedopornografico",
         "offsetgroup": "pornografia minorile e detenzione di materiale pedopornografico",
         "orientation": "v",
         "showlegend": true,
         "textposition": "auto",
         "type": "bar",
         "x": [
          2021,
          2020,
          2019,
          2015,
          2018,
          2017,
          2014,
          2009,
          2008,
          2016,
          2013,
          2007,
          2010,
          2012,
          2006,
          2011
         ],
         "xaxis": "x",
         "y": [
          1180,
          1045,
          791,
          614,
          613,
          553,
          544,
          540,
          533,
          488,
          486,
          409,
          380,
          378,
          329,
          320
         ],
         "yaxis": "y"
        },
        {
         "alignmentgroup": "True",
         "hovertemplate": "Crime=furti di opere d'arte e materiale archeologico<br>Year=%{x}<br>Value=%{y}<extra></extra>",
         "legendgroup": "furti di opere d'arte e materiale archeologico",
         "marker": {
          "color": "#636efa",
          "pattern": {
           "shape": ""
          }
         },
         "name": "furti di opere d'arte e materiale archeologico",
         "offsetgroup": "furti di opere d'arte e materiale archeologico",
         "orientation": "v",
         "showlegend": true,
         "textposition": "auto",
         "type": "bar",
         "x": [
          2006,
          2007,
          2008,
          2009,
          2010,
          2011,
          2012,
          2013,
          2014,
          2015,
          2016,
          2017,
          2018,
          2019,
          2021,
          2020
         ],
         "xaxis": "x",
         "y": [
          1138,
          1018,
          845,
          762,
          739,
          728,
          630,
          591,
          581,
          474,
          462,
          410,
          329,
          309,
          267,
          225
         ],
         "yaxis": "y"
        },
        {
         "alignmentgroup": "True",
         "hovertemplate": "Crime=associazione per delinquere<br>Year=%{x}<br>Value=%{y}<extra></extra>",
         "legendgroup": "associazione per delinquere",
         "marker": {
          "color": "#EF553B",
          "pattern": {
           "shape": ""
          }
         },
         "name": "associazione per delinquere",
         "offsetgroup": "associazione per delinquere",
         "orientation": "v",
         "showlegend": true,
         "textposition": "auto",
         "type": "bar",
         "x": [
          2006,
          2007,
          2014,
          2012,
          2009,
          2011,
          2008,
          2015,
          2013,
          2010,
          2016,
          2021,
          2017,
          2018,
          2020,
          2019
         ],
         "xaxis": "x",
         "y": [
          977,
          906,
          887,
          850,
          793,
          791,
          778,
          728,
          691,
          690,
          609,
          581,
          564,
          457,
          412,
          368
         ],
         "yaxis": "y"
        },
        {
         "alignmentgroup": "True",
         "hovertemplate": "Crime=omicidi volontari consumati<br>Year=%{x}<br>Value=%{y}<extra></extra>",
         "legendgroup": "omicidi volontari consumati",
         "marker": {
          "color": "#00cc96",
          "pattern": {
           "shape": ""
          }
         },
         "name": "omicidi volontari consumati",
         "offsetgroup": "omicidi volontari consumati",
         "orientation": "v",
         "showlegend": true,
         "textposition": "auto",
         "type": "bar",
         "x": [
          2007,
          2006,
          2008,
          2009,
          2011,
          2012,
          2010,
          2013,
          2014,
          2015,
          2016,
          2017,
          2018,
          2019,
          2021,
          2020
         ],
         "xaxis": "x",
         "y": [
          627,
          621,
          611,
          586,
          550,
          528,
          526,
          502,
          475,
          469,
          400,
          368,
          331,
          318,
          304,
          289
         ],
         "yaxis": "y"
        },
        {
         "alignmentgroup": "True",
         "hovertemplate": "Crime=attentati<br>Year=%{x}<br>Value=%{y}<extra></extra>",
         "legendgroup": "attentati",
         "marker": {
          "color": "#ab63fa",
          "pattern": {
           "shape": ""
          }
         },
         "name": "attentati",
         "offsetgroup": "attentati",
         "orientation": "v",
         "showlegend": true,
         "textposition": "auto",
         "type": "bar",
         "x": [
          2006,
          2007,
          2012,
          2010,
          2013,
          2008,
          2011,
          2015,
          2014,
          2009,
          2016,
          2017,
          2018,
          2020,
          2021,
          2019
         ],
         "xaxis": "x",
         "y": [
          609,
          538,
          517,
          489,
          459,
          442,
          437,
          403,
          382,
          374,
          325,
          288,
          275,
          243,
          210,
          204
         ],
         "yaxis": "y"
        },
        {
         "alignmentgroup": "True",
         "hovertemplate": "Crime=atti sessuali con minorenne<br>Year=%{x}<br>Value=%{y}<extra></extra>",
         "legendgroup": "atti sessuali con minorenne",
         "marker": {
          "color": "#FFA15A",
          "pattern": {
           "shape": ""
          }
         },
         "name": "atti sessuali con minorenne",
         "offsetgroup": "atti sessuali con minorenne",
         "orientation": "v",
         "showlegend": true,
         "textposition": "auto",
         "type": "bar",
         "x": [
          2010,
          2012,
          2013,
          2019,
          2015,
          2007,
          2018,
          2014,
          2009,
          2021,
          2011,
          2017,
          2008,
          2006,
          2016,
          2020
         ],
         "xaxis": "x",
         "y": [
          576,
          556,
          523,
          518,
          505,
          501,
          493,
          492,
          492,
          488,
          485,
          483,
          472,
          460,
          458,
          419
         ],
         "yaxis": "y"
        },
        {
         "alignmentgroup": "True",
         "hovertemplate": "Crime=rapine in uffici postali<br>Year=%{x}<br>Value=%{y}<extra></extra>",
         "legendgroup": "rapine in uffici postali",
         "marker": {
          "color": "#19d3f3",
          "pattern": {
           "shape": ""
          }
         },
         "name": "rapine in uffici postali",
         "offsetgroup": "rapine in uffici postali",
         "orientation": "v",
         "showlegend": true,
         "textposition": "auto",
         "type": "bar",
         "x": [
          2006,
          2007,
          2008,
          2013,
          2012,
          2010,
          2011,
          2009,
          2014,
          2016,
          2015,
          2017,
          2018,
          2019,
          2020,
          2021
         ],
         "xaxis": "x",
         "y": [
          572,
          511,
          454,
          441,
          423,
          411,
          403,
          379,
          353,
          352,
          321,
          256,
          246,
          176,
          100,
          82
         ],
         "yaxis": "y"
        },
        {
         "alignmentgroup": "True",
         "hovertemplate": "Crime=usura<br>Year=%{x}<br>Value=%{y}<extra></extra>",
         "legendgroup": "usura",
         "marker": {
          "color": "#FF6692",
          "pattern": {
           "shape": ""
          }
         },
         "name": "usura",
         "offsetgroup": "usura",
         "orientation": "v",
         "showlegend": true,
         "textposition": "auto",
         "type": "bar",
         "x": [
          2013,
          2009,
          2016,
          2012,
          2014,
          2008,
          2007,
          2015,
          2010,
          2011,
          2006,
          2017,
          2020,
          2019,
          2018,
          2021
         ],
         "xaxis": "x",
         "y": [
          458,
          457,
          403,
          399,
          398,
          372,
          372,
          368,
          366,
          341,
          340,
          305,
          239,
          188,
          186,
          161
         ],
         "yaxis": "y"
        },
        {
         "alignmentgroup": "True",
         "hovertemplate": "Crime=corruzione di minorenne<br>Year=%{x}<br>Value=%{y}<extra></extra>",
         "legendgroup": "corruzione di minorenne",
         "marker": {
          "color": "#B6E880",
          "pattern": {
           "shape": ""
          }
         },
         "name": "corruzione di minorenne",
         "offsetgroup": "corruzione di minorenne",
         "orientation": "v",
         "showlegend": true,
         "textposition": "auto",
         "type": "bar",
         "x": [
          2006,
          2007,
          2010,
          2014,
          2019,
          2020,
          2009,
          2017,
          2008,
          2021,
          2013,
          2018,
          2015,
          2011,
          2016,
          2012
         ],
         "xaxis": "x",
         "y": [
          192,
          182,
          175,
          173,
          172,
          170,
          170,
          169,
          168,
          165,
          155,
          149,
          148,
          143,
          139,
          120
         ],
         "yaxis": "y"
        },
        {
         "alignmentgroup": "True",
         "hovertemplate": "Crime=associazione di tipo mafioso<br>Year=%{x}<br>Value=%{y}<extra></extra>",
         "legendgroup": "associazione di tipo mafioso",
         "marker": {
          "color": "#FF97FF",
          "pattern": {
           "shape": ""
          }
         },
         "name": "associazione di tipo mafioso",
         "offsetgroup": "associazione di tipo mafioso",
         "orientation": "v",
         "showlegend": true,
         "textposition": "auto",
         "type": "bar",
         "x": [
          2019,
          2007,
          2009,
          2020,
          2006,
          2010,
          2008,
          2021,
          2011,
          2018,
          2015,
          2014,
          2016,
          2017,
          2013,
          2012
         ],
         "xaxis": "x",
         "y": [
          155,
          136,
          126,
          123,
          121,
          119,
          115,
          112,
          86,
          85,
          81,
          81,
          79,
          69,
          68,
          66
         ],
         "yaxis": "y"
        },
        {
         "alignmentgroup": "True",
         "hovertemplate": "Crime=omicidi volontari consumati di tipo mafioso<br>Year=%{x}<br>Value=%{y}<extra></extra>",
         "legendgroup": "omicidi volontari consumati di tipo mafioso",
         "marker": {
          "color": "#FECB52",
          "pattern": {
           "shape": ""
          }
         },
         "name": "omicidi volontari consumati di tipo mafioso",
         "offsetgroup": "omicidi volontari consumati di tipo mafioso",
         "orientation": "v",
         "showlegend": true,
         "textposition": "auto",
         "type": "bar",
         "x": [
          2007,
          2006,
          2008,
          2009,
          2010,
          2012,
          2011,
          2013,
          2016,
          2014,
          2017,
          2015,
          2019,
          2021,
          2018,
          2020
         ],
         "xaxis": "x",
         "y": [
          119,
          109,
          106,
          90,
          69,
          68,
          53,
          52,
          48,
          45,
          44,
          43,
          28,
          21,
          19,
          16
         ],
         "yaxis": "y"
        },
        {
         "alignmentgroup": "True",
         "hovertemplate": "Crime=omicidi preterintenzionali<br>Year=%{x}<br>Value=%{y}<extra></extra>",
         "legendgroup": "omicidi preterintenzionali",
         "marker": {
          "color": "#636efa",
          "pattern": {
           "shape": ""
          }
         },
         "name": "omicidi preterintenzionali",
         "offsetgroup": "omicidi preterintenzionali",
         "orientation": "v",
         "showlegend": true,
         "textposition": "auto",
         "type": "bar",
         "x": [
          2007,
          2008,
          2006,
          2010,
          2013,
          2009,
          2018,
          2019,
          2014,
          2012,
          2011,
          2021,
          2020,
          2017,
          2016,
          2015
         ],
         "xaxis": "x",
         "y": [
          54,
          39,
          38,
          38,
          37,
          36,
          36,
          35,
          34,
          33,
          31,
          30,
          28,
          25,
          24,
          20
         ],
         "yaxis": "y"
        },
        {
         "alignmentgroup": "True",
         "hovertemplate": "Crime=omicidi volontari consumati a scopo di furto o rapina<br>Year=%{x}<br>Value=%{y}<extra></extra>",
         "legendgroup": "omicidi volontari consumati a scopo di furto o rapina",
         "marker": {
          "color": "#EF553B",
          "pattern": {
           "shape": ""
          }
         },
         "name": "omicidi volontari consumati a scopo di furto o rapina",
         "offsetgroup": "omicidi volontari consumati a scopo di furto o rapina",
         "orientation": "v",
         "showlegend": true,
         "textposition": "auto",
         "type": "bar",
         "x": [
          2012,
          2015,
          2007,
          2010,
          2006,
          2013,
          2008,
          2011,
          2014,
          2009,
          2016,
          2017,
          2018,
          2019,
          2020,
          2021
         ],
         "xaxis": "x",
         "y": [
          43,
          35,
          35,
          35,
          34,
          33,
          31,
          28,
          27,
          22,
          19,
          16,
          12,
          9,
          8,
          7
         ],
         "yaxis": "y"
        },
        {
         "alignmentgroup": "True",
         "hovertemplate": "Crime=strage<br>Year=%{x}<br>Value=%{y}<extra></extra>",
         "legendgroup": "strage",
         "marker": {
          "color": "#00cc96",
          "pattern": {
           "shape": ""
          }
         },
         "name": "strage",
         "offsetgroup": "strage",
         "orientation": "v",
         "showlegend": true,
         "textposition": "auto",
         "type": "bar",
         "x": [
          2021,
          2020,
          2008,
          2006,
          2009,
          2007,
          2014,
          2018,
          2015,
          2012,
          2017,
          2016,
          2011,
          2019,
          2010,
          2013
         ],
         "xaxis": "x",
         "y": [
          29,
          29,
          28,
          25,
          23,
          21,
          20,
          20,
          20,
          18,
          17,
          15,
          14,
          14,
          11,
          10
         ],
         "yaxis": "y"
        },
        {
         "alignmentgroup": "True",
         "hovertemplate": "Crime=infanticidi<br>Year=%{x}<br>Value=%{y}<extra></extra>",
         "legendgroup": "infanticidi",
         "marker": {
          "color": "#ab63fa",
          "pattern": {
           "shape": ""
          }
         },
         "name": "infanticidi",
         "offsetgroup": "infanticidi",
         "orientation": "v",
         "showlegend": true,
         "textposition": "auto",
         "type": "bar",
         "x": [
          2008,
          2009,
          2018,
          2006,
          2007,
          2010,
          2014,
          2016,
          2020,
          2011,
          2012,
          2013,
          2017,
          2019,
          2015,
          2021
         ],
         "xaxis": "x",
         "y": [
          4,
          4,
          4,
          4,
          4,
          3,
          3,
          3,
          2,
          2,
          2,
          2,
          2,
          2,
          1,
          0
         ],
         "yaxis": "y"
        },
        {
         "alignmentgroup": "True",
         "hovertemplate": "Crime=omicidi volontari consumati a scopo terroristico<br>Year=%{x}<br>Value=%{y}<extra></extra>",
         "legendgroup": "omicidi volontari consumati a scopo terroristico",
         "marker": {
          "color": "#FFA15A",
          "pattern": {
           "shape": ""
          }
         },
         "name": "omicidi volontari consumati a scopo terroristico",
         "offsetgroup": "omicidi volontari consumati a scopo terroristico",
         "orientation": "v",
         "showlegend": true,
         "textposition": "auto",
         "type": "bar",
         "x": [
          2006,
          2011,
          2007,
          2010,
          2008,
          2021,
          2020,
          2019,
          2018,
          2017,
          2016,
          2009,
          2014,
          2013,
          2012,
          2015
         ],
         "xaxis": "x",
         "y": [
          1,
          0,
          0,
          0,
          0,
          0,
          0,
          0,
          0,
          0,
          0,
          0,
          0,
          0,
          0,
          0
         ],
         "yaxis": "y"
        }
       ],
       "layout": {
        "barmode": "relative",
        "legend": {
         "title": {
          "text": "Crime"
         },
         "tracegroupgap": 0
        },
        "template": {
         "data": {
          "bar": [
           {
            "error_x": {
             "color": "#2a3f5f"
            },
            "error_y": {
             "color": "#2a3f5f"
            },
            "marker": {
             "line": {
              "color": "#E5ECF6",
              "width": 0.5
             },
             "pattern": {
              "fillmode": "overlay",
              "size": 10,
              "solidity": 0.2
             }
            },
            "type": "bar"
           }
          ],
          "barpolar": [
           {
            "marker": {
             "line": {
              "color": "#E5ECF6",
              "width": 0.5
             },
             "pattern": {
              "fillmode": "overlay",
              "size": 10,
              "solidity": 0.2
             }
            },
            "type": "barpolar"
           }
          ],
          "carpet": [
           {
            "aaxis": {
             "endlinecolor": "#2a3f5f",
             "gridcolor": "white",
             "linecolor": "white",
             "minorgridcolor": "white",
             "startlinecolor": "#2a3f5f"
            },
            "baxis": {
             "endlinecolor": "#2a3f5f",
             "gridcolor": "white",
             "linecolor": "white",
             "minorgridcolor": "white",
             "startlinecolor": "#2a3f5f"
            },
            "type": "carpet"
           }
          ],
          "choropleth": [
           {
            "colorbar": {
             "outlinewidth": 0,
             "ticks": ""
            },
            "type": "choropleth"
           }
          ],
          "contour": [
           {
            "colorbar": {
             "outlinewidth": 0,
             "ticks": ""
            },
            "colorscale": [
             [
              0,
              "#0d0887"
             ],
             [
              0.1111111111111111,
              "#46039f"
             ],
             [
              0.2222222222222222,
              "#7201a8"
             ],
             [
              0.3333333333333333,
              "#9c179e"
             ],
             [
              0.4444444444444444,
              "#bd3786"
             ],
             [
              0.5555555555555556,
              "#d8576b"
             ],
             [
              0.6666666666666666,
              "#ed7953"
             ],
             [
              0.7777777777777778,
              "#fb9f3a"
             ],
             [
              0.8888888888888888,
              "#fdca26"
             ],
             [
              1,
              "#f0f921"
             ]
            ],
            "type": "contour"
           }
          ],
          "contourcarpet": [
           {
            "colorbar": {
             "outlinewidth": 0,
             "ticks": ""
            },
            "type": "contourcarpet"
           }
          ],
          "heatmap": [
           {
            "colorbar": {
             "outlinewidth": 0,
             "ticks": ""
            },
            "colorscale": [
             [
              0,
              "#0d0887"
             ],
             [
              0.1111111111111111,
              "#46039f"
             ],
             [
              0.2222222222222222,
              "#7201a8"
             ],
             [
              0.3333333333333333,
              "#9c179e"
             ],
             [
              0.4444444444444444,
              "#bd3786"
             ],
             [
              0.5555555555555556,
              "#d8576b"
             ],
             [
              0.6666666666666666,
              "#ed7953"
             ],
             [
              0.7777777777777778,
              "#fb9f3a"
             ],
             [
              0.8888888888888888,
              "#fdca26"
             ],
             [
              1,
              "#f0f921"
             ]
            ],
            "type": "heatmap"
           }
          ],
          "heatmapgl": [
           {
            "colorbar": {
             "outlinewidth": 0,
             "ticks": ""
            },
            "colorscale": [
             [
              0,
              "#0d0887"
             ],
             [
              0.1111111111111111,
              "#46039f"
             ],
             [
              0.2222222222222222,
              "#7201a8"
             ],
             [
              0.3333333333333333,
              "#9c179e"
             ],
             [
              0.4444444444444444,
              "#bd3786"
             ],
             [
              0.5555555555555556,
              "#d8576b"
             ],
             [
              0.6666666666666666,
              "#ed7953"
             ],
             [
              0.7777777777777778,
              "#fb9f3a"
             ],
             [
              0.8888888888888888,
              "#fdca26"
             ],
             [
              1,
              "#f0f921"
             ]
            ],
            "type": "heatmapgl"
           }
          ],
          "histogram": [
           {
            "marker": {
             "pattern": {
              "fillmode": "overlay",
              "size": 10,
              "solidity": 0.2
             }
            },
            "type": "histogram"
           }
          ],
          "histogram2d": [
           {
            "colorbar": {
             "outlinewidth": 0,
             "ticks": ""
            },
            "colorscale": [
             [
              0,
              "#0d0887"
             ],
             [
              0.1111111111111111,
              "#46039f"
             ],
             [
              0.2222222222222222,
              "#7201a8"
             ],
             [
              0.3333333333333333,
              "#9c179e"
             ],
             [
              0.4444444444444444,
              "#bd3786"
             ],
             [
              0.5555555555555556,
              "#d8576b"
             ],
             [
              0.6666666666666666,
              "#ed7953"
             ],
             [
              0.7777777777777778,
              "#fb9f3a"
             ],
             [
              0.8888888888888888,
              "#fdca26"
             ],
             [
              1,
              "#f0f921"
             ]
            ],
            "type": "histogram2d"
           }
          ],
          "histogram2dcontour": [
           {
            "colorbar": {
             "outlinewidth": 0,
             "ticks": ""
            },
            "colorscale": [
             [
              0,
              "#0d0887"
             ],
             [
              0.1111111111111111,
              "#46039f"
             ],
             [
              0.2222222222222222,
              "#7201a8"
             ],
             [
              0.3333333333333333,
              "#9c179e"
             ],
             [
              0.4444444444444444,
              "#bd3786"
             ],
             [
              0.5555555555555556,
              "#d8576b"
             ],
             [
              0.6666666666666666,
              "#ed7953"
             ],
             [
              0.7777777777777778,
              "#fb9f3a"
             ],
             [
              0.8888888888888888,
              "#fdca26"
             ],
             [
              1,
              "#f0f921"
             ]
            ],
            "type": "histogram2dcontour"
           }
          ],
          "mesh3d": [
           {
            "colorbar": {
             "outlinewidth": 0,
             "ticks": ""
            },
            "type": "mesh3d"
           }
          ],
          "parcoords": [
           {
            "line": {
             "colorbar": {
              "outlinewidth": 0,
              "ticks": ""
             }
            },
            "type": "parcoords"
           }
          ],
          "pie": [
           {
            "automargin": true,
            "type": "pie"
           }
          ],
          "scatter": [
           {
            "fillpattern": {
             "fillmode": "overlay",
             "size": 10,
             "solidity": 0.2
            },
            "type": "scatter"
           }
          ],
          "scatter3d": [
           {
            "line": {
             "colorbar": {
              "outlinewidth": 0,
              "ticks": ""
             }
            },
            "marker": {
             "colorbar": {
              "outlinewidth": 0,
              "ticks": ""
             }
            },
            "type": "scatter3d"
           }
          ],
          "scattercarpet": [
           {
            "marker": {
             "colorbar": {
              "outlinewidth": 0,
              "ticks": ""
             }
            },
            "type": "scattercarpet"
           }
          ],
          "scattergeo": [
           {
            "marker": {
             "colorbar": {
              "outlinewidth": 0,
              "ticks": ""
             }
            },
            "type": "scattergeo"
           }
          ],
          "scattergl": [
           {
            "marker": {
             "colorbar": {
              "outlinewidth": 0,
              "ticks": ""
             }
            },
            "type": "scattergl"
           }
          ],
          "scattermapbox": [
           {
            "marker": {
             "colorbar": {
              "outlinewidth": 0,
              "ticks": ""
             }
            },
            "type": "scattermapbox"
           }
          ],
          "scatterpolar": [
           {
            "marker": {
             "colorbar": {
              "outlinewidth": 0,
              "ticks": ""
             }
            },
            "type": "scatterpolar"
           }
          ],
          "scatterpolargl": [
           {
            "marker": {
             "colorbar": {
              "outlinewidth": 0,
              "ticks": ""
             }
            },
            "type": "scatterpolargl"
           }
          ],
          "scatterternary": [
           {
            "marker": {
             "colorbar": {
              "outlinewidth": 0,
              "ticks": ""
             }
            },
            "type": "scatterternary"
           }
          ],
          "surface": [
           {
            "colorbar": {
             "outlinewidth": 0,
             "ticks": ""
            },
            "colorscale": [
             [
              0,
              "#0d0887"
             ],
             [
              0.1111111111111111,
              "#46039f"
             ],
             [
              0.2222222222222222,
              "#7201a8"
             ],
             [
              0.3333333333333333,
              "#9c179e"
             ],
             [
              0.4444444444444444,
              "#bd3786"
             ],
             [
              0.5555555555555556,
              "#d8576b"
             ],
             [
              0.6666666666666666,
              "#ed7953"
             ],
             [
              0.7777777777777778,
              "#fb9f3a"
             ],
             [
              0.8888888888888888,
              "#fdca26"
             ],
             [
              1,
              "#f0f921"
             ]
            ],
            "type": "surface"
           }
          ],
          "table": [
           {
            "cells": {
             "fill": {
              "color": "#EBF0F8"
             },
             "line": {
              "color": "white"
             }
            },
            "header": {
             "fill": {
              "color": "#C8D4E3"
             },
             "line": {
              "color": "white"
             }
            },
            "type": "table"
           }
          ]
         },
         "layout": {
          "annotationdefaults": {
           "arrowcolor": "#2a3f5f",
           "arrowhead": 0,
           "arrowwidth": 1
          },
          "autotypenumbers": "strict",
          "coloraxis": {
           "colorbar": {
            "outlinewidth": 0,
            "ticks": ""
           }
          },
          "colorscale": {
           "diverging": [
            [
             0,
             "#8e0152"
            ],
            [
             0.1,
             "#c51b7d"
            ],
            [
             0.2,
             "#de77ae"
            ],
            [
             0.3,
             "#f1b6da"
            ],
            [
             0.4,
             "#fde0ef"
            ],
            [
             0.5,
             "#f7f7f7"
            ],
            [
             0.6,
             "#e6f5d0"
            ],
            [
             0.7,
             "#b8e186"
            ],
            [
             0.8,
             "#7fbc41"
            ],
            [
             0.9,
             "#4d9221"
            ],
            [
             1,
             "#276419"
            ]
           ],
           "sequential": [
            [
             0,
             "#0d0887"
            ],
            [
             0.1111111111111111,
             "#46039f"
            ],
            [
             0.2222222222222222,
             "#7201a8"
            ],
            [
             0.3333333333333333,
             "#9c179e"
            ],
            [
             0.4444444444444444,
             "#bd3786"
            ],
            [
             0.5555555555555556,
             "#d8576b"
            ],
            [
             0.6666666666666666,
             "#ed7953"
            ],
            [
             0.7777777777777778,
             "#fb9f3a"
            ],
            [
             0.8888888888888888,
             "#fdca26"
            ],
            [
             1,
             "#f0f921"
            ]
           ],
           "sequentialminus": [
            [
             0,
             "#0d0887"
            ],
            [
             0.1111111111111111,
             "#46039f"
            ],
            [
             0.2222222222222222,
             "#7201a8"
            ],
            [
             0.3333333333333333,
             "#9c179e"
            ],
            [
             0.4444444444444444,
             "#bd3786"
            ],
            [
             0.5555555555555556,
             "#d8576b"
            ],
            [
             0.6666666666666666,
             "#ed7953"
            ],
            [
             0.7777777777777778,
             "#fb9f3a"
            ],
            [
             0.8888888888888888,
             "#fdca26"
            ],
            [
             1,
             "#f0f921"
            ]
           ]
          },
          "colorway": [
           "#636efa",
           "#EF553B",
           "#00cc96",
           "#ab63fa",
           "#FFA15A",
           "#19d3f3",
           "#FF6692",
           "#B6E880",
           "#FF97FF",
           "#FECB52"
          ],
          "font": {
           "color": "#2a3f5f"
          },
          "geo": {
           "bgcolor": "white",
           "lakecolor": "white",
           "landcolor": "#E5ECF6",
           "showlakes": true,
           "showland": true,
           "subunitcolor": "white"
          },
          "hoverlabel": {
           "align": "left"
          },
          "hovermode": "closest",
          "mapbox": {
           "style": "light"
          },
          "paper_bgcolor": "white",
          "plot_bgcolor": "#E5ECF6",
          "polar": {
           "angularaxis": {
            "gridcolor": "white",
            "linecolor": "white",
            "ticks": ""
           },
           "bgcolor": "#E5ECF6",
           "radialaxis": {
            "gridcolor": "white",
            "linecolor": "white",
            "ticks": ""
           }
          },
          "scene": {
           "xaxis": {
            "backgroundcolor": "#E5ECF6",
            "gridcolor": "white",
            "gridwidth": 2,
            "linecolor": "white",
            "showbackground": true,
            "ticks": "",
            "zerolinecolor": "white"
           },
           "yaxis": {
            "backgroundcolor": "#E5ECF6",
            "gridcolor": "white",
            "gridwidth": 2,
            "linecolor": "white",
            "showbackground": true,
            "ticks": "",
            "zerolinecolor": "white"
           },
           "zaxis": {
            "backgroundcolor": "#E5ECF6",
            "gridcolor": "white",
            "gridwidth": 2,
            "linecolor": "white",
            "showbackground": true,
            "ticks": "",
            "zerolinecolor": "white"
           }
          },
          "shapedefaults": {
           "line": {
            "color": "#2a3f5f"
           }
          },
          "ternary": {
           "aaxis": {
            "gridcolor": "white",
            "linecolor": "white",
            "ticks": ""
           },
           "baxis": {
            "gridcolor": "white",
            "linecolor": "white",
            "ticks": ""
           },
           "bgcolor": "#E5ECF6",
           "caxis": {
            "gridcolor": "white",
            "linecolor": "white",
            "ticks": ""
           }
          },
          "title": {
           "x": 0.05
          },
          "xaxis": {
           "automargin": true,
           "gridcolor": "white",
           "linecolor": "white",
           "ticks": "",
           "title": {
            "standoff": 15
           },
           "zerolinecolor": "white",
           "zerolinewidth": 2
          },
          "yaxis": {
           "automargin": true,
           "gridcolor": "white",
           "linecolor": "white",
           "ticks": "",
           "title": {
            "standoff": 15
           },
           "zerolinecolor": "white",
           "zerolinewidth": 2
          }
         }
        },
        "title": {
         "text": "Trend of the different types of crime reported over the years in Italy"
        },
        "xaxis": {
         "anchor": "y",
         "domain": [
          0,
          1
         ],
         "title": {
          "text": "Year"
         }
        },
        "yaxis": {
         "anchor": "x",
         "domain": [
          0,
          1
         ],
         "title": {
          "text": "Value"
         }
        }
       }
      }
     },
     "metadata": {},
     "output_type": "display_data"
    }
   ],
   "source": [
    "px.bar(data_frame= df.loc[df['Crime'] != 'totale'].groupby(['Crime', 'Year']).sum(numeric_only=True).sort_values(by='Value', ascending=False).reset_index(),\n",
    "       x = 'Year',\n",
    "       y = 'Value',\n",
    "       color= 'Crime',\n",
    "       title= 'Trend of the different types of crime reported over the years in Italy')"
   ]
  },
  {
   "attachments": {},
   "cell_type": "markdown",
   "metadata": {},
   "source": [
    "Now, with a manually created function we are gonna see the crimes that **increased** and **decreased** the most over the years at national level"
   ]
  },
  {
   "cell_type": "code",
   "execution_count": 11,
   "metadata": {},
   "outputs": [
    {
     "name": "stdout",
     "output_type": "stream",
     "text": [
      "The crimes that increased over Italy in the time period taken into consideration are: \n",
      " {'altri delitti': '28.76%', 'atti sessuali con minorenne': '6.09%', 'contraffazione di marchi e prodotti industriali': '55.69%', 'delitti informatici': '823.49%', 'estorsioni': '86.38%', 'percosse': '9.55%', 'pornografia minorile e detenzione di materiale pedopornografico': '258.66%', 'riciclaggio e impiego di denaro, beni o utilità di provenienza illecita': '14.46%', 'strage': '16.00%', 'truffe e frodi informatiche': '170.75%', 'violenze sessuali': '16.91%'}\n",
      "\n",
      "The crimes that had a decrease higher than -0.5 are the following: \n",
      " {'attentati': '-65.52%', 'contrabbando': '-54.78%', 'furti di automezzi pesanti trasportanti merci': '-87.46%', 'furti di autovetture': '-54.98%', 'furti di ciclomotori': '-83.16%', 'furti di motocicli': '-58.66%', \"furti di opere d'arte e materiale archeologico\": '-76.54%', 'furti in auto in sosta': '-64.61%', 'infanticidi': '-100.00%', 'omicidi volontari consumati': '-51.05%', 'omicidi volontari consumati a scopo di furto o rapina': '-79.41%', 'omicidi volontari consumati a scopo terroristico': '-100.00%', 'omicidi volontari consumati di tipo mafioso': '-80.73%', 'rapine': '-56.06%', 'rapine in banca': '-96.81%', 'rapine in esercizi commerciali': '-60.73%', 'rapine in pubblica via': '-50.62%', 'rapine in uffici postali': '-85.66%', 'ricettazione': '-58.95%', 'sequestri di persona': '-52.16%', 'sfruttamento e favoreggiamento della prostituzione': '-73.74%', 'usura': '-52.65%', 'violazione della proprietà intellettuale': '-96.53%'}\n"
     ]
    }
   ],
   "source": [
    "italy_crime_year_groupby_sum_values = df.groupby(['Crime', 'Year']).sum(numeric_only= True)['Value'].reset_index()\n",
    "\n",
    "italy_increasing_rates = functions.find_increasing_rates(italy_crime_year_groupby_sum_values)\n",
    "print('The crimes that increased over Italy in the time period taken into consideration are: \\n', italy_increasing_rates)\n",
    "\n",
    "threshold = -0.50\n",
    "italy_decreasing_rates = functions.find_decreasing_rates(italy_crime_year_groupby_sum_values, threshold= threshold)\n",
    "print(f\"\\nThe crimes that had a decrease higher than {threshold} are the following: \\n\", italy_decreasing_rates)"
   ]
  },
  {
   "attachments": {},
   "cell_type": "markdown",
   "metadata": {},
   "source": [
    "### North East (*macro-area level*)"
   ]
  },
  {
   "attachments": {},
   "cell_type": "markdown",
   "metadata": {},
   "source": [
    "The second **unit of analysis** taken into consideration will be the **North-East** macro-area.\n",
    "\n",
    "We are gonna perform the same operation we did with the previous unit of analysis."
   ]
  },
  {
   "cell_type": "code",
   "execution_count": 17,
   "metadata": {},
   "outputs": [
    {
     "name": "stdout",
     "output_type": "stream",
     "text": [
      "Overall, in the 16 years taken into consideration, in the North-East area 7726637 crimes were reported. \n",
      "A mean of 482915 per year and 1323 per day \n",
      "A standard deviation of 56176.\n"
     ]
    },
    {
     "data": {
      "application/vnd.plotly.v1+json": {
       "config": {
        "plotlyServerURL": "https://plot.ly"
       },
       "data": [
        {
         "alignmentgroup": "True",
         "hovertemplate": "Year=%{x}<br>Value=%{y}<extra></extra>",
         "legendgroup": "",
         "marker": {
          "color": "#636efa",
          "pattern": {
           "shape": ""
          }
         },
         "name": "",
         "offsetgroup": "",
         "orientation": "v",
         "showlegend": false,
         "textposition": "auto",
         "type": "bar",
         "x": [
          2006,
          2007,
          2008,
          2009,
          2010,
          2011,
          2012,
          2013,
          2014,
          2015,
          2016,
          2017,
          2018,
          2019,
          2020,
          2021
         ],
         "xaxis": "x",
         "y": [
          524216,
          561667,
          501395,
          493119,
          476312,
          508574,
          526708,
          550249,
          537235,
          510264,
          468392,
          454032,
          441473,
          432629,
          353168,
          387204
         ],
         "yaxis": "y"
        }
       ],
       "layout": {
        "barmode": "relative",
        "legend": {
         "tracegroupgap": 0
        },
        "template": {
         "data": {
          "bar": [
           {
            "error_x": {
             "color": "#2a3f5f"
            },
            "error_y": {
             "color": "#2a3f5f"
            },
            "marker": {
             "line": {
              "color": "#E5ECF6",
              "width": 0.5
             },
             "pattern": {
              "fillmode": "overlay",
              "size": 10,
              "solidity": 0.2
             }
            },
            "type": "bar"
           }
          ],
          "barpolar": [
           {
            "marker": {
             "line": {
              "color": "#E5ECF6",
              "width": 0.5
             },
             "pattern": {
              "fillmode": "overlay",
              "size": 10,
              "solidity": 0.2
             }
            },
            "type": "barpolar"
           }
          ],
          "carpet": [
           {
            "aaxis": {
             "endlinecolor": "#2a3f5f",
             "gridcolor": "white",
             "linecolor": "white",
             "minorgridcolor": "white",
             "startlinecolor": "#2a3f5f"
            },
            "baxis": {
             "endlinecolor": "#2a3f5f",
             "gridcolor": "white",
             "linecolor": "white",
             "minorgridcolor": "white",
             "startlinecolor": "#2a3f5f"
            },
            "type": "carpet"
           }
          ],
          "choropleth": [
           {
            "colorbar": {
             "outlinewidth": 0,
             "ticks": ""
            },
            "type": "choropleth"
           }
          ],
          "contour": [
           {
            "colorbar": {
             "outlinewidth": 0,
             "ticks": ""
            },
            "colorscale": [
             [
              0,
              "#0d0887"
             ],
             [
              0.1111111111111111,
              "#46039f"
             ],
             [
              0.2222222222222222,
              "#7201a8"
             ],
             [
              0.3333333333333333,
              "#9c179e"
             ],
             [
              0.4444444444444444,
              "#bd3786"
             ],
             [
              0.5555555555555556,
              "#d8576b"
             ],
             [
              0.6666666666666666,
              "#ed7953"
             ],
             [
              0.7777777777777778,
              "#fb9f3a"
             ],
             [
              0.8888888888888888,
              "#fdca26"
             ],
             [
              1,
              "#f0f921"
             ]
            ],
            "type": "contour"
           }
          ],
          "contourcarpet": [
           {
            "colorbar": {
             "outlinewidth": 0,
             "ticks": ""
            },
            "type": "contourcarpet"
           }
          ],
          "heatmap": [
           {
            "colorbar": {
             "outlinewidth": 0,
             "ticks": ""
            },
            "colorscale": [
             [
              0,
              "#0d0887"
             ],
             [
              0.1111111111111111,
              "#46039f"
             ],
             [
              0.2222222222222222,
              "#7201a8"
             ],
             [
              0.3333333333333333,
              "#9c179e"
             ],
             [
              0.4444444444444444,
              "#bd3786"
             ],
             [
              0.5555555555555556,
              "#d8576b"
             ],
             [
              0.6666666666666666,
              "#ed7953"
             ],
             [
              0.7777777777777778,
              "#fb9f3a"
             ],
             [
              0.8888888888888888,
              "#fdca26"
             ],
             [
              1,
              "#f0f921"
             ]
            ],
            "type": "heatmap"
           }
          ],
          "heatmapgl": [
           {
            "colorbar": {
             "outlinewidth": 0,
             "ticks": ""
            },
            "colorscale": [
             [
              0,
              "#0d0887"
             ],
             [
              0.1111111111111111,
              "#46039f"
             ],
             [
              0.2222222222222222,
              "#7201a8"
             ],
             [
              0.3333333333333333,
              "#9c179e"
             ],
             [
              0.4444444444444444,
              "#bd3786"
             ],
             [
              0.5555555555555556,
              "#d8576b"
             ],
             [
              0.6666666666666666,
              "#ed7953"
             ],
             [
              0.7777777777777778,
              "#fb9f3a"
             ],
             [
              0.8888888888888888,
              "#fdca26"
             ],
             [
              1,
              "#f0f921"
             ]
            ],
            "type": "heatmapgl"
           }
          ],
          "histogram": [
           {
            "marker": {
             "pattern": {
              "fillmode": "overlay",
              "size": 10,
              "solidity": 0.2
             }
            },
            "type": "histogram"
           }
          ],
          "histogram2d": [
           {
            "colorbar": {
             "outlinewidth": 0,
             "ticks": ""
            },
            "colorscale": [
             [
              0,
              "#0d0887"
             ],
             [
              0.1111111111111111,
              "#46039f"
             ],
             [
              0.2222222222222222,
              "#7201a8"
             ],
             [
              0.3333333333333333,
              "#9c179e"
             ],
             [
              0.4444444444444444,
              "#bd3786"
             ],
             [
              0.5555555555555556,
              "#d8576b"
             ],
             [
              0.6666666666666666,
              "#ed7953"
             ],
             [
              0.7777777777777778,
              "#fb9f3a"
             ],
             [
              0.8888888888888888,
              "#fdca26"
             ],
             [
              1,
              "#f0f921"
             ]
            ],
            "type": "histogram2d"
           }
          ],
          "histogram2dcontour": [
           {
            "colorbar": {
             "outlinewidth": 0,
             "ticks": ""
            },
            "colorscale": [
             [
              0,
              "#0d0887"
             ],
             [
              0.1111111111111111,
              "#46039f"
             ],
             [
              0.2222222222222222,
              "#7201a8"
             ],
             [
              0.3333333333333333,
              "#9c179e"
             ],
             [
              0.4444444444444444,
              "#bd3786"
             ],
             [
              0.5555555555555556,
              "#d8576b"
             ],
             [
              0.6666666666666666,
              "#ed7953"
             ],
             [
              0.7777777777777778,
              "#fb9f3a"
             ],
             [
              0.8888888888888888,
              "#fdca26"
             ],
             [
              1,
              "#f0f921"
             ]
            ],
            "type": "histogram2dcontour"
           }
          ],
          "mesh3d": [
           {
            "colorbar": {
             "outlinewidth": 0,
             "ticks": ""
            },
            "type": "mesh3d"
           }
          ],
          "parcoords": [
           {
            "line": {
             "colorbar": {
              "outlinewidth": 0,
              "ticks": ""
             }
            },
            "type": "parcoords"
           }
          ],
          "pie": [
           {
            "automargin": true,
            "type": "pie"
           }
          ],
          "scatter": [
           {
            "fillpattern": {
             "fillmode": "overlay",
             "size": 10,
             "solidity": 0.2
            },
            "type": "scatter"
           }
          ],
          "scatter3d": [
           {
            "line": {
             "colorbar": {
              "outlinewidth": 0,
              "ticks": ""
             }
            },
            "marker": {
             "colorbar": {
              "outlinewidth": 0,
              "ticks": ""
             }
            },
            "type": "scatter3d"
           }
          ],
          "scattercarpet": [
           {
            "marker": {
             "colorbar": {
              "outlinewidth": 0,
              "ticks": ""
             }
            },
            "type": "scattercarpet"
           }
          ],
          "scattergeo": [
           {
            "marker": {
             "colorbar": {
              "outlinewidth": 0,
              "ticks": ""
             }
            },
            "type": "scattergeo"
           }
          ],
          "scattergl": [
           {
            "marker": {
             "colorbar": {
              "outlinewidth": 0,
              "ticks": ""
             }
            },
            "type": "scattergl"
           }
          ],
          "scattermapbox": [
           {
            "marker": {
             "colorbar": {
              "outlinewidth": 0,
              "ticks": ""
             }
            },
            "type": "scattermapbox"
           }
          ],
          "scatterpolar": [
           {
            "marker": {
             "colorbar": {
              "outlinewidth": 0,
              "ticks": ""
             }
            },
            "type": "scatterpolar"
           }
          ],
          "scatterpolargl": [
           {
            "marker": {
             "colorbar": {
              "outlinewidth": 0,
              "ticks": ""
             }
            },
            "type": "scatterpolargl"
           }
          ],
          "scatterternary": [
           {
            "marker": {
             "colorbar": {
              "outlinewidth": 0,
              "ticks": ""
             }
            },
            "type": "scatterternary"
           }
          ],
          "surface": [
           {
            "colorbar": {
             "outlinewidth": 0,
             "ticks": ""
            },
            "colorscale": [
             [
              0,
              "#0d0887"
             ],
             [
              0.1111111111111111,
              "#46039f"
             ],
             [
              0.2222222222222222,
              "#7201a8"
             ],
             [
              0.3333333333333333,
              "#9c179e"
             ],
             [
              0.4444444444444444,
              "#bd3786"
             ],
             [
              0.5555555555555556,
              "#d8576b"
             ],
             [
              0.6666666666666666,
              "#ed7953"
             ],
             [
              0.7777777777777778,
              "#fb9f3a"
             ],
             [
              0.8888888888888888,
              "#fdca26"
             ],
             [
              1,
              "#f0f921"
             ]
            ],
            "type": "surface"
           }
          ],
          "table": [
           {
            "cells": {
             "fill": {
              "color": "#EBF0F8"
             },
             "line": {
              "color": "white"
             }
            },
            "header": {
             "fill": {
              "color": "#C8D4E3"
             },
             "line": {
              "color": "white"
             }
            },
            "type": "table"
           }
          ]
         },
         "layout": {
          "annotationdefaults": {
           "arrowcolor": "#2a3f5f",
           "arrowhead": 0,
           "arrowwidth": 1
          },
          "autotypenumbers": "strict",
          "coloraxis": {
           "colorbar": {
            "outlinewidth": 0,
            "ticks": ""
           }
          },
          "colorscale": {
           "diverging": [
            [
             0,
             "#8e0152"
            ],
            [
             0.1,
             "#c51b7d"
            ],
            [
             0.2,
             "#de77ae"
            ],
            [
             0.3,
             "#f1b6da"
            ],
            [
             0.4,
             "#fde0ef"
            ],
            [
             0.5,
             "#f7f7f7"
            ],
            [
             0.6,
             "#e6f5d0"
            ],
            [
             0.7,
             "#b8e186"
            ],
            [
             0.8,
             "#7fbc41"
            ],
            [
             0.9,
             "#4d9221"
            ],
            [
             1,
             "#276419"
            ]
           ],
           "sequential": [
            [
             0,
             "#0d0887"
            ],
            [
             0.1111111111111111,
             "#46039f"
            ],
            [
             0.2222222222222222,
             "#7201a8"
            ],
            [
             0.3333333333333333,
             "#9c179e"
            ],
            [
             0.4444444444444444,
             "#bd3786"
            ],
            [
             0.5555555555555556,
             "#d8576b"
            ],
            [
             0.6666666666666666,
             "#ed7953"
            ],
            [
             0.7777777777777778,
             "#fb9f3a"
            ],
            [
             0.8888888888888888,
             "#fdca26"
            ],
            [
             1,
             "#f0f921"
            ]
           ],
           "sequentialminus": [
            [
             0,
             "#0d0887"
            ],
            [
             0.1111111111111111,
             "#46039f"
            ],
            [
             0.2222222222222222,
             "#7201a8"
            ],
            [
             0.3333333333333333,
             "#9c179e"
            ],
            [
             0.4444444444444444,
             "#bd3786"
            ],
            [
             0.5555555555555556,
             "#d8576b"
            ],
            [
             0.6666666666666666,
             "#ed7953"
            ],
            [
             0.7777777777777778,
             "#fb9f3a"
            ],
            [
             0.8888888888888888,
             "#fdca26"
            ],
            [
             1,
             "#f0f921"
            ]
           ]
          },
          "colorway": [
           "#636efa",
           "#EF553B",
           "#00cc96",
           "#ab63fa",
           "#FFA15A",
           "#19d3f3",
           "#FF6692",
           "#B6E880",
           "#FF97FF",
           "#FECB52"
          ],
          "font": {
           "color": "#2a3f5f"
          },
          "geo": {
           "bgcolor": "white",
           "lakecolor": "white",
           "landcolor": "#E5ECF6",
           "showlakes": true,
           "showland": true,
           "subunitcolor": "white"
          },
          "hoverlabel": {
           "align": "left"
          },
          "hovermode": "closest",
          "mapbox": {
           "style": "light"
          },
          "paper_bgcolor": "white",
          "plot_bgcolor": "#E5ECF6",
          "polar": {
           "angularaxis": {
            "gridcolor": "white",
            "linecolor": "white",
            "ticks": ""
           },
           "bgcolor": "#E5ECF6",
           "radialaxis": {
            "gridcolor": "white",
            "linecolor": "white",
            "ticks": ""
           }
          },
          "scene": {
           "xaxis": {
            "backgroundcolor": "#E5ECF6",
            "gridcolor": "white",
            "gridwidth": 2,
            "linecolor": "white",
            "showbackground": true,
            "ticks": "",
            "zerolinecolor": "white"
           },
           "yaxis": {
            "backgroundcolor": "#E5ECF6",
            "gridcolor": "white",
            "gridwidth": 2,
            "linecolor": "white",
            "showbackground": true,
            "ticks": "",
            "zerolinecolor": "white"
           },
           "zaxis": {
            "backgroundcolor": "#E5ECF6",
            "gridcolor": "white",
            "gridwidth": 2,
            "linecolor": "white",
            "showbackground": true,
            "ticks": "",
            "zerolinecolor": "white"
           }
          },
          "shapedefaults": {
           "line": {
            "color": "#2a3f5f"
           }
          },
          "ternary": {
           "aaxis": {
            "gridcolor": "white",
            "linecolor": "white",
            "ticks": ""
           },
           "baxis": {
            "gridcolor": "white",
            "linecolor": "white",
            "ticks": ""
           },
           "bgcolor": "#E5ECF6",
           "caxis": {
            "gridcolor": "white",
            "linecolor": "white",
            "ticks": ""
           }
          },
          "title": {
           "x": 0.05
          },
          "xaxis": {
           "automargin": true,
           "gridcolor": "white",
           "linecolor": "white",
           "ticks": "",
           "title": {
            "standoff": 15
           },
           "zerolinecolor": "white",
           "zerolinewidth": 2
          },
          "yaxis": {
           "automargin": true,
           "gridcolor": "white",
           "linecolor": "white",
           "ticks": "",
           "title": {
            "standoff": 15
           },
           "zerolinecolor": "white",
           "zerolinewidth": 2
          }
         }
        },
        "title": {
         "text": "Trend of the total number of crimes reported over the years in the North-East macro area"
        },
        "xaxis": {
         "anchor": "y",
         "domain": [
          0,
          1
         ],
         "title": {
          "text": "Year"
         }
        },
        "yaxis": {
         "anchor": "x",
         "domain": [
          0,
          1
         ],
         "title": {
          "text": "Value"
         }
        }
       }
      }
     },
     "metadata": {},
     "output_type": "display_data"
    }
   ],
   "source": [
    "north_east_df = functions.get_zone_df(df, area='Nord-est')\n",
    "north_east_total_values = north_east_df.loc[north_east_df['Crime'] == 'totale'].groupby(['Year']).sum(numeric_only=True)['Value']\n",
    "\n",
    "\n",
    "print(f\"Overall, in the 16 years taken into consideration, in the North-East area {sum(north_east_total_values)} crimes were reported.\",\n",
    "        f\"\\nA mean of {round(sum(north_east_total_values)/len(north_east_total_values))} per year and {round((sum(north_east_total_values)/len(north_east_total_values) / 365))} per day\",\n",
    "        f\"\\nA standard deviation of {round(np.std(north_east_total_values))}.\")\n",
    "\n",
    "px.bar(data_frame= north_east_total_values.reset_index(),\n",
    "       x = 'Year',\n",
    "       y = 'Value',\n",
    "       title= 'Trend of the total number of crimes reported over the years in the North-East macro area')"
   ]
  },
  {
   "cell_type": "code",
   "execution_count": 18,
   "metadata": {},
   "outputs": [
    {
     "name": "stdout",
     "output_type": "stream",
     "text": [
      "Max:\n",
      " Year\n",
      "2007    561667\n",
      "Name: Value, dtype: int64\n",
      "\n",
      "Min:\n",
      " Year\n",
      "2020    353168\n",
      "Name: Value, dtype: int64\n"
     ]
    }
   ],
   "source": [
    "# Finding the year with the maximum crimes reported\n",
    "print('Max:\\n', north_east_total_values[north_east_total_values == max(north_east_total_values)])\n",
    "\n",
    "# Finding the year with the minimum crimes reported\n",
    "print('\\nMin:\\n',north_east_total_values[north_east_total_values == min(north_east_total_values)])"
   ]
  },
  {
   "cell_type": "code",
   "execution_count": 24,
   "metadata": {},
   "outputs": [
    {
     "data": {
      "application/vnd.plotly.v1+json": {
       "config": {
        "plotlyServerURL": "https://plot.ly"
       },
       "data": [
        {
         "alignmentgroup": "True",
         "hovertemplate": "Crime=furti<br>Year=%{x}<br>Value=%{y}<extra></extra>",
         "legendgroup": "furti",
         "marker": {
          "color": "#636efa",
          "pattern": {
           "shape": ""
          }
         },
         "name": "furti",
         "offsetgroup": "furti",
         "orientation": "v",
         "showlegend": true,
         "textposition": "auto",
         "type": "bar",
         "x": [
          2007,
          2014,
          2013,
          2006,
          2012,
          2015,
          2011,
          2008,
          2016,
          2009,
          2010,
          2017,
          2018,
          2019,
          2021,
          2020
         ],
         "xaxis": "x",
         "y": [
          331763,
          320183,
          313502,
          312473,
          306716,
          293465,
          288712,
          270379,
          268843,
          263478,
          253920,
          247514,
          231303,
          210919,
          152197,
          141072
         ],
         "yaxis": "y"
        },
        {
         "alignmentgroup": "True",
         "hovertemplate": "Crime=altri delitti<br>Year=%{x}<br>Value=%{y}<extra></extra>",
         "legendgroup": "altri delitti",
         "marker": {
          "color": "#EF553B",
          "pattern": {
           "shape": ""
          }
         },
         "name": "altri delitti",
         "offsetgroup": "altri delitti",
         "orientation": "v",
         "showlegend": true,
         "textposition": "auto",
         "type": "bar",
         "x": [
          2019,
          2021,
          2013,
          2017,
          2018,
          2020,
          2014,
          2016,
          2015,
          2008,
          2009,
          2007,
          2010,
          2012,
          2011,
          2006
         ],
         "xaxis": "x",
         "y": [
          89909,
          88233,
          86739,
          85713,
          84113,
          82250,
          80941,
          79543,
          79223,
          78377,
          78181,
          75368,
          74944,
          74163,
          72311,
          69087
         ],
         "yaxis": "y"
        },
        {
         "alignmentgroup": "True",
         "hovertemplate": "Crime=danneggiamenti<br>Year=%{x}<br>Value=%{y}<extra></extra>",
         "legendgroup": "danneggiamenti",
         "marker": {
          "color": "#00cc96",
          "pattern": {
           "shape": ""
          }
         },
         "name": "danneggiamenti",
         "offsetgroup": "danneggiamenti",
         "orientation": "v",
         "showlegend": true,
         "textposition": "auto",
         "type": "bar",
         "x": [
          2009,
          2010,
          2011,
          2008,
          2007,
          2012,
          2013,
          2006,
          2015,
          2014,
          2018,
          2019,
          2016,
          2017,
          2021,
          2020
         ],
         "xaxis": "x",
         "y": [
          69629,
          69264,
          67603,
          66757,
          63901,
          61547,
          58866,
          58418,
          48656,
          48212,
          44102,
          43991,
          42187,
          42066,
          41719,
          37366
         ],
         "yaxis": "y"
        },
        {
         "alignmentgroup": "True",
         "hovertemplate": "Crime=furti in auto in sosta<br>Year=%{x}<br>Value=%{y}<extra></extra>",
         "legendgroup": "furti in auto in sosta",
         "marker": {
          "color": "#ab63fa",
          "pattern": {
           "shape": ""
          }
         },
         "name": "furti in auto in sosta",
         "offsetgroup": "furti in auto in sosta",
         "orientation": "v",
         "showlegend": true,
         "textposition": "auto",
         "type": "bar",
         "x": [
          2007,
          2006,
          2008,
          2009,
          2014,
          2011,
          2012,
          2013,
          2010,
          2015,
          2016,
          2017,
          2018,
          2019,
          2020,
          2021
         ],
         "xaxis": "x",
         "y": [
          59851,
          57243,
          47638,
          43887,
          42266,
          41300,
          40931,
          40690,
          39676,
          38814,
          35659,
          31229,
          30549,
          28582,
          16316,
          14147
         ],
         "yaxis": "y"
        },
        {
         "alignmentgroup": "True",
         "hovertemplate": "Crime=furti in abitazioni<br>Year=%{x}<br>Value=%{y}<extra></extra>",
         "legendgroup": "furti in abitazioni",
         "marker": {
          "color": "#FFA15A",
          "pattern": {
           "shape": ""
          }
         },
         "name": "furti in abitazioni",
         "offsetgroup": "furti in abitazioni",
         "orientation": "v",
         "showlegend": true,
         "textposition": "auto",
         "type": "bar",
         "x": [
          2014,
          2013,
          2015,
          2012,
          2016,
          2017,
          2018,
          2011,
          2019,
          2007,
          2021,
          2010,
          2009,
          2006,
          2008,
          2020
         ],
         "xaxis": "x",
         "y": [
          59446,
          54921,
          52131,
          50383,
          48901,
          44288,
          43653,
          41537,
          39337,
          33225,
          32372,
          31297,
          29962,
          28033,
          27954,
          27275
         ],
         "yaxis": "y"
        },
        {
         "alignmentgroup": "True",
         "hovertemplate": "Crime=truffe e frodi informatiche<br>Year=%{x}<br>Value=%{y}<extra></extra>",
         "legendgroup": "truffe e frodi informatiche",
         "marker": {
          "color": "#19d3f3",
          "pattern": {
           "shape": ""
          }
         },
         "name": "truffe e frodi informatiche",
         "offsetgroup": "truffe e frodi informatiche",
         "orientation": "v",
         "showlegend": true,
         "textposition": "auto",
         "type": "bar",
         "x": [
          2021,
          2020,
          2019,
          2018,
          2017,
          2016,
          2015,
          2013,
          2014,
          2006,
          2007,
          2012,
          2008,
          2011,
          2009,
          2010
         ],
         "xaxis": "x",
         "y": [
          57253,
          48226,
          39525,
          34015,
          30043,
          28337,
          27853,
          26746,
          24768,
          21463,
          21361,
          19838,
          17223,
          17013,
          16554,
          16234
         ],
         "yaxis": "y"
        },
        {
         "alignmentgroup": "True",
         "hovertemplate": "Crime=furti con destrezza<br>Year=%{x}<br>Value=%{y}<extra></extra>",
         "legendgroup": "furti con destrezza",
         "marker": {
          "color": "#FF6692",
          "pattern": {
           "shape": ""
          }
         },
         "name": "furti con destrezza",
         "offsetgroup": "furti con destrezza",
         "orientation": "v",
         "showlegend": true,
         "textposition": "auto",
         "type": "bar",
         "x": [
          2015,
          2014,
          2013,
          2017,
          2016,
          2018,
          2007,
          2012,
          2019,
          2006,
          2011,
          2008,
          2010,
          2009,
          2021,
          2020
         ],
         "xaxis": "x",
         "y": [
          39027,
          38861,
          36697,
          36627,
          36473,
          33626,
          33275,
          32636,
          30394,
          28539,
          28417,
          25377,
          23321,
          22983,
          16642,
          15449
         ],
         "yaxis": "y"
        },
        {
         "alignmentgroup": "True",
         "hovertemplate": "Crime=furti in esercizi commerciali<br>Year=%{x}<br>Value=%{y}<extra></extra>",
         "legendgroup": "furti in esercizi commerciali",
         "marker": {
          "color": "#B6E880",
          "pattern": {
           "shape": ""
          }
         },
         "name": "furti in esercizi commerciali",
         "offsetgroup": "furti in esercizi commerciali",
         "orientation": "v",
         "showlegend": true,
         "textposition": "auto",
         "type": "bar",
         "x": [
          2014,
          2015,
          2007,
          2013,
          2006,
          2016,
          2012,
          2011,
          2017,
          2008,
          2009,
          2010,
          2018,
          2019,
          2021,
          2020
         ],
         "xaxis": "x",
         "y": [
          25506,
          24938,
          24638,
          24249,
          23327,
          22791,
          22646,
          21195,
          20898,
          20333,
          20102,
          20071,
          19205,
          17157,
          12668,
          11616
         ],
         "yaxis": "y"
        },
        {
         "alignmentgroup": "True",
         "hovertemplate": "Crime=minacce<br>Year=%{x}<br>Value=%{y}<extra></extra>",
         "legendgroup": "minacce",
         "marker": {
          "color": "#FF97FF",
          "pattern": {
           "shape": ""
          }
         },
         "name": "minacce",
         "offsetgroup": "minacce",
         "orientation": "v",
         "showlegend": true,
         "textposition": "auto",
         "type": "bar",
         "x": [
          2008,
          2007,
          2009,
          2012,
          2013,
          2014,
          2010,
          2006,
          2011,
          2015,
          2019,
          2017,
          2016,
          2018,
          2021,
          2020
         ],
         "xaxis": "x",
         "y": [
          15668,
          15280,
          14812,
          13993,
          13989,
          13863,
          13830,
          13698,
          13567,
          13069,
          11850,
          11837,
          11698,
          11624,
          11518,
          11135
         ],
         "yaxis": "y"
        },
        {
         "alignmentgroup": "True",
         "hovertemplate": "Crime=ingiurie<br>Year=%{x}<br>Value=%{y}<extra></extra>",
         "legendgroup": "ingiurie",
         "marker": {
          "color": "#FECB52",
          "pattern": {
           "shape": ""
          }
         },
         "name": "ingiurie",
         "offsetgroup": "ingiurie",
         "orientation": "v",
         "showlegend": true,
         "textposition": "auto",
         "type": "bar",
         "x": [
          2008,
          2007,
          2009,
          2012,
          2010,
          2006,
          2011,
          2013,
          2014,
          2015,
          2016,
          2017
         ],
         "xaxis": "x",
         "y": [
          14478,
          14243,
          13882,
          12813,
          12739,
          12663,
          12653,
          12623,
          12241,
          11201,
          2036,
          223
         ],
         "yaxis": "y"
        },
        {
         "alignmentgroup": "True",
         "hovertemplate": "Crime=furti di autovetture<br>Year=%{x}<br>Value=%{y}<extra></extra>",
         "legendgroup": "furti di autovetture",
         "marker": {
          "color": "#636efa",
          "pattern": {
           "shape": ""
          }
         },
         "name": "furti di autovetture",
         "offsetgroup": "furti di autovetture",
         "orientation": "v",
         "showlegend": true,
         "textposition": "auto",
         "type": "bar",
         "x": [
          2006,
          2007,
          2008,
          2009,
          2010,
          2011,
          2012,
          2014,
          2013,
          2015,
          2016,
          2017,
          2018,
          2019,
          2020,
          2021
         ],
         "xaxis": "x",
         "y": [
          14247,
          13660,
          9729,
          8742,
          7848,
          7446,
          7222,
          6699,
          6676,
          5985,
          5388,
          4586,
          4355,
          4049,
          3005,
          2976
         ],
         "yaxis": "y"
        },
        {
         "alignmentgroup": "True",
         "hovertemplate": "Crime=lesioni dolose<br>Year=%{x}<br>Value=%{y}<extra></extra>",
         "legendgroup": "lesioni dolose",
         "marker": {
          "color": "#EF553B",
          "pattern": {
           "shape": ""
          }
         },
         "name": "lesioni dolose",
         "offsetgroup": "lesioni dolose",
         "orientation": "v",
         "showlegend": true,
         "textposition": "auto",
         "type": "bar",
         "x": [
          2008,
          2007,
          2011,
          2012,
          2019,
          2009,
          2018,
          2013,
          2010,
          2017,
          2014,
          2006,
          2015,
          2021,
          2016,
          2020
         ],
         "xaxis": "x",
         "y": [
          12960,
          12866,
          12667,
          12545,
          12471,
          12257,
          12159,
          12075,
          12030,
          12008,
          11961,
          11879,
          11597,
          11585,
          11570,
          10427
         ],
         "yaxis": "y"
        },
        {
         "alignmentgroup": "True",
         "hovertemplate": "Crime=furti di ciclomotori<br>Year=%{x}<br>Value=%{y}<extra></extra>",
         "legendgroup": "furti di ciclomotori",
         "marker": {
          "color": "#00cc96",
          "pattern": {
           "shape": ""
          }
         },
         "name": "furti di ciclomotori",
         "offsetgroup": "furti di ciclomotori",
         "orientation": "v",
         "showlegend": true,
         "textposition": "auto",
         "type": "bar",
         "x": [
          2007,
          2006,
          2008,
          2009,
          2011,
          2012,
          2010,
          2013,
          2014,
          2015,
          2016,
          2017,
          2018,
          2019,
          2021,
          2020
         ],
         "xaxis": "x",
         "y": [
          7974,
          7235,
          5870,
          5093,
          4189,
          4110,
          4097,
          3047,
          2477,
          2009,
          1664,
          1526,
          1163,
          1072,
          876,
          851
         ],
         "yaxis": "y"
        },
        {
         "alignmentgroup": "True",
         "hovertemplate": "Crime=normativa sugli stupefacenti<br>Year=%{x}<br>Value=%{y}<extra></extra>",
         "legendgroup": "normativa sugli stupefacenti",
         "marker": {
          "color": "#ab63fa",
          "pattern": {
           "shape": ""
          }
         },
         "name": "normativa sugli stupefacenti",
         "offsetgroup": "normativa sugli stupefacenti",
         "orientation": "v",
         "showlegend": true,
         "textposition": "auto",
         "type": "bar",
         "x": [
          2018,
          2017,
          2019,
          2009,
          2008,
          2020,
          2007,
          2016,
          2006,
          2011,
          2021,
          2012,
          2013,
          2010,
          2014,
          2015
         ],
         "xaxis": "x",
         "y": [
          6845,
          6730,
          6605,
          6164,
          6161,
          6157,
          5989,
          5936,
          5888,
          5652,
          5626,
          5505,
          5458,
          5408,
          5362,
          5230
         ],
         "yaxis": "y"
        },
        {
         "alignmentgroup": "True",
         "hovertemplate": "Crime=ricettazione<br>Year=%{x}<br>Value=%{y}<extra></extra>",
         "legendgroup": "ricettazione",
         "marker": {
          "color": "#FFA15A",
          "pattern": {
           "shape": ""
          }
         },
         "name": "ricettazione",
         "offsetgroup": "ricettazione",
         "orientation": "v",
         "showlegend": true,
         "textposition": "auto",
         "type": "bar",
         "x": [
          2007,
          2013,
          2006,
          2008,
          2014,
          2012,
          2015,
          2009,
          2011,
          2010,
          2016,
          2017,
          2018,
          2019,
          2021,
          2020
         ],
         "xaxis": "x",
         "y": [
          5063,
          4688,
          4345,
          4345,
          4213,
          4004,
          3962,
          3911,
          3770,
          3692,
          3638,
          3387,
          2939,
          2505,
          2284,
          2118
         ],
         "yaxis": "y"
        },
        {
         "alignmentgroup": "True",
         "hovertemplate": "Crime=rapine<br>Year=%{x}<br>Value=%{y}<extra></extra>",
         "legendgroup": "rapine",
         "marker": {
          "color": "#19d3f3",
          "pattern": {
           "shape": ""
          }
         },
         "name": "rapine",
         "offsetgroup": "rapine",
         "orientation": "v",
         "showlegend": true,
         "textposition": "auto",
         "type": "bar",
         "x": [
          2007,
          2013,
          2014,
          2006,
          2012,
          2015,
          2008,
          2011,
          2016,
          2017,
          2021,
          2018,
          2009,
          2019,
          2010,
          2020
         ],
         "xaxis": "x",
         "y": [
          4791,
          4791,
          4544,
          4479,
          4297,
          4272,
          4106,
          3994,
          3902,
          3857,
          3764,
          3761,
          3690,
          3360,
          3339,
          3135
         ],
         "yaxis": "y"
        },
        {
         "alignmentgroup": "True",
         "hovertemplate": "Crime=delitti informatici<br>Year=%{x}<br>Value=%{y}<extra></extra>",
         "legendgroup": "delitti informatici",
         "marker": {
          "color": "#FF6692",
          "pattern": {
           "shape": ""
          }
         },
         "name": "delitti informatici",
         "offsetgroup": "delitti informatici",
         "orientation": "v",
         "showlegend": true,
         "textposition": "auto",
         "type": "bar",
         "x": [
          2021,
          2020,
          2019,
          2018,
          2017,
          2016,
          2014,
          2015,
          2013,
          2012,
          2011,
          2009,
          2010,
          2008,
          2007,
          2006
         ],
         "xaxis": "x",
         "y": [
          3720,
          3214,
          2880,
          2160,
          1764,
          1743,
          1728,
          1724,
          1574,
          1307,
          1164,
          1162,
          1031,
          930,
          757,
          508
         ],
         "yaxis": "y"
        },
        {
         "alignmentgroup": "True",
         "hovertemplate": "Crime=percosse<br>Year=%{x}<br>Value=%{y}<extra></extra>",
         "legendgroup": "percosse",
         "marker": {
          "color": "#B6E880",
          "pattern": {
           "shape": ""
          }
         },
         "name": "percosse",
         "offsetgroup": "percosse",
         "orientation": "v",
         "showlegend": true,
         "textposition": "auto",
         "type": "bar",
         "x": [
          2008,
          2007,
          2009,
          2021,
          2015,
          2012,
          2006,
          2011,
          2010,
          2013,
          2014,
          2019,
          2017,
          2018,
          2016,
          2020
         ],
         "xaxis": "x",
         "y": [
          3603,
          3417,
          3405,
          3158,
          3142,
          3141,
          3103,
          3097,
          3084,
          3004,
          2985,
          2841,
          2740,
          2706,
          2643,
          2625
         ],
         "yaxis": "y"
        },
        {
         "alignmentgroup": "True",
         "hovertemplate": "Crime=furti di motocicli<br>Year=%{x}<br>Value=%{y}<extra></extra>",
         "legendgroup": "furti di motocicli",
         "marker": {
          "color": "#FF97FF",
          "pattern": {
           "shape": ""
          }
         },
         "name": "furti di motocicli",
         "offsetgroup": "furti di motocicli",
         "orientation": "v",
         "showlegend": true,
         "textposition": "auto",
         "type": "bar",
         "x": [
          2007,
          2012,
          2011,
          2006,
          2008,
          2009,
          2013,
          2014,
          2010,
          2015,
          2016,
          2017,
          2018,
          2021,
          2019,
          2020
         ],
         "xaxis": "x",
         "y": [
          3079,
          2761,
          2707,
          2590,
          2574,
          2522,
          2471,
          2204,
          2153,
          1807,
          1580,
          1572,
          1174,
          1167,
          1163,
          933
         ],
         "yaxis": "y"
        },
        {
         "alignmentgroup": "True",
         "hovertemplate": "Crime=rapine in pubblica via<br>Year=%{x}<br>Value=%{y}<extra></extra>",
         "legendgroup": "rapine in pubblica via",
         "marker": {
          "color": "#FECB52",
          "pattern": {
           "shape": ""
          }
         },
         "name": "rapine in pubblica via",
         "offsetgroup": "rapine in pubblica via",
         "orientation": "v",
         "showlegend": true,
         "textposition": "auto",
         "type": "bar",
         "x": [
          2021,
          2013,
          2014,
          2015,
          2016,
          2012,
          2018,
          2007,
          2017,
          2006,
          2011,
          2019,
          2008,
          2020,
          2009,
          2010
         ],
         "xaxis": "x",
         "y": [
          2256,
          2244,
          2180,
          2055,
          1960,
          1949,
          1930,
          1926,
          1881,
          1794,
          1791,
          1701,
          1699,
          1671,
          1523,
          1380
         ],
         "yaxis": "y"
        },
        {
         "alignmentgroup": "True",
         "hovertemplate": "Crime=furti con strappo<br>Year=%{x}<br>Value=%{y}<extra></extra>",
         "legendgroup": "furti con strappo",
         "marker": {
          "color": "#636efa",
          "pattern": {
           "shape": ""
          }
         },
         "name": "furti con strappo",
         "offsetgroup": "furti con strappo",
         "orientation": "v",
         "showlegend": true,
         "textposition": "auto",
         "type": "bar",
         "x": [
          2017,
          2015,
          2016,
          2007,
          2013,
          2006,
          2014,
          2012,
          2018,
          2011,
          2008,
          2019,
          2021,
          2009,
          2020,
          2010
         ],
         "xaxis": "x",
         "y": [
          2120,
          2049,
          2034,
          1977,
          1947,
          1918,
          1892,
          1776,
          1771,
          1596,
          1508,
          1489,
          1456,
          1313,
          1299,
          1190
         ],
         "yaxis": "y"
        },
        {
         "alignmentgroup": "True",
         "hovertemplate": "Crime=estorsioni<br>Year=%{x}<br>Value=%{y}<extra></extra>",
         "legendgroup": "estorsioni",
         "marker": {
          "color": "#EF553B",
          "pattern": {
           "shape": ""
          }
         },
         "name": "estorsioni",
         "offsetgroup": "estorsioni",
         "orientation": "v",
         "showlegend": true,
         "textposition": "auto",
         "type": "bar",
         "x": [
          2021,
          2015,
          2016,
          2018,
          2020,
          2019,
          2017,
          2014,
          2013,
          2008,
          2012,
          2009,
          2007,
          2010,
          2011,
          2006
         ],
         "xaxis": "x",
         "y": [
          1684,
          1562,
          1553,
          1425,
          1375,
          1340,
          1320,
          1255,
          890,
          871,
          842,
          761,
          748,
          671,
          642,
          577
         ],
         "yaxis": "y"
        },
        {
         "alignmentgroup": "True",
         "hovertemplate": "Crime=contraffazione di marchi e prodotti industriali<br>Year=%{x}<br>Value=%{y}<extra></extra>",
         "legendgroup": "contraffazione di marchi e prodotti industriali",
         "marker": {
          "color": "#00cc96",
          "pattern": {
           "shape": ""
          }
         },
         "name": "contraffazione di marchi e prodotti industriali",
         "offsetgroup": "contraffazione di marchi e prodotti industriali",
         "orientation": "v",
         "showlegend": true,
         "textposition": "auto",
         "type": "bar",
         "x": [
          2010,
          2015,
          2012,
          2014,
          2011,
          2013,
          2016,
          2017,
          2018,
          2019,
          2021,
          2020,
          2008,
          2009,
          2006,
          2007
         ],
         "xaxis": "x",
         "y": [
          1661,
          1237,
          1141,
          1106,
          1097,
          1002,
          902,
          677,
          628,
          520,
          415,
          404,
          238,
          211,
          160,
          150
         ],
         "yaxis": "y"
        },
        {
         "alignmentgroup": "True",
         "hovertemplate": "Crime=incendi<br>Year=%{x}<br>Value=%{y}<extra></extra>",
         "legendgroup": "incendi",
         "marker": {
          "color": "#ab63fa",
          "pattern": {
           "shape": ""
          }
         },
         "name": "incendi",
         "offsetgroup": "incendi",
         "orientation": "v",
         "showlegend": true,
         "textposition": "auto",
         "type": "bar",
         "x": [
          2007,
          2006,
          2012,
          2008,
          2009,
          2011,
          2010,
          2017,
          2015,
          2013,
          2016,
          2014,
          2021,
          2019,
          2020,
          2018
         ],
         "xaxis": "x",
         "y": [
          1408,
          1257,
          1153,
          1148,
          1127,
          1017,
          851,
          734,
          716,
          705,
          655,
          617,
          554,
          550,
          539,
          433
         ],
         "yaxis": "y"
        },
        {
         "alignmentgroup": "True",
         "hovertemplate": "Crime=violenze sessuali<br>Year=%{x}<br>Value=%{y}<extra></extra>",
         "legendgroup": "violenze sessuali",
         "marker": {
          "color": "#FFA15A",
          "pattern": {
           "shape": ""
          }
         },
         "name": "violenze sessuali",
         "offsetgroup": "violenze sessuali",
         "orientation": "v",
         "showlegend": true,
         "textposition": "auto",
         "type": "bar",
         "x": [
          2021,
          2019,
          2007,
          2020,
          2018,
          2008,
          2006,
          2010,
          2009,
          2017,
          2012,
          2013,
          2014,
          2011,
          2016,
          2015
         ],
         "xaxis": "x",
         "y": [
          1269,
          1102,
          1073,
          1030,
          1024,
          1009,
          1005,
          966,
          964,
          962,
          949,
          939,
          903,
          886,
          845,
          792
         ],
         "yaxis": "y"
        },
        {
         "alignmentgroup": "True",
         "hovertemplate": "Crime=danneggiamento seguito da incendio<br>Year=%{x}<br>Value=%{y}<extra></extra>",
         "legendgroup": "danneggiamento seguito da incendio",
         "marker": {
          "color": "#19d3f3",
          "pattern": {
           "shape": ""
          }
         },
         "name": "danneggiamento seguito da incendio",
         "offsetgroup": "danneggiamento seguito da incendio",
         "orientation": "v",
         "showlegend": true,
         "textposition": "auto",
         "type": "bar",
         "x": [
          2007,
          2006,
          2011,
          2012,
          2009,
          2008,
          2013,
          2010,
          2017,
          2015,
          2014,
          2016,
          2018,
          2019,
          2021,
          2020
         ],
         "xaxis": "x",
         "y": [
          1082,
          997,
          955,
          945,
          901,
          878,
          789,
          785,
          775,
          749,
          686,
          669,
          634,
          616,
          587,
          575
         ],
         "yaxis": "y"
        },
        {
         "alignmentgroup": "True",
         "hovertemplate": "Crime=rapine in esercizi commerciali<br>Year=%{x}<br>Value=%{y}<extra></extra>",
         "legendgroup": "rapine in esercizi commerciali",
         "marker": {
          "color": "#FF6692",
          "pattern": {
           "shape": ""
          }
         },
         "name": "rapine in esercizi commerciali",
         "offsetgroup": "rapine in esercizi commerciali",
         "orientation": "v",
         "showlegend": true,
         "textposition": "auto",
         "type": "bar",
         "x": [
          2007,
          2014,
          2013,
          2011,
          2012,
          2008,
          2009,
          2017,
          2015,
          2010,
          2006,
          2016,
          2018,
          2019,
          2021,
          2020
         ],
         "xaxis": "x",
         "y": [
          794,
          794,
          786,
          731,
          720,
          716,
          714,
          711,
          707,
          687,
          686,
          677,
          658,
          647,
          610,
          548
         ],
         "yaxis": "y"
        },
        {
         "alignmentgroup": "True",
         "hovertemplate": "Crime=rapine in banca<br>Year=%{x}<br>Value=%{y}<extra></extra>",
         "legendgroup": "rapine in banca",
         "marker": {
          "color": "#B6E880",
          "pattern": {
           "shape": ""
          }
         },
         "name": "rapine in banca",
         "offsetgroup": "rapine in banca",
         "orientation": "v",
         "showlegend": true,
         "textposition": "auto",
         "type": "bar",
         "x": [
          2006,
          2007,
          2008,
          2009,
          2013,
          2010,
          2011,
          2012,
          2015,
          2014,
          2016,
          2017,
          2019,
          2018,
          2020,
          2021
         ],
         "xaxis": "x",
         "y": [
          658,
          566,
          395,
          275,
          211,
          207,
          202,
          196,
          151,
          126,
          87,
          63,
          45,
          41,
          27,
          10
         ],
         "yaxis": "y"
        },
        {
         "alignmentgroup": "True",
         "hovertemplate": "Crime=omicidi colposi<br>Year=%{x}<br>Value=%{y}<extra></extra>",
         "legendgroup": "omicidi colposi",
         "marker": {
          "color": "#FF97FF",
          "pattern": {
           "shape": ""
          }
         },
         "name": "omicidi colposi",
         "offsetgroup": "omicidi colposi",
         "orientation": "v",
         "showlegend": true,
         "textposition": "auto",
         "type": "bar",
         "x": [
          2007,
          2006,
          2008,
          2019,
          2009,
          2011,
          2017,
          2012,
          2010,
          2018,
          2013,
          2015,
          2016,
          2014,
          2021,
          2020
         ],
         "xaxis": "x",
         "y": [
          526,
          475,
          449,
          435,
          427,
          424,
          406,
          396,
          395,
          377,
          374,
          355,
          354,
          337,
          332,
          315
         ],
         "yaxis": "y"
        },
        {
         "alignmentgroup": "True",
         "hovertemplate": "Crime=rapine in abitazione<br>Year=%{x}<br>Value=%{y}<extra></extra>",
         "legendgroup": "rapine in abitazione",
         "marker": {
          "color": "#FECB52",
          "pattern": {
           "shape": ""
          }
         },
         "name": "rapine in abitazione",
         "offsetgroup": "rapine in abitazione",
         "orientation": "v",
         "showlegend": true,
         "textposition": "auto",
         "type": "bar",
         "x": [
          2014,
          2013,
          2012,
          2015,
          2017,
          2016,
          2011,
          2018,
          2007,
          2021,
          2008,
          2006,
          2020,
          2019,
          2009,
          2010
         ],
         "xaxis": "x",
         "y": [
          509,
          488,
          482,
          479,
          408,
          396,
          393,
          376,
          374,
          327,
          316,
          311,
          307,
          302,
          301,
          284
         ],
         "yaxis": "y"
        },
        {
         "alignmentgroup": "True",
         "hovertemplate": "Crime=omicidi colposi da incidente stradale<br>Year=%{x}<br>Value=%{y}<extra></extra>",
         "legendgroup": "omicidi colposi da incidente stradale",
         "marker": {
          "color": "#636efa",
          "pattern": {
           "shape": ""
          }
         },
         "name": "omicidi colposi da incidente stradale",
         "offsetgroup": "omicidi colposi da incidente stradale",
         "orientation": "v",
         "showlegend": true,
         "textposition": "auto",
         "type": "bar",
         "x": [
          2007,
          2006,
          2008,
          2009,
          2017,
          2011,
          2010,
          2019,
          2012,
          2013,
          2016,
          2015,
          2018,
          2014,
          2021,
          2020
         ],
         "xaxis": "x",
         "y": [
          468,
          428,
          384,
          372,
          343,
          342,
          324,
          322,
          318,
          296,
          293,
          288,
          287,
          279,
          249,
          193
         ],
         "yaxis": "y"
        },
        {
         "alignmentgroup": "True",
         "hovertemplate": "Crime=furti di automezzi pesanti trasportanti merci<br>Year=%{x}<br>Value=%{y}<extra></extra>",
         "legendgroup": "furti di automezzi pesanti trasportanti merci",
         "marker": {
          "color": "#EF553B",
          "pattern": {
           "shape": ""
          }
         },
         "name": "furti di automezzi pesanti trasportanti merci",
         "offsetgroup": "furti di automezzi pesanti trasportanti merci",
         "orientation": "v",
         "showlegend": true,
         "textposition": "auto",
         "type": "bar",
         "x": [
          2007,
          2006,
          2008,
          2009,
          2010,
          2013,
          2012,
          2011,
          2015,
          2014,
          2016,
          2018,
          2019,
          2017,
          2020,
          2021
         ],
         "xaxis": "x",
         "y": [
          358,
          304,
          280,
          248,
          222,
          192,
          175,
          165,
          163,
          140,
          124,
          90,
          80,
          75,
          47,
          44
         ],
         "yaxis": "y"
        },
        {
         "alignmentgroup": "True",
         "hovertemplate": "Crime=riciclaggio e impiego di denaro, beni o utilità di provenienza illecita<br>Year=%{x}<br>Value=%{y}<extra></extra>",
         "legendgroup": "riciclaggio e impiego di denaro, beni o utilità di provenienza illecita",
         "marker": {
          "color": "#00cc96",
          "pattern": {
           "shape": ""
          }
         },
         "name": "riciclaggio e impiego di denaro, beni o utilità di provenienza illecita",
         "offsetgroup": "riciclaggio e impiego di denaro, beni o utilità di provenienza illecita",
         "orientation": "v",
         "showlegend": true,
         "textposition": "auto",
         "type": "bar",
         "x": [
          2018,
          2019,
          2020,
          2017,
          2021,
          2013,
          2015,
          2012,
          2016,
          2014,
          2009,
          2010,
          2011,
          2007,
          2008,
          2006
         ],
         "xaxis": "x",
         "y": [
          350,
          315,
          304,
          293,
          266,
          264,
          248,
          246,
          234,
          188,
          187,
          186,
          162,
          160,
          158,
          126
         ],
         "yaxis": "y"
        },
        {
         "alignmentgroup": "True",
         "hovertemplate": "Crime=violazione della proprietà intellettuale<br>Year=%{x}<br>Value=%{y}<extra></extra>",
         "legendgroup": "violazione della proprietà intellettuale",
         "marker": {
          "color": "#ab63fa",
          "pattern": {
           "shape": ""
          }
         },
         "name": "violazione della proprietà intellettuale",
         "offsetgroup": "violazione della proprietà intellettuale",
         "orientation": "v",
         "showlegend": true,
         "textposition": "auto",
         "type": "bar",
         "x": [
          2006,
          2007,
          2008,
          2009,
          2010,
          2021,
          2011,
          2012,
          2016,
          2013,
          2014,
          2017,
          2015,
          2019,
          2020,
          2018
         ],
         "xaxis": "x",
         "y": [
          349,
          344,
          227,
          208,
          111,
          99,
          56,
          56,
          43,
          41,
          39,
          37,
          37,
          25,
          16,
          14
         ],
         "yaxis": "y"
        },
        {
         "alignmentgroup": "True",
         "hovertemplate": "Crime=sfruttamento e favoreggiamento della prostituzione<br>Year=%{x}<br>Value=%{y}<extra></extra>",
         "legendgroup": "sfruttamento e favoreggiamento della prostituzione",
         "marker": {
          "color": "#FFA15A",
          "pattern": {
           "shape": ""
          }
         },
         "name": "sfruttamento e favoreggiamento della prostituzione",
         "offsetgroup": "sfruttamento e favoreggiamento della prostituzione",
         "orientation": "v",
         "showlegend": true,
         "textposition": "auto",
         "type": "bar",
         "x": [
          2008,
          2010,
          2011,
          2007,
          2012,
          2013,
          2009,
          2006,
          2014,
          2015,
          2016,
          2017,
          2019,
          2018,
          2020,
          2021
         ],
         "xaxis": "x",
         "y": [
          339,
          310,
          303,
          300,
          263,
          256,
          254,
          240,
          212,
          211,
          177,
          161,
          125,
          116,
          97,
          78
         ],
         "yaxis": "y"
        },
        {
         "alignmentgroup": "True",
         "hovertemplate": "Crime=incendi boschivi<br>Year=%{x}<br>Value=%{y}<extra></extra>",
         "legendgroup": "incendi boschivi",
         "marker": {
          "color": "#19d3f3",
          "pattern": {
           "shape": ""
          }
         },
         "name": "incendi boschivi",
         "offsetgroup": "incendi boschivi",
         "orientation": "v",
         "showlegend": true,
         "textposition": "auto",
         "type": "bar",
         "x": [
          2012,
          2007,
          2017,
          2011,
          2021,
          2008,
          2009,
          2020,
          2016,
          2006,
          2015,
          2019,
          2013,
          2010,
          2014,
          2018
         ],
         "xaxis": "x",
         "y": [
          310,
          231,
          213,
          195,
          171,
          161,
          154,
          118,
          109,
          107,
          105,
          100,
          69,
          54,
          43,
          28
         ],
         "yaxis": "y"
        },
        {
         "alignmentgroup": "True",
         "hovertemplate": "Crime=pornografia minorile e detenzione di materiale pedopornografico<br>Year=%{x}<br>Value=%{y}<extra></extra>",
         "legendgroup": "pornografia minorile e detenzione di materiale pedopornografico",
         "marker": {
          "color": "#FF6692",
          "pattern": {
           "shape": ""
          }
         },
         "name": "pornografia minorile e detenzione di materiale pedopornografico",
         "offsetgroup": "pornografia minorile e detenzione di materiale pedopornografico",
         "orientation": "v",
         "showlegend": true,
         "textposition": "auto",
         "type": "bar",
         "x": [
          2021,
          2020,
          2019,
          2018,
          2008,
          2014,
          2015,
          2009,
          2017,
          2016,
          2007,
          2006,
          2013,
          2012,
          2010,
          2011
         ],
         "xaxis": "x",
         "y": [
          272,
          233,
          163,
          144,
          138,
          136,
          134,
          133,
          116,
          97,
          90,
          86,
          85,
          79,
          76,
          64
         ],
         "yaxis": "y"
        },
        {
         "alignmentgroup": "True",
         "hovertemplate": "Crime=sequestri di persona<br>Year=%{x}<br>Value=%{y}<extra></extra>",
         "legendgroup": "sequestri di persona",
         "marker": {
          "color": "#B6E880",
          "pattern": {
           "shape": ""
          }
         },
         "name": "sequestri di persona",
         "offsetgroup": "sequestri di persona",
         "orientation": "v",
         "showlegend": true,
         "textposition": "auto",
         "type": "bar",
         "x": [
          2007,
          2008,
          2006,
          2010,
          2011,
          2009,
          2013,
          2012,
          2014,
          2016,
          2017,
          2015,
          2018,
          2020,
          2019,
          2021
         ],
         "xaxis": "x",
         "y": [
          271,
          264,
          223,
          210,
          203,
          193,
          190,
          186,
          172,
          165,
          163,
          155,
          155,
          141,
          140,
          118
         ],
         "yaxis": "y"
        },
        {
         "alignmentgroup": "True",
         "hovertemplate": "Crime=furti di opere d'arte e materiale archeologico<br>Year=%{x}<br>Value=%{y}<extra></extra>",
         "legendgroup": "furti di opere d'arte e materiale archeologico",
         "marker": {
          "color": "#FF97FF",
          "pattern": {
           "shape": ""
          }
         },
         "name": "furti di opere d'arte e materiale archeologico",
         "offsetgroup": "furti di opere d'arte e materiale archeologico",
         "orientation": "v",
         "showlegend": true,
         "textposition": "auto",
         "type": "bar",
         "x": [
          2006,
          2014,
          2007,
          2010,
          2009,
          2011,
          2012,
          2013,
          2008,
          2015,
          2016,
          2017,
          2018,
          2019,
          2020,
          2021
         ],
         "xaxis": "x",
         "y": [
          212,
          185,
          183,
          148,
          141,
          140,
          139,
          121,
          113,
          94,
          85,
          85,
          75,
          63,
          47,
          43
         ],
         "yaxis": "y"
        },
        {
         "alignmentgroup": "True",
         "hovertemplate": "Crime=tentati omicidi<br>Year=%{x}<br>Value=%{y}<extra></extra>",
         "legendgroup": "tentati omicidi",
         "marker": {
          "color": "#FECB52",
          "pattern": {
           "shape": ""
          }
         },
         "name": "tentati omicidi",
         "offsetgroup": "tentati omicidi",
         "orientation": "v",
         "showlegend": true,
         "textposition": "auto",
         "type": "bar",
         "x": [
          2007,
          2008,
          2009,
          2015,
          2019,
          2012,
          2011,
          2006,
          2018,
          2013,
          2021,
          2010,
          2014,
          2016,
          2017,
          2020
         ],
         "xaxis": "x",
         "y": [
          195,
          195,
          167,
          156,
          147,
          146,
          146,
          138,
          129,
          125,
          123,
          121,
          121,
          118,
          118,
          99
         ],
         "yaxis": "y"
        },
        {
         "alignmentgroup": "True",
         "hovertemplate": "Crime=associazione per delinquere<br>Year=%{x}<br>Value=%{y}<extra></extra>",
         "legendgroup": "associazione per delinquere",
         "marker": {
          "color": "#636efa",
          "pattern": {
           "shape": ""
          }
         },
         "name": "associazione per delinquere",
         "offsetgroup": "associazione per delinquere",
         "orientation": "v",
         "showlegend": true,
         "textposition": "auto",
         "type": "bar",
         "x": [
          2006,
          2007,
          2015,
          2013,
          2016,
          2008,
          2009,
          2011,
          2010,
          2021,
          2020,
          2012,
          2014,
          2017,
          2018,
          2019
         ],
         "xaxis": "x",
         "y": [
          170,
          139,
          129,
          124,
          122,
          109,
          100,
          93,
          92,
          88,
          83,
          77,
          75,
          70,
          56,
          43
         ],
         "yaxis": "y"
        },
        {
         "alignmentgroup": "True",
         "hovertemplate": "Crime=usura<br>Year=%{x}<br>Value=%{y}<extra></extra>",
         "legendgroup": "usura",
         "marker": {
          "color": "#EF553B",
          "pattern": {
           "shape": ""
          }
         },
         "name": "usura",
         "offsetgroup": "usura",
         "orientation": "v",
         "showlegend": true,
         "textposition": "auto",
         "type": "bar",
         "x": [
          2016,
          2013,
          2014,
          2015,
          2017,
          2010,
          2009,
          2012,
          2007,
          2011,
          2008,
          2006,
          2020,
          2021,
          2019,
          2018
         ],
         "xaxis": "x",
         "y": [
          134,
          97,
          92,
          63,
          60,
          53,
          51,
          46,
          38,
          38,
          38,
          36,
          22,
          20,
          20,
          20
         ],
         "yaxis": "y"
        },
        {
         "alignmentgroup": "True",
         "hovertemplate": "Crime=atti sessuali con minorenne<br>Year=%{x}<br>Value=%{y}<extra></extra>",
         "legendgroup": "atti sessuali con minorenne",
         "marker": {
          "color": "#00cc96",
          "pattern": {
           "shape": ""
          }
         },
         "name": "atti sessuali con minorenne",
         "offsetgroup": "atti sessuali con minorenne",
         "orientation": "v",
         "showlegend": true,
         "textposition": "auto",
         "type": "bar",
         "x": [
          2015,
          2017,
          2014,
          2010,
          2012,
          2008,
          2007,
          2009,
          2013,
          2006,
          2019,
          2011,
          2018,
          2021,
          2016,
          2020
         ],
         "xaxis": "x",
         "y": [
          132,
          124,
          123,
          117,
          117,
          105,
          101,
          100,
          100,
          98,
          98,
          95,
          92,
          89,
          76,
          73
         ],
         "yaxis": "y"
        },
        {
         "alignmentgroup": "True",
         "hovertemplate": "Crime=contrabbando<br>Year=%{x}<br>Value=%{y}<extra></extra>",
         "legendgroup": "contrabbando",
         "marker": {
          "color": "#ab63fa",
          "pattern": {
           "shape": ""
          }
         },
         "name": "contrabbando",
         "offsetgroup": "contrabbando",
         "orientation": "v",
         "showlegend": true,
         "textposition": "auto",
         "type": "bar",
         "x": [
          2006,
          2008,
          2007,
          2015,
          2012,
          2009,
          2013,
          2010,
          2014,
          2011,
          2019,
          2020,
          2016,
          2018,
          2017,
          2021
         ],
         "xaxis": "x",
         "y": [
          82,
          63,
          56,
          55,
          50,
          39,
          37,
          36,
          32,
          32,
          5,
          5,
          5,
          3,
          2,
          2
         ],
         "yaxis": "y"
        },
        {
         "alignmentgroup": "True",
         "hovertemplate": "Crime=attentati<br>Year=%{x}<br>Value=%{y}<extra></extra>",
         "legendgroup": "attentati",
         "marker": {
          "color": "#FFA15A",
          "pattern": {
           "shape": ""
          }
         },
         "name": "attentati",
         "offsetgroup": "attentati",
         "orientation": "v",
         "showlegend": true,
         "textposition": "auto",
         "type": "bar",
         "x": [
          2007,
          2006,
          2018,
          2013,
          2016,
          2008,
          2010,
          2014,
          2011,
          2012,
          2009,
          2015,
          2020,
          2021,
          2017,
          2019
         ],
         "xaxis": "x",
         "y": [
          78,
          66,
          62,
          62,
          58,
          56,
          48,
          48,
          47,
          41,
          41,
          38,
          37,
          36,
          30,
          23
         ],
         "yaxis": "y"
        },
        {
         "alignmentgroup": "True",
         "hovertemplate": "Crime=omicidi volontari consumati<br>Year=%{x}<br>Value=%{y}<extra></extra>",
         "legendgroup": "omicidi volontari consumati",
         "marker": {
          "color": "#19d3f3",
          "pattern": {
           "shape": ""
          }
         },
         "name": "omicidi volontari consumati",
         "offsetgroup": "omicidi volontari consumati",
         "orientation": "v",
         "showlegend": true,
         "textposition": "auto",
         "type": "bar",
         "x": [
          2006,
          2011,
          2009,
          2012,
          2008,
          2007,
          2016,
          2021,
          2013,
          2015,
          2017,
          2010,
          2019,
          2018,
          2014,
          2020
         ],
         "xaxis": "x",
         "y": [
          76,
          73,
          71,
          69,
          65,
          65,
          64,
          55,
          52,
          52,
          52,
          49,
          48,
          44,
          40,
          37
         ],
         "yaxis": "y"
        },
        {
         "alignmentgroup": "True",
         "hovertemplate": "Crime=rapine in uffici postali<br>Year=%{x}<br>Value=%{y}<extra></extra>",
         "legendgroup": "rapine in uffici postali",
         "marker": {
          "color": "#FF6692",
          "pattern": {
           "shape": ""
          }
         },
         "name": "rapine in uffici postali",
         "offsetgroup": "rapine in uffici postali",
         "orientation": "v",
         "showlegend": true,
         "textposition": "auto",
         "type": "bar",
         "x": [
          2006,
          2009,
          2007,
          2008,
          2012,
          2011,
          2016,
          2014,
          2013,
          2010,
          2017,
          2018,
          2015,
          2019,
          2020,
          2021
         ],
         "xaxis": "x",
         "y": [
          63,
          57,
          55,
          52,
          44,
          43,
          39,
          35,
          35,
          30,
          28,
          24,
          21,
          21,
          11,
          8
         ],
         "yaxis": "y"
        },
        {
         "alignmentgroup": "True",
         "hovertemplate": "Crime=corruzione di minorenne<br>Year=%{x}<br>Value=%{y}<extra></extra>",
         "legendgroup": "corruzione di minorenne",
         "marker": {
          "color": "#B6E880",
          "pattern": {
           "shape": ""
          }
         },
         "name": "corruzione di minorenne",
         "offsetgroup": "corruzione di minorenne",
         "orientation": "v",
         "showlegend": true,
         "textposition": "auto",
         "type": "bar",
         "x": [
          2021,
          2020,
          2013,
          2010,
          2014,
          2009,
          2019,
          2015,
          2017,
          2008,
          2016,
          2006,
          2007,
          2018,
          2011,
          2012
         ],
         "xaxis": "x",
         "y": [
          52,
          52,
          52,
          48,
          48,
          48,
          47,
          43,
          43,
          42,
          39,
          38,
          35,
          34,
          33,
          31
         ],
         "yaxis": "y"
        },
        {
         "alignmentgroup": "True",
         "hovertemplate": "Crime=omicidi preterintenzionali<br>Year=%{x}<br>Value=%{y}<extra></extra>",
         "legendgroup": "omicidi preterintenzionali",
         "marker": {
          "color": "#FF97FF",
          "pattern": {
           "shape": ""
          }
         },
         "name": "omicidi preterintenzionali",
         "offsetgroup": "omicidi preterintenzionali",
         "orientation": "v",
         "showlegend": true,
         "textposition": "auto",
         "type": "bar",
         "x": [
          2008,
          2006,
          2010,
          2013,
          2009,
          2019,
          2021,
          2017,
          2012,
          2020,
          2011,
          2007,
          2015,
          2016,
          2018,
          2014
         ],
         "xaxis": "x",
         "y": [
          11,
          9,
          7,
          6,
          6,
          6,
          5,
          5,
          4,
          3,
          3,
          3,
          3,
          3,
          3,
          2
         ],
         "yaxis": "y"
        },
        {
         "alignmentgroup": "True",
         "hovertemplate": "Crime=omicidi volontari consumati a scopo di furto o rapina<br>Year=%{x}<br>Value=%{y}<extra></extra>",
         "legendgroup": "omicidi volontari consumati a scopo di furto o rapina",
         "marker": {
          "color": "#FECB52",
          "pattern": {
           "shape": ""
          }
         },
         "name": "omicidi volontari consumati a scopo di furto o rapina",
         "offsetgroup": "omicidi volontari consumati a scopo di furto o rapina",
         "orientation": "v",
         "showlegend": true,
         "textposition": "auto",
         "type": "bar",
         "x": [
          2007,
          2008,
          2010,
          2011,
          2012,
          2006,
          2016,
          2015,
          2013,
          2018,
          2017,
          2019,
          2021,
          2020,
          2009,
          2014
         ],
         "xaxis": "x",
         "y": [
          5,
          5,
          5,
          5,
          5,
          4,
          4,
          4,
          4,
          3,
          3,
          2,
          1,
          1,
          0,
          0
         ],
         "yaxis": "y"
        },
        {
         "alignmentgroup": "True",
         "hovertemplate": "Crime=associazione di tipo mafioso<br>Year=%{x}<br>Value=%{y}<extra></extra>",
         "legendgroup": "associazione di tipo mafioso",
         "marker": {
          "color": "#636efa",
          "pattern": {
           "shape": ""
          }
         },
         "name": "associazione di tipo mafioso",
         "offsetgroup": "associazione di tipo mafioso",
         "orientation": "v",
         "showlegend": true,
         "textposition": "auto",
         "type": "bar",
         "x": [
          2006,
          2009,
          2013,
          2007,
          2012,
          2016,
          2015,
          2008,
          2010,
          2011,
          2019,
          2020,
          2021,
          2017,
          2014,
          2018
         ],
         "xaxis": "x",
         "y": [
          4,
          3,
          3,
          3,
          2,
          2,
          2,
          1,
          1,
          1,
          1,
          1,
          1,
          0,
          0,
          0
         ],
         "yaxis": "y"
        },
        {
         "alignmentgroup": "True",
         "hovertemplate": "Crime=strage<br>Year=%{x}<br>Value=%{y}<extra></extra>",
         "legendgroup": "strage",
         "marker": {
          "color": "#EF553B",
          "pattern": {
           "shape": ""
          }
         },
         "name": "strage",
         "offsetgroup": "strage",
         "orientation": "v",
         "showlegend": true,
         "textposition": "auto",
         "type": "bar",
         "x": [
          2018,
          2019,
          2008,
          2021,
          2014,
          2007,
          2020,
          2009,
          2013,
          2016,
          2017,
          2015,
          2010,
          2006,
          2011,
          2012
         ],
         "xaxis": "x",
         "y": [
          3,
          3,
          3,
          2,
          2,
          2,
          2,
          2,
          1,
          1,
          1,
          1,
          1,
          0,
          0,
          0
         ],
         "yaxis": "y"
        },
        {
         "alignmentgroup": "True",
         "hovertemplate": "Crime=infanticidi<br>Year=%{x}<br>Value=%{y}<extra></extra>",
         "legendgroup": "infanticidi",
         "marker": {
          "color": "#00cc96",
          "pattern": {
           "shape": ""
          }
         },
         "name": "infanticidi",
         "offsetgroup": "infanticidi",
         "orientation": "v",
         "showlegend": true,
         "textposition": "auto",
         "type": "bar",
         "x": [
          2010,
          2019,
          2017,
          2007,
          2008,
          2011,
          2009,
          2016,
          2018,
          2015,
          2014,
          2020,
          2021,
          2013,
          2012,
          2006
         ],
         "xaxis": "x",
         "y": [
          2,
          1,
          1,
          1,
          1,
          1,
          0,
          0,
          0,
          0,
          0,
          0,
          0,
          0,
          0,
          0
         ],
         "yaxis": "y"
        },
        {
         "alignmentgroup": "True",
         "hovertemplate": "Crime=omicidi volontari consumati di tipo mafioso<br>Year=%{x}<br>Value=%{y}<extra></extra>",
         "legendgroup": "omicidi volontari consumati di tipo mafioso",
         "marker": {
          "color": "#ab63fa",
          "pattern": {
           "shape": ""
          }
         },
         "name": "omicidi volontari consumati di tipo mafioso",
         "offsetgroup": "omicidi volontari consumati di tipo mafioso",
         "orientation": "v",
         "showlegend": true,
         "textposition": "auto",
         "type": "bar",
         "x": [
          2010,
          2006,
          2008,
          2007,
          2011,
          2009,
          2012,
          2013,
          2014,
          2015,
          2021,
          2020,
          2019,
          2018,
          2017,
          2016
         ],
         "xaxis": "x",
         "y": [
          1,
          0,
          0,
          0,
          0,
          0,
          0,
          0,
          0,
          0,
          0,
          0,
          0,
          0,
          0,
          0
         ],
         "yaxis": "y"
        },
        {
         "alignmentgroup": "True",
         "hovertemplate": "Crime=omicidi volontari consumati a scopo terroristico<br>Year=%{x}<br>Value=%{y}<extra></extra>",
         "legendgroup": "omicidi volontari consumati a scopo terroristico",
         "marker": {
          "color": "#FFA15A",
          "pattern": {
           "shape": ""
          }
         },
         "name": "omicidi volontari consumati a scopo terroristico",
         "offsetgroup": "omicidi volontari consumati a scopo terroristico",
         "orientation": "v",
         "showlegend": true,
         "textposition": "auto",
         "type": "bar",
         "x": [
          2021,
          2020,
          2019,
          2018,
          2017,
          2016,
          2015,
          2013,
          2014,
          2009,
          2012,
          2011,
          2006,
          2007,
          2008,
          2010
         ],
         "xaxis": "x",
         "y": [
          0,
          0,
          0,
          0,
          0,
          0,
          0,
          0,
          0,
          0,
          0,
          0,
          0,
          0,
          0,
          0
         ],
         "yaxis": "y"
        }
       ],
       "layout": {
        "barmode": "relative",
        "legend": {
         "title": {
          "text": "Crime"
         },
         "tracegroupgap": 0
        },
        "template": {
         "data": {
          "bar": [
           {
            "error_x": {
             "color": "#2a3f5f"
            },
            "error_y": {
             "color": "#2a3f5f"
            },
            "marker": {
             "line": {
              "color": "#E5ECF6",
              "width": 0.5
             },
             "pattern": {
              "fillmode": "overlay",
              "size": 10,
              "solidity": 0.2
             }
            },
            "type": "bar"
           }
          ],
          "barpolar": [
           {
            "marker": {
             "line": {
              "color": "#E5ECF6",
              "width": 0.5
             },
             "pattern": {
              "fillmode": "overlay",
              "size": 10,
              "solidity": 0.2
             }
            },
            "type": "barpolar"
           }
          ],
          "carpet": [
           {
            "aaxis": {
             "endlinecolor": "#2a3f5f",
             "gridcolor": "white",
             "linecolor": "white",
             "minorgridcolor": "white",
             "startlinecolor": "#2a3f5f"
            },
            "baxis": {
             "endlinecolor": "#2a3f5f",
             "gridcolor": "white",
             "linecolor": "white",
             "minorgridcolor": "white",
             "startlinecolor": "#2a3f5f"
            },
            "type": "carpet"
           }
          ],
          "choropleth": [
           {
            "colorbar": {
             "outlinewidth": 0,
             "ticks": ""
            },
            "type": "choropleth"
           }
          ],
          "contour": [
           {
            "colorbar": {
             "outlinewidth": 0,
             "ticks": ""
            },
            "colorscale": [
             [
              0,
              "#0d0887"
             ],
             [
              0.1111111111111111,
              "#46039f"
             ],
             [
              0.2222222222222222,
              "#7201a8"
             ],
             [
              0.3333333333333333,
              "#9c179e"
             ],
             [
              0.4444444444444444,
              "#bd3786"
             ],
             [
              0.5555555555555556,
              "#d8576b"
             ],
             [
              0.6666666666666666,
              "#ed7953"
             ],
             [
              0.7777777777777778,
              "#fb9f3a"
             ],
             [
              0.8888888888888888,
              "#fdca26"
             ],
             [
              1,
              "#f0f921"
             ]
            ],
            "type": "contour"
           }
          ],
          "contourcarpet": [
           {
            "colorbar": {
             "outlinewidth": 0,
             "ticks": ""
            },
            "type": "contourcarpet"
           }
          ],
          "heatmap": [
           {
            "colorbar": {
             "outlinewidth": 0,
             "ticks": ""
            },
            "colorscale": [
             [
              0,
              "#0d0887"
             ],
             [
              0.1111111111111111,
              "#46039f"
             ],
             [
              0.2222222222222222,
              "#7201a8"
             ],
             [
              0.3333333333333333,
              "#9c179e"
             ],
             [
              0.4444444444444444,
              "#bd3786"
             ],
             [
              0.5555555555555556,
              "#d8576b"
             ],
             [
              0.6666666666666666,
              "#ed7953"
             ],
             [
              0.7777777777777778,
              "#fb9f3a"
             ],
             [
              0.8888888888888888,
              "#fdca26"
             ],
             [
              1,
              "#f0f921"
             ]
            ],
            "type": "heatmap"
           }
          ],
          "heatmapgl": [
           {
            "colorbar": {
             "outlinewidth": 0,
             "ticks": ""
            },
            "colorscale": [
             [
              0,
              "#0d0887"
             ],
             [
              0.1111111111111111,
              "#46039f"
             ],
             [
              0.2222222222222222,
              "#7201a8"
             ],
             [
              0.3333333333333333,
              "#9c179e"
             ],
             [
              0.4444444444444444,
              "#bd3786"
             ],
             [
              0.5555555555555556,
              "#d8576b"
             ],
             [
              0.6666666666666666,
              "#ed7953"
             ],
             [
              0.7777777777777778,
              "#fb9f3a"
             ],
             [
              0.8888888888888888,
              "#fdca26"
             ],
             [
              1,
              "#f0f921"
             ]
            ],
            "type": "heatmapgl"
           }
          ],
          "histogram": [
           {
            "marker": {
             "pattern": {
              "fillmode": "overlay",
              "size": 10,
              "solidity": 0.2
             }
            },
            "type": "histogram"
           }
          ],
          "histogram2d": [
           {
            "colorbar": {
             "outlinewidth": 0,
             "ticks": ""
            },
            "colorscale": [
             [
              0,
              "#0d0887"
             ],
             [
              0.1111111111111111,
              "#46039f"
             ],
             [
              0.2222222222222222,
              "#7201a8"
             ],
             [
              0.3333333333333333,
              "#9c179e"
             ],
             [
              0.4444444444444444,
              "#bd3786"
             ],
             [
              0.5555555555555556,
              "#d8576b"
             ],
             [
              0.6666666666666666,
              "#ed7953"
             ],
             [
              0.7777777777777778,
              "#fb9f3a"
             ],
             [
              0.8888888888888888,
              "#fdca26"
             ],
             [
              1,
              "#f0f921"
             ]
            ],
            "type": "histogram2d"
           }
          ],
          "histogram2dcontour": [
           {
            "colorbar": {
             "outlinewidth": 0,
             "ticks": ""
            },
            "colorscale": [
             [
              0,
              "#0d0887"
             ],
             [
              0.1111111111111111,
              "#46039f"
             ],
             [
              0.2222222222222222,
              "#7201a8"
             ],
             [
              0.3333333333333333,
              "#9c179e"
             ],
             [
              0.4444444444444444,
              "#bd3786"
             ],
             [
              0.5555555555555556,
              "#d8576b"
             ],
             [
              0.6666666666666666,
              "#ed7953"
             ],
             [
              0.7777777777777778,
              "#fb9f3a"
             ],
             [
              0.8888888888888888,
              "#fdca26"
             ],
             [
              1,
              "#f0f921"
             ]
            ],
            "type": "histogram2dcontour"
           }
          ],
          "mesh3d": [
           {
            "colorbar": {
             "outlinewidth": 0,
             "ticks": ""
            },
            "type": "mesh3d"
           }
          ],
          "parcoords": [
           {
            "line": {
             "colorbar": {
              "outlinewidth": 0,
              "ticks": ""
             }
            },
            "type": "parcoords"
           }
          ],
          "pie": [
           {
            "automargin": true,
            "type": "pie"
           }
          ],
          "scatter": [
           {
            "fillpattern": {
             "fillmode": "overlay",
             "size": 10,
             "solidity": 0.2
            },
            "type": "scatter"
           }
          ],
          "scatter3d": [
           {
            "line": {
             "colorbar": {
              "outlinewidth": 0,
              "ticks": ""
             }
            },
            "marker": {
             "colorbar": {
              "outlinewidth": 0,
              "ticks": ""
             }
            },
            "type": "scatter3d"
           }
          ],
          "scattercarpet": [
           {
            "marker": {
             "colorbar": {
              "outlinewidth": 0,
              "ticks": ""
             }
            },
            "type": "scattercarpet"
           }
          ],
          "scattergeo": [
           {
            "marker": {
             "colorbar": {
              "outlinewidth": 0,
              "ticks": ""
             }
            },
            "type": "scattergeo"
           }
          ],
          "scattergl": [
           {
            "marker": {
             "colorbar": {
              "outlinewidth": 0,
              "ticks": ""
             }
            },
            "type": "scattergl"
           }
          ],
          "scattermapbox": [
           {
            "marker": {
             "colorbar": {
              "outlinewidth": 0,
              "ticks": ""
             }
            },
            "type": "scattermapbox"
           }
          ],
          "scatterpolar": [
           {
            "marker": {
             "colorbar": {
              "outlinewidth": 0,
              "ticks": ""
             }
            },
            "type": "scatterpolar"
           }
          ],
          "scatterpolargl": [
           {
            "marker": {
             "colorbar": {
              "outlinewidth": 0,
              "ticks": ""
             }
            },
            "type": "scatterpolargl"
           }
          ],
          "scatterternary": [
           {
            "marker": {
             "colorbar": {
              "outlinewidth": 0,
              "ticks": ""
             }
            },
            "type": "scatterternary"
           }
          ],
          "surface": [
           {
            "colorbar": {
             "outlinewidth": 0,
             "ticks": ""
            },
            "colorscale": [
             [
              0,
              "#0d0887"
             ],
             [
              0.1111111111111111,
              "#46039f"
             ],
             [
              0.2222222222222222,
              "#7201a8"
             ],
             [
              0.3333333333333333,
              "#9c179e"
             ],
             [
              0.4444444444444444,
              "#bd3786"
             ],
             [
              0.5555555555555556,
              "#d8576b"
             ],
             [
              0.6666666666666666,
              "#ed7953"
             ],
             [
              0.7777777777777778,
              "#fb9f3a"
             ],
             [
              0.8888888888888888,
              "#fdca26"
             ],
             [
              1,
              "#f0f921"
             ]
            ],
            "type": "surface"
           }
          ],
          "table": [
           {
            "cells": {
             "fill": {
              "color": "#EBF0F8"
             },
             "line": {
              "color": "white"
             }
            },
            "header": {
             "fill": {
              "color": "#C8D4E3"
             },
             "line": {
              "color": "white"
             }
            },
            "type": "table"
           }
          ]
         },
         "layout": {
          "annotationdefaults": {
           "arrowcolor": "#2a3f5f",
           "arrowhead": 0,
           "arrowwidth": 1
          },
          "autotypenumbers": "strict",
          "coloraxis": {
           "colorbar": {
            "outlinewidth": 0,
            "ticks": ""
           }
          },
          "colorscale": {
           "diverging": [
            [
             0,
             "#8e0152"
            ],
            [
             0.1,
             "#c51b7d"
            ],
            [
             0.2,
             "#de77ae"
            ],
            [
             0.3,
             "#f1b6da"
            ],
            [
             0.4,
             "#fde0ef"
            ],
            [
             0.5,
             "#f7f7f7"
            ],
            [
             0.6,
             "#e6f5d0"
            ],
            [
             0.7,
             "#b8e186"
            ],
            [
             0.8,
             "#7fbc41"
            ],
            [
             0.9,
             "#4d9221"
            ],
            [
             1,
             "#276419"
            ]
           ],
           "sequential": [
            [
             0,
             "#0d0887"
            ],
            [
             0.1111111111111111,
             "#46039f"
            ],
            [
             0.2222222222222222,
             "#7201a8"
            ],
            [
             0.3333333333333333,
             "#9c179e"
            ],
            [
             0.4444444444444444,
             "#bd3786"
            ],
            [
             0.5555555555555556,
             "#d8576b"
            ],
            [
             0.6666666666666666,
             "#ed7953"
            ],
            [
             0.7777777777777778,
             "#fb9f3a"
            ],
            [
             0.8888888888888888,
             "#fdca26"
            ],
            [
             1,
             "#f0f921"
            ]
           ],
           "sequentialminus": [
            [
             0,
             "#0d0887"
            ],
            [
             0.1111111111111111,
             "#46039f"
            ],
            [
             0.2222222222222222,
             "#7201a8"
            ],
            [
             0.3333333333333333,
             "#9c179e"
            ],
            [
             0.4444444444444444,
             "#bd3786"
            ],
            [
             0.5555555555555556,
             "#d8576b"
            ],
            [
             0.6666666666666666,
             "#ed7953"
            ],
            [
             0.7777777777777778,
             "#fb9f3a"
            ],
            [
             0.8888888888888888,
             "#fdca26"
            ],
            [
             1,
             "#f0f921"
            ]
           ]
          },
          "colorway": [
           "#636efa",
           "#EF553B",
           "#00cc96",
           "#ab63fa",
           "#FFA15A",
           "#19d3f3",
           "#FF6692",
           "#B6E880",
           "#FF97FF",
           "#FECB52"
          ],
          "font": {
           "color": "#2a3f5f"
          },
          "geo": {
           "bgcolor": "white",
           "lakecolor": "white",
           "landcolor": "#E5ECF6",
           "showlakes": true,
           "showland": true,
           "subunitcolor": "white"
          },
          "hoverlabel": {
           "align": "left"
          },
          "hovermode": "closest",
          "mapbox": {
           "style": "light"
          },
          "paper_bgcolor": "white",
          "plot_bgcolor": "#E5ECF6",
          "polar": {
           "angularaxis": {
            "gridcolor": "white",
            "linecolor": "white",
            "ticks": ""
           },
           "bgcolor": "#E5ECF6",
           "radialaxis": {
            "gridcolor": "white",
            "linecolor": "white",
            "ticks": ""
           }
          },
          "scene": {
           "xaxis": {
            "backgroundcolor": "#E5ECF6",
            "gridcolor": "white",
            "gridwidth": 2,
            "linecolor": "white",
            "showbackground": true,
            "ticks": "",
            "zerolinecolor": "white"
           },
           "yaxis": {
            "backgroundcolor": "#E5ECF6",
            "gridcolor": "white",
            "gridwidth": 2,
            "linecolor": "white",
            "showbackground": true,
            "ticks": "",
            "zerolinecolor": "white"
           },
           "zaxis": {
            "backgroundcolor": "#E5ECF6",
            "gridcolor": "white",
            "gridwidth": 2,
            "linecolor": "white",
            "showbackground": true,
            "ticks": "",
            "zerolinecolor": "white"
           }
          },
          "shapedefaults": {
           "line": {
            "color": "#2a3f5f"
           }
          },
          "ternary": {
           "aaxis": {
            "gridcolor": "white",
            "linecolor": "white",
            "ticks": ""
           },
           "baxis": {
            "gridcolor": "white",
            "linecolor": "white",
            "ticks": ""
           },
           "bgcolor": "#E5ECF6",
           "caxis": {
            "gridcolor": "white",
            "linecolor": "white",
            "ticks": ""
           }
          },
          "title": {
           "x": 0.05
          },
          "xaxis": {
           "automargin": true,
           "gridcolor": "white",
           "linecolor": "white",
           "ticks": "",
           "title": {
            "standoff": 15
           },
           "zerolinecolor": "white",
           "zerolinewidth": 2
          },
          "yaxis": {
           "automargin": true,
           "gridcolor": "white",
           "linecolor": "white",
           "ticks": "",
           "title": {
            "standoff": 15
           },
           "zerolinecolor": "white",
           "zerolinewidth": 2
          }
         }
        },
        "title": {
         "text": "Trend of the different types of crime reported over the years in the North-East area"
        },
        "xaxis": {
         "anchor": "y",
         "domain": [
          0,
          1
         ],
         "title": {
          "text": "Year"
         }
        },
        "yaxis": {
         "anchor": "x",
         "domain": [
          0,
          1
         ],
         "title": {
          "text": "Value"
         }
        }
       }
      }
     },
     "metadata": {},
     "output_type": "display_data"
    }
   ],
   "source": [
    "px.bar(data_frame= north_east_df.loc[north_east_df['Crime'] != 'totale'].groupby(['Crime', 'Year']).sum(numeric_only=True).sort_values(by='Value', ascending=False).reset_index(),\n",
    "       x = 'Year',\n",
    "       y = 'Value',\n",
    "       color= 'Crime',\n",
    "       title= 'Trend of the different types of crime reported over the years in the North-East area')"
   ]
  },
  {
   "attachments": {},
   "cell_type": "markdown",
   "metadata": {},
   "source": [
    "Crimes that **increased** and **decreased** the most:"
   ]
  },
  {
   "cell_type": "code",
   "execution_count": 20,
   "metadata": {},
   "outputs": [
    {
     "name": "stdout",
     "output_type": "stream",
     "text": [
      "The crimes that increased over the North-East macro area in the time period taken into consideration are: \n",
      " {'altri delitti': '27.71%', 'contraffazione di marchi e prodotti industriali': '159.38%', 'corruzione di minorenne': '36.84%', 'delitti informatici': '632.28%', 'estorsioni': '191.85%', 'furti in abitazioni': '15.48%', 'incendi boschivi': '59.81%', 'percosse': '1.77%', 'pornografia minorile e detenzione di materiale pedopornografico': '216.28%', 'rapine in abitazione': '5.14%', 'rapine in pubblica via': '25.75%', 'riciclaggio e impiego di denaro, beni o utilità di provenienza illecita': '111.11%', 'truffe e frodi informatiche': '166.75%', 'violenze sessuali': '26.27%'}\n",
      "\n",
      "The crimes that had a decrease higher than -0.5 are the following: \n",
      " {'associazione di tipo mafioso': '-75.00%', 'contrabbando': '-97.56%', 'furti': '-51.29%', 'furti di automezzi pesanti trasportanti merci': '-85.53%', 'furti di autovetture': '-79.11%', 'furti di ciclomotori': '-87.89%', 'furti di motocicli': '-54.94%', \"furti di opere d'arte e materiale archeologico\": '-79.72%', 'furti in auto in sosta': '-75.29%', 'incendi': '-55.93%', 'omicidi volontari consumati a scopo di furto o rapina': '-75.00%', 'rapine in banca': '-98.48%', 'rapine in uffici postali': '-87.30%', 'sfruttamento e favoreggiamento della prostituzione': '-67.50%', 'violazione della proprietà intellettuale': '-71.63%'}\n"
     ]
    }
   ],
   "source": [
    "north_east_groupyb_crime_year = north_east_df.groupby(['Crime', 'Year']).sum(numeric_only=True)['Value'].reset_index()\n",
    "\n",
    "increasing_rates_north_east = functions.find_increasing_rates(north_east_groupyb_crime_year)\n",
    "print('The crimes that increased over the North-East macro area in the time period taken into consideration are: \\n', increasing_rates_north_east)\n",
    "\n",
    "threshold = -0.50\n",
    "decreasing_rates_north_east = functions.find_decreasing_rates(north_east_groupyb_crime_year, threshold= threshold)\n",
    "print(f\"\\nThe crimes that had a decrease higher than {threshold} are the following: \\n\", decreasing_rates_north_east)"
   ]
  },
  {
   "attachments": {},
   "cell_type": "markdown",
   "metadata": {},
   "source": [
    "### Emilia Romagna (*regional level*)"
   ]
  },
  {
   "attachments": {},
   "cell_type": "markdown",
   "metadata": {},
   "source": [
    "The third **unit of analysis** taken into consideration will be the **Emilia Romagna** region.\n",
    "\n",
    "We are gonna perform the same operation we did with the previous units of analysis."
   ]
  },
  {
   "cell_type": "code",
   "execution_count": 22,
   "metadata": {},
   "outputs": [
    {
     "name": "stdout",
     "output_type": "stream",
     "text": [
      "Overall, in the 16 years taken into consideration, in the Emilia Romagna region 3692612 crimes were reported. \n",
      "A mean of 230788 per year and 632 per day \n",
      "A standard deviation of 27098.\n"
     ]
    },
    {
     "data": {
      "application/vnd.plotly.v1+json": {
       "config": {
        "plotlyServerURL": "https://plot.ly"
       },
       "data": [
        {
         "alignmentgroup": "True",
         "hovertemplate": "Year=%{x}<br>Value=%{y}<extra></extra>",
         "legendgroup": "",
         "marker": {
          "color": "#636efa",
          "pattern": {
           "shape": ""
          }
         },
         "name": "",
         "offsetgroup": "",
         "orientation": "v",
         "showlegend": false,
         "textposition": "auto",
         "type": "bar",
         "x": [
          2006,
          2007,
          2008,
          2009,
          2010,
          2011,
          2012,
          2013,
          2014,
          2015,
          2016,
          2017,
          2018,
          2019,
          2020,
          2021
         ],
         "xaxis": "x",
         "y": [
          243528,
          265337,
          237890,
          231136,
          225835,
          245184,
          249077,
          262909,
          258535,
          251900,
          229484,
          224083,
          214137,
          205888,
          166773,
          180916
         ],
         "yaxis": "y"
        }
       ],
       "layout": {
        "barmode": "relative",
        "legend": {
         "tracegroupgap": 0
        },
        "template": {
         "data": {
          "bar": [
           {
            "error_x": {
             "color": "#2a3f5f"
            },
            "error_y": {
             "color": "#2a3f5f"
            },
            "marker": {
             "line": {
              "color": "#E5ECF6",
              "width": 0.5
             },
             "pattern": {
              "fillmode": "overlay",
              "size": 10,
              "solidity": 0.2
             }
            },
            "type": "bar"
           }
          ],
          "barpolar": [
           {
            "marker": {
             "line": {
              "color": "#E5ECF6",
              "width": 0.5
             },
             "pattern": {
              "fillmode": "overlay",
              "size": 10,
              "solidity": 0.2
             }
            },
            "type": "barpolar"
           }
          ],
          "carpet": [
           {
            "aaxis": {
             "endlinecolor": "#2a3f5f",
             "gridcolor": "white",
             "linecolor": "white",
             "minorgridcolor": "white",
             "startlinecolor": "#2a3f5f"
            },
            "baxis": {
             "endlinecolor": "#2a3f5f",
             "gridcolor": "white",
             "linecolor": "white",
             "minorgridcolor": "white",
             "startlinecolor": "#2a3f5f"
            },
            "type": "carpet"
           }
          ],
          "choropleth": [
           {
            "colorbar": {
             "outlinewidth": 0,
             "ticks": ""
            },
            "type": "choropleth"
           }
          ],
          "contour": [
           {
            "colorbar": {
             "outlinewidth": 0,
             "ticks": ""
            },
            "colorscale": [
             [
              0,
              "#0d0887"
             ],
             [
              0.1111111111111111,
              "#46039f"
             ],
             [
              0.2222222222222222,
              "#7201a8"
             ],
             [
              0.3333333333333333,
              "#9c179e"
             ],
             [
              0.4444444444444444,
              "#bd3786"
             ],
             [
              0.5555555555555556,
              "#d8576b"
             ],
             [
              0.6666666666666666,
              "#ed7953"
             ],
             [
              0.7777777777777778,
              "#fb9f3a"
             ],
             [
              0.8888888888888888,
              "#fdca26"
             ],
             [
              1,
              "#f0f921"
             ]
            ],
            "type": "contour"
           }
          ],
          "contourcarpet": [
           {
            "colorbar": {
             "outlinewidth": 0,
             "ticks": ""
            },
            "type": "contourcarpet"
           }
          ],
          "heatmap": [
           {
            "colorbar": {
             "outlinewidth": 0,
             "ticks": ""
            },
            "colorscale": [
             [
              0,
              "#0d0887"
             ],
             [
              0.1111111111111111,
              "#46039f"
             ],
             [
              0.2222222222222222,
              "#7201a8"
             ],
             [
              0.3333333333333333,
              "#9c179e"
             ],
             [
              0.4444444444444444,
              "#bd3786"
             ],
             [
              0.5555555555555556,
              "#d8576b"
             ],
             [
              0.6666666666666666,
              "#ed7953"
             ],
             [
              0.7777777777777778,
              "#fb9f3a"
             ],
             [
              0.8888888888888888,
              "#fdca26"
             ],
             [
              1,
              "#f0f921"
             ]
            ],
            "type": "heatmap"
           }
          ],
          "heatmapgl": [
           {
            "colorbar": {
             "outlinewidth": 0,
             "ticks": ""
            },
            "colorscale": [
             [
              0,
              "#0d0887"
             ],
             [
              0.1111111111111111,
              "#46039f"
             ],
             [
              0.2222222222222222,
              "#7201a8"
             ],
             [
              0.3333333333333333,
              "#9c179e"
             ],
             [
              0.4444444444444444,
              "#bd3786"
             ],
             [
              0.5555555555555556,
              "#d8576b"
             ],
             [
              0.6666666666666666,
              "#ed7953"
             ],
             [
              0.7777777777777778,
              "#fb9f3a"
             ],
             [
              0.8888888888888888,
              "#fdca26"
             ],
             [
              1,
              "#f0f921"
             ]
            ],
            "type": "heatmapgl"
           }
          ],
          "histogram": [
           {
            "marker": {
             "pattern": {
              "fillmode": "overlay",
              "size": 10,
              "solidity": 0.2
             }
            },
            "type": "histogram"
           }
          ],
          "histogram2d": [
           {
            "colorbar": {
             "outlinewidth": 0,
             "ticks": ""
            },
            "colorscale": [
             [
              0,
              "#0d0887"
             ],
             [
              0.1111111111111111,
              "#46039f"
             ],
             [
              0.2222222222222222,
              "#7201a8"
             ],
             [
              0.3333333333333333,
              "#9c179e"
             ],
             [
              0.4444444444444444,
              "#bd3786"
             ],
             [
              0.5555555555555556,
              "#d8576b"
             ],
             [
              0.6666666666666666,
              "#ed7953"
             ],
             [
              0.7777777777777778,
              "#fb9f3a"
             ],
             [
              0.8888888888888888,
              "#fdca26"
             ],
             [
              1,
              "#f0f921"
             ]
            ],
            "type": "histogram2d"
           }
          ],
          "histogram2dcontour": [
           {
            "colorbar": {
             "outlinewidth": 0,
             "ticks": ""
            },
            "colorscale": [
             [
              0,
              "#0d0887"
             ],
             [
              0.1111111111111111,
              "#46039f"
             ],
             [
              0.2222222222222222,
              "#7201a8"
             ],
             [
              0.3333333333333333,
              "#9c179e"
             ],
             [
              0.4444444444444444,
              "#bd3786"
             ],
             [
              0.5555555555555556,
              "#d8576b"
             ],
             [
              0.6666666666666666,
              "#ed7953"
             ],
             [
              0.7777777777777778,
              "#fb9f3a"
             ],
             [
              0.8888888888888888,
              "#fdca26"
             ],
             [
              1,
              "#f0f921"
             ]
            ],
            "type": "histogram2dcontour"
           }
          ],
          "mesh3d": [
           {
            "colorbar": {
             "outlinewidth": 0,
             "ticks": ""
            },
            "type": "mesh3d"
           }
          ],
          "parcoords": [
           {
            "line": {
             "colorbar": {
              "outlinewidth": 0,
              "ticks": ""
             }
            },
            "type": "parcoords"
           }
          ],
          "pie": [
           {
            "automargin": true,
            "type": "pie"
           }
          ],
          "scatter": [
           {
            "fillpattern": {
             "fillmode": "overlay",
             "size": 10,
             "solidity": 0.2
            },
            "type": "scatter"
           }
          ],
          "scatter3d": [
           {
            "line": {
             "colorbar": {
              "outlinewidth": 0,
              "ticks": ""
             }
            },
            "marker": {
             "colorbar": {
              "outlinewidth": 0,
              "ticks": ""
             }
            },
            "type": "scatter3d"
           }
          ],
          "scattercarpet": [
           {
            "marker": {
             "colorbar": {
              "outlinewidth": 0,
              "ticks": ""
             }
            },
            "type": "scattercarpet"
           }
          ],
          "scattergeo": [
           {
            "marker": {
             "colorbar": {
              "outlinewidth": 0,
              "ticks": ""
             }
            },
            "type": "scattergeo"
           }
          ],
          "scattergl": [
           {
            "marker": {
             "colorbar": {
              "outlinewidth": 0,
              "ticks": ""
             }
            },
            "type": "scattergl"
           }
          ],
          "scattermapbox": [
           {
            "marker": {
             "colorbar": {
              "outlinewidth": 0,
              "ticks": ""
             }
            },
            "type": "scattermapbox"
           }
          ],
          "scatterpolar": [
           {
            "marker": {
             "colorbar": {
              "outlinewidth": 0,
              "ticks": ""
             }
            },
            "type": "scatterpolar"
           }
          ],
          "scatterpolargl": [
           {
            "marker": {
             "colorbar": {
              "outlinewidth": 0,
              "ticks": ""
             }
            },
            "type": "scatterpolargl"
           }
          ],
          "scatterternary": [
           {
            "marker": {
             "colorbar": {
              "outlinewidth": 0,
              "ticks": ""
             }
            },
            "type": "scatterternary"
           }
          ],
          "surface": [
           {
            "colorbar": {
             "outlinewidth": 0,
             "ticks": ""
            },
            "colorscale": [
             [
              0,
              "#0d0887"
             ],
             [
              0.1111111111111111,
              "#46039f"
             ],
             [
              0.2222222222222222,
              "#7201a8"
             ],
             [
              0.3333333333333333,
              "#9c179e"
             ],
             [
              0.4444444444444444,
              "#bd3786"
             ],
             [
              0.5555555555555556,
              "#d8576b"
             ],
             [
              0.6666666666666666,
              "#ed7953"
             ],
             [
              0.7777777777777778,
              "#fb9f3a"
             ],
             [
              0.8888888888888888,
              "#fdca26"
             ],
             [
              1,
              "#f0f921"
             ]
            ],
            "type": "surface"
           }
          ],
          "table": [
           {
            "cells": {
             "fill": {
              "color": "#EBF0F8"
             },
             "line": {
              "color": "white"
             }
            },
            "header": {
             "fill": {
              "color": "#C8D4E3"
             },
             "line": {
              "color": "white"
             }
            },
            "type": "table"
           }
          ]
         },
         "layout": {
          "annotationdefaults": {
           "arrowcolor": "#2a3f5f",
           "arrowhead": 0,
           "arrowwidth": 1
          },
          "autotypenumbers": "strict",
          "coloraxis": {
           "colorbar": {
            "outlinewidth": 0,
            "ticks": ""
           }
          },
          "colorscale": {
           "diverging": [
            [
             0,
             "#8e0152"
            ],
            [
             0.1,
             "#c51b7d"
            ],
            [
             0.2,
             "#de77ae"
            ],
            [
             0.3,
             "#f1b6da"
            ],
            [
             0.4,
             "#fde0ef"
            ],
            [
             0.5,
             "#f7f7f7"
            ],
            [
             0.6,
             "#e6f5d0"
            ],
            [
             0.7,
             "#b8e186"
            ],
            [
             0.8,
             "#7fbc41"
            ],
            [
             0.9,
             "#4d9221"
            ],
            [
             1,
             "#276419"
            ]
           ],
           "sequential": [
            [
             0,
             "#0d0887"
            ],
            [
             0.1111111111111111,
             "#46039f"
            ],
            [
             0.2222222222222222,
             "#7201a8"
            ],
            [
             0.3333333333333333,
             "#9c179e"
            ],
            [
             0.4444444444444444,
             "#bd3786"
            ],
            [
             0.5555555555555556,
             "#d8576b"
            ],
            [
             0.6666666666666666,
             "#ed7953"
            ],
            [
             0.7777777777777778,
             "#fb9f3a"
            ],
            [
             0.8888888888888888,
             "#fdca26"
            ],
            [
             1,
             "#f0f921"
            ]
           ],
           "sequentialminus": [
            [
             0,
             "#0d0887"
            ],
            [
             0.1111111111111111,
             "#46039f"
            ],
            [
             0.2222222222222222,
             "#7201a8"
            ],
            [
             0.3333333333333333,
             "#9c179e"
            ],
            [
             0.4444444444444444,
             "#bd3786"
            ],
            [
             0.5555555555555556,
             "#d8576b"
            ],
            [
             0.6666666666666666,
             "#ed7953"
            ],
            [
             0.7777777777777778,
             "#fb9f3a"
            ],
            [
             0.8888888888888888,
             "#fdca26"
            ],
            [
             1,
             "#f0f921"
            ]
           ]
          },
          "colorway": [
           "#636efa",
           "#EF553B",
           "#00cc96",
           "#ab63fa",
           "#FFA15A",
           "#19d3f3",
           "#FF6692",
           "#B6E880",
           "#FF97FF",
           "#FECB52"
          ],
          "font": {
           "color": "#2a3f5f"
          },
          "geo": {
           "bgcolor": "white",
           "lakecolor": "white",
           "landcolor": "#E5ECF6",
           "showlakes": true,
           "showland": true,
           "subunitcolor": "white"
          },
          "hoverlabel": {
           "align": "left"
          },
          "hovermode": "closest",
          "mapbox": {
           "style": "light"
          },
          "paper_bgcolor": "white",
          "plot_bgcolor": "#E5ECF6",
          "polar": {
           "angularaxis": {
            "gridcolor": "white",
            "linecolor": "white",
            "ticks": ""
           },
           "bgcolor": "#E5ECF6",
           "radialaxis": {
            "gridcolor": "white",
            "linecolor": "white",
            "ticks": ""
           }
          },
          "scene": {
           "xaxis": {
            "backgroundcolor": "#E5ECF6",
            "gridcolor": "white",
            "gridwidth": 2,
            "linecolor": "white",
            "showbackground": true,
            "ticks": "",
            "zerolinecolor": "white"
           },
           "yaxis": {
            "backgroundcolor": "#E5ECF6",
            "gridcolor": "white",
            "gridwidth": 2,
            "linecolor": "white",
            "showbackground": true,
            "ticks": "",
            "zerolinecolor": "white"
           },
           "zaxis": {
            "backgroundcolor": "#E5ECF6",
            "gridcolor": "white",
            "gridwidth": 2,
            "linecolor": "white",
            "showbackground": true,
            "ticks": "",
            "zerolinecolor": "white"
           }
          },
          "shapedefaults": {
           "line": {
            "color": "#2a3f5f"
           }
          },
          "ternary": {
           "aaxis": {
            "gridcolor": "white",
            "linecolor": "white",
            "ticks": ""
           },
           "baxis": {
            "gridcolor": "white",
            "linecolor": "white",
            "ticks": ""
           },
           "bgcolor": "#E5ECF6",
           "caxis": {
            "gridcolor": "white",
            "linecolor": "white",
            "ticks": ""
           }
          },
          "title": {
           "x": 0.05
          },
          "xaxis": {
           "automargin": true,
           "gridcolor": "white",
           "linecolor": "white",
           "ticks": "",
           "title": {
            "standoff": 15
           },
           "zerolinecolor": "white",
           "zerolinewidth": 2
          },
          "yaxis": {
           "automargin": true,
           "gridcolor": "white",
           "linecolor": "white",
           "ticks": "",
           "title": {
            "standoff": 15
           },
           "zerolinecolor": "white",
           "zerolinewidth": 2
          }
         }
        },
        "title": {
         "text": "Trend of the total number of crimes reported over the years in the Emilia Romagna region"
        },
        "xaxis": {
         "anchor": "y",
         "domain": [
          0,
          1
         ],
         "title": {
          "text": "Year"
         }
        },
        "yaxis": {
         "anchor": "x",
         "domain": [
          0,
          1
         ],
         "title": {
          "text": "Value"
         }
        }
       }
      }
     },
     "metadata": {},
     "output_type": "display_data"
    }
   ],
   "source": [
    "er_df = functions.get_region_df(df, region='Emilia-Romagna')\n",
    "er_total_values = er_df.loc[er_df['Crime'] == 'totale'].groupby(['Year']).sum(numeric_only=True)['Value']\n",
    "\n",
    "\n",
    "print(f\"Overall, in the 16 years taken into consideration, in the Emilia Romagna region {sum(er_total_values)} crimes were reported.\",\n",
    "        f\"\\nA mean of {round(sum(er_total_values)/len(er_total_values))} per year and {round((sum(er_total_values)/len(er_total_values) / 365))} per day\",\n",
    "        f\"\\nA standard deviation of {round(np.std(er_total_values))}.\")\n",
    "\n",
    "px.bar(data_frame= er_total_values.reset_index(),\n",
    "       x = 'Year',\n",
    "       y = 'Value',\n",
    "       title= 'Trend of the total number of crimes reported over the years in the Emilia Romagna region')"
   ]
  },
  {
   "cell_type": "code",
   "execution_count": 23,
   "metadata": {},
   "outputs": [
    {
     "name": "stdout",
     "output_type": "stream",
     "text": [
      "Max:\n",
      " Year\n",
      "2007    265337\n",
      "Name: Value, dtype: int64\n",
      "\n",
      "Min:\n",
      " Year\n",
      "2020    166773\n",
      "Name: Value, dtype: int64\n"
     ]
    }
   ],
   "source": [
    "# Finding the year with the maximum crimes reported\n",
    "print('Max:\\n', er_total_values[er_total_values == max(er_total_values)])\n",
    "\n",
    "# Finding the year with the minimum crimes reported\n",
    "print('\\nMin:\\n',er_total_values[er_total_values == min(er_total_values)])"
   ]
  },
  {
   "cell_type": "code",
   "execution_count": 25,
   "metadata": {},
   "outputs": [
    {
     "data": {
      "application/vnd.plotly.v1+json": {
       "config": {
        "plotlyServerURL": "https://plot.ly"
       },
       "data": [
        {
         "alignmentgroup": "True",
         "hovertemplate": "Crime=furti<br>Year=%{x}<br>Value=%{y}<extra></extra>",
         "legendgroup": "furti",
         "marker": {
          "color": "#636efa",
          "pattern": {
           "shape": ""
          }
         },
         "name": "furti",
         "offsetgroup": "furti",
         "orientation": "v",
         "showlegend": true,
         "textposition": "auto",
         "type": "bar",
         "x": [
          2007,
          2014,
          2013,
          2015,
          2006,
          2012,
          2011,
          2016,
          2008,
          2017,
          2009,
          2010,
          2018,
          2019,
          2021,
          2020
         ],
         "xaxis": "x",
         "y": [
          160989,
          159248,
          154324,
          152424,
          151558,
          149776,
          143618,
          138383,
          132179,
          128222,
          127306,
          122586,
          116788,
          103588,
          73207,
          70124
         ],
         "yaxis": "y"
        },
        {
         "alignmentgroup": "True",
         "hovertemplate": "Crime=altri delitti<br>Year=%{x}<br>Value=%{y}<extra></extra>",
         "legendgroup": "altri delitti",
         "marker": {
          "color": "#EF553B",
          "pattern": {
           "shape": ""
          }
         },
         "name": "altri delitti",
         "offsetgroup": "altri delitti",
         "orientation": "v",
         "showlegend": true,
         "textposition": "auto",
         "type": "bar",
         "x": [
          2021,
          2019,
          2020,
          2017,
          2018,
          2013,
          2016,
          2014,
          2015,
          2010,
          2008,
          2009,
          2007,
          2012,
          2011,
          2006
         ],
         "xaxis": "x",
         "y": [
          45515,
          43604,
          40780,
          40271,
          40259,
          39338,
          36277,
          36152,
          36096,
          33896,
          33434,
          33246,
          32395,
          32369,
          32181,
          27577
         ],
         "yaxis": "y"
        },
        {
         "alignmentgroup": "True",
         "hovertemplate": "Crime=danneggiamenti<br>Year=%{x}<br>Value=%{y}<extra></extra>",
         "legendgroup": "danneggiamenti",
         "marker": {
          "color": "#00cc96",
          "pattern": {
           "shape": ""
          }
         },
         "name": "danneggiamenti",
         "offsetgroup": "danneggiamenti",
         "orientation": "v",
         "showlegend": true,
         "textposition": "auto",
         "type": "bar",
         "x": [
          2009,
          2010,
          2008,
          2011,
          2007,
          2012,
          2006,
          2013,
          2015,
          2014,
          2018,
          2019,
          2017,
          2021,
          2016,
          2020
         ],
         "xaxis": "x",
         "y": [
          34793,
          34484,
          33596,
          33219,
          31865,
          29526,
          28902,
          28413,
          23673,
          23409,
          21553,
          21183,
          20594,
          20159,
          19788,
          17989
         ],
         "yaxis": "y"
        },
        {
         "alignmentgroup": "True",
         "hovertemplate": "Crime=furti in auto in sosta<br>Year=%{x}<br>Value=%{y}<extra></extra>",
         "legendgroup": "furti in auto in sosta",
         "marker": {
          "color": "#ab63fa",
          "pattern": {
           "shape": ""
          }
         },
         "name": "furti in auto in sosta",
         "offsetgroup": "furti in auto in sosta",
         "orientation": "v",
         "showlegend": true,
         "textposition": "auto",
         "type": "bar",
         "x": [
          2007,
          2006,
          2008,
          2011,
          2015,
          2014,
          2012,
          2009,
          2013,
          2010,
          2016,
          2017,
          2018,
          2019,
          2020,
          2021
         ],
         "xaxis": "x",
         "y": [
          27857,
          24631,
          22654,
          21945,
          21240,
          21230,
          21017,
          20728,
          20365,
          19969,
          18182,
          16129,
          14874,
          13839,
          8012,
          7383
         ],
         "yaxis": "y"
        },
        {
         "alignmentgroup": "True",
         "hovertemplate": "Crime=furti in abitazioni<br>Year=%{x}<br>Value=%{y}<extra></extra>",
         "legendgroup": "furti in abitazioni",
         "marker": {
          "color": "#FFA15A",
          "pattern": {
           "shape": ""
          }
         },
         "name": "furti in abitazioni",
         "offsetgroup": "furti in abitazioni",
         "orientation": "v",
         "showlegend": true,
         "textposition": "auto",
         "type": "bar",
         "x": [
          2014,
          2015,
          2013,
          2016,
          2012,
          2017,
          2018,
          2011,
          2019,
          2007,
          2010,
          2006,
          2021,
          2009,
          2020,
          2008
         ],
         "xaxis": "x",
         "y": [
          27528,
          26052,
          24900,
          24186,
          23542,
          21948,
          21353,
          19552,
          18458,
          14843,
          14145,
          13897,
          13527,
          13365,
          12921,
          12641
         ],
         "yaxis": "y"
        },
        {
         "alignmentgroup": "True",
         "hovertemplate": "Crime=furti con destrezza<br>Year=%{x}<br>Value=%{y}<extra></extra>",
         "legendgroup": "furti con destrezza",
         "marker": {
          "color": "#19d3f3",
          "pattern": {
           "shape": ""
          }
         },
         "name": "furti con destrezza",
         "offsetgroup": "furti con destrezza",
         "orientation": "v",
         "showlegend": true,
         "textposition": "auto",
         "type": "bar",
         "x": [
          2015,
          2016,
          2014,
          2017,
          2013,
          2018,
          2007,
          2012,
          2006,
          2019,
          2011,
          2008,
          2009,
          2010,
          2021,
          2020
         ],
         "xaxis": "x",
         "y": [
          21386,
          20865,
          20664,
          20097,
          18895,
          18149,
          17438,
          16420,
          16000,
          15957,
          14526,
          12948,
          11857,
          11187,
          9224,
          8628
         ],
         "yaxis": "y"
        },
        {
         "alignmentgroup": "True",
         "hovertemplate": "Crime=truffe e frodi informatiche<br>Year=%{x}<br>Value=%{y}<extra></extra>",
         "legendgroup": "truffe e frodi informatiche",
         "marker": {
          "color": "#FF6692",
          "pattern": {
           "shape": ""
          }
         },
         "name": "truffe e frodi informatiche",
         "offsetgroup": "truffe e frodi informatiche",
         "orientation": "v",
         "showlegend": true,
         "textposition": "auto",
         "type": "bar",
         "x": [
          2021,
          2020,
          2019,
          2018,
          2017,
          2016,
          2015,
          2013,
          2014,
          2007,
          2012,
          2008,
          2006,
          2011,
          2010,
          2009
         ],
         "xaxis": "x",
         "y": [
          19889,
          17829,
          15164,
          13317,
          12116,
          11998,
          11626,
          11489,
          10592,
          8666,
          8591,
          7980,
          7824,
          7511,
          7415,
          6874
         ],
         "yaxis": "y"
        },
        {
         "alignmentgroup": "True",
         "hovertemplate": "Crime=furti in esercizi commerciali<br>Year=%{x}<br>Value=%{y}<extra></extra>",
         "legendgroup": "furti in esercizi commerciali",
         "marker": {
          "color": "#B6E880",
          "pattern": {
           "shape": ""
          }
         },
         "name": "furti in esercizi commerciali",
         "offsetgroup": "furti in esercizi commerciali",
         "orientation": "v",
         "showlegend": true,
         "textposition": "auto",
         "type": "bar",
         "x": [
          2007,
          2015,
          2014,
          2013,
          2006,
          2016,
          2012,
          2017,
          2011,
          2008,
          2010,
          2018,
          2009,
          2019,
          2021,
          2020
         ],
         "xaxis": "x",
         "y": [
          12456,
          12298,
          12234,
          11908,
          11882,
          11294,
          10428,
          10411,
          10142,
          10130,
          9528,
          9526,
          9506,
          8438,
          6303,
          5682
         ],
         "yaxis": "y"
        },
        {
         "alignmentgroup": "True",
         "hovertemplate": "Crime=furti di autovetture<br>Year=%{x}<br>Value=%{y}<extra></extra>",
         "legendgroup": "furti di autovetture",
         "marker": {
          "color": "#FF97FF",
          "pattern": {
           "shape": ""
          }
         },
         "name": "furti di autovetture",
         "offsetgroup": "furti di autovetture",
         "orientation": "v",
         "showlegend": true,
         "textposition": "auto",
         "type": "bar",
         "x": [
          2006,
          2007,
          2008,
          2009,
          2010,
          2011,
          2012,
          2013,
          2014,
          2015,
          2016,
          2017,
          2018,
          2019,
          2020,
          2021
         ],
         "xaxis": "x",
         "y": [
          7296,
          7267,
          5522,
          4582,
          4327,
          4003,
          3783,
          3664,
          3652,
          3315,
          2859,
          2536,
          2306,
          2188,
          1601,
          1552
         ],
         "yaxis": "y"
        },
        {
         "alignmentgroup": "True",
         "hovertemplate": "Crime=minacce<br>Year=%{x}<br>Value=%{y}<extra></extra>",
         "legendgroup": "minacce",
         "marker": {
          "color": "#FECB52",
          "pattern": {
           "shape": ""
          }
         },
         "name": "minacce",
         "offsetgroup": "minacce",
         "orientation": "v",
         "showlegend": true,
         "textposition": "auto",
         "type": "bar",
         "x": [
          2008,
          2007,
          2009,
          2014,
          2013,
          2012,
          2010,
          2015,
          2011,
          2006,
          2017,
          2019,
          2018,
          2016,
          2021,
          2020
         ],
         "xaxis": "x",
         "y": [
          6941,
          6787,
          6540,
          6396,
          6357,
          6156,
          6138,
          6095,
          6073,
          5942,
          5589,
          5571,
          5519,
          5501,
          5363,
          5165
         ],
         "yaxis": "y"
        },
        {
         "alignmentgroup": "True",
         "hovertemplate": "Crime=ingiurie<br>Year=%{x}<br>Value=%{y}<extra></extra>",
         "legendgroup": "ingiurie",
         "marker": {
          "color": "#636efa",
          "pattern": {
           "shape": ""
          }
         },
         "name": "ingiurie",
         "offsetgroup": "ingiurie",
         "orientation": "v",
         "showlegend": true,
         "textposition": "auto",
         "type": "bar",
         "x": [
          2008,
          2007,
          2009,
          2013,
          2011,
          2010,
          2012,
          2014,
          2006,
          2015,
          2016,
          2017
         ],
         "xaxis": "x",
         "y": [
          6083,
          6007,
          5872,
          5573,
          5525,
          5479,
          5434,
          5234,
          5144,
          5009,
          939,
          103
         ],
         "yaxis": "y"
        },
        {
         "alignmentgroup": "True",
         "hovertemplate": "Crime=lesioni dolose<br>Year=%{x}<br>Value=%{y}<extra></extra>",
         "legendgroup": "lesioni dolose",
         "marker": {
          "color": "#EF553B",
          "pattern": {
           "shape": ""
          }
         },
         "name": "lesioni dolose",
         "offsetgroup": "lesioni dolose",
         "orientation": "v",
         "showlegend": true,
         "textposition": "auto",
         "type": "bar",
         "x": [
          2007,
          2008,
          2011,
          2012,
          2019,
          2014,
          2009,
          2018,
          2017,
          2006,
          2013,
          2021,
          2010,
          2016,
          2015,
          2020
         ],
         "xaxis": "x",
         "y": [
          5889,
          5775,
          5745,
          5656,
          5636,
          5539,
          5533,
          5533,
          5470,
          5400,
          5357,
          5320,
          5277,
          5214,
          5162,
          4729
         ],
         "yaxis": "y"
        },
        {
         "alignmentgroup": "True",
         "hovertemplate": "Crime=furti di ciclomotori<br>Year=%{x}<br>Value=%{y}<extra></extra>",
         "legendgroup": "furti di ciclomotori",
         "marker": {
          "color": "#00cc96",
          "pattern": {
           "shape": ""
          }
         },
         "name": "furti di ciclomotori",
         "offsetgroup": "furti di ciclomotori",
         "orientation": "v",
         "showlegend": true,
         "textposition": "auto",
         "type": "bar",
         "x": [
          2007,
          2006,
          2008,
          2009,
          2012,
          2011,
          2010,
          2013,
          2014,
          2015,
          2016,
          2017,
          2018,
          2019,
          2020,
          2021
         ],
         "xaxis": "x",
         "y": [
          4063,
          3863,
          3080,
          2719,
          2594,
          2452,
          2378,
          1980,
          1609,
          1242,
          1013,
          945,
          682,
          609,
          544,
          474
         ],
         "yaxis": "y"
        },
        {
         "alignmentgroup": "True",
         "hovertemplate": "Crime=normativa sugli stupefacenti<br>Year=%{x}<br>Value=%{y}<extra></extra>",
         "legendgroup": "normativa sugli stupefacenti",
         "marker": {
          "color": "#ab63fa",
          "pattern": {
           "shape": ""
          }
         },
         "name": "normativa sugli stupefacenti",
         "offsetgroup": "normativa sugli stupefacenti",
         "orientation": "v",
         "showlegend": true,
         "textposition": "auto",
         "type": "bar",
         "x": [
          2018,
          2017,
          2007,
          2019,
          2008,
          2009,
          2016,
          2006,
          2011,
          2020,
          2013,
          2012,
          2014,
          2010,
          2021,
          2015
         ],
         "xaxis": "x",
         "y": [
          2921,
          2899,
          2887,
          2848,
          2793,
          2714,
          2601,
          2595,
          2586,
          2475,
          2465,
          2460,
          2389,
          2347,
          2278,
          2257
         ],
         "yaxis": "y"
        },
        {
         "alignmentgroup": "True",
         "hovertemplate": "Crime=rapine<br>Year=%{x}<br>Value=%{y}<extra></extra>",
         "legendgroup": "rapine",
         "marker": {
          "color": "#FFA15A",
          "pattern": {
           "shape": ""
          }
         },
         "name": "rapine",
         "offsetgroup": "rapine",
         "orientation": "v",
         "showlegend": true,
         "textposition": "auto",
         "type": "bar",
         "x": [
          2013,
          2014,
          2007,
          2012,
          2006,
          2015,
          2008,
          2011,
          2016,
          2021,
          2017,
          2018,
          2009,
          2019,
          2010,
          2020
         ],
         "xaxis": "x",
         "y": [
          2735,
          2605,
          2558,
          2430,
          2422,
          2406,
          2379,
          2182,
          2155,
          2117,
          2111,
          2038,
          2013,
          1822,
          1788,
          1678
         ],
         "yaxis": "y"
        },
        {
         "alignmentgroup": "True",
         "hovertemplate": "Crime=ricettazione<br>Year=%{x}<br>Value=%{y}<extra></extra>",
         "legendgroup": "ricettazione",
         "marker": {
          "color": "#19d3f3",
          "pattern": {
           "shape": ""
          }
         },
         "name": "ricettazione",
         "offsetgroup": "ricettazione",
         "orientation": "v",
         "showlegend": true,
         "textposition": "auto",
         "type": "bar",
         "x": [
          2007,
          2008,
          2013,
          2006,
          2014,
          2012,
          2011,
          2015,
          2009,
          2017,
          2016,
          2010,
          2018,
          2019,
          2021,
          2020
         ],
         "xaxis": "x",
         "y": [
          2470,
          2093,
          2086,
          2039,
          2030,
          1942,
          1892,
          1892,
          1772,
          1739,
          1721,
          1714,
          1527,
          1193,
          1006,
          958
         ],
         "yaxis": "y"
        },
        {
         "alignmentgroup": "True",
         "hovertemplate": "Crime=furti di motocicli<br>Year=%{x}<br>Value=%{y}<extra></extra>",
         "legendgroup": "furti di motocicli",
         "marker": {
          "color": "#FF6692",
          "pattern": {
           "shape": ""
          }
         },
         "name": "furti di motocicli",
         "offsetgroup": "furti di motocicli",
         "orientation": "v",
         "showlegend": true,
         "textposition": "auto",
         "type": "bar",
         "x": [
          2012,
          2013,
          2011,
          2007,
          2009,
          2008,
          2014,
          2006,
          2010,
          2015,
          2017,
          2016,
          2019,
          2021,
          2018,
          2020
         ],
         "xaxis": "x",
         "y": [
          1837,
          1737,
          1734,
          1692,
          1615,
          1526,
          1487,
          1428,
          1318,
          1220,
          1042,
          969,
          729,
          716,
          701,
          582
         ],
         "yaxis": "y"
        },
        {
         "alignmentgroup": "True",
         "hovertemplate": "Crime=delitti informatici<br>Year=%{x}<br>Value=%{y}<extra></extra>",
         "legendgroup": "delitti informatici",
         "marker": {
          "color": "#B6E880",
          "pattern": {
           "shape": ""
          }
         },
         "name": "delitti informatici",
         "offsetgroup": "delitti informatici",
         "orientation": "v",
         "showlegend": true,
         "textposition": "auto",
         "type": "bar",
         "x": [
          2021,
          2020,
          2019,
          2018,
          2015,
          2016,
          2014,
          2017,
          2013,
          2012,
          2011,
          2010,
          2009,
          2008,
          2007,
          2006
         ],
         "xaxis": "x",
         "y": [
          1743,
          1345,
          1259,
          793,
          786,
          774,
          753,
          749,
          656,
          501,
          476,
          453,
          381,
          294,
          240,
          163
         ],
         "yaxis": "y"
        },
        {
         "alignmentgroup": "True",
         "hovertemplate": "Crime=percosse<br>Year=%{x}<br>Value=%{y}<extra></extra>",
         "legendgroup": "percosse",
         "marker": {
          "color": "#FF97FF",
          "pattern": {
           "shape": ""
          }
         },
         "name": "percosse",
         "offsetgroup": "percosse",
         "orientation": "v",
         "showlegend": true,
         "textposition": "auto",
         "type": "bar",
         "x": [
          2008,
          2007,
          2021,
          2009,
          2019,
          2015,
          2010,
          2014,
          2011,
          2012,
          2020,
          2017,
          2006,
          2018,
          2013,
          2016
         ],
         "xaxis": "x",
         "y": [
          1458,
          1453,
          1445,
          1382,
          1366,
          1363,
          1321,
          1296,
          1288,
          1285,
          1283,
          1282,
          1269,
          1246,
          1246,
          1174
         ],
         "yaxis": "y"
        },
        {
         "alignmentgroup": "True",
         "hovertemplate": "Crime=furti con strappo<br>Year=%{x}<br>Value=%{y}<extra></extra>",
         "legendgroup": "furti con strappo",
         "marker": {
          "color": "#FECB52",
          "pattern": {
           "shape": ""
          }
         },
         "name": "furti con strappo",
         "offsetgroup": "furti con strappo",
         "orientation": "v",
         "showlegend": true,
         "textposition": "auto",
         "type": "bar",
         "x": [
          2017,
          2016,
          2013,
          2015,
          2012,
          2006,
          2007,
          2018,
          2014,
          2011,
          2008,
          2021,
          2019,
          2020,
          2009,
          2010
         ],
         "xaxis": "x",
         "y": [
          1378,
          1332,
          1235,
          1220,
          1166,
          1148,
          1132,
          1104,
          1083,
          972,
          936,
          870,
          868,
          862,
          737,
          731
         ],
         "yaxis": "y"
        },
        {
         "alignmentgroup": "True",
         "hovertemplate": "Crime=rapine in pubblica via<br>Year=%{x}<br>Value=%{y}<extra></extra>",
         "legendgroup": "rapine in pubblica via",
         "marker": {
          "color": "#636efa",
          "pattern": {
           "shape": ""
          }
         },
         "name": "rapine in pubblica via",
         "offsetgroup": "rapine in pubblica via",
         "orientation": "v",
         "showlegend": true,
         "textposition": "auto",
         "type": "bar",
         "x": [
          2021,
          2013,
          2014,
          2015,
          2016,
          2012,
          2017,
          2018,
          2007,
          2008,
          2011,
          2006,
          2019,
          2020,
          2009,
          2010
         ],
         "xaxis": "x",
         "y": [
          1349,
          1314,
          1298,
          1206,
          1134,
          1131,
          1078,
          1067,
          1016,
          1005,
          993,
          990,
          949,
          913,
          874,
          756
         ],
         "yaxis": "y"
        },
        {
         "alignmentgroup": "True",
         "hovertemplate": "Crime=estorsioni<br>Year=%{x}<br>Value=%{y}<extra></extra>",
         "legendgroup": "estorsioni",
         "marker": {
          "color": "#EF553B",
          "pattern": {
           "shape": ""
          }
         },
         "name": "estorsioni",
         "offsetgroup": "estorsioni",
         "orientation": "v",
         "showlegend": true,
         "textposition": "auto",
         "type": "bar",
         "x": [
          2016,
          2015,
          2021,
          2018,
          2017,
          2019,
          2014,
          2020,
          2013,
          2008,
          2009,
          2012,
          2007,
          2011,
          2010,
          2006
         ],
         "xaxis": "x",
         "y": [
          810,
          790,
          765,
          709,
          686,
          680,
          666,
          664,
          446,
          423,
          392,
          390,
          325,
          293,
          287,
          250
         ],
         "yaxis": "y"
        },
        {
         "alignmentgroup": "True",
         "hovertemplate": "Crime=incendi<br>Year=%{x}<br>Value=%{y}<extra></extra>",
         "legendgroup": "incendi",
         "marker": {
          "color": "#00cc96",
          "pattern": {
           "shape": ""
          }
         },
         "name": "incendi",
         "offsetgroup": "incendi",
         "orientation": "v",
         "showlegend": true,
         "textposition": "auto",
         "type": "bar",
         "x": [
          2007,
          2008,
          2006,
          2011,
          2009,
          2012,
          2010,
          2017,
          2021,
          2013,
          2016,
          2014,
          2015,
          2020,
          2019,
          2018
         ],
         "xaxis": "x",
         "y": [
          693,
          529,
          529,
          506,
          500,
          468,
          391,
          371,
          307,
          295,
          278,
          270,
          269,
          233,
          224,
          171
         ],
         "yaxis": "y"
        },
        {
         "alignmentgroup": "True",
         "hovertemplate": "Crime=contraffazione di marchi e prodotti industriali<br>Year=%{x}<br>Value=%{y}<extra></extra>",
         "legendgroup": "contraffazione di marchi e prodotti industriali",
         "marker": {
          "color": "#ab63fa",
          "pattern": {
           "shape": ""
          }
         },
         "name": "contraffazione di marchi e prodotti industriali",
         "offsetgroup": "contraffazione di marchi e prodotti industriali",
         "orientation": "v",
         "showlegend": true,
         "textposition": "auto",
         "type": "bar",
         "x": [
          2010,
          2015,
          2014,
          2012,
          2013,
          2011,
          2016,
          2017,
          2018,
          2019,
          2021,
          2020,
          2008,
          2006,
          2009,
          2007
         ],
         "xaxis": "x",
         "y": [
          630,
          559,
          476,
          461,
          432,
          421,
          384,
          345,
          303,
          166,
          142,
          121,
          75,
          51,
          43,
          41
         ],
         "yaxis": "y"
        },
        {
         "alignmentgroup": "True",
         "hovertemplate": "Crime=violenze sessuali<br>Year=%{x}<br>Value=%{y}<extra></extra>",
         "legendgroup": "violenze sessuali",
         "marker": {
          "color": "#FFA15A",
          "pattern": {
           "shape": ""
          }
         },
         "name": "violenze sessuali",
         "offsetgroup": "violenze sessuali",
         "orientation": "v",
         "showlegend": true,
         "textposition": "auto",
         "type": "bar",
         "x": [
          2021,
          2019,
          2007,
          2006,
          2020,
          2018,
          2010,
          2009,
          2013,
          2008,
          2012,
          2014,
          2011,
          2016,
          2017,
          2015
         ],
         "xaxis": "x",
         "y": [
          629,
          556,
          509,
          468,
          463,
          458,
          446,
          445,
          436,
          428,
          411,
          409,
          403,
          397,
          395,
          381
         ],
         "yaxis": "y"
        },
        {
         "alignmentgroup": "True",
         "hovertemplate": "Crime=danneggiamento seguito da incendio<br>Year=%{x}<br>Value=%{y}<extra></extra>",
         "legendgroup": "danneggiamento seguito da incendio",
         "marker": {
          "color": "#19d3f3",
          "pattern": {
           "shape": ""
          }
         },
         "name": "danneggiamento seguito da incendio",
         "offsetgroup": "danneggiamento seguito da incendio",
         "orientation": "v",
         "showlegend": true,
         "textposition": "auto",
         "type": "bar",
         "x": [
          2007,
          2006,
          2011,
          2009,
          2008,
          2012,
          2013,
          2017,
          2010,
          2016,
          2015,
          2018,
          2014,
          2021,
          2020,
          2019
         ],
         "xaxis": "x",
         "y": [
          499,
          460,
          423,
          411,
          409,
          399,
          393,
          384,
          343,
          338,
          333,
          331,
          327,
          319,
          274,
          271
         ],
         "yaxis": "y"
        },
        {
         "alignmentgroup": "True",
         "hovertemplate": "Crime=rapine in banca<br>Year=%{x}<br>Value=%{y}<extra></extra>",
         "legendgroup": "rapine in banca",
         "marker": {
          "color": "#FF6692",
          "pattern": {
           "shape": ""
          }
         },
         "name": "rapine in banca",
         "offsetgroup": "rapine in banca",
         "orientation": "v",
         "showlegend": true,
         "textposition": "auto",
         "type": "bar",
         "x": [
          2006,
          2007,
          2008,
          2009,
          2013,
          2011,
          2012,
          2010,
          2015,
          2014,
          2016,
          2017,
          2019,
          2018,
          2020,
          2021
         ],
         "xaxis": "x",
         "y": [
          427,
          365,
          252,
          161,
          146,
          141,
          138,
          117,
          103,
          89,
          55,
          47,
          34,
          24,
          22,
          6
         ],
         "yaxis": "y"
        },
        {
         "alignmentgroup": "True",
         "hovertemplate": "Crime=rapine in esercizi commerciali<br>Year=%{x}<br>Value=%{y}<extra></extra>",
         "legendgroup": "rapine in esercizi commerciali",
         "marker": {
          "color": "#B6E880",
          "pattern": {
           "shape": ""
          }
         },
         "name": "rapine in esercizi commerciali",
         "offsetgroup": "rapine in esercizi commerciali",
         "orientation": "v",
         "showlegend": true,
         "textposition": "auto",
         "type": "bar",
         "x": [
          2014,
          2013,
          2012,
          2008,
          2007,
          2011,
          2017,
          2009,
          2018,
          2006,
          2010,
          2015,
          2016,
          2019,
          2021,
          2020
         ],
         "xaxis": "x",
         "y": [
          412,
          408,
          384,
          379,
          373,
          361,
          357,
          355,
          349,
          348,
          345,
          344,
          328,
          309,
          299,
          266
         ],
         "yaxis": "y"
        },
        {
         "alignmentgroup": "True",
         "hovertemplate": "Crime=rapine in abitazione<br>Year=%{x}<br>Value=%{y}<extra></extra>",
         "legendgroup": "rapine in abitazione",
         "marker": {
          "color": "#FF97FF",
          "pattern": {
           "shape": ""
          }
         },
         "name": "rapine in abitazione",
         "offsetgroup": "rapine in abitazione",
         "orientation": "v",
         "showlegend": true,
         "textposition": "auto",
         "type": "bar",
         "x": [
          2015,
          2014,
          2012,
          2013,
          2016,
          2011,
          2017,
          2007,
          2018,
          2008,
          2019,
          2021,
          2020,
          2009,
          2010,
          2006
         ],
         "xaxis": "x",
         "y": [
          266,
          259,
          248,
          234,
          205,
          202,
          201,
          191,
          183,
          158,
          156,
          154,
          144,
          140,
          132,
          127
         ],
         "yaxis": "y"
        },
        {
         "alignmentgroup": "True",
         "hovertemplate": "Crime=furti di automezzi pesanti trasportanti merci<br>Year=%{x}<br>Value=%{y}<extra></extra>",
         "legendgroup": "furti di automezzi pesanti trasportanti merci",
         "marker": {
          "color": "#FECB52",
          "pattern": {
           "shape": ""
          }
         },
         "name": "furti di automezzi pesanti trasportanti merci",
         "offsetgroup": "furti di automezzi pesanti trasportanti merci",
         "orientation": "v",
         "showlegend": true,
         "textposition": "auto",
         "type": "bar",
         "x": [
          2007,
          2006,
          2008,
          2009,
          2010,
          2013,
          2012,
          2011,
          2015,
          2014,
          2016,
          2018,
          2019,
          2017,
          2020,
          2021
         ],
         "xaxis": "x",
         "y": [
          237,
          182,
          170,
          154,
          141,
          111,
          105,
          102,
          92,
          82,
          66,
          66,
          59,
          45,
          30,
          24
         ],
         "yaxis": "y"
        },
        {
         "alignmentgroup": "True",
         "hovertemplate": "Crime=omicidi colposi<br>Year=%{x}<br>Value=%{y}<extra></extra>",
         "legendgroup": "omicidi colposi",
         "marker": {
          "color": "#636efa",
          "pattern": {
           "shape": ""
          }
         },
         "name": "omicidi colposi",
         "offsetgroup": "omicidi colposi",
         "orientation": "v",
         "showlegend": true,
         "textposition": "auto",
         "type": "bar",
         "x": [
          2007,
          2019,
          2017,
          2011,
          2009,
          2008,
          2012,
          2013,
          2006,
          2010,
          2018,
          2015,
          2014,
          2020,
          2021,
          2016
         ],
         "xaxis": "x",
         "y": [
          225,
          204,
          199,
          199,
          196,
          193,
          190,
          187,
          182,
          176,
          167,
          148,
          144,
          142,
          139,
          137
         ],
         "yaxis": "y"
        },
        {
         "alignmentgroup": "True",
         "hovertemplate": "Crime=omicidi colposi da incidente stradale<br>Year=%{x}<br>Value=%{y}<extra></extra>",
         "legendgroup": "omicidi colposi da incidente stradale",
         "marker": {
          "color": "#EF553B",
          "pattern": {
           "shape": ""
          }
         },
         "name": "omicidi colposi da incidente stradale",
         "offsetgroup": "omicidi colposi da incidente stradale",
         "orientation": "v",
         "showlegend": true,
         "textposition": "auto",
         "type": "bar",
         "x": [
          2007,
          2009,
          2017,
          2008,
          2011,
          2006,
          2012,
          2010,
          2013,
          2019,
          2018,
          2014,
          2015,
          2016,
          2021,
          2020
         ],
         "xaxis": "x",
         "y": [
          203,
          174,
          173,
          170,
          170,
          163,
          157,
          150,
          146,
          144,
          127,
          125,
          121,
          106,
          98,
          90
         ],
         "yaxis": "y"
        },
        {
         "alignmentgroup": "True",
         "hovertemplate": "Crime=violazione della proprietà intellettuale<br>Year=%{x}<br>Value=%{y}<extra></extra>",
         "legendgroup": "violazione della proprietà intellettuale",
         "marker": {
          "color": "#00cc96",
          "pattern": {
           "shape": ""
          }
         },
         "name": "violazione della proprietà intellettuale",
         "offsetgroup": "violazione della proprietà intellettuale",
         "orientation": "v",
         "showlegend": true,
         "textposition": "auto",
         "type": "bar",
         "x": [
          2007,
          2006,
          2008,
          2009,
          2021,
          2010,
          2012,
          2011,
          2013,
          2017,
          2016,
          2015,
          2014,
          2020,
          2018,
          2019
         ],
         "xaxis": "x",
         "y": [
          193,
          182,
          142,
          88,
          88,
          60,
          26,
          24,
          19,
          18,
          17,
          15,
          14,
          10,
          6,
          6
         ],
         "yaxis": "y"
        },
        {
         "alignmentgroup": "True",
         "hovertemplate": "Crime=riciclaggio e impiego di denaro, beni o utilità di provenienza illecita<br>Year=%{x}<br>Value=%{y}<extra></extra>",
         "legendgroup": "riciclaggio e impiego di denaro, beni o utilità di provenienza illecita",
         "marker": {
          "color": "#ab63fa",
          "pattern": {
           "shape": ""
          }
         },
         "name": "riciclaggio e impiego di denaro, beni o utilità di provenienza illecita",
         "offsetgroup": "riciclaggio e impiego di denaro, beni o utilità di provenienza illecita",
         "orientation": "v",
         "showlegend": true,
         "textposition": "auto",
         "type": "bar",
         "x": [
          2019,
          2020,
          2018,
          2017,
          2021,
          2012,
          2009,
          2013,
          2015,
          2016,
          2010,
          2014,
          2008,
          2007,
          2011,
          2006
         ],
         "xaxis": "x",
         "y": [
          171,
          163,
          123,
          120,
          117,
          98,
          94,
          93,
          88,
          84,
          80,
          78,
          66,
          66,
          62,
          38
         ],
         "yaxis": "y"
        },
        {
         "alignmentgroup": "True",
         "hovertemplate": "Crime=sfruttamento e favoreggiamento della prostituzione<br>Year=%{x}<br>Value=%{y}<extra></extra>",
         "legendgroup": "sfruttamento e favoreggiamento della prostituzione",
         "marker": {
          "color": "#FFA15A",
          "pattern": {
           "shape": ""
          }
         },
         "name": "sfruttamento e favoreggiamento della prostituzione",
         "offsetgroup": "sfruttamento e favoreggiamento della prostituzione",
         "orientation": "v",
         "showlegend": true,
         "textposition": "auto",
         "type": "bar",
         "x": [
          2011,
          2010,
          2008,
          2007,
          2012,
          2013,
          2016,
          2009,
          2006,
          2015,
          2014,
          2017,
          2019,
          2018,
          2020,
          2021
         ],
         "xaxis": "x",
         "y": [
          159,
          152,
          147,
          147,
          128,
          116,
          111,
          111,
          110,
          109,
          104,
          76,
          52,
          49,
          36,
          30
         ],
         "yaxis": "y"
        },
        {
         "alignmentgroup": "True",
         "hovertemplate": "Crime=sequestri di persona<br>Year=%{x}<br>Value=%{y}<extra></extra>",
         "legendgroup": "sequestri di persona",
         "marker": {
          "color": "#19d3f3",
          "pattern": {
           "shape": ""
          }
         },
         "name": "sequestri di persona",
         "offsetgroup": "sequestri di persona",
         "orientation": "v",
         "showlegend": true,
         "textposition": "auto",
         "type": "bar",
         "x": [
          2008,
          2007,
          2006,
          2010,
          2013,
          2011,
          2009,
          2012,
          2014,
          2016,
          2015,
          2018,
          2019,
          2017,
          2020,
          2021
         ],
         "xaxis": "x",
         "y": [
          148,
          123,
          111,
          107,
          101,
          100,
          92,
          89,
          88,
          81,
          75,
          71,
          67,
          63,
          58,
          42
         ],
         "yaxis": "y"
        },
        {
         "alignmentgroup": "True",
         "hovertemplate": "Crime=incendi boschivi<br>Year=%{x}<br>Value=%{y}<extra></extra>",
         "legendgroup": "incendi boschivi",
         "marker": {
          "color": "#FF6692",
          "pattern": {
           "shape": ""
          }
         },
         "name": "incendi boschivi",
         "offsetgroup": "incendi boschivi",
         "orientation": "v",
         "showlegend": true,
         "textposition": "auto",
         "type": "bar",
         "x": [
          2012,
          2017,
          2007,
          2021,
          2011,
          2008,
          2009,
          2020,
          2006,
          2016,
          2019,
          2015,
          2013,
          2014,
          2010,
          2018
         ],
         "xaxis": "x",
         "y": [
          146,
          142,
          141,
          129,
          121,
          97,
          72,
          68,
          58,
          51,
          50,
          45,
          39,
          28,
          22,
          13
         ],
         "yaxis": "y"
        },
        {
         "alignmentgroup": "True",
         "hovertemplate": "Crime=furti di opere d'arte e materiale archeologico<br>Year=%{x}<br>Value=%{y}<extra></extra>",
         "legendgroup": "furti di opere d'arte e materiale archeologico",
         "marker": {
          "color": "#B6E880",
          "pattern": {
           "shape": ""
          }
         },
         "name": "furti di opere d'arte e materiale archeologico",
         "offsetgroup": "furti di opere d'arte e materiale archeologico",
         "orientation": "v",
         "showlegend": true,
         "textposition": "auto",
         "type": "bar",
         "x": [
          2010,
          2007,
          2006,
          2011,
          2014,
          2009,
          2008,
          2012,
          2013,
          2015,
          2018,
          2016,
          2017,
          2019,
          2020,
          2021
         ],
         "xaxis": "x",
         "y": [
          91,
          77,
          72,
          66,
          62,
          59,
          53,
          48,
          47,
          46,
          41,
          39,
          38,
          25,
          20,
          18
         ],
         "yaxis": "y"
        },
        {
         "alignmentgroup": "True",
         "hovertemplate": "Crime=pornografia minorile e detenzione di materiale pedopornografico<br>Year=%{x}<br>Value=%{y}<extra></extra>",
         "legendgroup": "pornografia minorile e detenzione di materiale pedopornografico",
         "marker": {
          "color": "#FF97FF",
          "pattern": {
           "shape": ""
          }
         },
         "name": "pornografia minorile e detenzione di materiale pedopornografico",
         "offsetgroup": "pornografia minorile e detenzione di materiale pedopornografico",
         "orientation": "v",
         "showlegend": true,
         "textposition": "auto",
         "type": "bar",
         "x": [
          2021,
          2020,
          2018,
          2015,
          2019,
          2014,
          2008,
          2017,
          2009,
          2016,
          2013,
          2007,
          2011,
          2006,
          2012,
          2010
         ],
         "xaxis": "x",
         "y": [
          89,
          85,
          65,
          60,
          58,
          57,
          50,
          49,
          47,
          40,
          36,
          35,
          35,
          28,
          25,
          19
         ],
         "yaxis": "y"
        },
        {
         "alignmentgroup": "True",
         "hovertemplate": "Crime=usura<br>Year=%{x}<br>Value=%{y}<extra></extra>",
         "legendgroup": "usura",
         "marker": {
          "color": "#FECB52",
          "pattern": {
           "shape": ""
          }
         },
         "name": "usura",
         "offsetgroup": "usura",
         "orientation": "v",
         "showlegend": true,
         "textposition": "auto",
         "type": "bar",
         "x": [
          2016,
          2013,
          2014,
          2017,
          2015,
          2012,
          2009,
          2010,
          2011,
          2006,
          2008,
          2007,
          2021,
          2019,
          2020,
          2018
         ],
         "xaxis": "x",
         "y": [
          88,
          68,
          48,
          42,
          35,
          26,
          24,
          22,
          21,
          19,
          18,
          16,
          9,
          8,
          7,
          6
         ],
         "yaxis": "y"
        },
        {
         "alignmentgroup": "True",
         "hovertemplate": "Crime=tentati omicidi<br>Year=%{x}<br>Value=%{y}<extra></extra>",
         "legendgroup": "tentati omicidi",
         "marker": {
          "color": "#636efa",
          "pattern": {
           "shape": ""
          }
         },
         "name": "tentati omicidi",
         "offsetgroup": "tentati omicidi",
         "orientation": "v",
         "showlegend": true,
         "textposition": "auto",
         "type": "bar",
         "x": [
          2008,
          2015,
          2009,
          2007,
          2011,
          2012,
          2010,
          2006,
          2019,
          2013,
          2021,
          2014,
          2018,
          2020,
          2016,
          2017
         ],
         "xaxis": "x",
         "y": [
          86,
          82,
          81,
          76,
          71,
          69,
          65,
          63,
          61,
          61,
          59,
          55,
          54,
          52,
          50,
          50
         ],
         "yaxis": "y"
        },
        {
         "alignmentgroup": "True",
         "hovertemplate": "Crime=atti sessuali con minorenne<br>Year=%{x}<br>Value=%{y}<extra></extra>",
         "legendgroup": "atti sessuali con minorenne",
         "marker": {
          "color": "#EF553B",
          "pattern": {
           "shape": ""
          }
         },
         "name": "atti sessuali con minorenne",
         "offsetgroup": "atti sessuali con minorenne",
         "orientation": "v",
         "showlegend": true,
         "textposition": "auto",
         "type": "bar",
         "x": [
          2012,
          2017,
          2015,
          2014,
          2019,
          2009,
          2011,
          2013,
          2018,
          2006,
          2007,
          2010,
          2008,
          2021,
          2020,
          2016
         ],
         "xaxis": "x",
         "y": [
          59,
          58,
          57,
          53,
          52,
          50,
          46,
          45,
          44,
          44,
          43,
          42,
          41,
          38,
          34,
          27
         ],
         "yaxis": "y"
        },
        {
         "alignmentgroup": "True",
         "hovertemplate": "Crime=associazione per delinquere<br>Year=%{x}<br>Value=%{y}<extra></extra>",
         "legendgroup": "associazione per delinquere",
         "marker": {
          "color": "#00cc96",
          "pattern": {
           "shape": ""
          }
         },
         "name": "associazione per delinquere",
         "offsetgroup": "associazione per delinquere",
         "orientation": "v",
         "showlegend": true,
         "textposition": "auto",
         "type": "bar",
         "x": [
          2006,
          2007,
          2013,
          2009,
          2016,
          2012,
          2011,
          2021,
          2008,
          2014,
          2020,
          2018,
          2010,
          2017,
          2019,
          2015
         ],
         "xaxis": "x",
         "y": [
          59,
          42,
          42,
          39,
          37,
          35,
          34,
          34,
          31,
          24,
          23,
          23,
          23,
          22,
          19,
          18
         ],
         "yaxis": "y"
        },
        {
         "alignmentgroup": "True",
         "hovertemplate": "Crime=rapine in uffici postali<br>Year=%{x}<br>Value=%{y}<extra></extra>",
         "legendgroup": "rapine in uffici postali",
         "marker": {
          "color": "#ab63fa",
          "pattern": {
           "shape": ""
          }
         },
         "name": "rapine in uffici postali",
         "offsetgroup": "rapine in uffici postali",
         "orientation": "v",
         "showlegend": true,
         "textposition": "auto",
         "type": "bar",
         "x": [
          2009,
          2012,
          2006,
          2008,
          2011,
          2007,
          2016,
          2014,
          2013,
          2018,
          2010,
          2017,
          2015,
          2019,
          2020,
          2021
         ],
         "xaxis": "x",
         "y": [
          43,
          42,
          41,
          40,
          34,
          32,
          31,
          24,
          24,
          23,
          18,
          17,
          16,
          12,
          7,
          7
         ],
         "yaxis": "y"
        },
        {
         "alignmentgroup": "True",
         "hovertemplate": "Crime=attentati<br>Year=%{x}<br>Value=%{y}<extra></extra>",
         "legendgroup": "attentati",
         "marker": {
          "color": "#FFA15A",
          "pattern": {
           "shape": ""
          }
         },
         "name": "attentati",
         "offsetgroup": "attentati",
         "orientation": "v",
         "showlegend": true,
         "textposition": "auto",
         "type": "bar",
         "x": [
          2007,
          2006,
          2013,
          2015,
          2016,
          2014,
          2018,
          2010,
          2011,
          2017,
          2020,
          2008,
          2012,
          2009,
          2021,
          2019
         ],
         "xaxis": "x",
         "y": [
          37,
          32,
          28,
          25,
          22,
          22,
          21,
          21,
          21,
          19,
          18,
          17,
          14,
          11,
          11,
          7
         ],
         "yaxis": "y"
        },
        {
         "alignmentgroup": "True",
         "hovertemplate": "Crime=omicidi volontari consumati<br>Year=%{x}<br>Value=%{y}<extra></extra>",
         "legendgroup": "omicidi volontari consumati",
         "marker": {
          "color": "#19d3f3",
          "pattern": {
           "shape": ""
          }
         },
         "name": "omicidi volontari consumati",
         "offsetgroup": "omicidi volontari consumati",
         "orientation": "v",
         "showlegend": true,
         "textposition": "auto",
         "type": "bar",
         "x": [
          2012,
          2011,
          2009,
          2021,
          2008,
          2006,
          2016,
          2013,
          2007,
          2019,
          2010,
          2014,
          2015,
          2017,
          2018,
          2020
         ],
         "xaxis": "x",
         "y": [
          37,
          37,
          35,
          30,
          30,
          29,
          28,
          26,
          26,
          22,
          22,
          22,
          22,
          18,
          18,
          14
         ],
         "yaxis": "y"
        },
        {
         "alignmentgroup": "True",
         "hovertemplate": "Crime=corruzione di minorenne<br>Year=%{x}<br>Value=%{y}<extra></extra>",
         "legendgroup": "corruzione di minorenne",
         "marker": {
          "color": "#FF6692",
          "pattern": {
           "shape": ""
          }
         },
         "name": "corruzione di minorenne",
         "offsetgroup": "corruzione di minorenne",
         "orientation": "v",
         "showlegend": true,
         "textposition": "auto",
         "type": "bar",
         "x": [
          2013,
          2009,
          2010,
          2021,
          2014,
          2019,
          2016,
          2017,
          2018,
          2006,
          2015,
          2007,
          2008,
          2020,
          2012,
          2011
         ],
         "xaxis": "x",
         "y": [
          30,
          25,
          25,
          24,
          23,
          23,
          22,
          22,
          21,
          21,
          20,
          18,
          15,
          14,
          10,
          8
         ],
         "yaxis": "y"
        },
        {
         "alignmentgroup": "True",
         "hovertemplate": "Crime=contrabbando<br>Year=%{x}<br>Value=%{y}<extra></extra>",
         "legendgroup": "contrabbando",
         "marker": {
          "color": "#B6E880",
          "pattern": {
           "shape": ""
          }
         },
         "name": "contrabbando",
         "offsetgroup": "contrabbando",
         "orientation": "v",
         "showlegend": true,
         "textposition": "auto",
         "type": "bar",
         "x": [
          2008,
          2011,
          2015,
          2010,
          2009,
          2012,
          2007,
          2013,
          2006,
          2014,
          2016,
          2020,
          2018,
          2017,
          2019,
          2021
         ],
         "xaxis": "x",
         "y": [
          28,
          24,
          23,
          19,
          18,
          14,
          13,
          13,
          12,
          11,
          4,
          4,
          1,
          0,
          0,
          0
         ],
         "yaxis": "y"
        },
        {
         "alignmentgroup": "True",
         "hovertemplate": "Crime=omicidi preterintenzionali<br>Year=%{x}<br>Value=%{y}<extra></extra>",
         "legendgroup": "omicidi preterintenzionali",
         "marker": {
          "color": "#FF97FF",
          "pattern": {
           "shape": ""
          }
         },
         "name": "omicidi preterintenzionali",
         "offsetgroup": "omicidi preterintenzionali",
         "orientation": "v",
         "showlegend": true,
         "textposition": "auto",
         "type": "bar",
         "x": [
          2008,
          2019,
          2010,
          2009,
          2013,
          2016,
          2015,
          2006,
          2020,
          2007,
          2017,
          2021,
          2018,
          2012,
          2011,
          2014
         ],
         "xaxis": "x",
         "y": [
          7,
          5,
          5,
          4,
          3,
          2,
          2,
          2,
          1,
          1,
          1,
          1,
          1,
          1,
          0,
          0
         ],
         "yaxis": "y"
        },
        {
         "alignmentgroup": "True",
         "hovertemplate": "Crime=omicidi volontari consumati a scopo di furto o rapina<br>Year=%{x}<br>Value=%{y}<extra></extra>",
         "legendgroup": "omicidi volontari consumati a scopo di furto o rapina",
         "marker": {
          "color": "#FECB52",
          "pattern": {
           "shape": ""
          }
         },
         "name": "omicidi volontari consumati a scopo di furto o rapina",
         "offsetgroup": "omicidi volontari consumati a scopo di furto o rapina",
         "orientation": "v",
         "showlegend": true,
         "textposition": "auto",
         "type": "bar",
         "x": [
          2008,
          2012,
          2013,
          2015,
          2011,
          2017,
          2006,
          2016,
          2021,
          2010,
          2018,
          2007,
          2009,
          2014,
          2019,
          2020
         ],
         "xaxis": "x",
         "y": [
          5,
          3,
          3,
          2,
          2,
          2,
          2,
          1,
          1,
          1,
          1,
          0,
          0,
          0,
          0,
          0
         ],
         "yaxis": "y"
        },
        {
         "alignmentgroup": "True",
         "hovertemplate": "Crime=associazione di tipo mafioso<br>Year=%{x}<br>Value=%{y}<extra></extra>",
         "legendgroup": "associazione di tipo mafioso",
         "marker": {
          "color": "#636efa",
          "pattern": {
           "shape": ""
          }
         },
         "name": "associazione di tipo mafioso",
         "offsetgroup": "associazione di tipo mafioso",
         "orientation": "v",
         "showlegend": true,
         "textposition": "auto",
         "type": "bar",
         "x": [
          2006,
          2009,
          2007,
          2020,
          2010,
          2008,
          2012,
          2016,
          2011,
          2017,
          2013,
          2014,
          2015,
          2018,
          2019,
          2021
         ],
         "xaxis": "x",
         "y": [
          3,
          3,
          2,
          1,
          1,
          1,
          1,
          1,
          0,
          0,
          0,
          0,
          0,
          0,
          0,
          0
         ],
         "yaxis": "y"
        },
        {
         "alignmentgroup": "True",
         "hovertemplate": "Crime=strage<br>Year=%{x}<br>Value=%{y}<extra></extra>",
         "legendgroup": "strage",
         "marker": {
          "color": "#EF553B",
          "pattern": {
           "shape": ""
          }
         },
         "name": "strage",
         "offsetgroup": "strage",
         "orientation": "v",
         "showlegend": true,
         "textposition": "auto",
         "type": "bar",
         "x": [
          2019,
          2018,
          2020,
          2021,
          2016,
          2014,
          2007,
          2008,
          2009,
          2011,
          2017,
          2015,
          2013,
          2012,
          2010,
          2006
         ],
         "xaxis": "x",
         "y": [
          2,
          1,
          1,
          1,
          1,
          1,
          1,
          1,
          1,
          0,
          0,
          0,
          0,
          0,
          0,
          0
         ],
         "yaxis": "y"
        },
        {
         "alignmentgroup": "True",
         "hovertemplate": "Crime=omicidi volontari consumati di tipo mafioso<br>Year=%{x}<br>Value=%{y}<extra></extra>",
         "legendgroup": "omicidi volontari consumati di tipo mafioso",
         "marker": {
          "color": "#00cc96",
          "pattern": {
           "shape": ""
          }
         },
         "name": "omicidi volontari consumati di tipo mafioso",
         "offsetgroup": "omicidi volontari consumati di tipo mafioso",
         "orientation": "v",
         "showlegend": true,
         "textposition": "auto",
         "type": "bar",
         "x": [
          2010,
          2020,
          2008,
          2009,
          2011,
          2012,
          2013,
          2014,
          2015,
          2016,
          2017,
          2018,
          2019,
          2021,
          2006,
          2007
         ],
         "xaxis": "x",
         "y": [
          1,
          0,
          0,
          0,
          0,
          0,
          0,
          0,
          0,
          0,
          0,
          0,
          0,
          0,
          0,
          0
         ],
         "yaxis": "y"
        },
        {
         "alignmentgroup": "True",
         "hovertemplate": "Crime=infanticidi<br>Year=%{x}<br>Value=%{y}<extra></extra>",
         "legendgroup": "infanticidi",
         "marker": {
          "color": "#ab63fa",
          "pattern": {
           "shape": ""
          }
         },
         "name": "infanticidi",
         "offsetgroup": "infanticidi",
         "orientation": "v",
         "showlegend": true,
         "textposition": "auto",
         "type": "bar",
         "x": [
          2011,
          2010,
          2019,
          2006,
          2007,
          2008,
          2021,
          2020,
          2009,
          2012,
          2013,
          2014,
          2015,
          2016,
          2017,
          2018
         ],
         "xaxis": "x",
         "y": [
          1,
          1,
          0,
          0,
          0,
          0,
          0,
          0,
          0,
          0,
          0,
          0,
          0,
          0,
          0,
          0
         ],
         "yaxis": "y"
        },
        {
         "alignmentgroup": "True",
         "hovertemplate": "Crime=omicidi volontari consumati a scopo terroristico<br>Year=%{x}<br>Value=%{y}<extra></extra>",
         "legendgroup": "omicidi volontari consumati a scopo terroristico",
         "marker": {
          "color": "#FFA15A",
          "pattern": {
           "shape": ""
          }
         },
         "name": "omicidi volontari consumati a scopo terroristico",
         "offsetgroup": "omicidi volontari consumati a scopo terroristico",
         "orientation": "v",
         "showlegend": true,
         "textposition": "auto",
         "type": "bar",
         "x": [
          2021,
          2007,
          2008,
          2020,
          2009,
          2010,
          2011,
          2012,
          2013,
          2014,
          2015,
          2016,
          2017,
          2018,
          2019,
          2006
         ],
         "xaxis": "x",
         "y": [
          0,
          0,
          0,
          0,
          0,
          0,
          0,
          0,
          0,
          0,
          0,
          0,
          0,
          0,
          0,
          0
         ],
         "yaxis": "y"
        }
       ],
       "layout": {
        "barmode": "relative",
        "legend": {
         "title": {
          "text": "Crime"
         },
         "tracegroupgap": 0
        },
        "template": {
         "data": {
          "bar": [
           {
            "error_x": {
             "color": "#2a3f5f"
            },
            "error_y": {
             "color": "#2a3f5f"
            },
            "marker": {
             "line": {
              "color": "#E5ECF6",
              "width": 0.5
             },
             "pattern": {
              "fillmode": "overlay",
              "size": 10,
              "solidity": 0.2
             }
            },
            "type": "bar"
           }
          ],
          "barpolar": [
           {
            "marker": {
             "line": {
              "color": "#E5ECF6",
              "width": 0.5
             },
             "pattern": {
              "fillmode": "overlay",
              "size": 10,
              "solidity": 0.2
             }
            },
            "type": "barpolar"
           }
          ],
          "carpet": [
           {
            "aaxis": {
             "endlinecolor": "#2a3f5f",
             "gridcolor": "white",
             "linecolor": "white",
             "minorgridcolor": "white",
             "startlinecolor": "#2a3f5f"
            },
            "baxis": {
             "endlinecolor": "#2a3f5f",
             "gridcolor": "white",
             "linecolor": "white",
             "minorgridcolor": "white",
             "startlinecolor": "#2a3f5f"
            },
            "type": "carpet"
           }
          ],
          "choropleth": [
           {
            "colorbar": {
             "outlinewidth": 0,
             "ticks": ""
            },
            "type": "choropleth"
           }
          ],
          "contour": [
           {
            "colorbar": {
             "outlinewidth": 0,
             "ticks": ""
            },
            "colorscale": [
             [
              0,
              "#0d0887"
             ],
             [
              0.1111111111111111,
              "#46039f"
             ],
             [
              0.2222222222222222,
              "#7201a8"
             ],
             [
              0.3333333333333333,
              "#9c179e"
             ],
             [
              0.4444444444444444,
              "#bd3786"
             ],
             [
              0.5555555555555556,
              "#d8576b"
             ],
             [
              0.6666666666666666,
              "#ed7953"
             ],
             [
              0.7777777777777778,
              "#fb9f3a"
             ],
             [
              0.8888888888888888,
              "#fdca26"
             ],
             [
              1,
              "#f0f921"
             ]
            ],
            "type": "contour"
           }
          ],
          "contourcarpet": [
           {
            "colorbar": {
             "outlinewidth": 0,
             "ticks": ""
            },
            "type": "contourcarpet"
           }
          ],
          "heatmap": [
           {
            "colorbar": {
             "outlinewidth": 0,
             "ticks": ""
            },
            "colorscale": [
             [
              0,
              "#0d0887"
             ],
             [
              0.1111111111111111,
              "#46039f"
             ],
             [
              0.2222222222222222,
              "#7201a8"
             ],
             [
              0.3333333333333333,
              "#9c179e"
             ],
             [
              0.4444444444444444,
              "#bd3786"
             ],
             [
              0.5555555555555556,
              "#d8576b"
             ],
             [
              0.6666666666666666,
              "#ed7953"
             ],
             [
              0.7777777777777778,
              "#fb9f3a"
             ],
             [
              0.8888888888888888,
              "#fdca26"
             ],
             [
              1,
              "#f0f921"
             ]
            ],
            "type": "heatmap"
           }
          ],
          "heatmapgl": [
           {
            "colorbar": {
             "outlinewidth": 0,
             "ticks": ""
            },
            "colorscale": [
             [
              0,
              "#0d0887"
             ],
             [
              0.1111111111111111,
              "#46039f"
             ],
             [
              0.2222222222222222,
              "#7201a8"
             ],
             [
              0.3333333333333333,
              "#9c179e"
             ],
             [
              0.4444444444444444,
              "#bd3786"
             ],
             [
              0.5555555555555556,
              "#d8576b"
             ],
             [
              0.6666666666666666,
              "#ed7953"
             ],
             [
              0.7777777777777778,
              "#fb9f3a"
             ],
             [
              0.8888888888888888,
              "#fdca26"
             ],
             [
              1,
              "#f0f921"
             ]
            ],
            "type": "heatmapgl"
           }
          ],
          "histogram": [
           {
            "marker": {
             "pattern": {
              "fillmode": "overlay",
              "size": 10,
              "solidity": 0.2
             }
            },
            "type": "histogram"
           }
          ],
          "histogram2d": [
           {
            "colorbar": {
             "outlinewidth": 0,
             "ticks": ""
            },
            "colorscale": [
             [
              0,
              "#0d0887"
             ],
             [
              0.1111111111111111,
              "#46039f"
             ],
             [
              0.2222222222222222,
              "#7201a8"
             ],
             [
              0.3333333333333333,
              "#9c179e"
             ],
             [
              0.4444444444444444,
              "#bd3786"
             ],
             [
              0.5555555555555556,
              "#d8576b"
             ],
             [
              0.6666666666666666,
              "#ed7953"
             ],
             [
              0.7777777777777778,
              "#fb9f3a"
             ],
             [
              0.8888888888888888,
              "#fdca26"
             ],
             [
              1,
              "#f0f921"
             ]
            ],
            "type": "histogram2d"
           }
          ],
          "histogram2dcontour": [
           {
            "colorbar": {
             "outlinewidth": 0,
             "ticks": ""
            },
            "colorscale": [
             [
              0,
              "#0d0887"
             ],
             [
              0.1111111111111111,
              "#46039f"
             ],
             [
              0.2222222222222222,
              "#7201a8"
             ],
             [
              0.3333333333333333,
              "#9c179e"
             ],
             [
              0.4444444444444444,
              "#bd3786"
             ],
             [
              0.5555555555555556,
              "#d8576b"
             ],
             [
              0.6666666666666666,
              "#ed7953"
             ],
             [
              0.7777777777777778,
              "#fb9f3a"
             ],
             [
              0.8888888888888888,
              "#fdca26"
             ],
             [
              1,
              "#f0f921"
             ]
            ],
            "type": "histogram2dcontour"
           }
          ],
          "mesh3d": [
           {
            "colorbar": {
             "outlinewidth": 0,
             "ticks": ""
            },
            "type": "mesh3d"
           }
          ],
          "parcoords": [
           {
            "line": {
             "colorbar": {
              "outlinewidth": 0,
              "ticks": ""
             }
            },
            "type": "parcoords"
           }
          ],
          "pie": [
           {
            "automargin": true,
            "type": "pie"
           }
          ],
          "scatter": [
           {
            "fillpattern": {
             "fillmode": "overlay",
             "size": 10,
             "solidity": 0.2
            },
            "type": "scatter"
           }
          ],
          "scatter3d": [
           {
            "line": {
             "colorbar": {
              "outlinewidth": 0,
              "ticks": ""
             }
            },
            "marker": {
             "colorbar": {
              "outlinewidth": 0,
              "ticks": ""
             }
            },
            "type": "scatter3d"
           }
          ],
          "scattercarpet": [
           {
            "marker": {
             "colorbar": {
              "outlinewidth": 0,
              "ticks": ""
             }
            },
            "type": "scattercarpet"
           }
          ],
          "scattergeo": [
           {
            "marker": {
             "colorbar": {
              "outlinewidth": 0,
              "ticks": ""
             }
            },
            "type": "scattergeo"
           }
          ],
          "scattergl": [
           {
            "marker": {
             "colorbar": {
              "outlinewidth": 0,
              "ticks": ""
             }
            },
            "type": "scattergl"
           }
          ],
          "scattermapbox": [
           {
            "marker": {
             "colorbar": {
              "outlinewidth": 0,
              "ticks": ""
             }
            },
            "type": "scattermapbox"
           }
          ],
          "scatterpolar": [
           {
            "marker": {
             "colorbar": {
              "outlinewidth": 0,
              "ticks": ""
             }
            },
            "type": "scatterpolar"
           }
          ],
          "scatterpolargl": [
           {
            "marker": {
             "colorbar": {
              "outlinewidth": 0,
              "ticks": ""
             }
            },
            "type": "scatterpolargl"
           }
          ],
          "scatterternary": [
           {
            "marker": {
             "colorbar": {
              "outlinewidth": 0,
              "ticks": ""
             }
            },
            "type": "scatterternary"
           }
          ],
          "surface": [
           {
            "colorbar": {
             "outlinewidth": 0,
             "ticks": ""
            },
            "colorscale": [
             [
              0,
              "#0d0887"
             ],
             [
              0.1111111111111111,
              "#46039f"
             ],
             [
              0.2222222222222222,
              "#7201a8"
             ],
             [
              0.3333333333333333,
              "#9c179e"
             ],
             [
              0.4444444444444444,
              "#bd3786"
             ],
             [
              0.5555555555555556,
              "#d8576b"
             ],
             [
              0.6666666666666666,
              "#ed7953"
             ],
             [
              0.7777777777777778,
              "#fb9f3a"
             ],
             [
              0.8888888888888888,
              "#fdca26"
             ],
             [
              1,
              "#f0f921"
             ]
            ],
            "type": "surface"
           }
          ],
          "table": [
           {
            "cells": {
             "fill": {
              "color": "#EBF0F8"
             },
             "line": {
              "color": "white"
             }
            },
            "header": {
             "fill": {
              "color": "#C8D4E3"
             },
             "line": {
              "color": "white"
             }
            },
            "type": "table"
           }
          ]
         },
         "layout": {
          "annotationdefaults": {
           "arrowcolor": "#2a3f5f",
           "arrowhead": 0,
           "arrowwidth": 1
          },
          "autotypenumbers": "strict",
          "coloraxis": {
           "colorbar": {
            "outlinewidth": 0,
            "ticks": ""
           }
          },
          "colorscale": {
           "diverging": [
            [
             0,
             "#8e0152"
            ],
            [
             0.1,
             "#c51b7d"
            ],
            [
             0.2,
             "#de77ae"
            ],
            [
             0.3,
             "#f1b6da"
            ],
            [
             0.4,
             "#fde0ef"
            ],
            [
             0.5,
             "#f7f7f7"
            ],
            [
             0.6,
             "#e6f5d0"
            ],
            [
             0.7,
             "#b8e186"
            ],
            [
             0.8,
             "#7fbc41"
            ],
            [
             0.9,
             "#4d9221"
            ],
            [
             1,
             "#276419"
            ]
           ],
           "sequential": [
            [
             0,
             "#0d0887"
            ],
            [
             0.1111111111111111,
             "#46039f"
            ],
            [
             0.2222222222222222,
             "#7201a8"
            ],
            [
             0.3333333333333333,
             "#9c179e"
            ],
            [
             0.4444444444444444,
             "#bd3786"
            ],
            [
             0.5555555555555556,
             "#d8576b"
            ],
            [
             0.6666666666666666,
             "#ed7953"
            ],
            [
             0.7777777777777778,
             "#fb9f3a"
            ],
            [
             0.8888888888888888,
             "#fdca26"
            ],
            [
             1,
             "#f0f921"
            ]
           ],
           "sequentialminus": [
            [
             0,
             "#0d0887"
            ],
            [
             0.1111111111111111,
             "#46039f"
            ],
            [
             0.2222222222222222,
             "#7201a8"
            ],
            [
             0.3333333333333333,
             "#9c179e"
            ],
            [
             0.4444444444444444,
             "#bd3786"
            ],
            [
             0.5555555555555556,
             "#d8576b"
            ],
            [
             0.6666666666666666,
             "#ed7953"
            ],
            [
             0.7777777777777778,
             "#fb9f3a"
            ],
            [
             0.8888888888888888,
             "#fdca26"
            ],
            [
             1,
             "#f0f921"
            ]
           ]
          },
          "colorway": [
           "#636efa",
           "#EF553B",
           "#00cc96",
           "#ab63fa",
           "#FFA15A",
           "#19d3f3",
           "#FF6692",
           "#B6E880",
           "#FF97FF",
           "#FECB52"
          ],
          "font": {
           "color": "#2a3f5f"
          },
          "geo": {
           "bgcolor": "white",
           "lakecolor": "white",
           "landcolor": "#E5ECF6",
           "showlakes": true,
           "showland": true,
           "subunitcolor": "white"
          },
          "hoverlabel": {
           "align": "left"
          },
          "hovermode": "closest",
          "mapbox": {
           "style": "light"
          },
          "paper_bgcolor": "white",
          "plot_bgcolor": "#E5ECF6",
          "polar": {
           "angularaxis": {
            "gridcolor": "white",
            "linecolor": "white",
            "ticks": ""
           },
           "bgcolor": "#E5ECF6",
           "radialaxis": {
            "gridcolor": "white",
            "linecolor": "white",
            "ticks": ""
           }
          },
          "scene": {
           "xaxis": {
            "backgroundcolor": "#E5ECF6",
            "gridcolor": "white",
            "gridwidth": 2,
            "linecolor": "white",
            "showbackground": true,
            "ticks": "",
            "zerolinecolor": "white"
           },
           "yaxis": {
            "backgroundcolor": "#E5ECF6",
            "gridcolor": "white",
            "gridwidth": 2,
            "linecolor": "white",
            "showbackground": true,
            "ticks": "",
            "zerolinecolor": "white"
           },
           "zaxis": {
            "backgroundcolor": "#E5ECF6",
            "gridcolor": "white",
            "gridwidth": 2,
            "linecolor": "white",
            "showbackground": true,
            "ticks": "",
            "zerolinecolor": "white"
           }
          },
          "shapedefaults": {
           "line": {
            "color": "#2a3f5f"
           }
          },
          "ternary": {
           "aaxis": {
            "gridcolor": "white",
            "linecolor": "white",
            "ticks": ""
           },
           "baxis": {
            "gridcolor": "white",
            "linecolor": "white",
            "ticks": ""
           },
           "bgcolor": "#E5ECF6",
           "caxis": {
            "gridcolor": "white",
            "linecolor": "white",
            "ticks": ""
           }
          },
          "title": {
           "x": 0.05
          },
          "xaxis": {
           "automargin": true,
           "gridcolor": "white",
           "linecolor": "white",
           "ticks": "",
           "title": {
            "standoff": 15
           },
           "zerolinecolor": "white",
           "zerolinewidth": 2
          },
          "yaxis": {
           "automargin": true,
           "gridcolor": "white",
           "linecolor": "white",
           "ticks": "",
           "title": {
            "standoff": 15
           },
           "zerolinecolor": "white",
           "zerolinewidth": 2
          }
         }
        },
        "title": {
         "text": "Trend of the different types of crime reported over the years in the Emilia Romagna region"
        },
        "xaxis": {
         "anchor": "y",
         "domain": [
          0,
          1
         ],
         "title": {
          "text": "Year"
         }
        },
        "yaxis": {
         "anchor": "x",
         "domain": [
          0,
          1
         ],
         "title": {
          "text": "Value"
         }
        }
       }
      }
     },
     "metadata": {},
     "output_type": "display_data"
    }
   ],
   "source": [
    "px.bar(data_frame= er_df.loc[er_df['Crime'] != 'totale'].groupby(['Crime', 'Year']).sum(numeric_only=True).sort_values(by='Value', ascending=False).reset_index(),\n",
    "       x = 'Year',\n",
    "       y = 'Value',\n",
    "       color= 'Crime',\n",
    "       title= 'Trend of the different types of crime reported over the years in the Emilia Romagna region')"
   ]
  },
  {
   "cell_type": "code",
   "execution_count": 30,
   "metadata": {},
   "outputs": [
    {
     "name": "stdout",
     "output_type": "stream",
     "text": [
      "The crimes that increased over the North-East macro area in the time period taken into consideration are: \n",
      " {'altri delitti': '65.05%', 'contraffazione di marchi e prodotti industriali': '178.43%', 'corruzione di minorenne': '14.29%', 'delitti informatici': '969.33%', 'estorsioni': '206.00%', 'incendi boschivi': '122.41%', 'omicidi volontari consumati': '3.45%', 'percosse': '13.87%', 'pornografia minorile e detenzione di materiale pedopornografico': '217.86%', 'rapine in abitazione': '21.26%', 'rapine in pubblica via': '36.26%', 'riciclaggio e impiego di denaro, beni o utilità di provenienza illecita': '207.89%', 'truffe e frodi informatiche': '154.21%', 'violenze sessuali': '34.40%'}\n",
      "\n",
      "The crimes that had a decrease higher than -0.5 are the following: \n",
      " {'associazione di tipo mafioso': '-100.00%', 'attentati': '-65.62%', 'contrabbando': '-100.00%', 'furti': '-51.70%', 'furti di automezzi pesanti trasportanti merci': '-86.81%', 'furti di autovetture': '-78.73%', 'furti di ciclomotori': '-87.73%', \"furti di opere d'arte e materiale archeologico\": '-75.00%', 'furti in auto in sosta': '-70.03%', 'rapine in banca': '-98.59%', 'rapine in uffici postali': '-82.93%', 'ricettazione': '-50.66%', 'sequestri di persona': '-62.16%', 'sfruttamento e favoreggiamento della prostituzione': '-72.73%', 'usura': '-52.63%', 'violazione della proprietà intellettuale': '-51.65%'}\n"
     ]
    }
   ],
   "source": [
    "er_groupby_crime_year = er_df.groupby(['Crime', 'Year']).sum(numeric_only=True)['Value'].reset_index()\n",
    "\n",
    "increasing_rates_er = functions.find_increasing_rates(er_groupby_crime_year)\n",
    "print('The crimes that increased over the North-East macro area in the time period taken into consideration are: \\n', increasing_rates_er)\n",
    "\n",
    "threshold = -0.50\n",
    "decreasing_rates_er = functions.find_decreasing_rates(er_groupby_crime_year, threshold= threshold)\n",
    "print(f\"\\nThe crimes that had a decrease higher than {threshold} are the following: \\n\", decreasing_rates_er)"
   ]
  },
  {
   "attachments": {},
   "cell_type": "markdown",
   "metadata": {},
   "source": [
    "### Ferrara (*provincial level*)\n",
    "The fourth **unit of analysis** taken into consideration will be the **Ferrara** province.\n",
    "\n",
    "We are gonna perform the same operation we did with the previous units of analysis."
   ]
  },
  {
   "cell_type": "code",
   "execution_count": 26,
   "metadata": {},
   "outputs": [
    {
     "name": "stdout",
     "output_type": "stream",
     "text": [
      "Overall, in the 16 years taken into consideration, in the Emilia Romagna region 251587 crimes were reported. \n",
      "A mean of 15724 per year and 43 per day \n",
      "A standard deviation of 1623.\n"
     ]
    },
    {
     "data": {
      "application/vnd.plotly.v1+json": {
       "config": {
        "plotlyServerURL": "https://plot.ly"
       },
       "data": [
        {
         "alignmentgroup": "True",
         "hovertemplate": "Year=%{x}<br>Value=%{y}<extra></extra>",
         "legendgroup": "",
         "marker": {
          "color": "#636efa",
          "pattern": {
           "shape": ""
          }
         },
         "name": "",
         "offsetgroup": "",
         "orientation": "v",
         "showlegend": false,
         "textposition": "auto",
         "type": "bar",
         "x": [
          2006,
          2007,
          2008,
          2009,
          2010,
          2011,
          2012,
          2013,
          2014,
          2015,
          2016,
          2017,
          2018,
          2019,
          2020,
          2021
         ],
         "xaxis": "x",
         "y": [
          17560,
          18963,
          16712,
          16042,
          15101,
          15842,
          16593,
          16961,
          16865,
          16327,
          15115,
          14714,
          14926,
          14642,
          12224,
          13000
         ],
         "yaxis": "y"
        }
       ],
       "layout": {
        "barmode": "relative",
        "legend": {
         "tracegroupgap": 0
        },
        "template": {
         "data": {
          "bar": [
           {
            "error_x": {
             "color": "#2a3f5f"
            },
            "error_y": {
             "color": "#2a3f5f"
            },
            "marker": {
             "line": {
              "color": "#E5ECF6",
              "width": 0.5
             },
             "pattern": {
              "fillmode": "overlay",
              "size": 10,
              "solidity": 0.2
             }
            },
            "type": "bar"
           }
          ],
          "barpolar": [
           {
            "marker": {
             "line": {
              "color": "#E5ECF6",
              "width": 0.5
             },
             "pattern": {
              "fillmode": "overlay",
              "size": 10,
              "solidity": 0.2
             }
            },
            "type": "barpolar"
           }
          ],
          "carpet": [
           {
            "aaxis": {
             "endlinecolor": "#2a3f5f",
             "gridcolor": "white",
             "linecolor": "white",
             "minorgridcolor": "white",
             "startlinecolor": "#2a3f5f"
            },
            "baxis": {
             "endlinecolor": "#2a3f5f",
             "gridcolor": "white",
             "linecolor": "white",
             "minorgridcolor": "white",
             "startlinecolor": "#2a3f5f"
            },
            "type": "carpet"
           }
          ],
          "choropleth": [
           {
            "colorbar": {
             "outlinewidth": 0,
             "ticks": ""
            },
            "type": "choropleth"
           }
          ],
          "contour": [
           {
            "colorbar": {
             "outlinewidth": 0,
             "ticks": ""
            },
            "colorscale": [
             [
              0,
              "#0d0887"
             ],
             [
              0.1111111111111111,
              "#46039f"
             ],
             [
              0.2222222222222222,
              "#7201a8"
             ],
             [
              0.3333333333333333,
              "#9c179e"
             ],
             [
              0.4444444444444444,
              "#bd3786"
             ],
             [
              0.5555555555555556,
              "#d8576b"
             ],
             [
              0.6666666666666666,
              "#ed7953"
             ],
             [
              0.7777777777777778,
              "#fb9f3a"
             ],
             [
              0.8888888888888888,
              "#fdca26"
             ],
             [
              1,
              "#f0f921"
             ]
            ],
            "type": "contour"
           }
          ],
          "contourcarpet": [
           {
            "colorbar": {
             "outlinewidth": 0,
             "ticks": ""
            },
            "type": "contourcarpet"
           }
          ],
          "heatmap": [
           {
            "colorbar": {
             "outlinewidth": 0,
             "ticks": ""
            },
            "colorscale": [
             [
              0,
              "#0d0887"
             ],
             [
              0.1111111111111111,
              "#46039f"
             ],
             [
              0.2222222222222222,
              "#7201a8"
             ],
             [
              0.3333333333333333,
              "#9c179e"
             ],
             [
              0.4444444444444444,
              "#bd3786"
             ],
             [
              0.5555555555555556,
              "#d8576b"
             ],
             [
              0.6666666666666666,
              "#ed7953"
             ],
             [
              0.7777777777777778,
              "#fb9f3a"
             ],
             [
              0.8888888888888888,
              "#fdca26"
             ],
             [
              1,
              "#f0f921"
             ]
            ],
            "type": "heatmap"
           }
          ],
          "heatmapgl": [
           {
            "colorbar": {
             "outlinewidth": 0,
             "ticks": ""
            },
            "colorscale": [
             [
              0,
              "#0d0887"
             ],
             [
              0.1111111111111111,
              "#46039f"
             ],
             [
              0.2222222222222222,
              "#7201a8"
             ],
             [
              0.3333333333333333,
              "#9c179e"
             ],
             [
              0.4444444444444444,
              "#bd3786"
             ],
             [
              0.5555555555555556,
              "#d8576b"
             ],
             [
              0.6666666666666666,
              "#ed7953"
             ],
             [
              0.7777777777777778,
              "#fb9f3a"
             ],
             [
              0.8888888888888888,
              "#fdca26"
             ],
             [
              1,
              "#f0f921"
             ]
            ],
            "type": "heatmapgl"
           }
          ],
          "histogram": [
           {
            "marker": {
             "pattern": {
              "fillmode": "overlay",
              "size": 10,
              "solidity": 0.2
             }
            },
            "type": "histogram"
           }
          ],
          "histogram2d": [
           {
            "colorbar": {
             "outlinewidth": 0,
             "ticks": ""
            },
            "colorscale": [
             [
              0,
              "#0d0887"
             ],
             [
              0.1111111111111111,
              "#46039f"
             ],
             [
              0.2222222222222222,
              "#7201a8"
             ],
             [
              0.3333333333333333,
              "#9c179e"
             ],
             [
              0.4444444444444444,
              "#bd3786"
             ],
             [
              0.5555555555555556,
              "#d8576b"
             ],
             [
              0.6666666666666666,
              "#ed7953"
             ],
             [
              0.7777777777777778,
              "#fb9f3a"
             ],
             [
              0.8888888888888888,
              "#fdca26"
             ],
             [
              1,
              "#f0f921"
             ]
            ],
            "type": "histogram2d"
           }
          ],
          "histogram2dcontour": [
           {
            "colorbar": {
             "outlinewidth": 0,
             "ticks": ""
            },
            "colorscale": [
             [
              0,
              "#0d0887"
             ],
             [
              0.1111111111111111,
              "#46039f"
             ],
             [
              0.2222222222222222,
              "#7201a8"
             ],
             [
              0.3333333333333333,
              "#9c179e"
             ],
             [
              0.4444444444444444,
              "#bd3786"
             ],
             [
              0.5555555555555556,
              "#d8576b"
             ],
             [
              0.6666666666666666,
              "#ed7953"
             ],
             [
              0.7777777777777778,
              "#fb9f3a"
             ],
             [
              0.8888888888888888,
              "#fdca26"
             ],
             [
              1,
              "#f0f921"
             ]
            ],
            "type": "histogram2dcontour"
           }
          ],
          "mesh3d": [
           {
            "colorbar": {
             "outlinewidth": 0,
             "ticks": ""
            },
            "type": "mesh3d"
           }
          ],
          "parcoords": [
           {
            "line": {
             "colorbar": {
              "outlinewidth": 0,
              "ticks": ""
             }
            },
            "type": "parcoords"
           }
          ],
          "pie": [
           {
            "automargin": true,
            "type": "pie"
           }
          ],
          "scatter": [
           {
            "fillpattern": {
             "fillmode": "overlay",
             "size": 10,
             "solidity": 0.2
            },
            "type": "scatter"
           }
          ],
          "scatter3d": [
           {
            "line": {
             "colorbar": {
              "outlinewidth": 0,
              "ticks": ""
             }
            },
            "marker": {
             "colorbar": {
              "outlinewidth": 0,
              "ticks": ""
             }
            },
            "type": "scatter3d"
           }
          ],
          "scattercarpet": [
           {
            "marker": {
             "colorbar": {
              "outlinewidth": 0,
              "ticks": ""
             }
            },
            "type": "scattercarpet"
           }
          ],
          "scattergeo": [
           {
            "marker": {
             "colorbar": {
              "outlinewidth": 0,
              "ticks": ""
             }
            },
            "type": "scattergeo"
           }
          ],
          "scattergl": [
           {
            "marker": {
             "colorbar": {
              "outlinewidth": 0,
              "ticks": ""
             }
            },
            "type": "scattergl"
           }
          ],
          "scattermapbox": [
           {
            "marker": {
             "colorbar": {
              "outlinewidth": 0,
              "ticks": ""
             }
            },
            "type": "scattermapbox"
           }
          ],
          "scatterpolar": [
           {
            "marker": {
             "colorbar": {
              "outlinewidth": 0,
              "ticks": ""
             }
            },
            "type": "scatterpolar"
           }
          ],
          "scatterpolargl": [
           {
            "marker": {
             "colorbar": {
              "outlinewidth": 0,
              "ticks": ""
             }
            },
            "type": "scatterpolargl"
           }
          ],
          "scatterternary": [
           {
            "marker": {
             "colorbar": {
              "outlinewidth": 0,
              "ticks": ""
             }
            },
            "type": "scatterternary"
           }
          ],
          "surface": [
           {
            "colorbar": {
             "outlinewidth": 0,
             "ticks": ""
            },
            "colorscale": [
             [
              0,
              "#0d0887"
             ],
             [
              0.1111111111111111,
              "#46039f"
             ],
             [
              0.2222222222222222,
              "#7201a8"
             ],
             [
              0.3333333333333333,
              "#9c179e"
             ],
             [
              0.4444444444444444,
              "#bd3786"
             ],
             [
              0.5555555555555556,
              "#d8576b"
             ],
             [
              0.6666666666666666,
              "#ed7953"
             ],
             [
              0.7777777777777778,
              "#fb9f3a"
             ],
             [
              0.8888888888888888,
              "#fdca26"
             ],
             [
              1,
              "#f0f921"
             ]
            ],
            "type": "surface"
           }
          ],
          "table": [
           {
            "cells": {
             "fill": {
              "color": "#EBF0F8"
             },
             "line": {
              "color": "white"
             }
            },
            "header": {
             "fill": {
              "color": "#C8D4E3"
             },
             "line": {
              "color": "white"
             }
            },
            "type": "table"
           }
          ]
         },
         "layout": {
          "annotationdefaults": {
           "arrowcolor": "#2a3f5f",
           "arrowhead": 0,
           "arrowwidth": 1
          },
          "autotypenumbers": "strict",
          "coloraxis": {
           "colorbar": {
            "outlinewidth": 0,
            "ticks": ""
           }
          },
          "colorscale": {
           "diverging": [
            [
             0,
             "#8e0152"
            ],
            [
             0.1,
             "#c51b7d"
            ],
            [
             0.2,
             "#de77ae"
            ],
            [
             0.3,
             "#f1b6da"
            ],
            [
             0.4,
             "#fde0ef"
            ],
            [
             0.5,
             "#f7f7f7"
            ],
            [
             0.6,
             "#e6f5d0"
            ],
            [
             0.7,
             "#b8e186"
            ],
            [
             0.8,
             "#7fbc41"
            ],
            [
             0.9,
             "#4d9221"
            ],
            [
             1,
             "#276419"
            ]
           ],
           "sequential": [
            [
             0,
             "#0d0887"
            ],
            [
             0.1111111111111111,
             "#46039f"
            ],
            [
             0.2222222222222222,
             "#7201a8"
            ],
            [
             0.3333333333333333,
             "#9c179e"
            ],
            [
             0.4444444444444444,
             "#bd3786"
            ],
            [
             0.5555555555555556,
             "#d8576b"
            ],
            [
             0.6666666666666666,
             "#ed7953"
            ],
            [
             0.7777777777777778,
             "#fb9f3a"
            ],
            [
             0.8888888888888888,
             "#fdca26"
            ],
            [
             1,
             "#f0f921"
            ]
           ],
           "sequentialminus": [
            [
             0,
             "#0d0887"
            ],
            [
             0.1111111111111111,
             "#46039f"
            ],
            [
             0.2222222222222222,
             "#7201a8"
            ],
            [
             0.3333333333333333,
             "#9c179e"
            ],
            [
             0.4444444444444444,
             "#bd3786"
            ],
            [
             0.5555555555555556,
             "#d8576b"
            ],
            [
             0.6666666666666666,
             "#ed7953"
            ],
            [
             0.7777777777777778,
             "#fb9f3a"
            ],
            [
             0.8888888888888888,
             "#fdca26"
            ],
            [
             1,
             "#f0f921"
            ]
           ]
          },
          "colorway": [
           "#636efa",
           "#EF553B",
           "#00cc96",
           "#ab63fa",
           "#FFA15A",
           "#19d3f3",
           "#FF6692",
           "#B6E880",
           "#FF97FF",
           "#FECB52"
          ],
          "font": {
           "color": "#2a3f5f"
          },
          "geo": {
           "bgcolor": "white",
           "lakecolor": "white",
           "landcolor": "#E5ECF6",
           "showlakes": true,
           "showland": true,
           "subunitcolor": "white"
          },
          "hoverlabel": {
           "align": "left"
          },
          "hovermode": "closest",
          "mapbox": {
           "style": "light"
          },
          "paper_bgcolor": "white",
          "plot_bgcolor": "#E5ECF6",
          "polar": {
           "angularaxis": {
            "gridcolor": "white",
            "linecolor": "white",
            "ticks": ""
           },
           "bgcolor": "#E5ECF6",
           "radialaxis": {
            "gridcolor": "white",
            "linecolor": "white",
            "ticks": ""
           }
          },
          "scene": {
           "xaxis": {
            "backgroundcolor": "#E5ECF6",
            "gridcolor": "white",
            "gridwidth": 2,
            "linecolor": "white",
            "showbackground": true,
            "ticks": "",
            "zerolinecolor": "white"
           },
           "yaxis": {
            "backgroundcolor": "#E5ECF6",
            "gridcolor": "white",
            "gridwidth": 2,
            "linecolor": "white",
            "showbackground": true,
            "ticks": "",
            "zerolinecolor": "white"
           },
           "zaxis": {
            "backgroundcolor": "#E5ECF6",
            "gridcolor": "white",
            "gridwidth": 2,
            "linecolor": "white",
            "showbackground": true,
            "ticks": "",
            "zerolinecolor": "white"
           }
          },
          "shapedefaults": {
           "line": {
            "color": "#2a3f5f"
           }
          },
          "ternary": {
           "aaxis": {
            "gridcolor": "white",
            "linecolor": "white",
            "ticks": ""
           },
           "baxis": {
            "gridcolor": "white",
            "linecolor": "white",
            "ticks": ""
           },
           "bgcolor": "#E5ECF6",
           "caxis": {
            "gridcolor": "white",
            "linecolor": "white",
            "ticks": ""
           }
          },
          "title": {
           "x": 0.05
          },
          "xaxis": {
           "automargin": true,
           "gridcolor": "white",
           "linecolor": "white",
           "ticks": "",
           "title": {
            "standoff": 15
           },
           "zerolinecolor": "white",
           "zerolinewidth": 2
          },
          "yaxis": {
           "automargin": true,
           "gridcolor": "white",
           "linecolor": "white",
           "ticks": "",
           "title": {
            "standoff": 15
           },
           "zerolinecolor": "white",
           "zerolinewidth": 2
          }
         }
        },
        "title": {
         "text": "Trend of the total number of crimes reported over the years in the Ferrara province"
        },
        "xaxis": {
         "anchor": "y",
         "domain": [
          0,
          1
         ],
         "title": {
          "text": "Year"
         }
        },
        "yaxis": {
         "anchor": "x",
         "domain": [
          0,
          1
         ],
         "title": {
          "text": "Value"
         }
        }
       }
      }
     },
     "metadata": {},
     "output_type": "display_data"
    }
   ],
   "source": [
    "ferrara_df = functions.get_province_df(df, province='Ferrara')\n",
    "ferrara_total_values = ferrara_df.loc[ferrara_df['Crime'] == 'totale'].groupby(['Year']).sum(numeric_only=True)['Value']\n",
    "\n",
    "\n",
    "print(f\"Overall, in the 16 years taken into consideration, in the Emilia Romagna region {sum(ferrara_total_values)} crimes were reported.\",\n",
    "        f\"\\nA mean of {round(sum(ferrara_total_values)/len(ferrara_total_values))} per year and {round((sum(ferrara_total_values)/len(ferrara_total_values) / 365))} per day\",\n",
    "        f\"\\nA standard deviation of {round(np.std(ferrara_total_values))}.\")\n",
    "\n",
    "px.bar(data_frame= ferrara_total_values.reset_index(),\n",
    "       x = 'Year',\n",
    "       y = 'Value',\n",
    "       title= 'Trend of the total number of crimes reported over the years in the Ferrara province')"
   ]
  },
  {
   "cell_type": "code",
   "execution_count": 27,
   "metadata": {},
   "outputs": [
    {
     "name": "stdout",
     "output_type": "stream",
     "text": [
      "Max:\n",
      " Year\n",
      "2007    18963\n",
      "Name: Value, dtype: int64\n",
      "\n",
      "Min:\n",
      " Year\n",
      "2020    12224\n",
      "Name: Value, dtype: int64\n"
     ]
    }
   ],
   "source": [
    "# Finding the year with the maximum crimes reported\n",
    "print('Max:\\n', ferrara_total_values[ferrara_total_values == max(ferrara_total_values)])\n",
    "\n",
    "# Finding the year with the minimum crimes reported\n",
    "print('\\nMin:\\n',ferrara_total_values[ferrara_total_values == min(ferrara_total_values)])"
   ]
  },
  {
   "cell_type": "code",
   "execution_count": 29,
   "metadata": {},
   "outputs": [
    {
     "data": {
      "application/vnd.plotly.v1+json": {
       "config": {
        "plotlyServerURL": "https://plot.ly"
       },
       "data": [
        {
         "alignmentgroup": "True",
         "hovertemplate": "Crime=furti<br>Year=%{x}<br>Value=%{y}<extra></extra>",
         "legendgroup": "furti",
         "marker": {
          "color": "#636efa",
          "pattern": {
           "shape": ""
          }
         },
         "name": "furti",
         "offsetgroup": "furti",
         "orientation": "v",
         "showlegend": true,
         "textposition": "auto",
         "type": "bar",
         "x": [
          2007,
          2006,
          2014,
          2012,
          2013,
          2015,
          2016,
          2008,
          2011,
          2009,
          2017,
          2018,
          2010,
          2019,
          2021,
          2020
         ],
         "xaxis": "x",
         "y": [
          11003,
          10701,
          10191,
          9971,
          9904,
          9508,
          8823,
          8754,
          8683,
          8663,
          8016,
          7991,
          7925,
          7189,
          4876,
          4811
         ],
         "yaxis": "y"
        },
        {
         "alignmentgroup": "True",
         "hovertemplate": "Crime=altri delitti<br>Year=%{x}<br>Value=%{y}<extra></extra>",
         "legendgroup": "altri delitti",
         "marker": {
          "color": "#EF553B",
          "pattern": {
           "shape": ""
          }
         },
         "name": "altri delitti",
         "offsetgroup": "altri delitti",
         "orientation": "v",
         "showlegend": true,
         "textposition": "auto",
         "type": "bar",
         "x": [
          2021,
          2017,
          2019,
          2020,
          2018,
          2016,
          2008,
          2015,
          2007,
          2013,
          2009,
          2014,
          2010,
          2011,
          2012,
          2006
         ],
         "xaxis": "x",
         "y": [
          3164,
          3075,
          3005,
          2933,
          2779,
          2651,
          2541,
          2521,
          2511,
          2472,
          2389,
          2348,
          2339,
          2286,
          2090,
          2011
         ],
         "yaxis": "y"
        },
        {
         "alignmentgroup": "True",
         "hovertemplate": "Crime=danneggiamenti<br>Year=%{x}<br>Value=%{y}<extra></extra>",
         "legendgroup": "danneggiamenti",
         "marker": {
          "color": "#00cc96",
          "pattern": {
           "shape": ""
          }
         },
         "name": "danneggiamenti",
         "offsetgroup": "danneggiamenti",
         "orientation": "v",
         "showlegend": true,
         "textposition": "auto",
         "type": "bar",
         "x": [
          2009,
          2007,
          2010,
          2008,
          2011,
          2012,
          2006,
          2013,
          2019,
          2015,
          2018,
          2021,
          2014,
          2017,
          2020,
          2016
         ],
         "xaxis": "x",
         "y": [
          2197,
          2177,
          2175,
          2151,
          2017,
          1793,
          1790,
          1788,
          1463,
          1454,
          1437,
          1388,
          1351,
          1284,
          1263,
          1179
         ],
         "yaxis": "y"
        },
        {
         "alignmentgroup": "True",
         "hovertemplate": "Crime=furti in abitazioni<br>Year=%{x}<br>Value=%{y}<extra></extra>",
         "legendgroup": "furti in abitazioni",
         "marker": {
          "color": "#ab63fa",
          "pattern": {
           "shape": ""
          }
         },
         "name": "furti in abitazioni",
         "offsetgroup": "furti in abitazioni",
         "orientation": "v",
         "showlegend": true,
         "textposition": "auto",
         "type": "bar",
         "x": [
          2014,
          2015,
          2013,
          2012,
          2016,
          2011,
          2019,
          2018,
          2017,
          2007,
          2006,
          2010,
          2009,
          2021,
          2008,
          2020
         ],
         "xaxis": "x",
         "y": [
          2146,
          1869,
          1789,
          1697,
          1517,
          1264,
          1161,
          1156,
          1126,
          1091,
          1090,
          1047,
          1033,
          1016,
          999,
          849
         ],
         "yaxis": "y"
        },
        {
         "alignmentgroup": "True",
         "hovertemplate": "Crime=truffe e frodi informatiche<br>Year=%{x}<br>Value=%{y}<extra></extra>",
         "legendgroup": "truffe e frodi informatiche",
         "marker": {
          "color": "#FFA15A",
          "pattern": {
           "shape": ""
          }
         },
         "name": "truffe e frodi informatiche",
         "offsetgroup": "truffe e frodi informatiche",
         "orientation": "v",
         "showlegend": true,
         "textposition": "auto",
         "type": "bar",
         "x": [
          2021,
          2020,
          2019,
          2018,
          2017,
          2016,
          2006,
          2014,
          2013,
          2015,
          2007,
          2008,
          2012,
          2011,
          2010,
          2009
         ],
         "xaxis": "x",
         "y": [
          1964,
          1668,
          1388,
          1037,
          780,
          768,
          746,
          739,
          730,
          657,
          657,
          563,
          524,
          502,
          478,
          450
         ],
         "yaxis": "y"
        },
        {
         "alignmentgroup": "True",
         "hovertemplate": "Crime=furti in auto in sosta<br>Year=%{x}<br>Value=%{y}<extra></extra>",
         "legendgroup": "furti in auto in sosta",
         "marker": {
          "color": "#19d3f3",
          "pattern": {
           "shape": ""
          }
         },
         "name": "furti in auto in sosta",
         "offsetgroup": "furti in auto in sosta",
         "orientation": "v",
         "showlegend": true,
         "textposition": "auto",
         "type": "bar",
         "x": [
          2006,
          2007,
          2014,
          2015,
          2016,
          2008,
          2013,
          2009,
          2012,
          2011,
          2017,
          2010,
          2018,
          2019,
          2020,
          2021
         ],
         "xaxis": "x",
         "y": [
          1879,
          1700,
          1362,
          1295,
          1271,
          1257,
          1250,
          1230,
          1147,
          1106,
          1101,
          1062,
          891,
          754,
          451,
          410
         ],
         "yaxis": "y"
        },
        {
         "alignmentgroup": "True",
         "hovertemplate": "Crime=furti con destrezza<br>Year=%{x}<br>Value=%{y}<extra></extra>",
         "legendgroup": "furti con destrezza",
         "marker": {
          "color": "#FF6692",
          "pattern": {
           "shape": ""
          }
         },
         "name": "furti con destrezza",
         "offsetgroup": "furti con destrezza",
         "orientation": "v",
         "showlegend": true,
         "textposition": "auto",
         "type": "bar",
         "x": [
          2019,
          2018,
          2016,
          2015,
          2017,
          2014,
          2020,
          2007,
          2006,
          2013,
          2011,
          2021,
          2012,
          2008,
          2009,
          2010
         ],
         "xaxis": "x",
         "y": [
          1169,
          962,
          848,
          818,
          760,
          681,
          675,
          657,
          644,
          553,
          548,
          541,
          537,
          459,
          423,
          371
         ],
         "yaxis": "y"
        },
        {
         "alignmentgroup": "True",
         "hovertemplate": "Crime=furti in esercizi commerciali<br>Year=%{x}<br>Value=%{y}<extra></extra>",
         "legendgroup": "furti in esercizi commerciali",
         "marker": {
          "color": "#B6E880",
          "pattern": {
           "shape": ""
          }
         },
         "name": "furti in esercizi commerciali",
         "offsetgroup": "furti in esercizi commerciali",
         "orientation": "v",
         "showlegend": true,
         "textposition": "auto",
         "type": "bar",
         "x": [
          2006,
          2007,
          2009,
          2015,
          2016,
          2013,
          2012,
          2011,
          2010,
          2014,
          2018,
          2017,
          2008,
          2019,
          2020,
          2021
         ],
         "xaxis": "x",
         "y": [
          918,
          907,
          868,
          832,
          806,
          782,
          773,
          741,
          739,
          734,
          719,
          686,
          666,
          635,
          460,
          435
         ],
         "yaxis": "y"
        },
        {
         "alignmentgroup": "True",
         "hovertemplate": "Crime=ingiurie<br>Year=%{x}<br>Value=%{y}<extra></extra>",
         "legendgroup": "ingiurie",
         "marker": {
          "color": "#FF97FF",
          "pattern": {
           "shape": ""
          }
         },
         "name": "ingiurie",
         "offsetgroup": "ingiurie",
         "orientation": "v",
         "showlegend": true,
         "textposition": "auto",
         "type": "bar",
         "x": [
          2008,
          2007,
          2011,
          2006,
          2009,
          2014,
          2012,
          2010,
          2013,
          2015,
          2016,
          2017
         ],
         "xaxis": "x",
         "y": [
          693,
          627,
          600,
          590,
          570,
          549,
          530,
          517,
          515,
          485,
          62,
          7
         ],
         "yaxis": "y"
        },
        {
         "alignmentgroup": "True",
         "hovertemplate": "Crime=minacce<br>Year=%{x}<br>Value=%{y}<extra></extra>",
         "legendgroup": "minacce",
         "marker": {
          "color": "#FECB52",
          "pattern": {
           "shape": ""
          }
         },
         "name": "minacce",
         "offsetgroup": "minacce",
         "orientation": "v",
         "showlegend": true,
         "textposition": "auto",
         "type": "bar",
         "x": [
          2008,
          2007,
          2009,
          2014,
          2012,
          2006,
          2010,
          2015,
          2011,
          2013,
          2020,
          2016,
          2021,
          2018,
          2019,
          2017
         ],
         "xaxis": "x",
         "y": [
          653,
          616,
          601,
          592,
          572,
          572,
          561,
          552,
          542,
          538,
          473,
          471,
          443,
          436,
          432,
          422
         ],
         "yaxis": "y"
        },
        {
         "alignmentgroup": "True",
         "hovertemplate": "Crime=furti di autovetture<br>Year=%{x}<br>Value=%{y}<extra></extra>",
         "legendgroup": "furti di autovetture",
         "marker": {
          "color": "#636efa",
          "pattern": {
           "shape": ""
          }
         },
         "name": "furti di autovetture",
         "offsetgroup": "furti di autovetture",
         "orientation": "v",
         "showlegend": true,
         "textposition": "auto",
         "type": "bar",
         "x": [
          2007,
          2006,
          2009,
          2010,
          2012,
          2008,
          2011,
          2013,
          2014,
          2015,
          2016,
          2019,
          2017,
          2018,
          2020,
          2021
         ],
         "xaxis": "x",
         "y": [
          494,
          414,
          295,
          286,
          269,
          257,
          225,
          207,
          180,
          174,
          170,
          118,
          109,
          108,
          97,
          92
         ],
         "yaxis": "y"
        },
        {
         "alignmentgroup": "True",
         "hovertemplate": "Crime=lesioni dolose<br>Year=%{x}<br>Value=%{y}<extra></extra>",
         "legendgroup": "lesioni dolose",
         "marker": {
          "color": "#EF553B",
          "pattern": {
           "shape": ""
          }
         },
         "name": "lesioni dolose",
         "offsetgroup": "lesioni dolose",
         "orientation": "v",
         "showlegend": true,
         "textposition": "auto",
         "type": "bar",
         "x": [
          2008,
          2011,
          2007,
          2009,
          2018,
          2010,
          2016,
          2014,
          2012,
          2015,
          2006,
          2013,
          2019,
          2020,
          2017,
          2021
         ],
         "xaxis": "x",
         "y": [
          477,
          453,
          451,
          443,
          425,
          404,
          400,
          399,
          379,
          374,
          366,
          359,
          351,
          350,
          337,
          334
         ],
         "yaxis": "y"
        },
        {
         "alignmentgroup": "True",
         "hovertemplate": "Crime=normativa sugli stupefacenti<br>Year=%{x}<br>Value=%{y}<extra></extra>",
         "legendgroup": "normativa sugli stupefacenti",
         "marker": {
          "color": "#00cc96",
          "pattern": {
           "shape": ""
          }
         },
         "name": "normativa sugli stupefacenti",
         "offsetgroup": "normativa sugli stupefacenti",
         "orientation": "v",
         "showlegend": true,
         "textposition": "auto",
         "type": "bar",
         "x": [
          2019,
          2018,
          2017,
          2020,
          2006,
          2008,
          2011,
          2007,
          2010,
          2009,
          2012,
          2021,
          2014,
          2016,
          2013,
          2015
         ],
         "xaxis": "x",
         "y": [
          284,
          252,
          213,
          211,
          199,
          199,
          191,
          184,
          183,
          169,
          168,
          159,
          151,
          149,
          137,
          117
         ],
         "yaxis": "y"
        },
        {
         "alignmentgroup": "True",
         "hovertemplate": "Crime=ricettazione<br>Year=%{x}<br>Value=%{y}<extra></extra>",
         "legendgroup": "ricettazione",
         "marker": {
          "color": "#ab63fa",
          "pattern": {
           "shape": ""
          }
         },
         "name": "ricettazione",
         "offsetgroup": "ricettazione",
         "orientation": "v",
         "showlegend": true,
         "textposition": "auto",
         "type": "bar",
         "x": [
          2007,
          2008,
          2006,
          2016,
          2009,
          2011,
          2015,
          2018,
          2012,
          2017,
          2010,
          2013,
          2014,
          2020,
          2019,
          2021
         ],
         "xaxis": "x",
         "y": [
          213,
          161,
          140,
          137,
          130,
          124,
          121,
          115,
          113,
          110,
          98,
          87,
          86,
          69,
          67,
          55
         ],
         "yaxis": "y"
        },
        {
         "alignmentgroup": "True",
         "hovertemplate": "Crime=delitti informatici<br>Year=%{x}<br>Value=%{y}<extra></extra>",
         "legendgroup": "delitti informatici",
         "marker": {
          "color": "#FFA15A",
          "pattern": {
           "shape": ""
          }
         },
         "name": "delitti informatici",
         "offsetgroup": "delitti informatici",
         "orientation": "v",
         "showlegend": true,
         "textposition": "auto",
         "type": "bar",
         "x": [
          2021,
          2020,
          2019,
          2015,
          2016,
          2018,
          2017,
          2014,
          2011,
          2013,
          2008,
          2012,
          2010,
          2006,
          2007,
          2009
         ],
         "xaxis": "x",
         "y": [
          177,
          72,
          51,
          43,
          36,
          34,
          32,
          25,
          17,
          16,
          13,
          13,
          10,
          8,
          6,
          6
         ],
         "yaxis": "y"
        },
        {
         "alignmentgroup": "True",
         "hovertemplate": "Crime=percosse<br>Year=%{x}<br>Value=%{y}<extra></extra>",
         "legendgroup": "percosse",
         "marker": {
          "color": "#19d3f3",
          "pattern": {
           "shape": ""
          }
         },
         "name": "percosse",
         "offsetgroup": "percosse",
         "orientation": "v",
         "showlegend": true,
         "textposition": "auto",
         "type": "bar",
         "x": [
          2008,
          2021,
          2007,
          2006,
          2019,
          2015,
          2020,
          2014,
          2011,
          2018,
          2012,
          2009,
          2016,
          2013,
          2010,
          2017
         ],
         "xaxis": "x",
         "y": [
          153,
          148,
          136,
          131,
          130,
          128,
          126,
          125,
          121,
          118,
          118,
          114,
          113,
          107,
          102,
          97
         ],
         "yaxis": "y"
        },
        {
         "alignmentgroup": "True",
         "hovertemplate": "Crime=rapine<br>Year=%{x}<br>Value=%{y}<extra></extra>",
         "legendgroup": "rapine",
         "marker": {
          "color": "#FF6692",
          "pattern": {
           "shape": ""
          }
         },
         "name": "rapine",
         "offsetgroup": "rapine",
         "orientation": "v",
         "showlegend": true,
         "textposition": "auto",
         "type": "bar",
         "x": [
          2015,
          2014,
          2017,
          2007,
          2012,
          2018,
          2016,
          2013,
          2006,
          2008,
          2009,
          2019,
          2021,
          2011,
          2010,
          2020
         ],
         "xaxis": "x",
         "y": [
          145,
          144,
          142,
          139,
          139,
          134,
          133,
          126,
          119,
          108,
          105,
          102,
          100,
          99,
          94,
          91
         ],
         "yaxis": "y"
        },
        {
         "alignmentgroup": "True",
         "hovertemplate": "Crime=furti di ciclomotori<br>Year=%{x}<br>Value=%{y}<extra></extra>",
         "legendgroup": "furti di ciclomotori",
         "marker": {
          "color": "#B6E880",
          "pattern": {
           "shape": ""
          }
         },
         "name": "furti di ciclomotori",
         "offsetgroup": "furti di ciclomotori",
         "orientation": "v",
         "showlegend": true,
         "textposition": "auto",
         "type": "bar",
         "x": [
          2007,
          2006,
          2008,
          2009,
          2011,
          2010,
          2014,
          2013,
          2012,
          2015,
          2017,
          2016,
          2020,
          2019,
          2018,
          2021
         ],
         "xaxis": "x",
         "y": [
          132,
          116,
          77,
          66,
          62,
          55,
          44,
          41,
          40,
          33,
          27,
          27,
          17,
          16,
          14,
          10
         ],
         "yaxis": "y"
        },
        {
         "alignmentgroup": "True",
         "hovertemplate": "Crime=furti con strappo<br>Year=%{x}<br>Value=%{y}<extra></extra>",
         "legendgroup": "furti con strappo",
         "marker": {
          "color": "#FF97FF",
          "pattern": {
           "shape": ""
          }
         },
         "name": "furti con strappo",
         "offsetgroup": "furti con strappo",
         "orientation": "v",
         "showlegend": true,
         "textposition": "auto",
         "type": "bar",
         "x": [
          2012,
          2015,
          2016,
          2014,
          2018,
          2020,
          2013,
          2007,
          2017,
          2021,
          2019,
          2011,
          2006,
          2010,
          2008,
          2009
         ],
         "xaxis": "x",
         "y": [
          90,
          85,
          83,
          63,
          62,
          59,
          56,
          51,
          51,
          48,
          45,
          35,
          35,
          29,
          24,
          24
         ],
         "yaxis": "y"
        },
        {
         "alignmentgroup": "True",
         "hovertemplate": "Crime=rapine in pubblica via<br>Year=%{x}<br>Value=%{y}<extra></extra>",
         "legendgroup": "rapine in pubblica via",
         "marker": {
          "color": "#FECB52",
          "pattern": {
           "shape": ""
          }
         },
         "name": "rapine in pubblica via",
         "offsetgroup": "rapine in pubblica via",
         "orientation": "v",
         "showlegend": true,
         "textposition": "auto",
         "type": "bar",
         "x": [
          2017,
          2018,
          2014,
          2015,
          2016,
          2013,
          2019,
          2021,
          2012,
          2007,
          2008,
          2020,
          2006,
          2011,
          2009,
          2010
         ],
         "xaxis": "x",
         "y": [
          81,
          72,
          71,
          71,
          65,
          60,
          46,
          46,
          45,
          44,
          42,
          41,
          40,
          40,
          30,
          23
         ],
         "yaxis": "y"
        },
        {
         "alignmentgroup": "True",
         "hovertemplate": "Crime=danneggiamento seguito da incendio<br>Year=%{x}<br>Value=%{y}<extra></extra>",
         "legendgroup": "danneggiamento seguito da incendio",
         "marker": {
          "color": "#636efa",
          "pattern": {
           "shape": ""
          }
         },
         "name": "danneggiamento seguito da incendio",
         "offsetgroup": "danneggiamento seguito da incendio",
         "orientation": "v",
         "showlegend": true,
         "textposition": "auto",
         "type": "bar",
         "x": [
          2008,
          2007,
          2011,
          2017,
          2015,
          2020,
          2006,
          2012,
          2013,
          2010,
          2021,
          2016,
          2019,
          2018,
          2009,
          2014
         ],
         "xaxis": "x",
         "y": [
          61,
          55,
          42,
          39,
          36,
          35,
          35,
          34,
          29,
          28,
          26,
          25,
          24,
          20,
          19,
          19
         ],
         "yaxis": "y"
        },
        {
         "alignmentgroup": "True",
         "hovertemplate": "Crime=incendi<br>Year=%{x}<br>Value=%{y}<extra></extra>",
         "legendgroup": "incendi",
         "marker": {
          "color": "#EF553B",
          "pattern": {
           "shape": ""
          }
         },
         "name": "incendi",
         "offsetgroup": "incendi",
         "orientation": "v",
         "showlegend": true,
         "textposition": "auto",
         "type": "bar",
         "x": [
          2007,
          2009,
          2008,
          2011,
          2012,
          2006,
          2013,
          2016,
          2015,
          2017,
          2014,
          2010,
          2021,
          2019,
          2018,
          2020
         ],
         "xaxis": "x",
         "y": [
          60,
          48,
          40,
          35,
          32,
          30,
          30,
          27,
          27,
          25,
          22,
          20,
          15,
          15,
          10,
          7
         ],
         "yaxis": "y"
        },
        {
         "alignmentgroup": "True",
         "hovertemplate": "Crime=estorsioni<br>Year=%{x}<br>Value=%{y}<extra></extra>",
         "legendgroup": "estorsioni",
         "marker": {
          "color": "#00cc96",
          "pattern": {
           "shape": ""
          }
         },
         "name": "estorsioni",
         "offsetgroup": "estorsioni",
         "orientation": "v",
         "showlegend": true,
         "textposition": "auto",
         "type": "bar",
         "x": [
          2018,
          2015,
          2021,
          2020,
          2019,
          2016,
          2017,
          2014,
          2013,
          2009,
          2010,
          2007,
          2008,
          2006,
          2011,
          2012
         ],
         "xaxis": "x",
         "y": [
          52,
          50,
          49,
          48,
          43,
          38,
          34,
          33,
          28,
          28,
          26,
          26,
          22,
          20,
          17,
          15
         ],
         "yaxis": "y"
        },
        {
         "alignmentgroup": "True",
         "hovertemplate": "Crime=violenze sessuali<br>Year=%{x}<br>Value=%{y}<extra></extra>",
         "legendgroup": "violenze sessuali",
         "marker": {
          "color": "#ab63fa",
          "pattern": {
           "shape": ""
          }
         },
         "name": "violenze sessuali",
         "offsetgroup": "violenze sessuali",
         "orientation": "v",
         "showlegend": true,
         "textposition": "auto",
         "type": "bar",
         "x": [
          2021,
          2010,
          2013,
          2019,
          2006,
          2007,
          2009,
          2012,
          2017,
          2011,
          2018,
          2008,
          2015,
          2016,
          2014,
          2020
         ],
         "xaxis": "x",
         "y": [
          42,
          37,
          36,
          36,
          35,
          30,
          27,
          27,
          25,
          25,
          25,
          25,
          22,
          21,
          19,
          17
         ],
         "yaxis": "y"
        },
        {
         "alignmentgroup": "True",
         "hovertemplate": "Crime=furti di motocicli<br>Year=%{x}<br>Value=%{y}<extra></extra>",
         "legendgroup": "furti di motocicli",
         "marker": {
          "color": "#FFA15A",
          "pattern": {
           "shape": ""
          }
         },
         "name": "furti di motocicli",
         "offsetgroup": "furti di motocicli",
         "orientation": "v",
         "showlegend": true,
         "textposition": "auto",
         "type": "bar",
         "x": [
          2007,
          2006,
          2008,
          2012,
          2010,
          2011,
          2013,
          2014,
          2016,
          2009,
          2015,
          2017,
          2018,
          2019,
          2020,
          2021
         ],
         "xaxis": "x",
         "y": [
          42,
          36,
          30,
          29,
          28,
          27,
          25,
          24,
          23,
          22,
          20,
          18,
          12,
          10,
          8,
          8
         ],
         "yaxis": "y"
        },
        {
         "alignmentgroup": "True",
         "hovertemplate": "Crime=contraffazione di marchi e prodotti industriali<br>Year=%{x}<br>Value=%{y}<extra></extra>",
         "legendgroup": "contraffazione di marchi e prodotti industriali",
         "marker": {
          "color": "#19d3f3",
          "pattern": {
           "shape": ""
          }
         },
         "name": "contraffazione di marchi e prodotti industriali",
         "offsetgroup": "contraffazione di marchi e prodotti industriali",
         "orientation": "v",
         "showlegend": true,
         "textposition": "auto",
         "type": "bar",
         "x": [
          2010,
          2015,
          2016,
          2011,
          2017,
          2012,
          2014,
          2018,
          2020,
          2009,
          2013,
          2008,
          2006,
          2019,
          2021,
          2007
         ],
         "xaxis": "x",
         "y": [
          38,
          35,
          28,
          28,
          24,
          20,
          19,
          15,
          14,
          12,
          12,
          12,
          7,
          6,
          4,
          2
         ],
         "yaxis": "y"
        },
        {
         "alignmentgroup": "True",
         "hovertemplate": "Crime=rapine in esercizi commerciali<br>Year=%{x}<br>Value=%{y}<extra></extra>",
         "legendgroup": "rapine in esercizi commerciali",
         "marker": {
          "color": "#FF6692",
          "pattern": {
           "shape": ""
          }
         },
         "name": "rapine in esercizi commerciali",
         "offsetgroup": "rapine in esercizi commerciali",
         "orientation": "v",
         "showlegend": true,
         "textposition": "auto",
         "type": "bar",
         "x": [
          2012,
          2007,
          2016,
          2008,
          2017,
          2018,
          2009,
          2013,
          2021,
          2019,
          2010,
          2020,
          2006,
          2014,
          2011,
          2015
         ],
         "xaxis": "x",
         "y": [
          30,
          28,
          27,
          26,
          25,
          24,
          24,
          21,
          21,
          21,
          20,
          18,
          17,
          16,
          13,
          13
         ],
         "yaxis": "y"
        },
        {
         "alignmentgroup": "True",
         "hovertemplate": "Crime=violazione della proprietà intellettuale<br>Year=%{x}<br>Value=%{y}<extra></extra>",
         "legendgroup": "violazione della proprietà intellettuale",
         "marker": {
          "color": "#B6E880",
          "pattern": {
           "shape": ""
          }
         },
         "name": "violazione della proprietà intellettuale",
         "offsetgroup": "violazione della proprietà intellettuale",
         "orientation": "v",
         "showlegend": true,
         "textposition": "auto",
         "type": "bar",
         "x": [
          2006,
          2007,
          2008,
          2009,
          2010,
          2013,
          2012,
          2011,
          2017,
          2019,
          2018,
          2021,
          2014,
          2020,
          2015,
          2016
         ],
         "xaxis": "x",
         "y": [
          27,
          24,
          17,
          16,
          8,
          3,
          2,
          2,
          2,
          2,
          1,
          1,
          1,
          0,
          0,
          0
         ],
         "yaxis": "y"
        },
        {
         "alignmentgroup": "True",
         "hovertemplate": "Crime=omicidi colposi<br>Year=%{x}<br>Value=%{y}<extra></extra>",
         "legendgroup": "omicidi colposi",
         "marker": {
          "color": "#FF97FF",
          "pattern": {
           "shape": ""
          }
         },
         "name": "omicidi colposi",
         "offsetgroup": "omicidi colposi",
         "orientation": "v",
         "showlegend": true,
         "textposition": "auto",
         "type": "bar",
         "x": [
          2008,
          2019,
          2009,
          2018,
          2006,
          2010,
          2017,
          2020,
          2012,
          2007,
          2013,
          2011,
          2015,
          2014,
          2016,
          2021
         ],
         "xaxis": "x",
         "y": [
          25,
          24,
          21,
          19,
          18,
          18,
          17,
          17,
          16,
          15,
          15,
          14,
          12,
          11,
          11,
          10
         ],
         "yaxis": "y"
        },
        {
         "alignmentgroup": "True",
         "hovertemplate": "Crime=furti di automezzi pesanti trasportanti merci<br>Year=%{x}<br>Value=%{y}<extra></extra>",
         "legendgroup": "furti di automezzi pesanti trasportanti merci",
         "marker": {
          "color": "#FECB52",
          "pattern": {
           "shape": ""
          }
         },
         "name": "furti di automezzi pesanti trasportanti merci",
         "offsetgroup": "furti di automezzi pesanti trasportanti merci",
         "orientation": "v",
         "showlegend": true,
         "textposition": "auto",
         "type": "bar",
         "x": [
          2007,
          2008,
          2006,
          2018,
          2014,
          2011,
          2009,
          2012,
          2020,
          2021,
          2019,
          2013,
          2016,
          2017,
          2015,
          2010
         ],
         "xaxis": "x",
         "y": [
          25,
          13,
          7,
          7,
          7,
          5,
          5,
          5,
          4,
          4,
          3,
          2,
          2,
          2,
          1,
          1
         ],
         "yaxis": "y"
        },
        {
         "alignmentgroup": "True",
         "hovertemplate": "Crime=rapine in banca<br>Year=%{x}<br>Value=%{y}<extra></extra>",
         "legendgroup": "rapine in banca",
         "marker": {
          "color": "#636efa",
          "pattern": {
           "shape": ""
          }
         },
         "name": "rapine in banca",
         "offsetgroup": "rapine in banca",
         "orientation": "v",
         "showlegend": true,
         "textposition": "auto",
         "type": "bar",
         "x": [
          2007,
          2006,
          2015,
          2008,
          2011,
          2013,
          2010,
          2012,
          2019,
          2009,
          2014,
          2016,
          2017,
          2018,
          2020,
          2021
         ],
         "xaxis": "x",
         "y": [
          22,
          17,
          10,
          8,
          8,
          7,
          7,
          5,
          4,
          4,
          3,
          2,
          1,
          0,
          0,
          0
         ],
         "yaxis": "y"
        },
        {
         "alignmentgroup": "True",
         "hovertemplate": "Crime=omicidi colposi da incidente stradale<br>Year=%{x}<br>Value=%{y}<extra></extra>",
         "legendgroup": "omicidi colposi da incidente stradale",
         "marker": {
          "color": "#EF553B",
          "pattern": {
           "shape": ""
          }
         },
         "name": "omicidi colposi da incidente stradale",
         "offsetgroup": "omicidi colposi da incidente stradale",
         "orientation": "v",
         "showlegend": true,
         "textposition": "auto",
         "type": "bar",
         "x": [
          2019,
          2008,
          2009,
          2017,
          2006,
          2007,
          2011,
          2018,
          2010,
          2013,
          2014,
          2012,
          2016,
          2020,
          2015,
          2021
         ],
         "xaxis": "x",
         "y": [
          21,
          21,
          18,
          17,
          16,
          14,
          14,
          14,
          13,
          12,
          10,
          10,
          9,
          9,
          8,
          5
         ],
         "yaxis": "y"
        },
        {
         "alignmentgroup": "True",
         "hovertemplate": "Crime=rapine in abitazione<br>Year=%{x}<br>Value=%{y}<extra></extra>",
         "legendgroup": "rapine in abitazione",
         "marker": {
          "color": "#00cc96",
          "pattern": {
           "shape": ""
          }
         },
         "name": "rapine in abitazione",
         "offsetgroup": "rapine in abitazione",
         "orientation": "v",
         "showlegend": true,
         "textposition": "auto",
         "type": "bar",
         "x": [
          2012,
          2011,
          2014,
          2018,
          2015,
          2010,
          2007,
          2021,
          2016,
          2017,
          2020,
          2006,
          2009,
          2008,
          2013,
          2019
         ],
         "xaxis": "x",
         "y": [
          19,
          18,
          18,
          16,
          15,
          15,
          15,
          13,
          12,
          12,
          11,
          10,
          8,
          7,
          7,
          7
         ],
         "yaxis": "y"
        },
        {
         "alignmentgroup": "True",
         "hovertemplate": "Crime=sfruttamento e favoreggiamento della prostituzione<br>Year=%{x}<br>Value=%{y}<extra></extra>",
         "legendgroup": "sfruttamento e favoreggiamento della prostituzione",
         "marker": {
          "color": "#ab63fa",
          "pattern": {
           "shape": ""
          }
         },
         "name": "sfruttamento e favoreggiamento della prostituzione",
         "offsetgroup": "sfruttamento e favoreggiamento della prostituzione",
         "orientation": "v",
         "showlegend": true,
         "textposition": "auto",
         "type": "bar",
         "x": [
          2016,
          2010,
          2011,
          2015,
          2014,
          2013,
          2017,
          2021,
          2018,
          2008,
          2012,
          2019,
          2007,
          2009,
          2006,
          2020
         ],
         "xaxis": "x",
         "y": [
          16,
          15,
          12,
          10,
          8,
          8,
          7,
          7,
          6,
          6,
          6,
          5,
          3,
          3,
          2,
          1
         ],
         "yaxis": "y"
        },
        {
         "alignmentgroup": "True",
         "hovertemplate": "Crime=riciclaggio e impiego di denaro, beni o utilità di provenienza illecita<br>Year=%{x}<br>Value=%{y}<extra></extra>",
         "legendgroup": "riciclaggio e impiego di denaro, beni o utilità di provenienza illecita",
         "marker": {
          "color": "#FFA15A",
          "pattern": {
           "shape": ""
          }
         },
         "name": "riciclaggio e impiego di denaro, beni o utilità di provenienza illecita",
         "offsetgroup": "riciclaggio e impiego di denaro, beni o utilità di provenienza illecita",
         "orientation": "v",
         "showlegend": true,
         "textposition": "auto",
         "type": "bar",
         "x": [
          2014,
          2021,
          2019,
          2016,
          2017,
          2018,
          2008,
          2012,
          2009,
          2013,
          2020,
          2015,
          2011,
          2007,
          2006,
          2010
         ],
         "xaxis": "x",
         "y": [
          10,
          10,
          7,
          6,
          6,
          4,
          4,
          3,
          3,
          3,
          3,
          2,
          2,
          2,
          1,
          0
         ],
         "yaxis": "y"
        },
        {
         "alignmentgroup": "True",
         "hovertemplate": "Crime=furti di opere d'arte e materiale archeologico<br>Year=%{x}<br>Value=%{y}<extra></extra>",
         "legendgroup": "furti di opere d'arte e materiale archeologico",
         "marker": {
          "color": "#19d3f3",
          "pattern": {
           "shape": ""
          }
         },
         "name": "furti di opere d'arte e materiale archeologico",
         "offsetgroup": "furti di opere d'arte e materiale archeologico",
         "orientation": "v",
         "showlegend": true,
         "textposition": "auto",
         "type": "bar",
         "x": [
          2006,
          2010,
          2017,
          2012,
          2007,
          2011,
          2014,
          2016,
          2013,
          2008,
          2018,
          2009,
          2015,
          2019,
          2020,
          2021
         ],
         "xaxis": "x",
         "y": [
          10,
          10,
          10,
          9,
          9,
          6,
          6,
          6,
          5,
          3,
          3,
          2,
          2,
          2,
          2,
          1
         ],
         "yaxis": "y"
        },
        {
         "alignmentgroup": "True",
         "hovertemplate": "Crime=tentati omicidi<br>Year=%{x}<br>Value=%{y}<extra></extra>",
         "legendgroup": "tentati omicidi",
         "marker": {
          "color": "#FF6692",
          "pattern": {
           "shape": ""
          }
         },
         "name": "tentati omicidi",
         "offsetgroup": "tentati omicidi",
         "orientation": "v",
         "showlegend": true,
         "textposition": "auto",
         "type": "bar",
         "x": [
          2008,
          2018,
          2015,
          2007,
          2009,
          2011,
          2014,
          2016,
          2017,
          2012,
          2013,
          2020,
          2010,
          2019,
          2021,
          2006
         ],
         "xaxis": "x",
         "y": [
          10,
          7,
          7,
          6,
          6,
          5,
          5,
          3,
          3,
          3,
          2,
          2,
          2,
          2,
          1,
          0
         ],
         "yaxis": "y"
        },
        {
         "alignmentgroup": "True",
         "hovertemplate": "Crime=contrabbando<br>Year=%{x}<br>Value=%{y}<extra></extra>",
         "legendgroup": "contrabbando",
         "marker": {
          "color": "#B6E880",
          "pattern": {
           "shape": ""
          }
         },
         "name": "contrabbando",
         "offsetgroup": "contrabbando",
         "orientation": "v",
         "showlegend": true,
         "textposition": "auto",
         "type": "bar",
         "x": [
          2011,
          2010,
          2012,
          2009,
          2008,
          2007,
          2006,
          2016,
          2013,
          2014,
          2015,
          2017,
          2018,
          2019,
          2020,
          2021
         ],
         "xaxis": "x",
         "y": [
          8,
          7,
          1,
          1,
          1,
          1,
          0,
          0,
          0,
          0,
          0,
          0,
          0,
          0,
          0,
          0
         ],
         "yaxis": "y"
        },
        {
         "alignmentgroup": "True",
         "hovertemplate": "Crime=omicidi volontari consumati<br>Year=%{x}<br>Value=%{y}<extra></extra>",
         "legendgroup": "omicidi volontari consumati",
         "marker": {
          "color": "#FF97FF",
          "pattern": {
           "shape": ""
          }
         },
         "name": "omicidi volontari consumati",
         "offsetgroup": "omicidi volontari consumati",
         "orientation": "v",
         "showlegend": true,
         "textposition": "auto",
         "type": "bar",
         "x": [
          2012,
          2011,
          2015,
          2017,
          2021,
          2009,
          2008,
          2006,
          2007,
          2016,
          2019,
          2020,
          2013,
          2010,
          2018,
          2014
         ],
         "xaxis": "x",
         "y": [
          7,
          4,
          4,
          4,
          4,
          3,
          3,
          2,
          2,
          2,
          2,
          2,
          1,
          0,
          0,
          0
         ],
         "yaxis": "y"
        },
        {
         "alignmentgroup": "True",
         "hovertemplate": "Crime=corruzione di minorenne<br>Year=%{x}<br>Value=%{y}<extra></extra>",
         "legendgroup": "corruzione di minorenne",
         "marker": {
          "color": "#FECB52",
          "pattern": {
           "shape": ""
          }
         },
         "name": "corruzione di minorenne",
         "offsetgroup": "corruzione di minorenne",
         "orientation": "v",
         "showlegend": true,
         "textposition": "auto",
         "type": "bar",
         "x": [
          2021,
          2010,
          2014,
          2008,
          2018,
          2019,
          2012,
          2017,
          2009,
          2011,
          2013,
          2015,
          2016,
          2020,
          2006,
          2007
         ],
         "xaxis": "x",
         "y": [
          7,
          5,
          3,
          2,
          1,
          1,
          1,
          1,
          0,
          0,
          0,
          0,
          0,
          0,
          0,
          0
         ],
         "yaxis": "y"
        },
        {
         "alignmentgroup": "True",
         "hovertemplate": "Crime=sequestri di persona<br>Year=%{x}<br>Value=%{y}<extra></extra>",
         "legendgroup": "sequestri di persona",
         "marker": {
          "color": "#636efa",
          "pattern": {
           "shape": ""
          }
         },
         "name": "sequestri di persona",
         "offsetgroup": "sequestri di persona",
         "orientation": "v",
         "showlegend": true,
         "textposition": "auto",
         "type": "bar",
         "x": [
          2008,
          2009,
          2015,
          2013,
          2021,
          2016,
          2007,
          2019,
          2006,
          2011,
          2012,
          2014,
          2017,
          2018,
          2020,
          2010
         ],
         "xaxis": "x",
         "y": [
          6,
          6,
          6,
          6,
          5,
          5,
          4,
          3,
          3,
          2,
          2,
          2,
          2,
          2,
          2,
          2
         ],
         "yaxis": "y"
        },
        {
         "alignmentgroup": "True",
         "hovertemplate": "Crime=associazione per delinquere<br>Year=%{x}<br>Value=%{y}<extra></extra>",
         "legendgroup": "associazione per delinquere",
         "marker": {
          "color": "#EF553B",
          "pattern": {
           "shape": ""
          }
         },
         "name": "associazione per delinquere",
         "offsetgroup": "associazione per delinquere",
         "orientation": "v",
         "showlegend": true,
         "textposition": "auto",
         "type": "bar",
         "x": [
          2007,
          2016,
          2021,
          2012,
          2019,
          2020,
          2017,
          2014,
          2006,
          2010,
          2009,
          2008,
          2011,
          2013,
          2015,
          2018
         ],
         "xaxis": "x",
         "y": [
          6,
          4,
          4,
          3,
          2,
          2,
          2,
          2,
          1,
          1,
          1,
          0,
          0,
          0,
          0,
          0
         ],
         "yaxis": "y"
        },
        {
         "alignmentgroup": "True",
         "hovertemplate": "Crime=rapine in uffici postali<br>Year=%{x}<br>Value=%{y}<extra></extra>",
         "legendgroup": "rapine in uffici postali",
         "marker": {
          "color": "#00cc96",
          "pattern": {
           "shape": ""
          }
         },
         "name": "rapine in uffici postali",
         "offsetgroup": "rapine in uffici postali",
         "orientation": "v",
         "showlegend": true,
         "textposition": "auto",
         "type": "bar",
         "x": [
          2016,
          2006,
          2012,
          2008,
          2011,
          2009,
          2007,
          2017,
          2014,
          2010,
          2013,
          2018,
          2021,
          2015,
          2020,
          2019
         ],
         "xaxis": "x",
         "y": [
          6,
          6,
          5,
          4,
          3,
          3,
          3,
          2,
          1,
          1,
          1,
          1,
          1,
          1,
          0,
          0
         ],
         "yaxis": "y"
        },
        {
         "alignmentgroup": "True",
         "hovertemplate": "Crime=pornografia minorile e detenzione di materiale pedopornografico<br>Year=%{x}<br>Value=%{y}<extra></extra>",
         "legendgroup": "pornografia minorile e detenzione di materiale pedopornografico",
         "marker": {
          "color": "#ab63fa",
          "pattern": {
           "shape": ""
          }
         },
         "name": "pornografia minorile e detenzione di materiale pedopornografico",
         "offsetgroup": "pornografia minorile e detenzione di materiale pedopornografico",
         "orientation": "v",
         "showlegend": true,
         "textposition": "auto",
         "type": "bar",
         "x": [
          2021,
          2009,
          2011,
          2019,
          2015,
          2012,
          2014,
          2007,
          2008,
          2016,
          2018,
          2010,
          2013,
          2017,
          2020,
          2006
         ],
         "xaxis": "x",
         "y": [
          6,
          6,
          5,
          5,
          5,
          4,
          4,
          3,
          3,
          3,
          2,
          2,
          2,
          2,
          2,
          1
         ],
         "yaxis": "y"
        },
        {
         "alignmentgroup": "True",
         "hovertemplate": "Crime=atti sessuali con minorenne<br>Year=%{x}<br>Value=%{y}<extra></extra>",
         "legendgroup": "atti sessuali con minorenne",
         "marker": {
          "color": "#FFA15A",
          "pattern": {
           "shape": ""
          }
         },
         "name": "atti sessuali con minorenne",
         "offsetgroup": "atti sessuali con minorenne",
         "orientation": "v",
         "showlegend": true,
         "textposition": "auto",
         "type": "bar",
         "x": [
          2014,
          2012,
          2008,
          2010,
          2017,
          2018,
          2006,
          2013,
          2019,
          2015,
          2011,
          2020,
          2016,
          2007,
          2009,
          2021
         ],
         "xaxis": "x",
         "y": [
          5,
          5,
          5,
          4,
          4,
          3,
          3,
          3,
          2,
          2,
          2,
          2,
          2,
          1,
          0,
          0
         ],
         "yaxis": "y"
        },
        {
         "alignmentgroup": "True",
         "hovertemplate": "Crime=incendi boschivi<br>Year=%{x}<br>Value=%{y}<extra></extra>",
         "legendgroup": "incendi boschivi",
         "marker": {
          "color": "#19d3f3",
          "pattern": {
           "shape": ""
          }
         },
         "name": "incendi boschivi",
         "offsetgroup": "incendi boschivi",
         "orientation": "v",
         "showlegend": true,
         "textposition": "auto",
         "type": "bar",
         "x": [
          2017,
          2007,
          2014,
          2009,
          2019,
          2012,
          2006,
          2013,
          2018,
          2008,
          2020,
          2010,
          2011,
          2015,
          2016,
          2021
         ],
         "xaxis": "x",
         "y": [
          5,
          5,
          3,
          2,
          2,
          2,
          1,
          1,
          1,
          0,
          0,
          0,
          0,
          0,
          0,
          0
         ],
         "yaxis": "y"
        },
        {
         "alignmentgroup": "True",
         "hovertemplate": "Crime=attentati<br>Year=%{x}<br>Value=%{y}<extra></extra>",
         "legendgroup": "attentati",
         "marker": {
          "color": "#FF6692",
          "pattern": {
           "shape": ""
          }
         },
         "name": "attentati",
         "offsetgroup": "attentati",
         "orientation": "v",
         "showlegend": true,
         "textposition": "auto",
         "type": "bar",
         "x": [
          2015,
          2013,
          2007,
          2009,
          2011,
          2008,
          2016,
          2020,
          2012,
          2014,
          2021,
          2018,
          2019,
          2017,
          2010,
          2006
         ],
         "xaxis": "x",
         "y": [
          4,
          3,
          2,
          2,
          2,
          2,
          2,
          2,
          1,
          1,
          1,
          1,
          0,
          0,
          0,
          0
         ],
         "yaxis": "y"
        },
        {
         "alignmentgroup": "True",
         "hovertemplate": "Crime=usura<br>Year=%{x}<br>Value=%{y}<extra></extra>",
         "legendgroup": "usura",
         "marker": {
          "color": "#B6E880",
          "pattern": {
           "shape": ""
          }
         },
         "name": "usura",
         "offsetgroup": "usura",
         "orientation": "v",
         "showlegend": true,
         "textposition": "auto",
         "type": "bar",
         "x": [
          2006,
          2017,
          2009,
          2019,
          2014,
          2013,
          2012,
          2011,
          2010,
          2008,
          2007,
          2021,
          2020,
          2018,
          2016,
          2015
         ],
         "xaxis": "x",
         "y": [
          2,
          2,
          2,
          1,
          1,
          1,
          1,
          1,
          1,
          1,
          1,
          0,
          0,
          0,
          0,
          0
         ],
         "yaxis": "y"
        },
        {
         "alignmentgroup": "True",
         "hovertemplate": "Crime=omicidi volontari consumati a scopo di furto o rapina<br>Year=%{x}<br>Value=%{y}<extra></extra>",
         "legendgroup": "omicidi volontari consumati a scopo di furto o rapina",
         "marker": {
          "color": "#FF97FF",
          "pattern": {
           "shape": ""
          }
         },
         "name": "omicidi volontari consumati a scopo di furto o rapina",
         "offsetgroup": "omicidi volontari consumati a scopo di furto o rapina",
         "orientation": "v",
         "showlegend": true,
         "textposition": "auto",
         "type": "bar",
         "x": [
          2015,
          2012,
          2011,
          2006,
          2020,
          2021,
          2019,
          2007,
          2018,
          2017,
          2016,
          2014,
          2013,
          2010,
          2009,
          2008
         ],
         "xaxis": "x",
         "y": [
          2,
          1,
          1,
          0,
          0,
          0,
          0,
          0,
          0,
          0,
          0,
          0,
          0,
          0,
          0,
          0
         ],
         "yaxis": "y"
        },
        {
         "alignmentgroup": "True",
         "hovertemplate": "Crime=omicidi preterintenzionali<br>Year=%{x}<br>Value=%{y}<extra></extra>",
         "legendgroup": "omicidi preterintenzionali",
         "marker": {
          "color": "#FECB52",
          "pattern": {
           "shape": ""
          }
         },
         "name": "omicidi preterintenzionali",
         "offsetgroup": "omicidi preterintenzionali",
         "orientation": "v",
         "showlegend": true,
         "textposition": "auto",
         "type": "bar",
         "x": [
          2010,
          2009,
          2008,
          2018,
          2012,
          2021,
          2020,
          2019,
          2016,
          2015,
          2014,
          2013,
          2011,
          2007,
          2006,
          2017
         ],
         "xaxis": "x",
         "y": [
          1,
          1,
          1,
          0,
          0,
          0,
          0,
          0,
          0,
          0,
          0,
          0,
          0,
          0,
          0,
          0
         ],
         "yaxis": "y"
        },
        {
         "alignmentgroup": "True",
         "hovertemplate": "Crime=associazione di tipo mafioso<br>Year=%{x}<br>Value=%{y}<extra></extra>",
         "legendgroup": "associazione di tipo mafioso",
         "marker": {
          "color": "#636efa",
          "pattern": {
           "shape": ""
          }
         },
         "name": "associazione di tipo mafioso",
         "offsetgroup": "associazione di tipo mafioso",
         "orientation": "v",
         "showlegend": true,
         "textposition": "auto",
         "type": "bar",
         "x": [
          2020,
          2021,
          2019,
          2018,
          2017,
          2016,
          2015,
          2014,
          2013,
          2012,
          2011,
          2010,
          2009,
          2008,
          2007,
          2006
         ],
         "xaxis": "x",
         "y": [
          1,
          0,
          0,
          0,
          0,
          0,
          0,
          0,
          0,
          0,
          0,
          0,
          0,
          0,
          0,
          0
         ],
         "yaxis": "y"
        },
        {
         "alignmentgroup": "True",
         "hovertemplate": "Crime=infanticidi<br>Year=%{x}<br>Value=%{y}<extra></extra>",
         "legendgroup": "infanticidi",
         "marker": {
          "color": "#EF553B",
          "pattern": {
           "shape": ""
          }
         },
         "name": "infanticidi",
         "offsetgroup": "infanticidi",
         "orientation": "v",
         "showlegend": true,
         "textposition": "auto",
         "type": "bar",
         "x": [
          2011,
          2019,
          2021,
          2020,
          2015,
          2014,
          2018,
          2016,
          2017,
          2013,
          2006,
          2007,
          2008,
          2009,
          2010,
          2012
         ],
         "xaxis": "x",
         "y": [
          1,
          0,
          0,
          0,
          0,
          0,
          0,
          0,
          0,
          0,
          0,
          0,
          0,
          0,
          0,
          0
         ],
         "yaxis": "y"
        },
        {
         "alignmentgroup": "True",
         "hovertemplate": "Crime=strage<br>Year=%{x}<br>Value=%{y}<extra></extra>",
         "legendgroup": "strage",
         "marker": {
          "color": "#00cc96",
          "pattern": {
           "shape": ""
          }
         },
         "name": "strage",
         "offsetgroup": "strage",
         "orientation": "v",
         "showlegend": true,
         "textposition": "auto",
         "type": "bar",
         "x": [
          2009,
          2010,
          2011,
          2016,
          2018,
          2019,
          2020,
          2017,
          2021,
          2015,
          2014,
          2013,
          2012,
          2007,
          2008,
          2006
         ],
         "xaxis": "x",
         "y": [
          0,
          0,
          0,
          0,
          0,
          0,
          0,
          0,
          0,
          0,
          0,
          0,
          0,
          0,
          0,
          0
         ],
         "yaxis": "y"
        },
        {
         "alignmentgroup": "True",
         "hovertemplate": "Crime=omicidi volontari consumati di tipo mafioso<br>Year=%{x}<br>Value=%{y}<extra></extra>",
         "legendgroup": "omicidi volontari consumati di tipo mafioso",
         "marker": {
          "color": "#ab63fa",
          "pattern": {
           "shape": ""
          }
         },
         "name": "omicidi volontari consumati di tipo mafioso",
         "offsetgroup": "omicidi volontari consumati di tipo mafioso",
         "orientation": "v",
         "showlegend": true,
         "textposition": "auto",
         "type": "bar",
         "x": [
          2009,
          2018,
          2017,
          2016,
          2015,
          2014,
          2013,
          2012,
          2011,
          2010,
          2008,
          2020,
          2007,
          2006,
          2019,
          2021
         ],
         "xaxis": "x",
         "y": [
          0,
          0,
          0,
          0,
          0,
          0,
          0,
          0,
          0,
          0,
          0,
          0,
          0,
          0,
          0,
          0
         ],
         "yaxis": "y"
        },
        {
         "alignmentgroup": "True",
         "hovertemplate": "Crime=omicidi volontari consumati a scopo terroristico<br>Year=%{x}<br>Value=%{y}<extra></extra>",
         "legendgroup": "omicidi volontari consumati a scopo terroristico",
         "marker": {
          "color": "#FFA15A",
          "pattern": {
           "shape": ""
          }
         },
         "name": "omicidi volontari consumati a scopo terroristico",
         "offsetgroup": "omicidi volontari consumati a scopo terroristico",
         "orientation": "v",
         "showlegend": true,
         "textposition": "auto",
         "type": "bar",
         "x": [
          2021,
          2020,
          2019,
          2018,
          2017,
          2016,
          2015,
          2014,
          2013,
          2012,
          2011,
          2010,
          2009,
          2008,
          2007,
          2006
         ],
         "xaxis": "x",
         "y": [
          0,
          0,
          0,
          0,
          0,
          0,
          0,
          0,
          0,
          0,
          0,
          0,
          0,
          0,
          0,
          0
         ],
         "yaxis": "y"
        }
       ],
       "layout": {
        "barmode": "relative",
        "legend": {
         "title": {
          "text": "Crime"
         },
         "tracegroupgap": 0
        },
        "template": {
         "data": {
          "bar": [
           {
            "error_x": {
             "color": "#2a3f5f"
            },
            "error_y": {
             "color": "#2a3f5f"
            },
            "marker": {
             "line": {
              "color": "#E5ECF6",
              "width": 0.5
             },
             "pattern": {
              "fillmode": "overlay",
              "size": 10,
              "solidity": 0.2
             }
            },
            "type": "bar"
           }
          ],
          "barpolar": [
           {
            "marker": {
             "line": {
              "color": "#E5ECF6",
              "width": 0.5
             },
             "pattern": {
              "fillmode": "overlay",
              "size": 10,
              "solidity": 0.2
             }
            },
            "type": "barpolar"
           }
          ],
          "carpet": [
           {
            "aaxis": {
             "endlinecolor": "#2a3f5f",
             "gridcolor": "white",
             "linecolor": "white",
             "minorgridcolor": "white",
             "startlinecolor": "#2a3f5f"
            },
            "baxis": {
             "endlinecolor": "#2a3f5f",
             "gridcolor": "white",
             "linecolor": "white",
             "minorgridcolor": "white",
             "startlinecolor": "#2a3f5f"
            },
            "type": "carpet"
           }
          ],
          "choropleth": [
           {
            "colorbar": {
             "outlinewidth": 0,
             "ticks": ""
            },
            "type": "choropleth"
           }
          ],
          "contour": [
           {
            "colorbar": {
             "outlinewidth": 0,
             "ticks": ""
            },
            "colorscale": [
             [
              0,
              "#0d0887"
             ],
             [
              0.1111111111111111,
              "#46039f"
             ],
             [
              0.2222222222222222,
              "#7201a8"
             ],
             [
              0.3333333333333333,
              "#9c179e"
             ],
             [
              0.4444444444444444,
              "#bd3786"
             ],
             [
              0.5555555555555556,
              "#d8576b"
             ],
             [
              0.6666666666666666,
              "#ed7953"
             ],
             [
              0.7777777777777778,
              "#fb9f3a"
             ],
             [
              0.8888888888888888,
              "#fdca26"
             ],
             [
              1,
              "#f0f921"
             ]
            ],
            "type": "contour"
           }
          ],
          "contourcarpet": [
           {
            "colorbar": {
             "outlinewidth": 0,
             "ticks": ""
            },
            "type": "contourcarpet"
           }
          ],
          "heatmap": [
           {
            "colorbar": {
             "outlinewidth": 0,
             "ticks": ""
            },
            "colorscale": [
             [
              0,
              "#0d0887"
             ],
             [
              0.1111111111111111,
              "#46039f"
             ],
             [
              0.2222222222222222,
              "#7201a8"
             ],
             [
              0.3333333333333333,
              "#9c179e"
             ],
             [
              0.4444444444444444,
              "#bd3786"
             ],
             [
              0.5555555555555556,
              "#d8576b"
             ],
             [
              0.6666666666666666,
              "#ed7953"
             ],
             [
              0.7777777777777778,
              "#fb9f3a"
             ],
             [
              0.8888888888888888,
              "#fdca26"
             ],
             [
              1,
              "#f0f921"
             ]
            ],
            "type": "heatmap"
           }
          ],
          "heatmapgl": [
           {
            "colorbar": {
             "outlinewidth": 0,
             "ticks": ""
            },
            "colorscale": [
             [
              0,
              "#0d0887"
             ],
             [
              0.1111111111111111,
              "#46039f"
             ],
             [
              0.2222222222222222,
              "#7201a8"
             ],
             [
              0.3333333333333333,
              "#9c179e"
             ],
             [
              0.4444444444444444,
              "#bd3786"
             ],
             [
              0.5555555555555556,
              "#d8576b"
             ],
             [
              0.6666666666666666,
              "#ed7953"
             ],
             [
              0.7777777777777778,
              "#fb9f3a"
             ],
             [
              0.8888888888888888,
              "#fdca26"
             ],
             [
              1,
              "#f0f921"
             ]
            ],
            "type": "heatmapgl"
           }
          ],
          "histogram": [
           {
            "marker": {
             "pattern": {
              "fillmode": "overlay",
              "size": 10,
              "solidity": 0.2
             }
            },
            "type": "histogram"
           }
          ],
          "histogram2d": [
           {
            "colorbar": {
             "outlinewidth": 0,
             "ticks": ""
            },
            "colorscale": [
             [
              0,
              "#0d0887"
             ],
             [
              0.1111111111111111,
              "#46039f"
             ],
             [
              0.2222222222222222,
              "#7201a8"
             ],
             [
              0.3333333333333333,
              "#9c179e"
             ],
             [
              0.4444444444444444,
              "#bd3786"
             ],
             [
              0.5555555555555556,
              "#d8576b"
             ],
             [
              0.6666666666666666,
              "#ed7953"
             ],
             [
              0.7777777777777778,
              "#fb9f3a"
             ],
             [
              0.8888888888888888,
              "#fdca26"
             ],
             [
              1,
              "#f0f921"
             ]
            ],
            "type": "histogram2d"
           }
          ],
          "histogram2dcontour": [
           {
            "colorbar": {
             "outlinewidth": 0,
             "ticks": ""
            },
            "colorscale": [
             [
              0,
              "#0d0887"
             ],
             [
              0.1111111111111111,
              "#46039f"
             ],
             [
              0.2222222222222222,
              "#7201a8"
             ],
             [
              0.3333333333333333,
              "#9c179e"
             ],
             [
              0.4444444444444444,
              "#bd3786"
             ],
             [
              0.5555555555555556,
              "#d8576b"
             ],
             [
              0.6666666666666666,
              "#ed7953"
             ],
             [
              0.7777777777777778,
              "#fb9f3a"
             ],
             [
              0.8888888888888888,
              "#fdca26"
             ],
             [
              1,
              "#f0f921"
             ]
            ],
            "type": "histogram2dcontour"
           }
          ],
          "mesh3d": [
           {
            "colorbar": {
             "outlinewidth": 0,
             "ticks": ""
            },
            "type": "mesh3d"
           }
          ],
          "parcoords": [
           {
            "line": {
             "colorbar": {
              "outlinewidth": 0,
              "ticks": ""
             }
            },
            "type": "parcoords"
           }
          ],
          "pie": [
           {
            "automargin": true,
            "type": "pie"
           }
          ],
          "scatter": [
           {
            "fillpattern": {
             "fillmode": "overlay",
             "size": 10,
             "solidity": 0.2
            },
            "type": "scatter"
           }
          ],
          "scatter3d": [
           {
            "line": {
             "colorbar": {
              "outlinewidth": 0,
              "ticks": ""
             }
            },
            "marker": {
             "colorbar": {
              "outlinewidth": 0,
              "ticks": ""
             }
            },
            "type": "scatter3d"
           }
          ],
          "scattercarpet": [
           {
            "marker": {
             "colorbar": {
              "outlinewidth": 0,
              "ticks": ""
             }
            },
            "type": "scattercarpet"
           }
          ],
          "scattergeo": [
           {
            "marker": {
             "colorbar": {
              "outlinewidth": 0,
              "ticks": ""
             }
            },
            "type": "scattergeo"
           }
          ],
          "scattergl": [
           {
            "marker": {
             "colorbar": {
              "outlinewidth": 0,
              "ticks": ""
             }
            },
            "type": "scattergl"
           }
          ],
          "scattermapbox": [
           {
            "marker": {
             "colorbar": {
              "outlinewidth": 0,
              "ticks": ""
             }
            },
            "type": "scattermapbox"
           }
          ],
          "scatterpolar": [
           {
            "marker": {
             "colorbar": {
              "outlinewidth": 0,
              "ticks": ""
             }
            },
            "type": "scatterpolar"
           }
          ],
          "scatterpolargl": [
           {
            "marker": {
             "colorbar": {
              "outlinewidth": 0,
              "ticks": ""
             }
            },
            "type": "scatterpolargl"
           }
          ],
          "scatterternary": [
           {
            "marker": {
             "colorbar": {
              "outlinewidth": 0,
              "ticks": ""
             }
            },
            "type": "scatterternary"
           }
          ],
          "surface": [
           {
            "colorbar": {
             "outlinewidth": 0,
             "ticks": ""
            },
            "colorscale": [
             [
              0,
              "#0d0887"
             ],
             [
              0.1111111111111111,
              "#46039f"
             ],
             [
              0.2222222222222222,
              "#7201a8"
             ],
             [
              0.3333333333333333,
              "#9c179e"
             ],
             [
              0.4444444444444444,
              "#bd3786"
             ],
             [
              0.5555555555555556,
              "#d8576b"
             ],
             [
              0.6666666666666666,
              "#ed7953"
             ],
             [
              0.7777777777777778,
              "#fb9f3a"
             ],
             [
              0.8888888888888888,
              "#fdca26"
             ],
             [
              1,
              "#f0f921"
             ]
            ],
            "type": "surface"
           }
          ],
          "table": [
           {
            "cells": {
             "fill": {
              "color": "#EBF0F8"
             },
             "line": {
              "color": "white"
             }
            },
            "header": {
             "fill": {
              "color": "#C8D4E3"
             },
             "line": {
              "color": "white"
             }
            },
            "type": "table"
           }
          ]
         },
         "layout": {
          "annotationdefaults": {
           "arrowcolor": "#2a3f5f",
           "arrowhead": 0,
           "arrowwidth": 1
          },
          "autotypenumbers": "strict",
          "coloraxis": {
           "colorbar": {
            "outlinewidth": 0,
            "ticks": ""
           }
          },
          "colorscale": {
           "diverging": [
            [
             0,
             "#8e0152"
            ],
            [
             0.1,
             "#c51b7d"
            ],
            [
             0.2,
             "#de77ae"
            ],
            [
             0.3,
             "#f1b6da"
            ],
            [
             0.4,
             "#fde0ef"
            ],
            [
             0.5,
             "#f7f7f7"
            ],
            [
             0.6,
             "#e6f5d0"
            ],
            [
             0.7,
             "#b8e186"
            ],
            [
             0.8,
             "#7fbc41"
            ],
            [
             0.9,
             "#4d9221"
            ],
            [
             1,
             "#276419"
            ]
           ],
           "sequential": [
            [
             0,
             "#0d0887"
            ],
            [
             0.1111111111111111,
             "#46039f"
            ],
            [
             0.2222222222222222,
             "#7201a8"
            ],
            [
             0.3333333333333333,
             "#9c179e"
            ],
            [
             0.4444444444444444,
             "#bd3786"
            ],
            [
             0.5555555555555556,
             "#d8576b"
            ],
            [
             0.6666666666666666,
             "#ed7953"
            ],
            [
             0.7777777777777778,
             "#fb9f3a"
            ],
            [
             0.8888888888888888,
             "#fdca26"
            ],
            [
             1,
             "#f0f921"
            ]
           ],
           "sequentialminus": [
            [
             0,
             "#0d0887"
            ],
            [
             0.1111111111111111,
             "#46039f"
            ],
            [
             0.2222222222222222,
             "#7201a8"
            ],
            [
             0.3333333333333333,
             "#9c179e"
            ],
            [
             0.4444444444444444,
             "#bd3786"
            ],
            [
             0.5555555555555556,
             "#d8576b"
            ],
            [
             0.6666666666666666,
             "#ed7953"
            ],
            [
             0.7777777777777778,
             "#fb9f3a"
            ],
            [
             0.8888888888888888,
             "#fdca26"
            ],
            [
             1,
             "#f0f921"
            ]
           ]
          },
          "colorway": [
           "#636efa",
           "#EF553B",
           "#00cc96",
           "#ab63fa",
           "#FFA15A",
           "#19d3f3",
           "#FF6692",
           "#B6E880",
           "#FF97FF",
           "#FECB52"
          ],
          "font": {
           "color": "#2a3f5f"
          },
          "geo": {
           "bgcolor": "white",
           "lakecolor": "white",
           "landcolor": "#E5ECF6",
           "showlakes": true,
           "showland": true,
           "subunitcolor": "white"
          },
          "hoverlabel": {
           "align": "left"
          },
          "hovermode": "closest",
          "mapbox": {
           "style": "light"
          },
          "paper_bgcolor": "white",
          "plot_bgcolor": "#E5ECF6",
          "polar": {
           "angularaxis": {
            "gridcolor": "white",
            "linecolor": "white",
            "ticks": ""
           },
           "bgcolor": "#E5ECF6",
           "radialaxis": {
            "gridcolor": "white",
            "linecolor": "white",
            "ticks": ""
           }
          },
          "scene": {
           "xaxis": {
            "backgroundcolor": "#E5ECF6",
            "gridcolor": "white",
            "gridwidth": 2,
            "linecolor": "white",
            "showbackground": true,
            "ticks": "",
            "zerolinecolor": "white"
           },
           "yaxis": {
            "backgroundcolor": "#E5ECF6",
            "gridcolor": "white",
            "gridwidth": 2,
            "linecolor": "white",
            "showbackground": true,
            "ticks": "",
            "zerolinecolor": "white"
           },
           "zaxis": {
            "backgroundcolor": "#E5ECF6",
            "gridcolor": "white",
            "gridwidth": 2,
            "linecolor": "white",
            "showbackground": true,
            "ticks": "",
            "zerolinecolor": "white"
           }
          },
          "shapedefaults": {
           "line": {
            "color": "#2a3f5f"
           }
          },
          "ternary": {
           "aaxis": {
            "gridcolor": "white",
            "linecolor": "white",
            "ticks": ""
           },
           "baxis": {
            "gridcolor": "white",
            "linecolor": "white",
            "ticks": ""
           },
           "bgcolor": "#E5ECF6",
           "caxis": {
            "gridcolor": "white",
            "linecolor": "white",
            "ticks": ""
           }
          },
          "title": {
           "x": 0.05
          },
          "xaxis": {
           "automargin": true,
           "gridcolor": "white",
           "linecolor": "white",
           "ticks": "",
           "title": {
            "standoff": 15
           },
           "zerolinecolor": "white",
           "zerolinewidth": 2
          },
          "yaxis": {
           "automargin": true,
           "gridcolor": "white",
           "linecolor": "white",
           "ticks": "",
           "title": {
            "standoff": 15
           },
           "zerolinecolor": "white",
           "zerolinewidth": 2
          }
         }
        },
        "title": {
         "text": "Trend of the different types of crime reported over the years in the Ferrara province"
        },
        "xaxis": {
         "anchor": "y",
         "domain": [
          0,
          1
         ],
         "title": {
          "text": "Year"
         }
        },
        "yaxis": {
         "anchor": "x",
         "domain": [
          0,
          1
         ],
         "title": {
          "text": "Value"
         }
        }
       }
      }
     },
     "metadata": {},
     "output_type": "display_data"
    }
   ],
   "source": [
    "px.bar(data_frame= ferrara_df.loc[ferrara_df['Crime'] != 'totale'].groupby(['Crime', 'Year']).sum(numeric_only=True).sort_values(by='Value', ascending=False).reset_index(),\n",
    "       x = 'Year',\n",
    "       y = 'Value',\n",
    "       color= 'Crime',\n",
    "       title= 'Trend of the different types of crime reported over the years in the Ferrara province')"
   ]
  }
 ],
 "metadata": {
  "kernelspec": {
   "display_name": "Python 3",
   "language": "python",
   "name": "python3"
  },
  "language_info": {
   "codemirror_mode": {
    "name": "ipython",
    "version": 3
   },
   "file_extension": ".py",
   "mimetype": "text/x-python",
   "name": "python",
   "nbconvert_exporter": "python",
   "pygments_lexer": "ipython3",
   "version": "3.11.3"
  },
  "orig_nbformat": 4
 },
 "nbformat": 4,
 "nbformat_minor": 2
}
