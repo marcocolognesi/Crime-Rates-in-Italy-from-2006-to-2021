{
 "cells": [
  {
   "cell_type": "markdown",
   "metadata": {},
   "source": [
    "# **Analysis**"
   ]
  },
  {
   "cell_type": "code",
   "execution_count": 1,
   "metadata": {},
   "outputs": [],
   "source": [
    "import pandas as pd\n",
    "import numpy as np\n",
    "import functions\n",
    "import plotly.express as px\n",
    "import matplotlib.pyplot as plt"
   ]
  },
  {
   "cell_type": "markdown",
   "metadata": {},
   "source": [
    "We are gonna perform our work on on different units of analysis:\n",
    "\n",
    "* **Italy** as a whole (*national level*);\n",
    "* **North-East** (*macro-area level*);\n",
    "* **Emilia Romagna** (*regional level*);\n",
    "* **Ferrara** (*provincial level*)."
   ]
  },
  {
   "attachments": {},
   "cell_type": "markdown",
   "metadata": {},
   "source": [
    "First we start by importing the csv file created in the `\"data_manipulation.ipynb\"` file "
   ]
  },
  {
   "cell_type": "code",
   "execution_count": 2,
   "metadata": {},
   "outputs": [],
   "source": [
    "df = pd.read_csv(\"data/final.csv\")\n",
    "df = df.drop(columns='Unnamed: 0')"
   ]
  },
  {
   "attachments": {},
   "cell_type": "markdown",
   "metadata": {},
   "source": [
    "## **Italy** (*national level*)"
   ]
  },
  {
   "attachments": {},
   "cell_type": "markdown",
   "metadata": {},
   "source": [
    "The first unit of analysis taken into consideration will be the **Italian territory** as a whole:\n",
    "\n",
    "* We will see the **total number** of **crimes** reported in the time span taken into consideration, and we will compute the **average** per year;\n",
    "* We will check the **years** with the **maximum** and **minimum** amount;\n",
    "* We will compute the **trend** from `2006` to `2021`, to see if the numbers are **increasing** or **decreasing**."
   ]
  },
  {
   "cell_type": "code",
   "execution_count": 16,
   "metadata": {},
   "outputs": [
    {
     "name": "stdout",
     "output_type": "stream",
     "text": [
      "Overall, in the 16 years taken into consideration, 41196129 crimes were reported: \n",
      " A mean of 2574758 per year and 7054 per day; \n",
      " A standard deviation of 281984.\n",
      "\n",
      "Max:\n",
      " Year\n",
      "2007    2929755\n",
      "Name: Value, dtype: int64\n",
      "\n",
      "Min:\n",
      " Year\n",
      "2020    1898784\n",
      "Name: Value, dtype: int64\n"
     ]
    },
    {
     "data": {
      "image/png": "[encoded data removed]",
      "text/plain": [
       "<Figure size 800x400 with 1 Axes>"
      ]
     },
     "metadata": {},
     "output_type": "display_data"
    }
   ],
   "source": [
    "# Finding the number of crimes reported in the time span taken into consideration\n",
    "year_and_total_values = df.loc[df['Crime'] == 'totale'].groupby(['Year']).sum(numeric_only=True)['Value']\n",
    "\n",
    "\n",
    "print(f\"Overall, in the 16 years taken into consideration, {sum(year_and_total_values)} crimes were reported:\",\n",
    "        f\"\\n A mean of {round(sum(year_and_total_values)/len(year_and_total_values))} per year and {round((sum(year_and_total_values)/len(year_and_total_values) / 365))} per day;\",\n",
    "        f\"\\n A standard deviation of {round(np.std(year_and_total_values))}.\\n\")\n",
    "\n",
    "# Finding the year with the maximum crimes reported\n",
    "print('Max:\\n', year_and_total_values[year_and_total_values == max(year_and_total_values)])\n",
    "\n",
    "# Finding the year with the minimum crimes reported\n",
    "print('\\nMin:\\n',year_and_total_values[year_and_total_values == min(year_and_total_values)])\n",
    "\n",
    "# Plotting\n",
    "f, ax = plt.subplots(figsize=(8,4))\n",
    "plt.bar(x = 'Year',\n",
    "        height = 'Value',\n",
    "        data = year_and_total_values.reset_index()\n",
    "        )\n",
    "ax.set_title('Trend of the total number of crimes reported over the years in Italy', weight='bold')\n",
    "ax.ticklabel_format(axis = 'y', style = 'plain')\n",
    "ax.set_xlabel('Year')\n",
    "ax.set_ylabel('Rates')\n",
    "plt.show()"
   ]
  },
  {
   "attachments": {},
   "cell_type": "markdown",
   "metadata": {},
   "source": [
    "Now, with a manually created function we are gonna see the crimes that **increased** and **decreased** the most over the years at national level"
   ]
  },
  {
   "cell_type": "code",
   "execution_count": 18,
   "metadata": {},
   "outputs": [
    {
     "name": "stdout",
     "output_type": "stream",
     "text": [
      "The crimes that increased over Italy in the time period taken into consideration are: \n",
      " {'altri delitti': '28.76%', 'atti sessuali con minorenne': '6.09%', 'contraffazione di marchi e prodotti industriali': '55.69%', 'delitti informatici': '823.49%', 'estorsioni': '86.38%', 'percosse': '9.55%', 'pornografia minorile e detenzione di materiale pedopornografico': '258.66%', 'riciclaggio e impiego di denaro, beni o utilità di provenienza illecita': '14.46%', 'strage': '16.00%', 'truffe e frodi informatiche': '170.75%', 'violenze sessuali': '16.91%'}\n",
      "\n",
      "The crimes that had a decrease higher than -0.2% are the following: \n",
      " {'associazione per delinquere': '-40.53%', 'attentati': '-65.52%', 'contrabbando': '-54.78%', 'danneggiamenti': '-25.89%', 'danneggiamento seguito da incendio': '-21.51%', 'furti': '-48.79%', 'furti con destrezza': '-40.53%', 'furti con strappo': '-48.05%', 'furti di automezzi pesanti trasportanti merci': '-87.46%', 'furti di autovetture': '-54.98%', 'furti di ciclomotori': '-83.16%', 'furti di motocicli': '-58.66%', \"furti di opere d'arte e materiale archeologico\": '-76.54%', 'furti in auto in sosta': '-64.61%', 'furti in esercizi commerciali': '-43.84%', 'incendi': '-44.74%', 'infanticidi': '-100.00%', 'omicidi colposi da incidente stradale': '-44.28%', 'omicidi preterintenzionali': '-21.05%', 'omicidi volontari consumati': '-51.05%', 'omicidi volontari consumati a scopo di furto o rapina': '-79.41%', 'omicidi volontari consumati a scopo terroristico': '-100.00%', 'omicidi volontari consumati di tipo mafioso': '-80.73%', 'rapine': '-56.06%', 'rapine in abitazione': '-22.43%', 'rapine in banca': '-96.81%', 'rapine in esercizi commerciali': '-60.73%', 'rapine in pubblica via': '-50.62%', 'rapine in uffici postali': '-85.66%', 'ricettazione': '-58.95%', 'sequestri di persona': '-52.16%', 'sfruttamento e favoreggiamento della prostituzione': '-73.74%', 'tentati omicidi': '-36.78%', 'totale': '-24.06%', 'usura': '-52.65%', 'violazione della proprietà intellettuale': '-96.53%'}\n"
     ]
    }
   ],
   "source": [
    "italy_crime_year_groupby_sum_values = df.groupby(['Crime', 'Year']).sum(numeric_only= True)['Value'].reset_index()\n",
    "\n",
    "italy_increasing_rates = functions.find_increasing_rates(italy_crime_year_groupby_sum_values)\n",
    "print('The crimes that increased over Italy in the time period taken into consideration are: \\n', italy_increasing_rates)\n",
    "\n",
    "threshold = -0.20\n",
    "italy_decreasing_rates = functions.find_decreasing_rates(italy_crime_year_groupby_sum_values, threshold= threshold)\n",
    "print(f\"\\nThe crimes that had a decrease higher than {threshold}% are the following: \\n\", italy_decreasing_rates)"
   ]
  },
  {
   "attachments": {},
   "cell_type": "markdown",
   "metadata": {},
   "source": [
    "## **North East** (*macro-area level*)"
   ]
  },
  {
   "attachments": {},
   "cell_type": "markdown",
   "metadata": {},
   "source": [
    "The second **unit of analysis** taken into consideration will be the **North-East** macro-area.\n",
    "\n",
    "We are gonna perform the same operation we did with the previous unit of analysis."
   ]
  },
  {
   "cell_type": "code",
   "execution_count": 23,
   "metadata": {},
   "outputs": [
    {
     "name": "stdout",
     "output_type": "stream",
     "text": [
      "Overall, in the 16 years taken into consideration, in the North-East area 7726637 crimes were reported: \n",
      " A mean of 482915 per year and 1323 per day; \n",
      " A standard deviation of 56176.\n",
      "\n",
      "Max:\n",
      " Year\n",
      "2007    561667\n",
      "Name: Value, dtype: int64\n",
      "\n",
      "Min:\n",
      " Year\n",
      "2020    353168\n",
      "Name: Value, dtype: int64\n"
     ]
    },
    {
     "data": {
      "image/png": "[encoded data removed]",
      "text/plain": [
       "<Figure size 800x400 with 1 Axes>"
      ]
     },
     "metadata": {},
     "output_type": "display_data"
    }
   ],
   "source": [
    "north_east_df = functions.get_zone_df(df, area='Nord-est')\n",
    "north_east_total_values = north_east_df.loc[north_east_df['Crime'] == 'totale'].groupby(['Year']).sum(numeric_only=True)['Value']\n",
    "\n",
    "\n",
    "print(f\"Overall, in the 16 years taken into consideration, in the North-East area {sum(north_east_total_values)} crimes were reported:\",\n",
    "        f\"\\n A mean of {round(sum(north_east_total_values)/len(north_east_total_values))} per year and {round((sum(north_east_total_values)/len(north_east_total_values) / 365))} per day;\",\n",
    "        f\"\\n A standard deviation of {round(np.std(north_east_total_values))}.\\n\")\n",
    "\n",
    "# Finding the year with the maximum crimes reported\n",
    "print('Max:\\n', north_east_total_values[north_east_total_values == max(north_east_total_values)])\n",
    "\n",
    "# Finding the year with the minimum crimes reported\n",
    "print('\\nMin:\\n',north_east_total_values[north_east_total_values == min(north_east_total_values)])\n",
    "\n",
    "\n",
    "# Plotting\n",
    "f, ax = plt.subplots(figsize=(8,4))\n",
    "plt.bar(x = 'Year',\n",
    "        height = 'Value',\n",
    "        data = north_east_total_values.reset_index()\n",
    "        )\n",
    "ax.set_title('Trend of the total number of crimes reported over the years in the North-East macro area', weight='bold')\n",
    "ax.ticklabel_format(axis = 'y', style = 'plain')\n",
    "ax.set_xlabel('Year')\n",
    "ax.set_ylabel('Rates')\n",
    "plt.show()"
   ]
  },
  {
   "attachments": {},
   "cell_type": "markdown",
   "metadata": {},
   "source": [
    "Crimes that **increased** and **decreased** the most are:"
   ]
  },
  {
   "cell_type": "code",
   "execution_count": 24,
   "metadata": {},
   "outputs": [
    {
     "name": "stdout",
     "output_type": "stream",
     "text": [
      "The crimes that increased over the North-East macro area in the time period taken into consideration are: \n",
      " {'altri delitti': '27.71%', 'contraffazione di marchi e prodotti industriali': '159.38%', 'corruzione di minorenne': '36.84%', 'delitti informatici': '632.28%', 'estorsioni': '191.85%', 'furti in abitazioni': '15.48%', 'incendi boschivi': '59.81%', 'percosse': '1.77%', 'pornografia minorile e detenzione di materiale pedopornografico': '216.28%', 'rapine in abitazione': '5.14%', 'rapine in pubblica via': '25.75%', 'riciclaggio e impiego di denaro, beni o utilità di provenienza illecita': '111.11%', 'truffe e frodi informatiche': '166.75%', 'violenze sessuali': '26.27%'}\n",
      "\n",
      "The crimes that had a decrease higher than -0.2% are the following: \n",
      " {'associazione di tipo mafioso': '-75.00%', 'associazione per delinquere': '-48.24%', 'attentati': '-45.45%', 'contrabbando': '-97.56%', 'danneggiamenti': '-28.59%', 'danneggiamento seguito da incendio': '-41.12%', 'furti': '-51.29%', 'furti con destrezza': '-41.69%', 'furti con strappo': '-24.09%', 'furti di automezzi pesanti trasportanti merci': '-85.53%', 'furti di autovetture': '-79.11%', 'furti di ciclomotori': '-87.89%', 'furti di motocicli': '-54.94%', \"furti di opere d'arte e materiale archeologico\": '-79.72%', 'furti in auto in sosta': '-75.29%', 'furti in esercizi commerciali': '-45.69%', 'incendi': '-55.93%', 'omicidi colposi': '-30.11%', 'omicidi colposi da incidente stradale': '-41.82%', 'omicidi preterintenzionali': '-44.44%', 'omicidi volontari consumati': '-27.63%', 'omicidi volontari consumati a scopo di furto o rapina': '-75.00%', 'rapine in banca': '-98.48%', 'rapine in uffici postali': '-87.30%', 'ricettazione': '-47.43%', 'sequestri di persona': '-47.09%', 'sfruttamento e favoreggiamento della prostituzione': '-67.50%', 'totale': '-26.14%', 'usura': '-44.44%', 'violazione della proprietà intellettuale': '-71.63%'}\n"
     ]
    }
   ],
   "source": [
    "north_east_groupyb_crime_year = north_east_df.groupby(['Crime', 'Year']).sum(numeric_only=True)['Value'].reset_index()\n",
    "\n",
    "increasing_rates_north_east = functions.find_increasing_rates(north_east_groupyb_crime_year)\n",
    "print('The crimes that increased over the North-East macro area in the time period taken into consideration are: \\n', increasing_rates_north_east)\n",
    "\n",
    "threshold = -0.20\n",
    "decreasing_rates_north_east = functions.find_decreasing_rates(north_east_groupyb_crime_year, threshold= threshold)\n",
    "print(f\"\\nThe crimes that had a decrease higher than {threshold}% are the following: \\n\", decreasing_rates_north_east)"
   ]
  },
  {
   "attachments": {},
   "cell_type": "markdown",
   "metadata": {},
   "source": [
    "## **Emilia Romagna** (*regional level*)"
   ]
  },
  {
   "attachments": {},
   "cell_type": "markdown",
   "metadata": {},
   "source": [
    "The third **unit of analysis** taken into consideration will be the **Emilia Romagna** region.\n",
    "\n",
    "We are gonna perform the same operation we did with the previous units of analysis."
   ]
  },
  {
   "cell_type": "code",
   "execution_count": 26,
   "metadata": {},
   "outputs": [
    {
     "name": "stdout",
     "output_type": "stream",
     "text": [
      "Overall, in the 16 years taken into consideration, in the Emilia Romagna region 3692612 crimes were reported: \n",
      " A mean of 230788 per year and 632 per day; \n",
      " A standard deviation of 27098.\n",
      "\n",
      "Max:\n",
      " Year\n",
      "2007    265337\n",
      "Name: Value, dtype: int64\n",
      "\n",
      "Min:\n",
      " Year\n",
      "2020    166773\n",
      "Name: Value, dtype: int64\n"
     ]
    },
    {
     "data": {
      "image/png": "[encoded data removed]",
      "text/plain": [
       "<Figure size 800x400 with 1 Axes>"
      ]
     },
     "metadata": {},
     "output_type": "display_data"
    }
   ],
   "source": [
    "er_df = functions.get_region_df(df, region='Emilia-Romagna')\n",
    "er_total_values = er_df.loc[er_df['Crime'] == 'totale'].groupby(['Year']).sum(numeric_only=True)['Value']\n",
    "\n",
    "\n",
    "print(f\"Overall, in the 16 years taken into consideration, in the Emilia Romagna region {sum(er_total_values)} crimes were reported:\",\n",
    "        f\"\\n A mean of {round(sum(er_total_values)/len(er_total_values))} per year and {round((sum(er_total_values)/len(er_total_values) / 365))} per day;\",\n",
    "        f\"\\n A standard deviation of {round(np.std(er_total_values))}.\\n\")\n",
    "\n",
    "# Finding the year with the maximum crimes reported\n",
    "print('Max:\\n', er_total_values[er_total_values == max(er_total_values)])\n",
    "\n",
    "# Finding the year with the minimum crimes reported\n",
    "print('\\nMin:\\n',er_total_values[er_total_values == min(er_total_values)])\n",
    "\n",
    "# Plotting\n",
    "f, ax = plt.subplots(figsize=(8,4))\n",
    "plt.bar(x = 'Year',\n",
    "        height = 'Value',\n",
    "        data = er_total_values.reset_index()\n",
    "        )\n",
    "ax.set_title('Trend of the total number of crimes reported over the years in the Emilia Romagna region', weight='bold')\n",
    "ax.ticklabel_format(axis = 'y', style = 'plain')\n",
    "ax.set_xlabel('Year')\n",
    "ax.set_ylabel('Rates')\n",
    "plt.show()"
   ]
  },
  {
   "cell_type": "markdown",
   "metadata": {},
   "source": [
    "Crimes that **increased** and **decreased** the most are:"
   ]
  },
  {
   "cell_type": "code",
   "execution_count": 27,
   "metadata": {},
   "outputs": [
    {
     "name": "stdout",
     "output_type": "stream",
     "text": [
      "The crimes that increased over the North-East macro area in the time period taken into consideration are: \n",
      " {'altri delitti': '65.05%', 'contraffazione di marchi e prodotti industriali': '178.43%', 'corruzione di minorenne': '14.29%', 'delitti informatici': '969.33%', 'estorsioni': '206.00%', 'incendi boschivi': '122.41%', 'omicidi volontari consumati': '3.45%', 'percosse': '13.87%', 'pornografia minorile e detenzione di materiale pedopornografico': '217.86%', 'rapine in abitazione': '21.26%', 'rapine in pubblica via': '36.26%', 'riciclaggio e impiego di denaro, beni o utilità di provenienza illecita': '207.89%', 'truffe e frodi informatiche': '154.21%', 'violenze sessuali': '34.40%'}\n",
      "\n",
      "The crimes that had a decrease higher than -0.2% are the following: \n",
      " {'associazione di tipo mafioso': '-100.00%', 'associazione per delinquere': '-42.37%', 'attentati': '-65.62%', 'contrabbando': '-100.00%', 'danneggiamenti': '-30.25%', 'danneggiamento seguito da incendio': '-30.65%', 'furti': '-51.70%', 'furti con destrezza': '-42.35%', 'furti con strappo': '-24.22%', 'furti di automezzi pesanti trasportanti merci': '-86.81%', 'furti di autovetture': '-78.73%', 'furti di ciclomotori': '-87.73%', 'furti di motocicli': '-49.86%', \"furti di opere d'arte e materiale archeologico\": '-75.00%', 'furti in auto in sosta': '-70.03%', 'furti in esercizi commerciali': '-46.95%', 'incendi': '-41.97%', 'omicidi colposi': '-23.63%', 'omicidi colposi da incidente stradale': '-39.88%', 'omicidi preterintenzionali': '-50.00%', 'omicidi volontari consumati a scopo di furto o rapina': '-50.00%', 'rapine in banca': '-98.59%', 'rapine in uffici postali': '-82.93%', 'ricettazione': '-50.66%', 'sequestri di persona': '-62.16%', 'sfruttamento e favoreggiamento della prostituzione': '-72.73%', 'totale': '-25.71%', 'usura': '-52.63%', 'violazione della proprietà intellettuale': '-51.65%'}\n"
     ]
    }
   ],
   "source": [
    "er_groupby_crime_year = er_df.groupby(['Crime', 'Year']).sum(numeric_only=True)['Value'].reset_index()\n",
    "\n",
    "increasing_rates_er = functions.find_increasing_rates(er_groupby_crime_year)\n",
    "print('The crimes that increased over the North-East macro area in the time period taken into consideration are: \\n', increasing_rates_er)\n",
    "\n",
    "threshold = -0.20\n",
    "decreasing_rates_er = functions.find_decreasing_rates(er_groupby_crime_year, threshold= threshold)\n",
    "print(f\"\\nThe crimes that had a decrease higher than {threshold}% are the following: \\n\", decreasing_rates_er)"
   ]
  },
  {
   "attachments": {},
   "cell_type": "markdown",
   "metadata": {},
   "source": [
    "## **Ferrara** (*provincial level*)"
   ]
  },
  {
   "cell_type": "markdown",
   "metadata": {},
   "source": [
    "The fourth **unit of analysis** taken into consideration will be the **Ferrara** province.\n",
    "\n",
    "We are gonna perform the same operation we did with the previous units of analysis."
   ]
  },
  {
   "cell_type": "code",
   "execution_count": 31,
   "metadata": {},
   "outputs": [
    {
     "name": "stdout",
     "output_type": "stream",
     "text": [
      "Overall, in the 16 years taken into consideration, in the Emilia Romagna region 251587 crimes were reported: \n",
      " A mean of 15724 per year and 43 per day; \n",
      " A standard deviation of 1623.\n",
      "\n",
      "Max:\n",
      " Year\n",
      "2007    18963\n",
      "Name: Value, dtype: int64\n",
      "\n",
      "Min:\n",
      " Year\n",
      "2020    12224\n",
      "Name: Value, dtype: int64\n"
     ]
    },
    {
     "data": {
      "image/png": "[encoded data removed]",
      "text/plain": [
       "<Figure size 800x400 with 1 Axes>"
      ]
     },
     "metadata": {},
     "output_type": "display_data"
    }
   ],
   "source": [
    "ferrara_df = functions.get_province_df(df, province='Ferrara')\n",
    "ferrara_total_values = ferrara_df.loc[ferrara_df['Crime'] == 'totale'].groupby(['Year']).sum(numeric_only=True)['Value']\n",
    "\n",
    "\n",
    "print(f\"Overall, in the 16 years taken into consideration, in the Emilia Romagna region {sum(ferrara_total_values)} crimes were reported:\",\n",
    "        f\"\\n A mean of {round(sum(ferrara_total_values)/len(ferrara_total_values))} per year and {round((sum(ferrara_total_values)/len(ferrara_total_values) / 365))} per day;\",\n",
    "        f\"\\n A standard deviation of {round(np.std(ferrara_total_values))}.\\n\")\n",
    "\n",
    "# Finding the year with the maximum crimes reported\n",
    "print('Max:\\n', ferrara_total_values[ferrara_total_values == max(ferrara_total_values)])\n",
    "\n",
    "# Finding the year with the minimum crimes reported\n",
    "print('\\nMin:\\n',ferrara_total_values[ferrara_total_values == min(ferrara_total_values)])\n",
    "\n",
    "# Plotting\n",
    "f, ax = plt.subplots(figsize=(8,4))\n",
    "plt.bar(x = 'Year',\n",
    "        height = 'Value',\n",
    "        data = ferrara_total_values.reset_index()\n",
    "        )\n",
    "ax.set_title('Trend of the total number of crimes reported over the years in the Ferrara province', weight='bold')\n",
    "ax.ticklabel_format(axis = 'y', style = 'plain')\n",
    "ax.set_xlabel('Year')\n",
    "ax.set_ylabel('Rates')\n",
    "plt.show()"
   ]
  },
  {
   "cell_type": "markdown",
   "metadata": {},
   "source": [
    "Crimes that **increased** and **decreased** the most are:"
   ]
  },
  {
   "cell_type": "code",
   "execution_count": 29,
   "metadata": {},
   "outputs": [
    {
     "name": "stdout",
     "output_type": "stream",
     "text": [
      "The crimes that increased the most over the Ferrara province in the time period taken into consideration are: \n",
      " {'altri delitti': '57.33%', 'associazione per delinquere': '300.00%', 'delitti informatici': '2112.50%', 'estorsioni': '145.00%', 'furti con strappo': '37.14%', 'omicidi volontari consumati': '100.00%', 'percosse': '12.98%', 'pornografia minorile e detenzione di materiale pedopornografico': '500.00%', 'rapine in abitazione': '30.00%', 'rapine in esercizi commerciali': '23.53%', 'rapine in pubblica via': '15.00%', 'riciclaggio e impiego di denaro, beni o utilità di provenienza illecita': '900.00%', 'sequestri di persona': '66.67%', 'sfruttamento e favoreggiamento della prostituzione': '250.00%', 'truffe e frodi informatiche': '163.27%', 'violenze sessuali': '20.00%'}\n",
      "\n",
      "The crimes that had a decrease higher than -0.2% are the following: \n",
      " {'atti sessuali con minorenne': '-100.00%', 'contraffazione di marchi e prodotti industriali': '-42.86%', 'danneggiamenti': '-22.46%', 'danneggiamento seguito da incendio': '-25.71%', 'furti': '-54.43%', 'furti di automezzi pesanti trasportanti merci': '-42.86%', 'furti di autovetture': '-77.78%', 'furti di ciclomotori': '-91.38%', 'furti di motocicli': '-77.78%', \"furti di opere d'arte e materiale archeologico\": '-90.00%', 'furti in auto in sosta': '-78.18%', 'furti in esercizi commerciali': '-52.61%', 'incendi': '-50.00%', 'incendi boschivi': '-100.00%', 'minacce': '-22.55%', 'normativa sugli stupefacenti': '-20.10%', 'omicidi colposi': '-44.44%', 'omicidi colposi da incidente stradale': '-68.75%', 'rapine in banca': '-100.00%', 'rapine in uffici postali': '-83.33%', 'ricettazione': '-60.71%', 'totale': '-25.97%', 'usura': '-100.00%', 'violazione della proprietà intellettuale': '-96.30%'}\n"
     ]
    }
   ],
   "source": [
    "ferrara_groupby_crime_year = ferrara_df.groupby(['Crime', 'Year']).sum(numeric_only=True)['Value'].reset_index()\n",
    "\n",
    "increasing_rates_ferrara = functions.find_increasing_rates(ferrara_groupby_crime_year)\n",
    "print('The crimes that increased the most over the Ferrara province in the time period taken into consideration are: \\n', increasing_rates_ferrara)\n",
    "\n",
    "threshold = -0.20\n",
    "decreasing_rates_ferrara = functions.find_decreasing_rates(ferrara_groupby_crime_year, threshold= threshold)\n",
    "print(f\"\\nThe crimes that had a decrease higher than {threshold}% are the following: \\n\", decreasing_rates_ferrara)"
   ]
  },
  {
   "attachments": {},
   "cell_type": "markdown",
   "metadata": {},
   "source": [
    "## The relationship between **crime rates** and **population**"
   ]
  },
  {
   "attachments": {},
   "cell_type": "markdown",
   "metadata": {},
   "source": [
    "To confirm the assumption I previously stated, which was the so called \"**population bias**\", we show the relationship between population and values over the years"
   ]
  },
  {
   "cell_type": "code",
   "execution_count": 3,
   "metadata": {},
   "outputs": [],
   "source": [
    "import matplotlib.pyplot as plt\n",
    "import seaborn as sns"
   ]
  },
  {
   "cell_type": "code",
   "execution_count": 77,
   "metadata": {},
   "outputs": [
    {
     "data": {
      "text/html": [
       "<div>\n",
       "<style scoped>\n",
       "    .dataframe tbody tr th:only-of-type {\n",
       "        vertical-align: middle;\n",
       "    }\n",
       "\n",
       "    .dataframe tbody tr th {\n",
       "        vertical-align: top;\n",
       "    }\n",
       "\n",
       "    .dataframe thead th {\n",
       "        text-align: right;\n",
       "    }\n",
       "</style>\n",
       "<table border=\"1\" class=\"dataframe\">\n",
       "  <thead>\n",
       "    <tr style=\"text-align: right;\">\n",
       "      <th></th>\n",
       "      <th>Province</th>\n",
       "      <th>Year</th>\n",
       "      <th>Population</th>\n",
       "      <th>Value</th>\n",
       "    </tr>\n",
       "  </thead>\n",
       "  <tbody>\n",
       "    <tr>\n",
       "      <th>0</th>\n",
       "      <td>Agrigento</td>\n",
       "      <td>2006</td>\n",
       "      <td>448752</td>\n",
       "      <td>27440</td>\n",
       "    </tr>\n",
       "    <tr>\n",
       "      <th>1</th>\n",
       "      <td>Agrigento</td>\n",
       "      <td>2007</td>\n",
       "      <td>447968</td>\n",
       "      <td>30122</td>\n",
       "    </tr>\n",
       "    <tr>\n",
       "      <th>2</th>\n",
       "      <td>Agrigento</td>\n",
       "      <td>2008</td>\n",
       "      <td>449492</td>\n",
       "      <td>30702</td>\n",
       "    </tr>\n",
       "    <tr>\n",
       "      <th>3</th>\n",
       "      <td>Agrigento</td>\n",
       "      <td>2009</td>\n",
       "      <td>450199</td>\n",
       "      <td>28807</td>\n",
       "    </tr>\n",
       "    <tr>\n",
       "      <th>4</th>\n",
       "      <td>Agrigento</td>\n",
       "      <td>2010</td>\n",
       "      <td>451030</td>\n",
       "      <td>29145</td>\n",
       "    </tr>\n",
       "    <tr>\n",
       "      <th>...</th>\n",
       "      <td>...</td>\n",
       "      <td>...</td>\n",
       "      <td>...</td>\n",
       "      <td>...</td>\n",
       "    </tr>\n",
       "    <tr>\n",
       "      <th>1676</th>\n",
       "      <td>Viterbo</td>\n",
       "      <td>2017</td>\n",
       "      <td>314003</td>\n",
       "      <td>20887</td>\n",
       "    </tr>\n",
       "    <tr>\n",
       "      <th>1677</th>\n",
       "      <td>Viterbo</td>\n",
       "      <td>2018</td>\n",
       "      <td>313010</td>\n",
       "      <td>20468</td>\n",
       "    </tr>\n",
       "    <tr>\n",
       "      <th>1678</th>\n",
       "      <td>Viterbo</td>\n",
       "      <td>2019</td>\n",
       "      <td>311761</td>\n",
       "      <td>20727</td>\n",
       "    </tr>\n",
       "    <tr>\n",
       "      <th>1679</th>\n",
       "      <td>Viterbo</td>\n",
       "      <td>2020</td>\n",
       "      <td>309795</td>\n",
       "      <td>17150</td>\n",
       "    </tr>\n",
       "    <tr>\n",
       "      <th>1680</th>\n",
       "      <td>Viterbo</td>\n",
       "      <td>2021</td>\n",
       "      <td>308830</td>\n",
       "      <td>19165</td>\n",
       "    </tr>\n",
       "  </tbody>\n",
       "</table>\n",
       "<p>1681 rows × 4 columns</p>\n",
       "</div>"
      ],
      "text/plain": [
       "       Province  Year  Population  Value\n",
       "0     Agrigento  2006      448752  27440\n",
       "1     Agrigento  2007      447968  30122\n",
       "2     Agrigento  2008      449492  30702\n",
       "3     Agrigento  2009      450199  28807\n",
       "4     Agrigento  2010      451030  29145\n",
       "...         ...   ...         ...    ...\n",
       "1676    Viterbo  2017      314003  20887\n",
       "1677    Viterbo  2018      313010  20468\n",
       "1678    Viterbo  2019      311761  20727\n",
       "1679    Viterbo  2020      309795  17150\n",
       "1680    Viterbo  2021      308830  19165\n",
       "\n",
       "[1681 rows x 4 columns]"
      ]
     },
     "execution_count": 77,
     "metadata": {},
     "output_type": "execute_result"
    }
   ],
   "source": [
    "# Grouping the DF by 'Province', 'Year' and 'Population' and taking the sum of the values\n",
    "df.groupby(['Province', 'Year', 'Population']).sum(numeric_only=True)['Value'].reset_index()"
   ]
  },
  {
   "cell_type": "code",
   "execution_count": 76,
   "metadata": {},
   "outputs": [
    {
     "data": {
      "image/png": "[encoded data removed]",
      "text/plain": [
       "<Figure size 800x600 with 2 Axes>"
      ]
     },
     "metadata": {},
     "output_type": "display_data"
    }
   ],
   "source": [
    "f, ax = plt.subplots(figsize=(8, 6))\n",
    "sns.heatmap(df.groupby(['Province', 'Year', 'Population']).sum(numeric_only=True)['Value'].reset_index().drop(columns='Province').corr(), annot=True)\n",
    "plt.show()"
   ]
  },
  {
   "cell_type": "code",
   "execution_count": 14,
   "metadata": {},
   "outputs": [
    {
     "data": {
      "application/vnd.plotly.v1+json": {
       "config": {
        "plotlyServerURL": "https://plot.ly"
       },
       "data": [
        {
         "alignmentgroup": "True",
         "bingroup": "x",
         "hovertemplate": "Value=%{x}<br>count=%{y}<extra></extra>",
         "legendgroup": "",
         "marker": {
          "color": "#636efa",
          "pattern": {
           "shape": ""
          }
         },
         "name": "",
         "offsetgroup": "",
         "orientation": "v",
         "showlegend": false,
         "type": "histogram",
         "x": [
          27440,
          30122,
          30702,
          28807,
          29145,
          31748,
          31606,
          31700,
          29208,
          27942,
          27047,
          24874,
          25335,
          24261,
          21937,
          22141,
          44774,
          49032,
          43366,
          42620,
          42971,
          45571,
          43824,
          45736,
          44579,
          41812,
          38867,
          35393,
          33512,
          33839,
          25358,
          28658,
          42649,
          43091,
          41219,
          39457,
          40247,
          42298,
          43754,
          41688,
          39849,
          39020,
          34457,
          33029,
          31289,
          29349,
          21975,
          24439,
          11195,
          12056,
          10985,
          10829,
          10508,
          10307,
          10719,
          10005,
          10348,
          9603,
          8959,
          8248,
          8003,
          7233,
          6684,
          6250,
          28639,
          31429,
          27850,
          28338,
          26241,
          27029,
          29059,
          29406,
          26870,
          26730,
          22296,
          23136,
          23180,
          22483,
          18094,
          19865,
          29630,
          31224,
          29957,
          29494,
          32340,
          17902,
          16632,
          18179,
          17514,
          17181,
          14892,
          14799,
          13491,
          12394,
          10694,
          10761,
          20290,
          22506,
          20777,
          20862,
          18056,
          19443,
          21465,
          25474,
          22299,
          20843,
          20547,
          17753,
          17720,
          16566,
          13816,
          13506,
          26657,
          28603,
          25476,
          24976,
          23249,
          26382,
          25022,
          23831,
          23536,
          25586,
          25852,
          25779,
          24133,
          24163,
          21685,
          22929,
          154955,
          160934,
          155819,
          154230,
          155109,
          128047,
          133103,
          144880,
          141715,
          138845,
          126682,
          123084,
          121197,
          109599,
          94963,
          98025,
          34643,
          36070,
          36114,
          34280,
          33641,
          30642,
          29857,
          30084,
          28043,
          23687,
          26959,
          14472,
          14088,
          12763,
          12275,
          11044,
          10780,
          11476,
          12129,
          11397,
          11193,
          10520,
          10037,
          10897,
          11174,
          9985,
          10996,
          15703,
          17600,
          16249,
          16012,
          16646,
          17002,
          16115,
          14545,
          15932,
          15540,
          14667,
          14875,
          13082,
          13325,
          11125,
          12345,
          96359,
          106206,
          105380,
          106998,
          104242,
          108378,
          110504,
          116336,
          114220,
          110774,
          102513,
          95225,
          93821,
          83129,
          63400,
          72785,
          15286,
          17334,
          15912,
          15921,
          15471,
          15971,
          16065,
          17107,
          17146,
          15735,
          13913,
          12315,
          11480,
          11191,
          9349,
          9916,
          179959,
          189442,
          163937,
          147113,
          146292,
          161036,
          168374,
          181328,
          177058,
          173448,
          159539,
          151932,
          148871,
          138903,
          106760,
          113646,
          33455,
          32276,
          30690,
          31879,
          32563,
          33277,
          37708,
          40111,
          41142,
          39167,
          39183,
          36143,
          34688,
          34197,
          28775,
          31956,
          141459,
          151527,
          146960,
          142169,
          143149,
          143463,
          143871,
          143434,
          130629,
          125750,
          114604,
          106414,
          104725,
          98950,
          76214,
          88785,
          31673,
          33874,
          35724,
          35499,
          32597,
          35644,
          36629,
          36361,
          36023,
          35122,
          31696,
          30552,
          28892,
          27848,
          23713,
          23961,
          58292,
          55899,
          57096,
          55065,
          57208,
          61282,
          64060,
          61799,
          57851,
          54586,
          49260,
          49584,
          48620,
          46998,
          39261,
          43732,
          22597,
          23027,
          23360,
          22467,
          22981,
          23290,
          24574,
          25236,
          22283,
          21307,
          18881,
          18261,
          17486,
          16915,
          15644,
          15726,
          13309,
          14638,
          14184,
          14135,
          13980,
          15430,
          15490,
          14591,
          13728,
          14620,
          13504,
          13532,
          12572,
          12322,
          10241,
          11836,
          74166,
          81137,
          77300,
          69075,
          66595,
          67608,
          69696,
          67638,
          69889,
          74859,
          74123,
          71978,
          70172,
          67237,
          57259,
          63191,
          123283,
          140339,
          133579,
          122609,
          118843,
          128922,
          132121,
          138823,
          129966,
          120410,
          107082,
          103413,
          102140,
          102831,
          84155,
          86557,
          36386,
          39671,
          32963,
          32063,
          32846,
          31498,
          31882,
          33653,
          32363,
          29404,
          29309,
          25505,
          26798,
          26470,
          23394,
          23744,
          27398,
          29998,
          28453,
          29026,
          29882,
          31542,
          32696,
          31754,
          32610,
          30738,
          26400,
          25813,
          23168,
          22834,
          19348,
          21328,
          45435,
          48068,
          45154,
          41406,
          40662,
          43524,
          42771,
          47920,
          45126,
          46077,
          42170,
          38730,
          40281,
          37637,
          28962,
          34106,
          54552,
          60143,
          56125,
          52497,
          51120,
          51836,
          54216,
          50468,
          52087,
          49382,
          47067,
          45090,
          42450,
          38706,
          32255,
          35543,
          27243,
          29558,
          29444,
          29663,
          28569,
          30638,
          31236,
          33877,
          32606,
          29432,
          24931,
          24656,
          23128,
          21223,
          17202,
          20445,
          11967,
          13057,
          12432,
          9985,
          9238,
          9978,
          10080,
          9553,
          10116,
          10333,
          10296,
          10836,
          10741,
          10886,
          10047,
          10362,
          42920,
          44524,
          41591,
          40231,
          41226,
          41301,
          43827,
          41866,
          41015,
          40009,
          38715,
          34469,
          34438,
          33619,
          25663,
          30374,
          8602,
          8433,
          8919,
          9147,
          9691,
          9512,
          9798,
          9309,
          8629,
          8929,
          8301,
          8609,
          8485,
          8807,
          7990,
          7609,
          14996,
          14859,
          14858,
          14486,
          14596,
          13147,
          11653,
          11077,
          10569,
          10349,
          10551,
          40376,
          43165,
          37317,
          36141,
          33909,
          35800,
          37899,
          38741,
          39099,
          37903,
          35104,
          33461,
          33914,
          33298,
          27149,
          28651,
          144759,
          154573,
          132248,
          132010,
          125564,
          129483,
          141096,
          144777,
          145755,
          137490,
          135977,
          137297,
          151007,
          147718,
          97710,
          105959,
          57214,
          70312,
          64617,
          66684,
          70191,
          65398,
          67886,
          67885,
          64048,
          68082,
          62015,
          59081,
          58848,
          57725,
          52116,
          53350,
          36716,
          40047,
          36457,
          37602,
          35889,
          43033,
          41661,
          42803,
          42722,
          43672,
          37292,
          36716,
          36036,
          31512,
          25069,
          28360,
          29028,
          33360,
          30717,
          29972,
          29824,
          31271,
          30841,
          31154,
          29671,
          30254,
          28574,
          29382,
          26719,
          26379,
          22901,
          23862,
          169383,
          167656,
          137203,
          130352,
          125787,
          127016,
          122605,
          124019,
          120259,
          113260,
          104984,
          99910,
          92252,
          84602,
          70233,
          75488,
          13369,
          11546,
          10643,
          10431,
          10856,
          10828,
          11930,
          11266,
          10338,
          10246,
          9535,
          9557,
          9911,
          9008,
          8334,
          8568,
          23376,
          24179,
          22287,
          21295,
          21094,
          20430,
          21781,
          22514,
          21800,
          21014,
          21055,
          20336,
          20227,
          17047,
          14761,
          16839,
          28027,
          29017,
          29047,
          28645,
          27403,
          28160,
          26713,
          27819,
          27563,
          26792,
          24797,
          22545,
          23135,
          24082,
          18350,
          21540,
          5638,
          6627,
          6359,
          6161,
          5988,
          6269,
          6143,
          6459,
          5674,
          5507,
          4883,
          5192,
          5113,
          4786,
          4554,
          5189,
          19871,
          20389,
          19554,
          16803,
          19773,
          22025,
          22069,
          21026,
          19280,
          19009,
          16301,
          16691,
          15522,
          13515,
          12972,
          13214,
          22880,
          25029,
          24373,
          23718,
          21795,
          21145,
          23552,
          25263,
          23646,
          22804,
          22779,
          21856,
          19090,
          17946,
          14626,
          16680,
          50572,
          59466,
          53191,
          50075,
          56002,
          59751,
          58987,
          58677,
          54428,
          52507,
          49660,
          46728,
          44658,
          44516,
          38066,
          40532,
          54864,
          58652,
          56300,
          54198,
          58358,
          61218,
          61808,
          65515,
          65409,
          64038,
          55844,
          56742,
          55256,
          50047,
          44307,
          45588,
          26015,
          26655,
          25167,
          25913,
          26058,
          28058,
          26936,
          30626,
          28277,
          27792,
          26047,
          25400,
          25077,
          23803,
          19940,
          21778,
          38782,
          41878,
          37387,
          38691,
          35722,
          41573,
          43149,
          41780,
          38221,
          38530,
          35627,
          40114,
          38326,
          36451,
          29079,
          31248,
          16800,
          17605,
          17100,
          16038,
          17466,
          18644,
          18979,
          20627,
          19200,
          16976,
          15186,
          14582,
          13982,
          13228,
          10210,
          12742,
          45531,
          48779,
          43958,
          45257,
          43347,
          49400,
          54358,
          52410,
          52485,
          49209,
          45212,
          44783,
          38139,
          32284,
          25387,
          29294,
          25480,
          26199,
          24714,
          23214,
          24715,
          27703,
          25510,
          25207,
          25867,
          26648,
          22671,
          22960,
          20501,
          18620,
          15502,
          14837,
          33088,
          35163,
          32248,
          33135,
          34154,
          36250,
          36207,
          37516,
          36608,
          33597,
          31897,
          29538,
          28079,
          29094,
          23802,
          25108,
          19022,
          20019,
          20261,
          19320,
          19062,
          19451,
          19898,
          18676,
          18780,
          20645,
          18191,
          18293,
          18731,
          17321,
          12817,
          14443,
          8532,
          9799,
          9229,
          9324,
          10629,
          10246,
          10128,
          10597,
          10814,
          11390,
          10635,
          11544,
          11152,
          11235,
          10787,
          11083,
          44339,
          49161,
          51110,
          46822,
          46540,
          46621,
          47561,
          46998,
          51203,
          44289,
          39018,
          38755,
          38257,
          36730,
          34200,
          34479,
          709029,
          749608,
          676513,
          659068,
          660606,
          636023,
          626229,
          638342,
          627139,
          590389,
          571899,
          561019,
          545920,
          517961,
          366687,
          448789,
          87224,
          98769,
          88295,
          84356,
          82792,
          89372,
          82967,
          86811,
          85185,
          81228,
          77732,
          75299,
          73117,
          75113,
          59862,
          60852,
          75765,
          77239,
          84357,
          79081,
          71715,
          66435,
          65411,
          65397,
          65026,
          52364,
          60508,
          356586,
          355028,
          341694,
          315996,
          297442,
          317161,
          320210,
          326146,
          323789,
          326370,
          324668,
          309253,
          317262,
          306102,
          256262,
          290933,
          35351,
          37258,
          35253,
          34842,
          35026,
          39119,
          39004,
          41437,
          39855,
          34350,
          30771,
          28877,
          28603,
          28931,
          23735,
          25657,
          16355,
          17468,
          16774,
          16546,
          15976,
          16057,
          16531,
          16203,
          14660,
          14229,
          13256,
          12758,
          12470,
          12720,
          11747,
          11598,
          8807,
          8321,
          7960,
          6781,
          6966,
          7734,
          8223,
          8527,
          7431,
          6988,
          6157,
          5521,
          5046,
          5314,
          5427,
          5053,
          102304,
          114569,
          98289,
          100070,
          94557,
          99384,
          107547,
          107503,
          102023,
          91412,
          85584,
          79820,
          78311,
          79104,
          64192,
          70552,
          120899,
          128343,
          124396,
          110333,
          120628,
          125752,
          133914,
          138457,
          136079,
          122345,
          111956,
          103116,
          107385,
          101901,
          87096,
          90669,
          46586,
          50676,
          45274,
          48018,
          48472,
          52348,
          55253,
          54506,
          53129,
          50534,
          49434,
          52796,
          48305,
          44736,
          36477,
          39087,
          60256,
          64353,
          61282,
          58029,
          60760,
          63727,
          65425,
          69278,
          64525,
          61484,
          55176,
          53168,
          49470,
          49572,
          40328,
          46762,
          63027,
          66756,
          60518,
          60289,
          59592,
          62817,
          64671,
          67839,
          62714,
          58359,
          53045,
          55128,
          56378,
          55012,
          43680,
          46042,
          25127,
          26607,
          27100,
          25043,
          23471,
          25198,
          27888,
          28237,
          26904,
          25209,
          22857,
          23348,
          21281,
          20416,
          16424,
          17958,
          37656,
          40791,
          39902,
          37178,
          37087,
          38034,
          39195,
          40675,
          39903,
          38010,
          33046,
          30563,
          28201,
          25785,
          21001,
          22325,
          23746,
          26157,
          23873,
          24142,
          24009,
          27195,
          26920,
          31889,
          30382,
          29480,
          24775,
          23405,
          21705,
          20383,
          18238,
          22071,
          47737,
          51686,
          48978,
          49685,
          48025,
          54311,
          53983,
          51925,
          53222,
          51936,
          50387,
          50729,
          45795,
          41847,
          30693,
          34432,
          32074,
          33914,
          32472,
          30750,
          28710,
          30702,
          31228,
          31022,
          30166,
          30501,
          30254,
          29386,
          25471,
          25344,
          19873,
          20637,
          23808,
          25341,
          22153,
          20889,
          18993,
          19605,
          21249,
          20371,
          19960,
          16939,
          15397,
          15379,
          14813,
          15015,
          12436,
          14308,
          18858,
          20332,
          19760,
          18508,
          19596,
          21027,
          22903,
          21510,
          20593,
          20772,
          18601,
          18154,
          17302,
          16675,
          15472,
          15927,
          29635,
          31358,
          30217,
          30576,
          31904,
          35043,
          34315,
          34418,
          35895,
          34008,
          35379,
          31813,
          30363,
          29471,
          25140,
          25537,
          22914,
          24245,
          24312,
          25064,
          24514,
          27143,
          28793,
          29078,
          27397,
          23817,
          22915,
          22687,
          22414,
          21831,
          18736,
          17870,
          48241,
          53915,
          48952,
          46210,
          47235,
          54092,
          53586,
          56170,
          57020,
          54257,
          44047,
          42532,
          40139,
          38292,
          30344,
          32042,
          48489,
          48339,
          44907,
          43273,
          42498,
          41858,
          44532,
          41145,
          40065,
          40126,
          37374,
          36782,
          35248,
          32673,
          30220,
          31395,
          50919,
          56142,
          52734,
          54813,
          52696,
          52271,
          57693,
          58637,
          61749,
          61894,
          56191,
          53125,
          46018,
          46237,
          35026,
          37376,
          10004,
          10075,
          9863,
          10352,
          10091,
          10380,
          10868,
          11290,
          9594,
          8582,
          8003,
          9415,
          9672,
          8747,
          7898,
          8821,
          55844,
          61744,
          50707,
          51018,
          45733,
          52739,
          56990,
          62089,
          62592,
          61598,
          57570,
          55486,
          50758,
          46126,
          35013,
          41881,
          659834,
          681292,
          566141,
          527247,
          569981,
          615538,
          642491,
          664453,
          672724,
          624349,
          551448,
          556132,
          540054,
          520347,
          417458,
          477589,
          20504,
          22993,
          19704,
          18697,
          17692,
          19074,
          19633,
          19423,
          20550,
          18774,
          16378,
          14846,
          14414,
          15528,
          12482,
          14168,
          80570,
          85037,
          79884,
          77729,
          78031,
          85005,
          90120,
          92644,
          92229,
          92011,
          85023,
          87115,
          82794,
          79671,
          68422,
          72321,
          38859,
          39563,
          40099,
          39273,
          40144,
          42649,
          42449,
          42692,
          39296,
          38134,
          35669,
          33699,
          31184,
          32174,
          28754,
          30399,
          36025,
          39497,
          34541,
          36547,
          34213,
          36175,
          37608,
          39090,
          36536,
          35920,
          32583,
          32887,
          29846,
          27392,
          21342,
          23961,
          21534,
          20317,
          19393,
          20421,
          19012,
          19045,
          21345,
          21824,
          20153,
          19373,
          19126,
          18021,
          17320,
          16304,
          12403,
          14451,
          30790,
          32702,
          32814,
          30321,
          30604,
          33905,
          35482,
          36874,
          37924,
          36964,
          35488,
          34923,
          34364,
          33530,
          29232,
          28677,
          11584,
          11517,
          11242,
          11737,
          11175,
          11840,
          10845,
          11293,
          10389,
          10486,
          8910,
          9339,
          8672,
          9393,
          7782,
          8667,
          41864,
          46607,
          45514,
          41749,
          42340,
          44209,
          44942,
          46287,
          46252,
          44081,
          40914,
          41616,
          39057,
          36057,
          31490,
          32844,
          28813,
          29090,
          27680,
          27024,
          29204,
          30132,
          27320,
          28366,
          27858,
          25649,
          22292,
          23534,
          22500,
          22667,
          20402,
          19255,
          19103,
          21828,
          18966,
          18931,
          19732,
          19250,
          20373,
          21129,
          20088,
          17617,
          16149,
          16762,
          16803,
          14886,
          12233,
          13334,
          402479,
          416323,
          363743,
          360362,
          352326,
          367290,
          380013,
          385555,
          379877,
          358144,
          326788,
          304314,
          284829,
          270724,
          215513,
          252886,
          35543,
          38011,
          38549,
          35068,
          37046,
          39507,
          40150,
          38508,
          41358,
          40909,
          37263,
          34313,
          32531,
          33788,
          29639,
          28954,
          36655,
          40800,
          37555,
          38057,
          34831,
          37449,
          40067,
          42923,
          42486,
          42494,
          37034,
          36273,
          36029,
          33290,
          24769,
          26348,
          63862,
          65714,
          55752,
          57347,
          52015,
          54880,
          60837,
          60652,
          59294,
          54146,
          50019,
          47050,
          48434,
          45806,
          38260,
          42735,
          23023,
          24455,
          23368,
          22615,
          21805,
          23198,
          24096,
          28440,
          24796,
          25938,
          22992,
          22117,
          21451,
          20058,
          16662,
          18340,
          38307,
          39715,
          36849,
          36634,
          35521,
          37642,
          38602,
          40427,
          39339,
          35461,
          33239,
          34209,
          31334,
          32275,
          25239,
          27088,
          83228,
          84441,
          79354,
          74181,
          73777,
          81490,
          82570,
          88916,
          85057,
          74871,
          69068,
          68939,
          69688,
          69469,
          54023,
          61381,
          99521,
          112951,
          97246,
          94929,
          95709,
          101453,
          103431,
          111927,
          110791,
          100483,
          90959,
          96708,
          91635,
          90747,
          67506,
          72118,
          13450,
          13473,
          12007,
          10508,
          10847,
          11636,
          11216,
          12202,
          11093,
          11079,
          9239,
          8949,
          8183,
          9069,
          7497,
          8750,
          14940,
          16455,
          14412,
          15206,
          14925,
          15245,
          15411,
          16054,
          15101,
          14785,
          12720,
          11636,
          11293,
          10393,
          8655,
          9974,
          105621,
          110993,
          91590,
          87890,
          80221,
          86066,
          91546,
          93942,
          95996,
          86070,
          84452,
          74418,
          77176,
          75410,
          56401,
          67268,
          13910,
          14489,
          13968,
          13493,
          12346,
          14074,
          13638,
          13335,
          12519,
          13227,
          11614,
          11291,
          10924,
          10159,
          9491,
          10071,
          71619,
          70475,
          63746,
          63501,
          62785,
          68020,
          70754,
          73554,
          71064,
          65018,
          58072,
          53411,
          53998,
          55572,
          47071,
          52020,
          24013,
          25419,
          25843,
          23344,
          24017,
          25049,
          26240,
          26351,
          24462,
          22378,
          21586,
          20887,
          20468,
          20727,
          17150,
          19165
         ],
         "xaxis": "x",
         "yaxis": "y"
        }
       ],
       "layout": {
        "barmode": "relative",
        "legend": {
         "tracegroupgap": 0
        },
        "template": {
         "data": {
          "bar": [
           {
            "error_x": {
             "color": "#2a3f5f"
            },
            "error_y": {
             "color": "#2a3f5f"
            },
            "marker": {
             "line": {
              "color": "#E5ECF6",
              "width": 0.5
             },
             "pattern": {
              "fillmode": "overlay",
              "size": 10,
              "solidity": 0.2
             }
            },
            "type": "bar"
           }
          ],
          "barpolar": [
           {
            "marker": {
             "line": {
              "color": "#E5ECF6",
              "width": 0.5
             },
             "pattern": {
              "fillmode": "overlay",
              "size": 10,
              "solidity": 0.2
             }
            },
            "type": "barpolar"
           }
          ],
          "carpet": [
           {
            "aaxis": {
             "endlinecolor": "#2a3f5f",
             "gridcolor": "white",
             "linecolor": "white",
             "minorgridcolor": "white",
             "startlinecolor": "#2a3f5f"
            },
            "baxis": {
             "endlinecolor": "#2a3f5f",
             "gridcolor": "white",
             "linecolor": "white",
             "minorgridcolor": "white",
             "startlinecolor": "#2a3f5f"
            },
            "type": "carpet"
           }
          ],
          "choropleth": [
           {
            "colorbar": {
             "outlinewidth": 0,
             "ticks": ""
            },
            "type": "choropleth"
           }
          ],
          "contour": [
           {
            "colorbar": {
             "outlinewidth": 0,
             "ticks": ""
            },
            "colorscale": [
             [
              0,
              "#0d0887"
             ],
             [
              0.1111111111111111,
              "#46039f"
             ],
             [
              0.2222222222222222,
              "#7201a8"
             ],
             [
              0.3333333333333333,
              "#9c179e"
             ],
             [
              0.4444444444444444,
              "#bd3786"
             ],
             [
              0.5555555555555556,
              "#d8576b"
             ],
             [
              0.6666666666666666,
              "#ed7953"
             ],
             [
              0.7777777777777778,
              "#fb9f3a"
             ],
             [
              0.8888888888888888,
              "#fdca26"
             ],
             [
              1,
              "#f0f921"
             ]
            ],
            "type": "contour"
           }
          ],
          "contourcarpet": [
           {
            "colorbar": {
             "outlinewidth": 0,
             "ticks": ""
            },
            "type": "contourcarpet"
           }
          ],
          "heatmap": [
           {
            "colorbar": {
             "outlinewidth": 0,
             "ticks": ""
            },
            "colorscale": [
             [
              0,
              "#0d0887"
             ],
             [
              0.1111111111111111,
              "#46039f"
             ],
             [
              0.2222222222222222,
              "#7201a8"
             ],
             [
              0.3333333333333333,
              "#9c179e"
             ],
             [
              0.4444444444444444,
              "#bd3786"
             ],
             [
              0.5555555555555556,
              "#d8576b"
             ],
             [
              0.6666666666666666,
              "#ed7953"
             ],
             [
              0.7777777777777778,
              "#fb9f3a"
             ],
             [
              0.8888888888888888,
              "#fdca26"
             ],
             [
              1,
              "#f0f921"
             ]
            ],
            "type": "heatmap"
           }
          ],
          "heatmapgl": [
           {
            "colorbar": {
             "outlinewidth": 0,
             "ticks": ""
            },
            "colorscale": [
             [
              0,
              "#0d0887"
             ],
             [
              0.1111111111111111,
              "#46039f"
             ],
             [
              0.2222222222222222,
              "#7201a8"
             ],
             [
              0.3333333333333333,
              "#9c179e"
             ],
             [
              0.4444444444444444,
              "#bd3786"
             ],
             [
              0.5555555555555556,
              "#d8576b"
             ],
             [
              0.6666666666666666,
              "#ed7953"
             ],
             [
              0.7777777777777778,
              "#fb9f3a"
             ],
             [
              0.8888888888888888,
              "#fdca26"
             ],
             [
              1,
              "#f0f921"
             ]
            ],
            "type": "heatmapgl"
           }
          ],
          "histogram": [
           {
            "marker": {
             "pattern": {
              "fillmode": "overlay",
              "size": 10,
              "solidity": 0.2
             }
            },
            "type": "histogram"
           }
          ],
          "histogram2d": [
           {
            "colorbar": {
             "outlinewidth": 0,
             "ticks": ""
            },
            "colorscale": [
             [
              0,
              "#0d0887"
             ],
             [
              0.1111111111111111,
              "#46039f"
             ],
             [
              0.2222222222222222,
              "#7201a8"
             ],
             [
              0.3333333333333333,
              "#9c179e"
             ],
             [
              0.4444444444444444,
              "#bd3786"
             ],
             [
              0.5555555555555556,
              "#d8576b"
             ],
             [
              0.6666666666666666,
              "#ed7953"
             ],
             [
              0.7777777777777778,
              "#fb9f3a"
             ],
             [
              0.8888888888888888,
              "#fdca26"
             ],
             [
              1,
              "#f0f921"
             ]
            ],
            "type": "histogram2d"
           }
          ],
          "histogram2dcontour": [
           {
            "colorbar": {
             "outlinewidth": 0,
             "ticks": ""
            },
            "colorscale": [
             [
              0,
              "#0d0887"
             ],
             [
              0.1111111111111111,
              "#46039f"
             ],
             [
              0.2222222222222222,
              "#7201a8"
             ],
             [
              0.3333333333333333,
              "#9c179e"
             ],
             [
              0.4444444444444444,
              "#bd3786"
             ],
             [
              0.5555555555555556,
              "#d8576b"
             ],
             [
              0.6666666666666666,
              "#ed7953"
             ],
             [
              0.7777777777777778,
              "#fb9f3a"
             ],
             [
              0.8888888888888888,
              "#fdca26"
             ],
             [
              1,
              "#f0f921"
             ]
            ],
            "type": "histogram2dcontour"
           }
          ],
          "mesh3d": [
           {
            "colorbar": {
             "outlinewidth": 0,
             "ticks": ""
            },
            "type": "mesh3d"
           }
          ],
          "parcoords": [
           {
            "line": {
             "colorbar": {
              "outlinewidth": 0,
              "ticks": ""
             }
            },
            "type": "parcoords"
           }
          ],
          "pie": [
           {
            "automargin": true,
            "type": "pie"
           }
          ],
          "scatter": [
           {
            "fillpattern": {
             "fillmode": "overlay",
             "size": 10,
             "solidity": 0.2
            },
            "type": "scatter"
           }
          ],
          "scatter3d": [
           {
            "line": {
             "colorbar": {
              "outlinewidth": 0,
              "ticks": ""
             }
            },
            "marker": {
             "colorbar": {
              "outlinewidth": 0,
              "ticks": ""
             }
            },
            "type": "scatter3d"
           }
          ],
          "scattercarpet": [
           {
            "marker": {
             "colorbar": {
              "outlinewidth": 0,
              "ticks": ""
             }
            },
            "type": "scattercarpet"
           }
          ],
          "scattergeo": [
           {
            "marker": {
             "colorbar": {
              "outlinewidth": 0,
              "ticks": ""
             }
            },
            "type": "scattergeo"
           }
          ],
          "scattergl": [
           {
            "marker": {
             "colorbar": {
              "outlinewidth": 0,
              "ticks": ""
             }
            },
            "type": "scattergl"
           }
          ],
          "scattermapbox": [
           {
            "marker": {
             "colorbar": {
              "outlinewidth": 0,
              "ticks": ""
             }
            },
            "type": "scattermapbox"
           }
          ],
          "scatterpolar": [
           {
            "marker": {
             "colorbar": {
              "outlinewidth": 0,
              "ticks": ""
             }
            },
            "type": "scatterpolar"
           }
          ],
          "scatterpolargl": [
           {
            "marker": {
             "colorbar": {
              "outlinewidth": 0,
              "ticks": ""
             }
            },
            "type": "scatterpolargl"
           }
          ],
          "scatterternary": [
           {
            "marker": {
             "colorbar": {
              "outlinewidth": 0,
              "ticks": ""
             }
            },
            "type": "scatterternary"
           }
          ],
          "surface": [
           {
            "colorbar": {
             "outlinewidth": 0,
             "ticks": ""
            },
            "colorscale": [
             [
              0,
              "#0d0887"
             ],
             [
              0.1111111111111111,
              "#46039f"
             ],
             [
              0.2222222222222222,
              "#7201a8"
             ],
             [
              0.3333333333333333,
              "#9c179e"
             ],
             [
              0.4444444444444444,
              "#bd3786"
             ],
             [
              0.5555555555555556,
              "#d8576b"
             ],
             [
              0.6666666666666666,
              "#ed7953"
             ],
             [
              0.7777777777777778,
              "#fb9f3a"
             ],
             [
              0.8888888888888888,
              "#fdca26"
             ],
             [
              1,
              "#f0f921"
             ]
            ],
            "type": "surface"
           }
          ],
          "table": [
           {
            "cells": {
             "fill": {
              "color": "#EBF0F8"
             },
             "line": {
              "color": "white"
             }
            },
            "header": {
             "fill": {
              "color": "#C8D4E3"
             },
             "line": {
              "color": "white"
             }
            },
            "type": "table"
           }
          ]
         },
         "layout": {
          "annotationdefaults": {
           "arrowcolor": "#2a3f5f",
           "arrowhead": 0,
           "arrowwidth": 1
          },
          "autotypenumbers": "strict",
          "coloraxis": {
           "colorbar": {
            "outlinewidth": 0,
            "ticks": ""
           }
          },
          "colorscale": {
           "diverging": [
            [
             0,
             "#8e0152"
            ],
            [
             0.1,
             "#c51b7d"
            ],
            [
             0.2,
             "#de77ae"
            ],
            [
             0.3,
             "#f1b6da"
            ],
            [
             0.4,
             "#fde0ef"
            ],
            [
             0.5,
             "#f7f7f7"
            ],
            [
             0.6,
             "#e6f5d0"
            ],
            [
             0.7,
             "#b8e186"
            ],
            [
             0.8,
             "#7fbc41"
            ],
            [
             0.9,
             "#4d9221"
            ],
            [
             1,
             "#276419"
            ]
           ],
           "sequential": [
            [
             0,
             "#0d0887"
            ],
            [
             0.1111111111111111,
             "#46039f"
            ],
            [
             0.2222222222222222,
             "#7201a8"
            ],
            [
             0.3333333333333333,
             "#9c179e"
            ],
            [
             0.4444444444444444,
             "#bd3786"
            ],
            [
             0.5555555555555556,
             "#d8576b"
            ],
            [
             0.6666666666666666,
             "#ed7953"
            ],
            [
             0.7777777777777778,
             "#fb9f3a"
            ],
            [
             0.8888888888888888,
             "#fdca26"
            ],
            [
             1,
             "#f0f921"
            ]
           ],
           "sequentialminus": [
            [
             0,
             "#0d0887"
            ],
            [
             0.1111111111111111,
             "#46039f"
            ],
            [
             0.2222222222222222,
             "#7201a8"
            ],
            [
             0.3333333333333333,
             "#9c179e"
            ],
            [
             0.4444444444444444,
             "#bd3786"
            ],
            [
             0.5555555555555556,
             "#d8576b"
            ],
            [
             0.6666666666666666,
             "#ed7953"
            ],
            [
             0.7777777777777778,
             "#fb9f3a"
            ],
            [
             0.8888888888888888,
             "#fdca26"
            ],
            [
             1,
             "#f0f921"
            ]
           ]
          },
          "colorway": [
           "#636efa",
           "#EF553B",
           "#00cc96",
           "#ab63fa",
           "#FFA15A",
           "#19d3f3",
           "#FF6692",
           "#B6E880",
           "#FF97FF",
           "#FECB52"
          ],
          "font": {
           "color": "#2a3f5f"
          },
          "geo": {
           "bgcolor": "white",
           "lakecolor": "white",
           "landcolor": "#E5ECF6",
           "showlakes": true,
           "showland": true,
           "subunitcolor": "white"
          },
          "hoverlabel": {
           "align": "left"
          },
          "hovermode": "closest",
          "mapbox": {
           "style": "light"
          },
          "paper_bgcolor": "white",
          "plot_bgcolor": "#E5ECF6",
          "polar": {
           "angularaxis": {
            "gridcolor": "white",
            "linecolor": "white",
            "ticks": ""
           },
           "bgcolor": "#E5ECF6",
           "radialaxis": {
            "gridcolor": "white",
            "linecolor": "white",
            "ticks": ""
           }
          },
          "scene": {
           "xaxis": {
            "backgroundcolor": "#E5ECF6",
            "gridcolor": "white",
            "gridwidth": 2,
            "linecolor": "white",
            "showbackground": true,
            "ticks": "",
            "zerolinecolor": "white"
           },
           "yaxis": {
            "backgroundcolor": "#E5ECF6",
            "gridcolor": "white",
            "gridwidth": 2,
            "linecolor": "white",
            "showbackground": true,
            "ticks": "",
            "zerolinecolor": "white"
           },
           "zaxis": {
            "backgroundcolor": "#E5ECF6",
            "gridcolor": "white",
            "gridwidth": 2,
            "linecolor": "white",
            "showbackground": true,
            "ticks": "",
            "zerolinecolor": "white"
           }
          },
          "shapedefaults": {
           "line": {
            "color": "#2a3f5f"
           }
          },
          "ternary": {
           "aaxis": {
            "gridcolor": "white",
            "linecolor": "white",
            "ticks": ""
           },
           "baxis": {
            "gridcolor": "white",
            "linecolor": "white",
            "ticks": ""
           },
           "bgcolor": "#E5ECF6",
           "caxis": {
            "gridcolor": "white",
            "linecolor": "white",
            "ticks": ""
           }
          },
          "title": {
           "x": 0.05
          },
          "xaxis": {
           "automargin": true,
           "gridcolor": "white",
           "linecolor": "white",
           "ticks": "",
           "title": {
            "standoff": 15
           },
           "zerolinecolor": "white",
           "zerolinewidth": 2
          },
          "yaxis": {
           "automargin": true,
           "gridcolor": "white",
           "linecolor": "white",
           "ticks": "",
           "title": {
            "standoff": 15
           },
           "zerolinecolor": "white",
           "zerolinewidth": 2
          }
         }
        },
        "title": {
         "text": "Distribution of the crime rates over the year"
        },
        "xaxis": {
         "anchor": "y",
         "domain": [
          0,
          1
         ],
         "title": {
          "text": "Value"
         }
        },
        "yaxis": {
         "anchor": "x",
         "domain": [
          0,
          1
         ],
         "title": {
          "text": "count"
         }
        }
       }
      }
     },
     "metadata": {},
     "output_type": "display_data"
    }
   ],
   "source": [
    "# Looking at the distribution of values\n",
    "\n",
    "fig = px.histogram(data_frame= df.groupby(['Province', 'Year', 'Population']).sum(numeric_only=True)['Value'].reset_index(),\n",
    "                   x = 'Value',\n",
    "                   title= 'Distribution of the crime rates over the year')\n",
    "fig.show()"
   ]
  },
  {
   "cell_type": "code",
   "execution_count": 106,
   "metadata": {},
   "outputs": [
    {
     "data": {
      "application/vnd.plotly.v1+json": {
       "config": {
        "plotlyServerURL": "https://plot.ly"
       },
       "data": [
        {
         "customdata": [
          [
           "Agrigento",
           2006
          ],
          [
           "Agrigento",
           2007
          ],
          [
           "Agrigento",
           2008
          ],
          [
           "Agrigento",
           2009
          ],
          [
           "Agrigento",
           2010
          ],
          [
           "Agrigento",
           2011
          ],
          [
           "Agrigento",
           2012
          ],
          [
           "Agrigento",
           2013
          ],
          [
           "Agrigento",
           2014
          ],
          [
           "Agrigento",
           2015
          ],
          [
           "Agrigento",
           2016
          ],
          [
           "Agrigento",
           2017
          ],
          [
           "Agrigento",
           2018
          ],
          [
           "Agrigento",
           2019
          ],
          [
           "Agrigento",
           2020
          ],
          [
           "Agrigento",
           2021
          ]
         ],
         "hovertemplate": "Province=%{customdata[0]}<br>Population=%{x}<br>Value=%{y}<br>Year=%{customdata[1]}<extra></extra>",
         "legendgroup": "Agrigento",
         "marker": {
          "color": "#636efa",
          "symbol": "circle"
         },
         "mode": "markers",
         "name": "Agrigento",
         "showlegend": true,
         "type": "scattergl",
         "x": [
          448752,
          447968,
          449492,
          450199,
          451030,
          451892,
          452122,
          449845,
          447397,
          445117,
          441375,
          437155,
          432335,
          428003,
          423488,
          416181
         ],
         "xaxis": "x",
         "y": [
          27440,
          30122,
          30702,
          28807,
          29145,
          31748,
          31606,
          31700,
          29208,
          27942,
          27047,
          24874,
          25335,
          24261,
          21937,
          22141
         ],
         "yaxis": "y"
        },
        {
         "customdata": [
          [
           "Alessandria",
           2006
          ],
          [
           "Alessandria",
           2007
          ],
          [
           "Alessandria",
           2008
          ],
          [
           "Alessandria",
           2009
          ],
          [
           "Alessandria",
           2010
          ],
          [
           "Alessandria",
           2011
          ],
          [
           "Alessandria",
           2012
          ],
          [
           "Alessandria",
           2013
          ],
          [
           "Alessandria",
           2014
          ],
          [
           "Alessandria",
           2015
          ],
          [
           "Alessandria",
           2016
          ],
          [
           "Alessandria",
           2017
          ],
          [
           "Alessandria",
           2018
          ],
          [
           "Alessandria",
           2019
          ],
          [
           "Alessandria",
           2020
          ],
          [
           "Alessandria",
           2021
          ]
         ],
         "hovertemplate": "Province=%{customdata[0]}<br>Population=%{x}<br>Value=%{y}<br>Year=%{customdata[1]}<extra></extra>",
         "legendgroup": "Alessandria",
         "marker": {
          "color": "#EF553B",
          "symbol": "circle"
         },
         "mode": "markers",
         "name": "Alessandria",
         "showlegend": true,
         "type": "scattergl",
         "x": [
          425391,
          425775,
          430179,
          433236,
          433426,
          434312,
          434377,
          433670,
          433059,
          430946,
          427857,
          425677,
          423296,
          420300,
          417288,
          409392
         ],
         "xaxis": "x",
         "y": [
          44774,
          49032,
          43366,
          42620,
          42971,
          45571,
          43824,
          45736,
          44579,
          41812,
          38867,
          35393,
          33512,
          33839,
          25358,
          28658
         ],
         "yaxis": "y"
        },
        {
         "customdata": [
          [
           "Ancona",
           2006
          ],
          [
           "Ancona",
           2007
          ],
          [
           "Ancona",
           2008
          ],
          [
           "Ancona",
           2009
          ],
          [
           "Ancona",
           2010
          ],
          [
           "Ancona",
           2011
          ],
          [
           "Ancona",
           2012
          ],
          [
           "Ancona",
           2013
          ],
          [
           "Ancona",
           2014
          ],
          [
           "Ancona",
           2015
          ],
          [
           "Ancona",
           2016
          ],
          [
           "Ancona",
           2017
          ],
          [
           "Ancona",
           2018
          ],
          [
           "Ancona",
           2019
          ],
          [
           "Ancona",
           2020
          ],
          [
           "Ancona",
           2021
          ]
         ],
         "hovertemplate": "Province=%{customdata[0]}<br>Population=%{x}<br>Value=%{y}<br>Year=%{customdata[1]}<extra></extra>",
         "legendgroup": "Ancona",
         "marker": {
          "color": "#00cc96",
          "symbol": "circle"
         },
         "mode": "markers",
         "name": "Ancona",
         "showlegend": true,
         "type": "scattergl",
         "x": [
          462745,
          464468,
          468180,
          473012,
          474490,
          476219,
          476903,
          478001,
          477487,
          476111,
          474334,
          472098,
          470533,
          469166,
          467451,
          464419
         ],
         "xaxis": "x",
         "y": [
          42649,
          43091,
          41219,
          39457,
          40247,
          42298,
          43754,
          41688,
          39849,
          39020,
          34457,
          33029,
          31289,
          29349,
          21975,
          24439
         ],
         "yaxis": "y"
        },
        {
         "customdata": [
          [
           "Aosta",
           2006
          ],
          [
           "Aosta",
           2007
          ],
          [
           "Aosta",
           2008
          ],
          [
           "Aosta",
           2009
          ],
          [
           "Aosta",
           2010
          ],
          [
           "Aosta",
           2011
          ],
          [
           "Aosta",
           2012
          ],
          [
           "Aosta",
           2013
          ],
          [
           "Aosta",
           2014
          ],
          [
           "Aosta",
           2015
          ],
          [
           "Aosta",
           2016
          ],
          [
           "Aosta",
           2017
          ],
          [
           "Aosta",
           2018
          ],
          [
           "Aosta",
           2019
          ],
          [
           "Aosta",
           2020
          ],
          [
           "Aosta",
           2021
          ]
         ],
         "hovertemplate": "Province=%{customdata[0]}<br>Population=%{x}<br>Value=%{y}<br>Year=%{customdata[1]}<extra></extra>",
         "legendgroup": "Aosta",
         "marker": {
          "color": "#ab63fa",
          "symbol": "circle"
         },
         "mode": "markers",
         "name": "Aosta",
         "showlegend": true,
         "type": "scattergl",
         "x": [
          123839,
          124636,
          125658,
          126515,
          126957,
          127153,
          127305,
          127951,
          128245,
          127972,
          127030,
          126677,
          126213,
          125653,
          125034,
          124089
         ],
         "xaxis": "x",
         "y": [
          11195,
          12056,
          10985,
          10829,
          10508,
          10307,
          10719,
          10005,
          10348,
          9603,
          8959,
          8248,
          8003,
          7233,
          6684,
          6250
         ],
         "yaxis": "y"
        },
        {
         "customdata": [
          [
           "Arezzo",
           2006
          ],
          [
           "Arezzo",
           2007
          ],
          [
           "Arezzo",
           2008
          ],
          [
           "Arezzo",
           2009
          ],
          [
           "Arezzo",
           2010
          ],
          [
           "Arezzo",
           2011
          ],
          [
           "Arezzo",
           2012
          ],
          [
           "Arezzo",
           2013
          ],
          [
           "Arezzo",
           2014
          ],
          [
           "Arezzo",
           2015
          ],
          [
           "Arezzo",
           2016
          ],
          [
           "Arezzo",
           2017
          ],
          [
           "Arezzo",
           2018
          ],
          [
           "Arezzo",
           2019
          ],
          [
           "Arezzo",
           2020
          ],
          [
           "Arezzo",
           2021
          ]
         ],
         "hovertemplate": "Province=%{customdata[0]}<br>Population=%{x}<br>Value=%{y}<br>Year=%{customdata[1]}<extra></extra>",
         "legendgroup": "Arezzo",
         "marker": {
          "color": "#FFA15A",
          "symbol": "circle"
         },
         "mode": "markers",
         "name": "Arezzo",
         "showlegend": true,
         "type": "scattergl",
         "x": [
          334255,
          335706,
          340831,
          344744,
          346105,
          347257,
          347519,
          347866,
          346567,
          345706,
          343761,
          342549,
          341375,
          340349,
          339172,
          336501
         ],
         "xaxis": "x",
         "y": [
          28639,
          31429,
          27850,
          28338,
          26241,
          27029,
          29059,
          29406,
          26870,
          26730,
          22296,
          23136,
          23180,
          22483,
          18094,
          19865
         ],
         "yaxis": "y"
        },
        {
         "customdata": [
          [
           "Ascoli Piceno",
           2006
          ],
          [
           "Ascoli Piceno",
           2007
          ],
          [
           "Ascoli Piceno",
           2008
          ],
          [
           "Ascoli Piceno",
           2009
          ],
          [
           "Ascoli Piceno",
           2010
          ],
          [
           "Ascoli Piceno",
           2011
          ],
          [
           "Ascoli Piceno",
           2012
          ],
          [
           "Ascoli Piceno",
           2013
          ],
          [
           "Ascoli Piceno",
           2014
          ],
          [
           "Ascoli Piceno",
           2015
          ],
          [
           "Ascoli Piceno",
           2016
          ],
          [
           "Ascoli Piceno",
           2017
          ],
          [
           "Ascoli Piceno",
           2018
          ],
          [
           "Ascoli Piceno",
           2019
          ],
          [
           "Ascoli Piceno",
           2020
          ],
          [
           "Ascoli Piceno",
           2021
          ]
         ],
         "hovertemplate": "Province=%{customdata[0]}<br>Population=%{x}<br>Value=%{y}<br>Year=%{customdata[1]}<extra></extra>",
         "legendgroup": "Ascoli Piceno",
         "marker": {
          "color": "#19d3f3",
          "symbol": "circle"
         },
         "mode": "markers",
         "name": "Ascoli Piceno",
         "showlegend": true,
         "type": "scattergl",
         "x": [
          207938,
          208586,
          210252,
          211455,
          211926,
          212010,
          211639,
          211917,
          211674,
          211137,
          210070,
          209440,
          208428,
          207309,
          206172,
          203425
         ],
         "xaxis": "x",
         "y": [
          29630,
          31224,
          29957,
          29494,
          32340,
          17902,
          16632,
          18179,
          17514,
          17181,
          14892,
          14799,
          13491,
          12394,
          10694,
          10761
         ],
         "yaxis": "y"
        },
        {
         "customdata": [
          [
           "Asti",
           2006
          ],
          [
           "Asti",
           2007
          ],
          [
           "Asti",
           2008
          ],
          [
           "Asti",
           2009
          ],
          [
           "Asti",
           2010
          ],
          [
           "Asti",
           2011
          ],
          [
           "Asti",
           2012
          ],
          [
           "Asti",
           2013
          ],
          [
           "Asti",
           2014
          ],
          [
           "Asti",
           2015
          ],
          [
           "Asti",
           2016
          ],
          [
           "Asti",
           2017
          ],
          [
           "Asti",
           2018
          ],
          [
           "Asti",
           2019
          ],
          [
           "Asti",
           2020
          ],
          [
           "Asti",
           2021
          ]
         ],
         "hovertemplate": "Province=%{customdata[0]}<br>Population=%{x}<br>Value=%{y}<br>Year=%{customdata[1]}<extra></extra>",
         "legendgroup": "Asti",
         "marker": {
          "color": "#FF6692",
          "symbol": "circle"
         },
         "mode": "markers",
         "name": "Asti",
         "showlegend": true,
         "type": "scattergl",
         "x": [
          213242,
          214038,
          217223,
          219136,
          219775,
          219957,
          220159,
          220609,
          220111,
          218708,
          216756,
          215800,
          214897,
          213504,
          212010,
          209390
         ],
         "xaxis": "x",
         "y": [
          20290,
          22506,
          20777,
          20862,
          18056,
          19443,
          21465,
          25474,
          22299,
          20843,
          20547,
          17753,
          17720,
          16566,
          13816,
          13506
         ],
         "yaxis": "y"
        },
        {
         "customdata": [
          [
           "Avellino",
           2006
          ],
          [
           "Avellino",
           2007
          ],
          [
           "Avellino",
           2008
          ],
          [
           "Avellino",
           2009
          ],
          [
           "Avellino",
           2010
          ],
          [
           "Avellino",
           2011
          ],
          [
           "Avellino",
           2012
          ],
          [
           "Avellino",
           2013
          ],
          [
           "Avellino",
           2014
          ],
          [
           "Avellino",
           2015
          ],
          [
           "Avellino",
           2016
          ],
          [
           "Avellino",
           2017
          ],
          [
           "Avellino",
           2018
          ],
          [
           "Avellino",
           2019
          ],
          [
           "Avellino",
           2020
          ],
          [
           "Avellino",
           2021
          ]
         ],
         "hovertemplate": "Province=%{customdata[0]}<br>Population=%{x}<br>Value=%{y}<br>Year=%{customdata[1]}<extra></extra>",
         "legendgroup": "Avellino",
         "marker": {
          "color": "#B6E880",
          "symbol": "circle"
         },
         "mode": "markers",
         "name": "Avellino",
         "showlegend": true,
         "type": "scattergl",
         "x": [
          434893,
          434937,
          436481,
          437189,
          436525,
          436552,
          435787,
          432970,
          429901,
          426909,
          423372,
          420719,
          418123,
          414109,
          410369,
          402929
         ],
         "xaxis": "x",
         "y": [
          26657,
          28603,
          25476,
          24976,
          23249,
          26382,
          25022,
          23831,
          23536,
          25586,
          25852,
          25779,
          24133,
          24163,
          21685,
          22929
         ],
         "yaxis": "y"
        },
        {
         "customdata": [
          [
           "Bari",
           2006
          ],
          [
           "Bari",
           2007
          ],
          [
           "Bari",
           2008
          ],
          [
           "Bari",
           2009
          ],
          [
           "Bari",
           2010
          ],
          [
           "Bari",
           2011
          ],
          [
           "Bari",
           2012
          ],
          [
           "Bari",
           2013
          ],
          [
           "Bari",
           2014
          ],
          [
           "Bari",
           2015
          ],
          [
           "Bari",
           2016
          ],
          [
           "Bari",
           2017
          ],
          [
           "Bari",
           2018
          ],
          [
           "Bari",
           2019
          ],
          [
           "Bari",
           2020
          ],
          [
           "Bari",
           2021
          ]
         ],
         "hovertemplate": "Province=%{customdata[0]}<br>Population=%{x}<br>Value=%{y}<br>Year=%{customdata[1]}<extra></extra>",
         "legendgroup": "Bari",
         "marker": {
          "color": "#FF97FF",
          "symbol": "circle"
         },
         "mode": "markers",
         "name": "Bari",
         "showlegend": true,
         "type": "scattergl",
         "x": [
          1237283,
          1239946,
          1244048,
          1247513,
          1251412,
          1257549,
          1259733,
          1258054,
          1256495,
          1253461,
          1249699,
          1245190,
          1240589,
          1234997,
          1230205,
          1230158
         ],
         "xaxis": "x",
         "y": [
          154955,
          160934,
          155819,
          154230,
          155109,
          128047,
          133103,
          144880,
          141715,
          138845,
          126682,
          123084,
          121197,
          109599,
          94963,
          98025
         ],
         "yaxis": "y"
        },
        {
         "customdata": [
          [
           "Barletta-Andria-Trani",
           2011
          ],
          [
           "Barletta-Andria-Trani",
           2012
          ],
          [
           "Barletta-Andria-Trani",
           2013
          ],
          [
           "Barletta-Andria-Trani",
           2014
          ],
          [
           "Barletta-Andria-Trani",
           2015
          ],
          [
           "Barletta-Andria-Trani",
           2016
          ],
          [
           "Barletta-Andria-Trani",
           2017
          ],
          [
           "Barletta-Andria-Trani",
           2018
          ],
          [
           "Barletta-Andria-Trani",
           2019
          ],
          [
           "Barletta-Andria-Trani",
           2020
          ],
          [
           "Barletta-Andria-Trani",
           2021
          ]
         ],
         "hovertemplate": "Province=%{customdata[0]}<br>Population=%{x}<br>Value=%{y}<br>Year=%{customdata[1]}<extra></extra>",
         "legendgroup": "Barletta-Andria-Trani",
         "marker": {
          "color": "#FECB52",
          "symbol": "circle"
         },
         "mode": "markers",
         "name": "Barletta-Andria-Trani",
         "showlegend": true,
         "type": "scattergl",
         "x": [
          394520,
          395210,
          394565,
          393804,
          393704,
          392171,
          390570,
          388470,
          386530,
          384801,
          381091
         ],
         "xaxis": "x",
         "y": [
          34643,
          36070,
          36114,
          34280,
          33641,
          30642,
          29857,
          30084,
          28043,
          23687,
          26959
         ],
         "yaxis": "y"
        },
        {
         "customdata": [
          [
           "Belluno",
           2006
          ],
          [
           "Belluno",
           2007
          ],
          [
           "Belluno",
           2008
          ],
          [
           "Belluno",
           2009
          ],
          [
           "Belluno",
           2010
          ],
          [
           "Belluno",
           2011
          ],
          [
           "Belluno",
           2012
          ],
          [
           "Belluno",
           2013
          ],
          [
           "Belluno",
           2014
          ],
          [
           "Belluno",
           2015
          ],
          [
           "Belluno",
           2016
          ],
          [
           "Belluno",
           2017
          ],
          [
           "Belluno",
           2018
          ],
          [
           "Belluno",
           2019
          ],
          [
           "Belluno",
           2020
          ],
          [
           "Belluno",
           2021
          ]
         ],
         "hovertemplate": "Province=%{customdata[0]}<br>Population=%{x}<br>Value=%{y}<br>Year=%{customdata[1]}<extra></extra>",
         "legendgroup": "Belluno",
         "marker": {
          "color": "#636efa",
          "symbol": "circle"
         },
         "mode": "markers",
         "name": "Belluno",
         "showlegend": true,
         "type": "scattergl",
         "x": [
          210187,
          210188,
          211364,
          211561,
          211077,
          210351,
          209590,
          208488,
          207418,
          205906,
          204687,
          203582,
          202825,
          202269,
          201309,
          199704
         ],
         "xaxis": "x",
         "y": [
          14472,
          14088,
          12763,
          12275,
          11044,
          10780,
          11476,
          12129,
          11397,
          11193,
          10520,
          10037,
          10897,
          11174,
          9985,
          10996
         ],
         "yaxis": "y"
        },
        {
         "customdata": [
          [
           "Benevento",
           2006
          ],
          [
           "Benevento",
           2007
          ],
          [
           "Benevento",
           2008
          ],
          [
           "Benevento",
           2009
          ],
          [
           "Benevento",
           2010
          ],
          [
           "Benevento",
           2011
          ],
          [
           "Benevento",
           2012
          ],
          [
           "Benevento",
           2013
          ],
          [
           "Benevento",
           2014
          ],
          [
           "Benevento",
           2015
          ],
          [
           "Benevento",
           2016
          ],
          [
           "Benevento",
           2017
          ],
          [
           "Benevento",
           2018
          ],
          [
           "Benevento",
           2019
          ],
          [
           "Benevento",
           2020
          ],
          [
           "Benevento",
           2021
          ]
         ],
         "hovertemplate": "Province=%{customdata[0]}<br>Population=%{x}<br>Value=%{y}<br>Year=%{customdata[1]}<extra></extra>",
         "legendgroup": "Benevento",
         "marker": {
          "color": "#EF553B",
          "symbol": "circle"
         },
         "mode": "markers",
         "name": "Benevento",
         "showlegend": true,
         "type": "scattergl",
         "x": [
          287730,
          287254,
          287822,
          288215,
          287846,
          287513,
          286469,
          284901,
          283431,
          281563,
          279778,
          278475,
          277579,
          275384,
          272318,
          266716
         ],
         "xaxis": "x",
         "y": [
          15703,
          17600,
          16249,
          16012,
          16646,
          17002,
          16115,
          14545,
          15932,
          15540,
          14667,
          14875,
          13082,
          13325,
          11125,
          12345
         ],
         "yaxis": "y"
        },
        {
         "customdata": [
          [
           "Bergamo",
           2006
          ],
          [
           "Bergamo",
           2007
          ],
          [
           "Bergamo",
           2008
          ],
          [
           "Bergamo",
           2009
          ],
          [
           "Bergamo",
           2010
          ],
          [
           "Bergamo",
           2011
          ],
          [
           "Bergamo",
           2012
          ],
          [
           "Bergamo",
           2013
          ],
          [
           "Bergamo",
           2014
          ],
          [
           "Bergamo",
           2015
          ],
          [
           "Bergamo",
           2016
          ],
          [
           "Bergamo",
           2017
          ],
          [
           "Bergamo",
           2018
          ],
          [
           "Bergamo",
           2019
          ],
          [
           "Bergamo",
           2020
          ],
          [
           "Bergamo",
           2021
          ]
         ],
         "hovertemplate": "Province=%{customdata[0]}<br>Population=%{x}<br>Value=%{y}<br>Year=%{customdata[1]}<extra></extra>",
         "legendgroup": "Bergamo",
         "marker": {
          "color": "#00cc96",
          "symbol": "circle"
         },
         "mode": "markers",
         "name": "Bergamo",
         "showlegend": true,
         "type": "scattergl",
         "x": [
          1030911,
          1040923,
          1054956,
          1069939,
          1079639,
          1089522,
          1095388,
          1101727,
          1104999,
          1105724,
          1104383,
          1105276,
          1106160,
          1107159,
          1108126,
          1103556
         ],
         "xaxis": "x",
         "y": [
          96359,
          106206,
          105380,
          106998,
          104242,
          108378,
          110504,
          116336,
          114220,
          110774,
          102513,
          95225,
          93821,
          83129,
          63400,
          72785
         ],
         "yaxis": "y"
        },
        {
         "customdata": [
          [
           "Biella",
           2006
          ],
          [
           "Biella",
           2007
          ],
          [
           "Biella",
           2008
          ],
          [
           "Biella",
           2009
          ],
          [
           "Biella",
           2010
          ],
          [
           "Biella",
           2011
          ],
          [
           "Biella",
           2012
          ],
          [
           "Biella",
           2013
          ],
          [
           "Biella",
           2014
          ],
          [
           "Biella",
           2015
          ],
          [
           "Biella",
           2016
          ],
          [
           "Biella",
           2017
          ],
          [
           "Biella",
           2018
          ],
          [
           "Biella",
           2019
          ],
          [
           "Biella",
           2020
          ],
          [
           "Biella",
           2021
          ]
         ],
         "hovertemplate": "Province=%{customdata[0]}<br>Population=%{x}<br>Value=%{y}<br>Year=%{customdata[1]}<extra></extra>",
         "legendgroup": "Biella",
         "marker": {
          "color": "#ab63fa",
          "symbol": "circle"
         },
         "mode": "markers",
         "name": "Biella",
         "showlegend": true,
         "type": "scattergl",
         "x": [
          187154,
          186412,
          186633,
          186380,
          185569,
          184448,
          183715,
          182897,
          181750,
          180633,
          179121,
          178042,
          176737,
          175341,
          174170,
          170724
         ],
         "xaxis": "x",
         "y": [
          15286,
          17334,
          15912,
          15921,
          15471,
          15971,
          16065,
          17107,
          17146,
          15735,
          13913,
          12315,
          11480,
          11191,
          9349,
          9916
         ],
         "yaxis": "y"
        },
        {
         "customdata": [
          [
           "Bologna",
           2006
          ],
          [
           "Bologna",
           2007
          ],
          [
           "Bologna",
           2008
          ],
          [
           "Bologna",
           2009
          ],
          [
           "Bologna",
           2010
          ],
          [
           "Bologna",
           2011
          ],
          [
           "Bologna",
           2012
          ],
          [
           "Bologna",
           2013
          ],
          [
           "Bologna",
           2014
          ],
          [
           "Bologna",
           2015
          ],
          [
           "Bologna",
           2016
          ],
          [
           "Bologna",
           2017
          ],
          [
           "Bologna",
           2018
          ],
          [
           "Bologna",
           2019
          ],
          [
           "Bologna",
           2020
          ],
          [
           "Bologna",
           2021
          ]
         ],
         "hovertemplate": "Province=%{customdata[0]}<br>Population=%{x}<br>Value=%{y}<br>Year=%{customdata[1]}<extra></extra>",
         "legendgroup": "Bologna",
         "marker": {
          "color": "#FFA15A",
          "symbol": "circle"
         },
         "mode": "markers",
         "name": "Bologna",
         "showlegend": true,
         "type": "scattergl",
         "x": [
          940326,
          945206,
          955086,
          966533,
          973567,
          979999,
          985902,
          993332,
          998967,
          1002098,
          1005022,
          1009831,
          1012550,
          1017551,
          1021501,
          1015608
         ],
         "xaxis": "x",
         "y": [
          179959,
          189442,
          163937,
          147113,
          146292,
          161036,
          168374,
          181328,
          177058,
          173448,
          159539,
          151932,
          148871,
          138903,
          106760,
          113646
         ],
         "yaxis": "y"
        },
        {
         "customdata": [
          [
           "Bolzano",
           2006
          ],
          [
           "Bolzano",
           2007
          ],
          [
           "Bolzano",
           2008
          ],
          [
           "Bolzano",
           2009
          ],
          [
           "Bolzano",
           2010
          ],
          [
           "Bolzano",
           2011
          ],
          [
           "Bolzano",
           2012
          ],
          [
           "Bolzano",
           2013
          ],
          [
           "Bolzano",
           2014
          ],
          [
           "Bolzano",
           2015
          ],
          [
           "Bolzano",
           2016
          ],
          [
           "Bolzano",
           2017
          ],
          [
           "Bolzano",
           2018
          ],
          [
           "Bolzano",
           2019
          ],
          [
           "Bolzano",
           2020
          ],
          [
           "Bolzano",
           2021
          ]
         ],
         "hovertemplate": "Province=%{customdata[0]}<br>Population=%{x}<br>Value=%{y}<br>Year=%{customdata[1]}<extra></extra>",
         "legendgroup": "Bolzano",
         "marker": {
          "color": "#19d3f3",
          "symbol": "circle"
         },
         "mode": "markers",
         "name": "Bolzano",
         "showlegend": true,
         "type": "scattergl",
         "x": [
          480403,
          485196,
          491338,
          496079,
          500450,
          504406,
          507989,
          511619,
          515389,
          517994,
          520252,
          523454,
          526772,
          530313,
          532644,
          534912
         ],
         "xaxis": "x",
         "y": [
          33455,
          32276,
          30690,
          31879,
          32563,
          33277,
          37708,
          40111,
          41142,
          39167,
          39183,
          36143,
          34688,
          34197,
          28775,
          31956
         ],
         "yaxis": "y"
        },
        {
         "customdata": [
          [
           "Brescia",
           2006
          ],
          [
           "Brescia",
           2007
          ],
          [
           "Brescia",
           2008
          ],
          [
           "Brescia",
           2009
          ],
          [
           "Brescia",
           2010
          ],
          [
           "Brescia",
           2011
          ],
          [
           "Brescia",
           2012
          ],
          [
           "Brescia",
           2013
          ],
          [
           "Brescia",
           2014
          ],
          [
           "Brescia",
           2015
          ],
          [
           "Brescia",
           2016
          ],
          [
           "Brescia",
           2017
          ],
          [
           "Brescia",
           2018
          ],
          [
           "Brescia",
           2019
          ],
          [
           "Brescia",
           2020
          ],
          [
           "Brescia",
           2021
          ]
         ],
         "hovertemplate": "Province=%{customdata[0]}<br>Population=%{x}<br>Value=%{y}<br>Year=%{customdata[1]}<extra></extra>",
         "legendgroup": "Brescia",
         "marker": {
          "color": "#FF6692",
          "symbol": "circle"
         },
         "mode": "markers",
         "name": "Brescia",
         "showlegend": true,
         "type": "scattergl",
         "x": [
          1177290,
          1189408,
          1204416,
          1220795,
          1230529,
          1241188,
          1247357,
          1253581,
          1255637,
          1255890,
          1253852,
          1251873,
          1251306,
          1254419,
          1255437,
          1255709
         ],
         "xaxis": "x",
         "y": [
          141459,
          151527,
          146960,
          142169,
          143149,
          143463,
          143871,
          143434,
          130629,
          125750,
          114604,
          106414,
          104725,
          98950,
          76214,
          88785
         ],
         "yaxis": "y"
        },
        {
         "customdata": [
          [
           "Brindisi",
           2006
          ],
          [
           "Brindisi",
           2007
          ],
          [
           "Brindisi",
           2008
          ],
          [
           "Brindisi",
           2009
          ],
          [
           "Brindisi",
           2010
          ],
          [
           "Brindisi",
           2011
          ],
          [
           "Brindisi",
           2012
          ],
          [
           "Brindisi",
           2013
          ],
          [
           "Brindisi",
           2014
          ],
          [
           "Brindisi",
           2015
          ],
          [
           "Brindisi",
           2016
          ],
          [
           "Brindisi",
           2017
          ],
          [
           "Brindisi",
           2018
          ],
          [
           "Brindisi",
           2019
          ],
          [
           "Brindisi",
           2020
          ],
          [
           "Brindisi",
           2021
          ]
         ],
         "hovertemplate": "Province=%{customdata[0]}<br>Population=%{x}<br>Value=%{y}<br>Year=%{customdata[1]}<extra></extra>",
         "legendgroup": "Brindisi",
         "marker": {
          "color": "#B6E880",
          "symbol": "circle"
         },
         "mode": "markers",
         "name": "Brindisi",
         "showlegend": true,
         "type": "scattergl",
         "x": [
          401925,
          401613,
          402411,
          403009,
          403964,
          404901,
          404888,
          403260,
          401494,
          399338,
          396312,
          393786,
          390740,
          387817,
          385235,
          381946
         ],
         "xaxis": "x",
         "y": [
          31673,
          33874,
          35724,
          35499,
          32597,
          35644,
          36629,
          36361,
          36023,
          35122,
          31696,
          30552,
          28892,
          27848,
          23713,
          23961
         ],
         "yaxis": "y"
        },
        {
         "customdata": [
          [
           "Cagliari",
           2006
          ],
          [
           "Cagliari",
           2007
          ],
          [
           "Cagliari",
           2008
          ],
          [
           "Cagliari",
           2009
          ],
          [
           "Cagliari",
           2010
          ],
          [
           "Cagliari",
           2011
          ],
          [
           "Cagliari",
           2012
          ],
          [
           "Cagliari",
           2013
          ],
          [
           "Cagliari",
           2014
          ],
          [
           "Cagliari",
           2015
          ],
          [
           "Cagliari",
           2016
          ],
          [
           "Cagliari",
           2017
          ],
          [
           "Cagliari",
           2018
          ],
          [
           "Cagliari",
           2019
          ],
          [
           "Cagliari",
           2020
          ],
          [
           "Cagliari",
           2021
          ]
         ],
         "hovertemplate": "Province=%{customdata[0]}<br>Population=%{x}<br>Value=%{y}<br>Year=%{customdata[1]}<extra></extra>",
         "legendgroup": "Cagliari",
         "marker": {
          "color": "#FF97FF",
          "symbol": "circle"
         },
         "mode": "markers",
         "name": "Cagliari",
         "showlegend": true,
         "type": "scattergl",
         "x": [
          419789,
          421135,
          422247,
          423662,
          424257,
          425431,
          425735,
          427056,
          426740,
          426678,
          426011,
          425365,
          425206,
          424105,
          422840,
          421488
         ],
         "xaxis": "x",
         "y": [
          58292,
          55899,
          57096,
          55065,
          57208,
          61282,
          64060,
          61799,
          57851,
          54586,
          49260,
          49584,
          48620,
          46998,
          39261,
          43732
         ],
         "yaxis": "y"
        },
        {
         "customdata": [
          [
           "Caltanissetta",
           2006
          ],
          [
           "Caltanissetta",
           2007
          ],
          [
           "Caltanissetta",
           2008
          ],
          [
           "Caltanissetta",
           2009
          ],
          [
           "Caltanissetta",
           2010
          ],
          [
           "Caltanissetta",
           2011
          ],
          [
           "Caltanissetta",
           2012
          ],
          [
           "Caltanissetta",
           2013
          ],
          [
           "Caltanissetta",
           2014
          ],
          [
           "Caltanissetta",
           2015
          ],
          [
           "Caltanissetta",
           2016
          ],
          [
           "Caltanissetta",
           2017
          ],
          [
           "Caltanissetta",
           2018
          ],
          [
           "Caltanissetta",
           2019
          ],
          [
           "Caltanissetta",
           2020
          ],
          [
           "Caltanissetta",
           2021
          ]
         ],
         "hovertemplate": "Province=%{customdata[0]}<br>Population=%{x}<br>Value=%{y}<br>Year=%{customdata[1]}<extra></extra>",
         "legendgroup": "Caltanissetta",
         "marker": {
          "color": "#FECB52",
          "symbol": "circle"
         },
         "mode": "markers",
         "name": "Caltanissetta",
         "showlegend": true,
         "type": "scattergl",
         "x": [
          272646,
          272462,
          273200,
          273973,
          274697,
          275396,
          274877,
          273417,
          272007,
          270972,
          268749,
          266428,
          263235,
          259586,
          255931,
          253688
         ],
         "xaxis": "x",
         "y": [
          22597,
          23027,
          23360,
          22467,
          22981,
          23290,
          24574,
          25236,
          22283,
          21307,
          18881,
          18261,
          17486,
          16915,
          15644,
          15726
         ],
         "yaxis": "y"
        },
        {
         "customdata": [
          [
           "Campobasso",
           2006
          ],
          [
           "Campobasso",
           2007
          ],
          [
           "Campobasso",
           2008
          ],
          [
           "Campobasso",
           2009
          ],
          [
           "Campobasso",
           2010
          ],
          [
           "Campobasso",
           2011
          ],
          [
           "Campobasso",
           2012
          ],
          [
           "Campobasso",
           2013
          ],
          [
           "Campobasso",
           2014
          ],
          [
           "Campobasso",
           2015
          ],
          [
           "Campobasso",
           2016
          ],
          [
           "Campobasso",
           2017
          ],
          [
           "Campobasso",
           2018
          ],
          [
           "Campobasso",
           2019
          ],
          [
           "Campobasso",
           2020
          ],
          [
           "Campobasso",
           2021
          ]
         ],
         "hovertemplate": "Province=%{customdata[0]}<br>Population=%{x}<br>Value=%{y}<br>Year=%{customdata[1]}<extra></extra>",
         "legendgroup": "Campobasso",
         "marker": {
          "color": "#636efa",
          "symbol": "circle"
         },
         "mode": "markers",
         "name": "Campobasso",
         "showlegend": true,
         "type": "scattergl",
         "x": [
          229384,
          228796,
          229157,
          229042,
          228170,
          227385,
          226703,
          226365,
          226058,
          224909,
          223957,
          222903,
          221593,
          219763,
          217362,
          212879
         ],
         "xaxis": "x",
         "y": [
          13309,
          14638,
          14184,
          14135,
          13980,
          15430,
          15490,
          14591,
          13728,
          14620,
          13504,
          13532,
          12572,
          12322,
          10241,
          11836
         ],
         "yaxis": "y"
        },
        {
         "customdata": [
          [
           "Caserta",
           2006
          ],
          [
           "Caserta",
           2007
          ],
          [
           "Caserta",
           2008
          ],
          [
           "Caserta",
           2009
          ],
          [
           "Caserta",
           2010
          ],
          [
           "Caserta",
           2011
          ],
          [
           "Caserta",
           2012
          ],
          [
           "Caserta",
           2013
          ],
          [
           "Caserta",
           2014
          ],
          [
           "Caserta",
           2015
          ],
          [
           "Caserta",
           2016
          ],
          [
           "Caserta",
           2017
          ],
          [
           "Caserta",
           2018
          ],
          [
           "Caserta",
           2019
          ],
          [
           "Caserta",
           2020
          ],
          [
           "Caserta",
           2021
          ]
         ],
         "hovertemplate": "Province=%{customdata[0]}<br>Population=%{x}<br>Value=%{y}<br>Year=%{customdata[1]}<extra></extra>",
         "legendgroup": "Caserta",
         "marker": {
          "color": "#EF553B",
          "symbol": "circle"
         },
         "mode": "markers",
         "name": "Caserta",
         "showlegend": true,
         "type": "scattergl",
         "x": [
          879789,
          885497,
          892751,
          899448,
          905721,
          913228,
          917426,
          917820,
          917923,
          918110,
          917423,
          916615,
          915730,
          915549,
          913666,
          901903
         ],
         "xaxis": "x",
         "y": [
          74166,
          81137,
          77300,
          69075,
          66595,
          67608,
          69696,
          67638,
          69889,
          74859,
          74123,
          71978,
          70172,
          67237,
          57259,
          63191
         ],
         "yaxis": "y"
        },
        {
         "customdata": [
          [
           "Catania",
           2006
          ],
          [
           "Catania",
           2007
          ],
          [
           "Catania",
           2008
          ],
          [
           "Catania",
           2009
          ],
          [
           "Catania",
           2010
          ],
          [
           "Catania",
           2011
          ],
          [
           "Catania",
           2012
          ],
          [
           "Catania",
           2013
          ],
          [
           "Catania",
           2014
          ],
          [
           "Catania",
           2015
          ],
          [
           "Catania",
           2016
          ],
          [
           "Catania",
           2017
          ],
          [
           "Catania",
           2018
          ],
          [
           "Catania",
           2019
          ],
          [
           "Catania",
           2020
          ],
          [
           "Catania",
           2021
          ]
         ],
         "hovertemplate": "Province=%{customdata[0]}<br>Population=%{x}<br>Value=%{y}<br>Year=%{customdata[1]}<extra></extra>",
         "legendgroup": "Catania",
         "marker": {
          "color": "#00cc96",
          "symbol": "circle"
         },
         "mode": "markers",
         "name": "Catania",
         "showlegend": true,
         "type": "scattergl",
         "x": [
          1071805,
          1074040,
          1080037,
          1084439,
          1088517,
          1092537,
          1094229,
          1095009,
          1094665,
          1093911,
          1091100,
          1086981,
          1081823,
          1077270,
          1072634,
          1074089
         ],
         "xaxis": "x",
         "y": [
          123283,
          140339,
          133579,
          122609,
          118843,
          128922,
          132121,
          138823,
          129966,
          120410,
          107082,
          103413,
          102140,
          102831,
          84155,
          86557
         ],
         "yaxis": "y"
        },
        {
         "customdata": [
          [
           "Catanzaro",
           2006
          ],
          [
           "Catanzaro",
           2007
          ],
          [
           "Catanzaro",
           2008
          ],
          [
           "Catanzaro",
           2009
          ],
          [
           "Catanzaro",
           2010
          ],
          [
           "Catanzaro",
           2011
          ],
          [
           "Catanzaro",
           2012
          ],
          [
           "Catanzaro",
           2013
          ],
          [
           "Catanzaro",
           2014
          ],
          [
           "Catanzaro",
           2015
          ],
          [
           "Catanzaro",
           2016
          ],
          [
           "Catanzaro",
           2017
          ],
          [
           "Catanzaro",
           2018
          ],
          [
           "Catanzaro",
           2019
          ],
          [
           "Catanzaro",
           2020
          ],
          [
           "Catanzaro",
           2021
          ]
         ],
         "hovertemplate": "Province=%{customdata[0]}<br>Population=%{x}<br>Value=%{y}<br>Year=%{customdata[1]}<extra></extra>",
         "legendgroup": "Catanzaro",
         "marker": {
          "color": "#ab63fa",
          "symbol": "circle"
         },
         "mode": "markers",
         "name": "Catanzaro",
         "showlegend": true,
         "type": "scattergl",
         "x": [
          363711,
          362106,
          362715,
          362614,
          362248,
          362124,
          361571,
          361015,
          360340,
          359072,
          357926,
          356897,
          355000,
          352065,
          349344,
          344439
         ],
         "xaxis": "x",
         "y": [
          36386,
          39671,
          32963,
          32063,
          32846,
          31498,
          31882,
          33653,
          32363,
          29404,
          29309,
          25505,
          26798,
          26470,
          23394,
          23744
         ],
         "yaxis": "y"
        },
        {
         "customdata": [
          [
           "Chieti",
           2006
          ],
          [
           "Chieti",
           2007
          ],
          [
           "Chieti",
           2008
          ],
          [
           "Chieti",
           2009
          ],
          [
           "Chieti",
           2010
          ],
          [
           "Chieti",
           2011
          ],
          [
           "Chieti",
           2012
          ],
          [
           "Chieti",
           2013
          ],
          [
           "Chieti",
           2014
          ],
          [
           "Chieti",
           2015
          ],
          [
           "Chieti",
           2016
          ],
          [
           "Chieti",
           2017
          ],
          [
           "Chieti",
           2018
          ],
          [
           "Chieti",
           2019
          ],
          [
           "Chieti",
           2020
          ],
          [
           "Chieti",
           2021
          ]
         ],
         "hovertemplate": "Province=%{customdata[0]}<br>Population=%{x}<br>Value=%{y}<br>Year=%{customdata[1]}<extra></extra>",
         "legendgroup": "Chieti",
         "marker": {
          "color": "#FFA15A",
          "symbol": "circle"
         },
         "mode": "markers",
         "name": "Chieti",
         "showlegend": true,
         "type": "scattergl",
         "x": [
          386753,
          386609,
          390307,
          392462,
          393030,
          393295,
          393916,
          393570,
          391851,
          390196,
          387947,
          385473,
          383047,
          380675,
          378840,
          375215
         ],
         "xaxis": "x",
         "y": [
          27398,
          29998,
          28453,
          29026,
          29882,
          31542,
          32696,
          31754,
          32610,
          30738,
          26400,
          25813,
          23168,
          22834,
          19348,
          21328
         ],
         "yaxis": "y"
        },
        {
         "customdata": [
          [
           "Como",
           2006
          ],
          [
           "Como",
           2007
          ],
          [
           "Como",
           2008
          ],
          [
           "Como",
           2009
          ],
          [
           "Como",
           2010
          ],
          [
           "Como",
           2011
          ],
          [
           "Como",
           2012
          ],
          [
           "Como",
           2013
          ],
          [
           "Como",
           2014
          ],
          [
           "Como",
           2015
          ],
          [
           "Como",
           2016
          ],
          [
           "Como",
           2017
          ],
          [
           "Como",
           2018
          ],
          [
           "Como",
           2019
          ],
          [
           "Como",
           2020
          ],
          [
           "Como",
           2021
          ]
         ],
         "hovertemplate": "Province=%{customdata[0]}<br>Population=%{x}<br>Value=%{y}<br>Year=%{customdata[1]}<extra></extra>",
         "legendgroup": "Como",
         "marker": {
          "color": "#19d3f3",
          "symbol": "circle"
         },
         "mode": "markers",
         "name": "Como",
         "showlegend": true,
         "type": "scattergl",
         "x": [
          563302,
          567881,
          573108,
          579168,
          583725,
          587914,
          591451,
          594725,
          596740,
          597842,
          597433,
          597927,
          597486,
          597807,
          597642,
          596456
         ],
         "xaxis": "x",
         "y": [
          45435,
          48068,
          45154,
          41406,
          40662,
          43524,
          42771,
          47920,
          45126,
          46077,
          42170,
          38730,
          40281,
          37637,
          28962,
          34106
         ],
         "yaxis": "y"
        },
        {
         "customdata": [
          [
           "Cosenza",
           2006
          ],
          [
           "Cosenza",
           2007
          ],
          [
           "Cosenza",
           2008
          ],
          [
           "Cosenza",
           2009
          ],
          [
           "Cosenza",
           2010
          ],
          [
           "Cosenza",
           2011
          ],
          [
           "Cosenza",
           2012
          ],
          [
           "Cosenza",
           2013
          ],
          [
           "Cosenza",
           2014
          ],
          [
           "Cosenza",
           2015
          ],
          [
           "Cosenza",
           2016
          ],
          [
           "Cosenza",
           2017
          ],
          [
           "Cosenza",
           2018
          ],
          [
           "Cosenza",
           2019
          ],
          [
           "Cosenza",
           2020
          ],
          [
           "Cosenza",
           2021
          ]
         ],
         "hovertemplate": "Province=%{customdata[0]}<br>Population=%{x}<br>Value=%{y}<br>Year=%{customdata[1]}<extra></extra>",
         "legendgroup": "Cosenza",
         "marker": {
          "color": "#FF6692",
          "symbol": "circle"
         },
         "mode": "markers",
         "name": "Cosenza",
         "showlegend": true,
         "type": "scattergl",
         "x": [
          722119,
          718008,
          721200,
          721074,
          720506,
          718703,
          718158,
          715559,
          713368,
          710806,
          706823,
          703066,
          699142,
          695605,
          690503,
          676119
         ],
         "xaxis": "x",
         "y": [
          54552,
          60143,
          56125,
          52497,
          51120,
          51836,
          54216,
          50468,
          52087,
          49382,
          47067,
          45090,
          42450,
          38706,
          32255,
          35543
         ],
         "yaxis": "y"
        },
        {
         "customdata": [
          [
           "Cremona",
           2006
          ],
          [
           "Cremona",
           2007
          ],
          [
           "Cremona",
           2008
          ],
          [
           "Cremona",
           2009
          ],
          [
           "Cremona",
           2010
          ],
          [
           "Cremona",
           2011
          ],
          [
           "Cremona",
           2012
          ],
          [
           "Cremona",
           2013
          ],
          [
           "Cremona",
           2014
          ],
          [
           "Cremona",
           2015
          ],
          [
           "Cremona",
           2016
          ],
          [
           "Cremona",
           2017
          ],
          [
           "Cremona",
           2018
          ],
          [
           "Cremona",
           2019
          ],
          [
           "Cremona",
           2020
          ],
          [
           "Cremona",
           2021
          ]
         ],
         "hovertemplate": "Province=%{customdata[0]}<br>Population=%{x}<br>Value=%{y}<br>Year=%{customdata[1]}<extra></extra>",
         "legendgroup": "Cremona",
         "marker": {
          "color": "#B6E880",
          "symbol": "circle"
         },
         "mode": "markers",
         "name": "Cremona",
         "showlegend": true,
         "type": "scattergl",
         "x": [
          347353,
          349092,
          354211,
          357980,
          358849,
          359451,
          360175,
          360815,
          360160,
          359489,
          358243,
          357168,
          356086,
          356150,
          355908,
          352242
         ],
         "xaxis": "x",
         "y": [
          27243,
          29558,
          29444,
          29663,
          28569,
          30638,
          31236,
          33877,
          32606,
          29432,
          24931,
          24656,
          23128,
          21223,
          17202,
          20445
         ],
         "yaxis": "y"
        },
        {
         "customdata": [
          [
           "Crotone",
           2006
          ],
          [
           "Crotone",
           2007
          ],
          [
           "Crotone",
           2008
          ],
          [
           "Crotone",
           2009
          ],
          [
           "Crotone",
           2010
          ],
          [
           "Crotone",
           2011
          ],
          [
           "Crotone",
           2012
          ],
          [
           "Crotone",
           2013
          ],
          [
           "Crotone",
           2014
          ],
          [
           "Crotone",
           2015
          ],
          [
           "Crotone",
           2016
          ],
          [
           "Crotone",
           2017
          ],
          [
           "Crotone",
           2018
          ],
          [
           "Crotone",
           2019
          ],
          [
           "Crotone",
           2020
          ],
          [
           "Crotone",
           2021
          ]
         ],
         "hovertemplate": "Province=%{customdata[0]}<br>Population=%{x}<br>Value=%{y}<br>Year=%{customdata[1]}<extra></extra>",
         "legendgroup": "Crotone",
         "marker": {
          "color": "#FF97FF",
          "symbol": "circle"
         },
         "mode": "markers",
         "name": "Crotone",
         "showlegend": true,
         "type": "scattergl",
         "x": [
          170776,
          170254,
          170776,
          170985,
          171176,
          171758,
          171465,
          171356,
          172000,
          171969,
          171985,
          172635,
          171904,
          171486,
          168581,
          164059
         ],
         "xaxis": "x",
         "y": [
          11967,
          13057,
          12432,
          9985,
          9238,
          9978,
          10080,
          9553,
          10116,
          10333,
          10296,
          10836,
          10741,
          10886,
          10047,
          10362
         ],
         "yaxis": "y"
        },
        {
         "customdata": [
          [
           "Cuneo",
           2006
          ],
          [
           "Cuneo",
           2007
          ],
          [
           "Cuneo",
           2008
          ],
          [
           "Cuneo",
           2009
          ],
          [
           "Cuneo",
           2010
          ],
          [
           "Cuneo",
           2011
          ],
          [
           "Cuneo",
           2012
          ],
          [
           "Cuneo",
           2013
          ],
          [
           "Cuneo",
           2014
          ],
          [
           "Cuneo",
           2015
          ],
          [
           "Cuneo",
           2016
          ],
          [
           "Cuneo",
           2017
          ],
          [
           "Cuneo",
           2018
          ],
          [
           "Cuneo",
           2019
          ],
          [
           "Cuneo",
           2020
          ],
          [
           "Cuneo",
           2021
          ]
         ],
         "hovertemplate": "Province=%{customdata[0]}<br>Population=%{x}<br>Value=%{y}<br>Year=%{customdata[1]}<extra></extra>",
         "legendgroup": "Cuneo",
         "marker": {
          "color": "#FECB52",
          "symbol": "circle"
         },
         "mode": "markers",
         "name": "Cuneo",
         "showlegend": true,
         "type": "scattergl",
         "x": [
          570154,
          571890,
          579101,
          584482,
          587334,
          589212,
          591101,
          592436,
          592800,
          592331,
          590522,
          589206,
          588639,
          587213,
          586113,
          581798
         ],
         "xaxis": "x",
         "y": [
          42920,
          44524,
          41591,
          40231,
          41226,
          41301,
          43827,
          41866,
          41015,
          40009,
          38715,
          34469,
          34438,
          33619,
          25663,
          30374
         ],
         "yaxis": "y"
        },
        {
         "customdata": [
          [
           "Enna",
           2006
          ],
          [
           "Enna",
           2007
          ],
          [
           "Enna",
           2008
          ],
          [
           "Enna",
           2009
          ],
          [
           "Enna",
           2010
          ],
          [
           "Enna",
           2011
          ],
          [
           "Enna",
           2012
          ],
          [
           "Enna",
           2013
          ],
          [
           "Enna",
           2014
          ],
          [
           "Enna",
           2015
          ],
          [
           "Enna",
           2016
          ],
          [
           "Enna",
           2017
          ],
          [
           "Enna",
           2018
          ],
          [
           "Enna",
           2019
          ],
          [
           "Enna",
           2020
          ],
          [
           "Enna",
           2021
          ]
         ],
         "hovertemplate": "Province=%{customdata[0]}<br>Population=%{x}<br>Value=%{y}<br>Year=%{customdata[1]}<extra></extra>",
         "legendgroup": "Enna",
         "marker": {
          "color": "#636efa",
          "symbol": "circle"
         },
         "mode": "markers",
         "name": "Enna",
         "showlegend": true,
         "type": "scattergl",
         "x": [
          175227,
          174849,
          175252,
          175281,
          175076,
          174761,
          174251,
          172799,
          171480,
          169922,
          168273,
          166296,
          164159,
          162371,
          160161,
          157690
         ],
         "xaxis": "x",
         "y": [
          8602,
          8433,
          8919,
          9147,
          9691,
          9512,
          9798,
          9309,
          8629,
          8929,
          8301,
          8609,
          8485,
          8807,
          7990,
          7609
         ],
         "yaxis": "y"
        },
        {
         "customdata": [
          [
           "Fermo",
           2011
          ],
          [
           "Fermo",
           2012
          ],
          [
           "Fermo",
           2013
          ],
          [
           "Fermo",
           2014
          ],
          [
           "Fermo",
           2015
          ],
          [
           "Fermo",
           2016
          ],
          [
           "Fermo",
           2017
          ],
          [
           "Fermo",
           2018
          ],
          [
           "Fermo",
           2019
          ],
          [
           "Fermo",
           2020
          ],
          [
           "Fermo",
           2021
          ]
         ],
         "hovertemplate": "Province=%{customdata[0]}<br>Population=%{x}<br>Value=%{y}<br>Year=%{customdata[1]}<extra></extra>",
         "legendgroup": "Fermo",
         "marker": {
          "color": "#EF553B",
          "symbol": "circle"
         },
         "mode": "markers",
         "name": "Fermo",
         "showlegend": true,
         "type": "scattergl",
         "x": [
          175696,
          176029,
          176009,
          176030,
          175758,
          174778,
          174011,
          173393,
          172681,
          171737,
          169710
         ],
         "xaxis": "x",
         "y": [
          14996,
          14859,
          14858,
          14486,
          14596,
          13147,
          11653,
          11077,
          10569,
          10349,
          10551
         ],
         "yaxis": "y"
        },
        {
         "customdata": [
          [
           "Ferrara",
           2006
          ],
          [
           "Ferrara",
           2007
          ],
          [
           "Ferrara",
           2008
          ],
          [
           "Ferrara",
           2009
          ],
          [
           "Ferrara",
           2010
          ],
          [
           "Ferrara",
           2011
          ],
          [
           "Ferrara",
           2012
          ],
          [
           "Ferrara",
           2013
          ],
          [
           "Ferrara",
           2014
          ],
          [
           "Ferrara",
           2015
          ],
          [
           "Ferrara",
           2016
          ],
          [
           "Ferrara",
           2017
          ],
          [
           "Ferrara",
           2018
          ],
          [
           "Ferrara",
           2019
          ],
          [
           "Ferrara",
           2020
          ],
          [
           "Ferrara",
           2021
          ]
         ],
         "hovertemplate": "Province=%{customdata[0]}<br>Population=%{x}<br>Value=%{y}<br>Year=%{customdata[1]}<extra></extra>",
         "legendgroup": "Ferrara",
         "marker": {
          "color": "#00cc96",
          "symbol": "circle"
         },
         "mode": "markers",
         "name": "Ferrara",
         "showlegend": true,
         "type": "scattergl",
         "x": [
          348661,
          350206,
          352901,
          355098,
          355871,
          356585,
          355747,
          355163,
          354362,
          353293,
          350704,
          347788,
          346447,
          345538,
          344510,
          342061
         ],
         "xaxis": "x",
         "y": [
          40376,
          43165,
          37317,
          36141,
          33909,
          35800,
          37899,
          38741,
          39099,
          37903,
          35104,
          33461,
          33914,
          33298,
          27149,
          28651
         ],
         "yaxis": "y"
        },
        {
         "customdata": [
          [
           "Firenze",
           2006
          ],
          [
           "Firenze",
           2007
          ],
          [
           "Firenze",
           2008
          ],
          [
           "Firenze",
           2009
          ],
          [
           "Firenze",
           2010
          ],
          [
           "Firenze",
           2011
          ],
          [
           "Firenze",
           2012
          ],
          [
           "Firenze",
           2013
          ],
          [
           "Firenze",
           2014
          ],
          [
           "Firenze",
           2015
          ],
          [
           "Firenze",
           2016
          ],
          [
           "Firenze",
           2017
          ],
          [
           "Firenze",
           2018
          ],
          [
           "Firenze",
           2019
          ],
          [
           "Firenze",
           2020
          ],
          [
           "Firenze",
           2021
          ]
         ],
         "hovertemplate": "Province=%{customdata[0]}<br>Population=%{x}<br>Value=%{y}<br>Year=%{customdata[1]}<extra></extra>",
         "legendgroup": "Firenze",
         "marker": {
          "color": "#ab63fa",
          "symbol": "circle"
         },
         "mode": "markers",
         "name": "Firenze",
         "showlegend": true,
         "type": "scattergl",
         "x": [
          954130,
          957756,
          964323,
          972638,
          981089,
          987954,
          991721,
          999027,
          1003893,
          1005814,
          1005359,
          1005824,
          1002913,
          998976,
          995517,
          998431
         ],
         "xaxis": "x",
         "y": [
          144759,
          154573,
          132248,
          132010,
          125564,
          129483,
          141096,
          144777,
          145755,
          137490,
          135977,
          137297,
          151007,
          147718,
          97710,
          105959
         ],
         "yaxis": "y"
        },
        {
         "customdata": [
          [
           "Foggia",
           2006
          ],
          [
           "Foggia",
           2007
          ],
          [
           "Foggia",
           2008
          ],
          [
           "Foggia",
           2009
          ],
          [
           "Foggia",
           2010
          ],
          [
           "Foggia",
           2011
          ],
          [
           "Foggia",
           2012
          ],
          [
           "Foggia",
           2013
          ],
          [
           "Foggia",
           2014
          ],
          [
           "Foggia",
           2015
          ],
          [
           "Foggia",
           2016
          ],
          [
           "Foggia",
           2017
          ],
          [
           "Foggia",
           2018
          ],
          [
           "Foggia",
           2019
          ],
          [
           "Foggia",
           2020
          ],
          [
           "Foggia",
           2021
          ]
         ],
         "hovertemplate": "Province=%{customdata[0]}<br>Population=%{x}<br>Value=%{y}<br>Year=%{customdata[1]}<extra></extra>",
         "legendgroup": "Foggia",
         "marker": {
          "color": "#FFA15A",
          "symbol": "circle"
         },
         "mode": "markers",
         "name": "Foggia",
         "showlegend": true,
         "type": "scattergl",
         "x": [
          642398,
          639399,
          640391,
          640212,
          640753,
          640725,
          638760,
          635508,
          632597,
          629554,
          625294,
          621555,
          616829,
          611518,
          606904,
          602394
         ],
         "xaxis": "x",
         "y": [
          57214,
          70312,
          64617,
          66684,
          70191,
          65398,
          67886,
          67885,
          64048,
          68082,
          62015,
          59081,
          58848,
          57725,
          52116,
          53350
         ],
         "yaxis": "y"
        },
        {
         "customdata": [
          [
           "Forli'-Cesena",
           2006
          ],
          [
           "Forli'-Cesena",
           2007
          ],
          [
           "Forli'-Cesena",
           2008
          ],
          [
           "Forli'-Cesena",
           2009
          ],
          [
           "Forli'-Cesena",
           2010
          ],
          [
           "Forli'-Cesena",
           2011
          ],
          [
           "Forli'-Cesena",
           2012
          ],
          [
           "Forli'-Cesena",
           2013
          ],
          [
           "Forli'-Cesena",
           2014
          ],
          [
           "Forli'-Cesena",
           2015
          ],
          [
           "Forli'-Cesena",
           2016
          ],
          [
           "Forli'-Cesena",
           2017
          ],
          [
           "Forli'-Cesena",
           2018
          ],
          [
           "Forli'-Cesena",
           2019
          ],
          [
           "Forli'-Cesena",
           2020
          ],
          [
           "Forli'-Cesena",
           2021
          ]
         ],
         "hovertemplate": "Province=%{customdata[0]}<br>Population=%{x}<br>Value=%{y}<br>Year=%{customdata[1]}<extra></extra>",
         "legendgroup": "Forli'-Cesena",
         "marker": {
          "color": "#19d3f3",
          "symbol": "circle"
         },
         "mode": "markers",
         "name": "Forli'-Cesena",
         "showlegend": true,
         "type": "scattergl",
         "x": [
          373237,
          375993,
          380858,
          385399,
          389330,
          391936,
          393718,
          394753,
          395737,
          394957,
          393717,
          393337,
          393867,
          395438,
          395306,
          392642
         ],
         "xaxis": "x",
         "y": [
          36716,
          40047,
          36457,
          37602,
          35889,
          43033,
          41661,
          42803,
          42722,
          43672,
          37292,
          36716,
          36036,
          31512,
          25069,
          28360
         ],
         "yaxis": "y"
        },
        {
         "customdata": [
          [
           "Frosinone",
           2006
          ],
          [
           "Frosinone",
           2007
          ],
          [
           "Frosinone",
           2008
          ],
          [
           "Frosinone",
           2009
          ],
          [
           "Frosinone",
           2010
          ],
          [
           "Frosinone",
           2011
          ],
          [
           "Frosinone",
           2012
          ],
          [
           "Frosinone",
           2013
          ],
          [
           "Frosinone",
           2014
          ],
          [
           "Frosinone",
           2015
          ],
          [
           "Frosinone",
           2016
          ],
          [
           "Frosinone",
           2017
          ],
          [
           "Frosinone",
           2018
          ],
          [
           "Frosinone",
           2019
          ],
          [
           "Frosinone",
           2020
          ],
          [
           "Frosinone",
           2021
          ]
         ],
         "hovertemplate": "Province=%{customdata[0]}<br>Population=%{x}<br>Value=%{y}<br>Year=%{customdata[1]}<extra></extra>",
         "legendgroup": "Frosinone",
         "marker": {
          "color": "#FF6692",
          "symbol": "circle"
         },
         "mode": "markers",
         "name": "Frosinone",
         "showlegend": true,
         "type": "scattergl",
         "x": [
          488839,
          489159,
          492566,
          494937,
          495663,
          495815,
          495526,
          495056,
          493461,
          491410,
          488869,
          486273,
          483156,
          480968,
          477502,
          472559
         ],
         "xaxis": "x",
         "y": [
          29028,
          33360,
          30717,
          29972,
          29824,
          31271,
          30841,
          31154,
          29671,
          30254,
          28574,
          29382,
          26719,
          26379,
          22901,
          23862
         ],
         "yaxis": "y"
        },
        {
         "customdata": [
          [
           "Genova",
           2006
          ],
          [
           "Genova",
           2007
          ],
          [
           "Genova",
           2008
          ],
          [
           "Genova",
           2009
          ],
          [
           "Genova",
           2010
          ],
          [
           "Genova",
           2011
          ],
          [
           "Genova",
           2012
          ],
          [
           "Genova",
           2013
          ],
          [
           "Genova",
           2014
          ],
          [
           "Genova",
           2015
          ],
          [
           "Genova",
           2016
          ],
          [
           "Genova",
           2017
          ],
          [
           "Genova",
           2018
          ],
          [
           "Genova",
           2019
          ],
          [
           "Genova",
           2020
          ],
          [
           "Genova",
           2021
          ]
         ],
         "hovertemplate": "Province=%{customdata[0]}<br>Population=%{x}<br>Value=%{y}<br>Year=%{customdata[1]}<extra></extra>",
         "legendgroup": "Genova",
         "marker": {
          "color": "#B6E880",
          "symbol": "circle"
         },
         "mode": "markers",
         "name": "Genova",
         "showlegend": true,
         "type": "scattergl",
         "x": [
          875282,
          872587,
          869169,
          870576,
          869560,
          868956,
          867082,
          865118,
          860560,
          853201,
          846211,
          842249,
          836148,
          831172,
          826194,
          823612
         ],
         "xaxis": "x",
         "y": [
          169383,
          167656,
          137203,
          130352,
          125787,
          127016,
          122605,
          124019,
          120259,
          113260,
          104984,
          99910,
          92252,
          84602,
          70233,
          75488
         ],
         "yaxis": "y"
        },
        {
         "customdata": [
          [
           "Gorizia",
           2006
          ],
          [
           "Gorizia",
           2007
          ],
          [
           "Gorizia",
           2008
          ],
          [
           "Gorizia",
           2009
          ],
          [
           "Gorizia",
           2010
          ],
          [
           "Gorizia",
           2011
          ],
          [
           "Gorizia",
           2012
          ],
          [
           "Gorizia",
           2013
          ],
          [
           "Gorizia",
           2014
          ],
          [
           "Gorizia",
           2015
          ],
          [
           "Gorizia",
           2016
          ],
          [
           "Gorizia",
           2017
          ],
          [
           "Gorizia",
           2018
          ],
          [
           "Gorizia",
           2019
          ],
          [
           "Gorizia",
           2020
          ],
          [
           "Gorizia",
           2021
          ]
         ],
         "hovertemplate": "Province=%{customdata[0]}<br>Population=%{x}<br>Value=%{y}<br>Year=%{customdata[1]}<extra></extra>",
         "legendgroup": "Gorizia",
         "marker": {
          "color": "#FF97FF",
          "symbol": "circle"
         },
         "mode": "markers",
         "name": "Gorizia",
         "showlegend": true,
         "type": "scattergl",
         "x": [
          139518,
          139816,
          140642,
          141092,
          141248,
          140834,
          140458,
          140214,
          140222,
          139904,
          139234,
          138555,
          138218,
          138143,
          137795,
          139070
         ],
         "xaxis": "x",
         "y": [
          13369,
          11546,
          10643,
          10431,
          10856,
          10828,
          11930,
          11266,
          10338,
          10246,
          9535,
          9557,
          9911,
          9008,
          8334,
          8568
         ],
         "yaxis": "y"
        },
        {
         "customdata": [
          [
           "Grosseto",
           2006
          ],
          [
           "Grosseto",
           2007
          ],
          [
           "Grosseto",
           2008
          ],
          [
           "Grosseto",
           2009
          ],
          [
           "Grosseto",
           2010
          ],
          [
           "Grosseto",
           2011
          ],
          [
           "Grosseto",
           2012
          ],
          [
           "Grosseto",
           2013
          ],
          [
           "Grosseto",
           2014
          ],
          [
           "Grosseto",
           2015
          ],
          [
           "Grosseto",
           2016
          ],
          [
           "Grosseto",
           2017
          ],
          [
           "Grosseto",
           2018
          ],
          [
           "Grosseto",
           2019
          ],
          [
           "Grosseto",
           2020
          ],
          [
           "Grosseto",
           2021
          ]
         ],
         "hovertemplate": "Province=%{customdata[0]}<br>Population=%{x}<br>Value=%{y}<br>Year=%{customdata[1]}<extra></extra>",
         "legendgroup": "Grosseto",
         "marker": {
          "color": "#FECB52",
          "symbol": "circle"
         },
         "mode": "markers",
         "name": "Grosseto",
         "showlegend": true,
         "type": "scattergl",
         "x": [
          217088,
          218254,
          221042,
          223708,
          224946,
          225970,
          226405,
          226007,
          225140,
          224192,
          222981,
          222258,
          221301,
          220539,
          219690,
          217846
         ],
         "xaxis": "x",
         "y": [
          23376,
          24179,
          22287,
          21295,
          21094,
          20430,
          21781,
          22514,
          21800,
          21014,
          21055,
          20336,
          20227,
          17047,
          14761,
          16839
         ],
         "yaxis": "y"
        },
        {
         "customdata": [
          [
           "Imperia",
           2006
          ],
          [
           "Imperia",
           2007
          ],
          [
           "Imperia",
           2008
          ],
          [
           "Imperia",
           2009
          ],
          [
           "Imperia",
           2010
          ],
          [
           "Imperia",
           2011
          ],
          [
           "Imperia",
           2012
          ],
          [
           "Imperia",
           2013
          ],
          [
           "Imperia",
           2014
          ],
          [
           "Imperia",
           2015
          ],
          [
           "Imperia",
           2016
          ],
          [
           "Imperia",
           2017
          ],
          [
           "Imperia",
           2018
          ],
          [
           "Imperia",
           2019
          ],
          [
           "Imperia",
           2020
          ],
          [
           "Imperia",
           2021
          ]
         ],
         "hovertemplate": "Province=%{customdata[0]}<br>Population=%{x}<br>Value=%{y}<br>Year=%{customdata[1]}<extra></extra>",
         "legendgroup": "Imperia",
         "marker": {
          "color": "#636efa",
          "symbol": "circle"
         },
         "mode": "markers",
         "name": "Imperia",
         "showlegend": true,
         "type": "scattergl",
         "x": [
          210735,
          211665,
          213959,
          215563,
          216988,
          217934,
          218083,
          217545,
          216226,
          214981,
          213022,
          212400,
          211081,
          209982,
          209382,
          209244
         ],
         "xaxis": "x",
         "y": [
          28027,
          29017,
          29047,
          28645,
          27403,
          28160,
          26713,
          27819,
          27563,
          26792,
          24797,
          22545,
          23135,
          24082,
          18350,
          21540
         ],
         "yaxis": "y"
        },
        {
         "customdata": [
          [
           "Isernia",
           2006
          ],
          [
           "Isernia",
           2007
          ],
          [
           "Isernia",
           2008
          ],
          [
           "Isernia",
           2009
          ],
          [
           "Isernia",
           2010
          ],
          [
           "Isernia",
           2011
          ],
          [
           "Isernia",
           2012
          ],
          [
           "Isernia",
           2013
          ],
          [
           "Isernia",
           2014
          ],
          [
           "Isernia",
           2015
          ],
          [
           "Isernia",
           2016
          ],
          [
           "Isernia",
           2017
          ],
          [
           "Isernia",
           2018
          ],
          [
           "Isernia",
           2019
          ],
          [
           "Isernia",
           2020
          ],
          [
           "Isernia",
           2021
          ]
         ],
         "hovertemplate": "Province=%{customdata[0]}<br>Population=%{x}<br>Value=%{y}<br>Year=%{customdata[1]}<extra></extra>",
         "legendgroup": "Isernia",
         "marker": {
          "color": "#EF553B",
          "symbol": "circle"
         },
         "mode": "markers",
         "name": "Isernia",
         "showlegend": true,
         "type": "scattergl",
         "x": [
          89068,
          88541,
          88500,
          88040,
          87769,
          87431,
          87213,
          87043,
          86839,
          86489,
          86069,
          85497,
          84971,
          84027,
          83154,
          81415
         ],
         "xaxis": "x",
         "y": [
          5638,
          6627,
          6359,
          6161,
          5988,
          6269,
          6143,
          6459,
          5674,
          5507,
          4883,
          5192,
          5113,
          4786,
          4554,
          5189
         ],
         "yaxis": "y"
        },
        {
         "customdata": [
          [
           "L'Aquila",
           2006
          ],
          [
           "L'Aquila",
           2007
          ],
          [
           "L'Aquila",
           2008
          ],
          [
           "L'Aquila",
           2009
          ],
          [
           "L'Aquila",
           2010
          ],
          [
           "L'Aquila",
           2011
          ],
          [
           "L'Aquila",
           2012
          ],
          [
           "L'Aquila",
           2013
          ],
          [
           "L'Aquila",
           2014
          ],
          [
           "L'Aquila",
           2015
          ],
          [
           "L'Aquila",
           2016
          ],
          [
           "L'Aquila",
           2017
          ],
          [
           "L'Aquila",
           2018
          ],
          [
           "L'Aquila",
           2019
          ],
          [
           "L'Aquila",
           2020
          ],
          [
           "L'Aquila",
           2021
          ]
         ],
         "hovertemplate": "Province=%{customdata[0]}<br>Population=%{x}<br>Value=%{y}<br>Year=%{customdata[1]}<extra></extra>",
         "legendgroup": "L'Aquila",
         "marker": {
          "color": "#00cc96",
          "symbol": "circle"
         },
         "mode": "markers",
         "name": "L'Aquila",
         "showlegend": true,
         "type": "scattergl",
         "x": [
          303226,
          303094,
          305243,
          306499,
          305819,
          306124,
          306200,
          306279,
          305639,
          304136,
          302311,
          300762,
          299084,
          297313,
          294838,
          290811
         ],
         "xaxis": "x",
         "y": [
          19871,
          20389,
          19554,
          16803,
          19773,
          22025,
          22069,
          21026,
          19280,
          19009,
          16301,
          16691,
          15522,
          13515,
          12972,
          13214
         ],
         "yaxis": "y"
        },
        {
         "customdata": [
          [
           "La Spezia",
           2006
          ],
          [
           "La Spezia",
           2007
          ],
          [
           "La Spezia",
           2008
          ],
          [
           "La Spezia",
           2009
          ],
          [
           "La Spezia",
           2010
          ],
          [
           "La Spezia",
           2011
          ],
          [
           "La Spezia",
           2012
          ],
          [
           "La Spezia",
           2013
          ],
          [
           "La Spezia",
           2014
          ],
          [
           "La Spezia",
           2015
          ],
          [
           "La Spezia",
           2016
          ],
          [
           "La Spezia",
           2017
          ],
          [
           "La Spezia",
           2018
          ],
          [
           "La Spezia",
           2019
          ],
          [
           "La Spezia",
           2020
          ],
          [
           "La Spezia",
           2021
          ]
         ],
         "hovertemplate": "Province=%{customdata[0]}<br>Population=%{x}<br>Value=%{y}<br>Year=%{customdata[1]}<extra></extra>",
         "legendgroup": "La Spezia",
         "marker": {
          "color": "#ab63fa",
          "symbol": "circle"
         },
         "mode": "markers",
         "name": "La Spezia",
         "showlegend": true,
         "type": "scattergl",
         "x": [
          216734,
          217252,
          218923,
          220601,
          221349,
          221339,
          221271,
          221219,
          221278,
          220439,
          219741,
          219373,
          218614,
          218094,
          217418,
          215887
         ],
         "xaxis": "x",
         "y": [
          22880,
          25029,
          24373,
          23718,
          21795,
          21145,
          23552,
          25263,
          23646,
          22804,
          22779,
          21856,
          19090,
          17946,
          14626,
          16680
         ],
         "yaxis": "y"
        },
        {
         "customdata": [
          [
           "Latina",
           2006
          ],
          [
           "Latina",
           2007
          ],
          [
           "Latina",
           2008
          ],
          [
           "Latina",
           2009
          ],
          [
           "Latina",
           2010
          ],
          [
           "Latina",
           2011
          ],
          [
           "Latina",
           2012
          ],
          [
           "Latina",
           2013
          ],
          [
           "Latina",
           2014
          ],
          [
           "Latina",
           2015
          ],
          [
           "Latina",
           2016
          ],
          [
           "Latina",
           2017
          ],
          [
           "Latina",
           2018
          ],
          [
           "Latina",
           2019
          ],
          [
           "Latina",
           2020
          ],
          [
           "Latina",
           2021
          ]
         ],
         "hovertemplate": "Province=%{customdata[0]}<br>Population=%{x}<br>Value=%{y}<br>Year=%{customdata[1]}<extra></extra>",
         "legendgroup": "Latina",
         "marker": {
          "color": "#FFA15A",
          "symbol": "circle"
         },
         "mode": "markers",
         "name": "Latina",
         "showlegend": true,
         "type": "scattergl",
         "x": [
          512845,
          516999,
          525815,
          534833,
          541737,
          546421,
          551248,
          557713,
          560527,
          562493,
          563643,
          563908,
          564169,
          563271,
          562592,
          566224
         ],
         "xaxis": "x",
         "y": [
          50572,
          59466,
          53191,
          50075,
          56002,
          59751,
          58987,
          58677,
          54428,
          52507,
          49660,
          46728,
          44658,
          44516,
          38066,
          40532
         ],
         "yaxis": "y"
        },
        {
         "customdata": [
          [
           "Lecce",
           2006
          ],
          [
           "Lecce",
           2007
          ],
          [
           "Lecce",
           2008
          ],
          [
           "Lecce",
           2009
          ],
          [
           "Lecce",
           2010
          ],
          [
           "Lecce",
           2011
          ],
          [
           "Lecce",
           2012
          ],
          [
           "Lecce",
           2013
          ],
          [
           "Lecce",
           2014
          ],
          [
           "Lecce",
           2015
          ],
          [
           "Lecce",
           2016
          ],
          [
           "Lecce",
           2017
          ],
          [
           "Lecce",
           2018
          ],
          [
           "Lecce",
           2019
          ],
          [
           "Lecce",
           2020
          ],
          [
           "Lecce",
           2021
          ]
         ],
         "hovertemplate": "Province=%{customdata[0]}<br>Population=%{x}<br>Value=%{y}<br>Year=%{customdata[1]}<extra></extra>",
         "legendgroup": "Lecce",
         "marker": {
          "color": "#19d3f3",
          "symbol": "circle"
         },
         "mode": "markers",
         "name": "Lecce",
         "showlegend": true,
         "type": "scattergl",
         "x": [
          800384,
          803154,
          807270,
          809901,
          812271,
          814923,
          815462,
          812490,
          808602,
          804812,
          800949,
          796925,
          791902,
          786408,
          782165,
          776230
         ],
         "xaxis": "x",
         "y": [
          54864,
          58652,
          56300,
          54198,
          58358,
          61218,
          61808,
          65515,
          65409,
          64038,
          55844,
          56742,
          55256,
          50047,
          44307,
          45588
         ],
         "yaxis": "y"
        },
        {
         "customdata": [
          [
           "Lecco",
           2006
          ],
          [
           "Lecco",
           2007
          ],
          [
           "Lecco",
           2008
          ],
          [
           "Lecco",
           2009
          ],
          [
           "Lecco",
           2010
          ],
          [
           "Lecco",
           2011
          ],
          [
           "Lecco",
           2012
          ],
          [
           "Lecco",
           2013
          ],
          [
           "Lecco",
           2014
          ],
          [
           "Lecco",
           2015
          ],
          [
           "Lecco",
           2016
          ],
          [
           "Lecco",
           2017
          ],
          [
           "Lecco",
           2018
          ],
          [
           "Lecco",
           2019
          ],
          [
           "Lecco",
           2020
          ],
          [
           "Lecco",
           2021
          ]
         ],
         "hovertemplate": "Province=%{customdata[0]}<br>Population=%{x}<br>Value=%{y}<br>Year=%{customdata[1]}<extra></extra>",
         "legendgroup": "Lecco",
         "marker": {
          "color": "#FF6692",
          "symbol": "circle"
         },
         "mode": "markers",
         "name": "Lecco",
         "showlegend": true,
         "type": "scattergl",
         "x": [
          322357,
          324413,
          328230,
          331738,
          333654,
          335414,
          336322,
          337545,
          337883,
          337162,
          335812,
          335744,
          335588,
          335554,
          334961,
          333569
         ],
         "xaxis": "x",
         "y": [
          26015,
          26655,
          25167,
          25913,
          26058,
          28058,
          26936,
          30626,
          28277,
          27792,
          26047,
          25400,
          25077,
          23803,
          19940,
          21778
         ],
         "yaxis": "y"
        },
        {
         "customdata": [
          [
           "Livorno",
           2006
          ],
          [
           "Livorno",
           2007
          ],
          [
           "Livorno",
           2008
          ],
          [
           "Livorno",
           2009
          ],
          [
           "Livorno",
           2010
          ],
          [
           "Livorno",
           2011
          ],
          [
           "Livorno",
           2012
          ],
          [
           "Livorno",
           2013
          ],
          [
           "Livorno",
           2014
          ],
          [
           "Livorno",
           2015
          ],
          [
           "Livorno",
           2016
          ],
          [
           "Livorno",
           2017
          ],
          [
           "Livorno",
           2018
          ],
          [
           "Livorno",
           2019
          ],
          [
           "Livorno",
           2020
          ],
          [
           "Livorno",
           2021
          ]
         ],
         "hovertemplate": "Province=%{customdata[0]}<br>Population=%{x}<br>Value=%{y}<br>Year=%{customdata[1]}<extra></extra>",
         "legendgroup": "Livorno",
         "marker": {
          "color": "#B6E880",
          "symbol": "circle"
         },
         "mode": "markers",
         "name": "Livorno",
         "showlegend": true,
         "type": "scattergl",
         "x": [
          332340,
          333435,
          336224,
          338006,
          339455,
          341461,
          341636,
          341044,
          339683,
          338374,
          336860,
          335870,
          334483,
          332887,
          331877,
          328996
         ],
         "xaxis": "x",
         "y": [
          38782,
          41878,
          37387,
          38691,
          35722,
          41573,
          43149,
          41780,
          38221,
          38530,
          35627,
          40114,
          38326,
          36451,
          29079,
          31248
         ],
         "yaxis": "y"
        },
        {
         "customdata": [
          [
           "Lodi",
           2006
          ],
          [
           "Lodi",
           2007
          ],
          [
           "Lodi",
           2008
          ],
          [
           "Lodi",
           2009
          ],
          [
           "Lodi",
           2010
          ],
          [
           "Lodi",
           2011
          ],
          [
           "Lodi",
           2012
          ],
          [
           "Lodi",
           2013
          ],
          [
           "Lodi",
           2014
          ],
          [
           "Lodi",
           2015
          ],
          [
           "Lodi",
           2016
          ],
          [
           "Lodi",
           2017
          ],
          [
           "Lodi",
           2018
          ],
          [
           "Lodi",
           2019
          ],
          [
           "Lodi",
           2020
          ],
          [
           "Lodi",
           2021
          ]
         ],
         "hovertemplate": "Province=%{customdata[0]}<br>Population=%{x}<br>Value=%{y}<br>Year=%{customdata[1]}<extra></extra>",
         "legendgroup": "Lodi",
         "marker": {
          "color": "#FF97FF",
          "symbol": "circle"
         },
         "mode": "markers",
         "name": "Lodi",
         "showlegend": true,
         "type": "scattergl",
         "x": [
          210418,
          213393,
          217796,
          221492,
          223116,
          224518,
          225824,
          227168,
          227647,
          227637,
          226999,
          226686,
          226807,
          226949,
          227412,
          227343
         ],
         "xaxis": "x",
         "y": [
          16800,
          17605,
          17100,
          16038,
          17466,
          18644,
          18979,
          20627,
          19200,
          16976,
          15186,
          14582,
          13982,
          13228,
          10210,
          12742
         ],
         "yaxis": "y"
        },
        {
         "customdata": [
          [
           "Lucca",
           2006
          ],
          [
           "Lucca",
           2007
          ],
          [
           "Lucca",
           2008
          ],
          [
           "Lucca",
           2009
          ],
          [
           "Lucca",
           2010
          ],
          [
           "Lucca",
           2011
          ],
          [
           "Lucca",
           2012
          ],
          [
           "Lucca",
           2013
          ],
          [
           "Lucca",
           2014
          ],
          [
           "Lucca",
           2015
          ],
          [
           "Lucca",
           2016
          ],
          [
           "Lucca",
           2017
          ],
          [
           "Lucca",
           2018
          ],
          [
           "Lucca",
           2019
          ],
          [
           "Lucca",
           2020
          ],
          [
           "Lucca",
           2021
          ]
         ],
         "hovertemplate": "Province=%{customdata[0]}<br>Population=%{x}<br>Value=%{y}<br>Year=%{customdata[1]}<extra></extra>",
         "legendgroup": "Lucca",
         "marker": {
          "color": "#FECB52",
          "symbol": "circle"
         },
         "mode": "markers",
         "name": "Lucca",
         "showlegend": true,
         "type": "scattergl",
         "x": [
          380512,
          381999,
          386738,
          390339,
          392625,
          394298,
          394759,
          394493,
          393038,
          391332,
          388297,
          386741,
          385329,
          383477,
          382543,
          383957
         ],
         "xaxis": "x",
         "y": [
          45531,
          48779,
          43958,
          45257,
          43347,
          49400,
          54358,
          52410,
          52485,
          49209,
          45212,
          44783,
          38139,
          32284,
          25387,
          29294
         ],
         "yaxis": "y"
        },
        {
         "customdata": [
          [
           "Macerata",
           2006
          ],
          [
           "Macerata",
           2007
          ],
          [
           "Macerata",
           2008
          ],
          [
           "Macerata",
           2009
          ],
          [
           "Macerata",
           2010
          ],
          [
           "Macerata",
           2011
          ],
          [
           "Macerata",
           2012
          ],
          [
           "Macerata",
           2013
          ],
          [
           "Macerata",
           2014
          ],
          [
           "Macerata",
           2015
          ],
          [
           "Macerata",
           2016
          ],
          [
           "Macerata",
           2017
          ],
          [
           "Macerata",
           2018
          ],
          [
           "Macerata",
           2019
          ],
          [
           "Macerata",
           2020
          ],
          [
           "Macerata",
           2021
          ]
         ],
         "hovertemplate": "Province=%{customdata[0]}<br>Population=%{x}<br>Value=%{y}<br>Year=%{customdata[1]}<extra></extra>",
         "legendgroup": "Macerata",
         "marker": {
          "color": "#636efa",
          "symbol": "circle"
         },
         "mode": "markers",
         "name": "Macerata",
         "showlegend": true,
         "type": "scattergl",
         "x": [
          312168,
          313097,
          316587,
          319422,
          320934,
          321492,
          321322,
          321791,
          321356,
          320894,
          319057,
          317542,
          314944,
          313022,
          310815,
          307410
         ],
         "xaxis": "x",
         "y": [
          25480,
          26199,
          24714,
          23214,
          24715,
          27703,
          25510,
          25207,
          25867,
          26648,
          22671,
          22960,
          20501,
          18620,
          15502,
          14837
         ],
         "yaxis": "y"
        },
        {
         "customdata": [
          [
           "Mantova",
           2006
          ],
          [
           "Mantova",
           2007
          ],
          [
           "Mantova",
           2008
          ],
          [
           "Mantova",
           2009
          ],
          [
           "Mantova",
           2010
          ],
          [
           "Mantova",
           2011
          ],
          [
           "Mantova",
           2012
          ],
          [
           "Mantova",
           2013
          ],
          [
           "Mantova",
           2014
          ],
          [
           "Mantova",
           2015
          ],
          [
           "Mantova",
           2016
          ],
          [
           "Mantova",
           2017
          ],
          [
           "Mantova",
           2018
          ],
          [
           "Mantova",
           2019
          ],
          [
           "Mantova",
           2020
          ],
          [
           "Mantova",
           2021
          ]
         ],
         "hovertemplate": "Province=%{customdata[0]}<br>Population=%{x}<br>Value=%{y}<br>Year=%{customdata[1]}<extra></extra>",
         "legendgroup": "Mantova",
         "marker": {
          "color": "#EF553B",
          "symbol": "circle"
         },
         "mode": "markers",
         "name": "Mantova",
         "showlegend": true,
         "type": "scattergl",
         "x": [
          391459,
          394618,
          400439,
          405895,
          407866,
          409789,
          411086,
          412575,
          412704,
          411971,
          409504,
          408668,
          407574,
          407851,
          406919,
          406061
         ],
         "xaxis": "x",
         "y": [
          33088,
          35163,
          32248,
          33135,
          34154,
          36250,
          36207,
          37516,
          36608,
          33597,
          31897,
          29538,
          28079,
          29094,
          23802,
          25108
         ],
         "yaxis": "y"
        },
        {
         "customdata": [
          [
           "Massa-Carrara",
           2006
          ],
          [
           "Massa-Carrara",
           2007
          ],
          [
           "Massa-Carrara",
           2008
          ],
          [
           "Massa-Carrara",
           2009
          ],
          [
           "Massa-Carrara",
           2010
          ],
          [
           "Massa-Carrara",
           2011
          ],
          [
           "Massa-Carrara",
           2012
          ],
          [
           "Massa-Carrara",
           2013
          ],
          [
           "Massa-Carrara",
           2014
          ],
          [
           "Massa-Carrara",
           2015
          ],
          [
           "Massa-Carrara",
           2016
          ],
          [
           "Massa-Carrara",
           2017
          ],
          [
           "Massa-Carrara",
           2018
          ],
          [
           "Massa-Carrara",
           2019
          ],
          [
           "Massa-Carrara",
           2020
          ],
          [
           "Massa-Carrara",
           2021
          ]
         ],
         "hovertemplate": "Province=%{customdata[0]}<br>Population=%{x}<br>Value=%{y}<br>Year=%{customdata[1]}<extra></extra>",
         "legendgroup": "Massa-Carrara",
         "marker": {
          "color": "#00cc96",
          "symbol": "circle"
         },
         "mode": "markers",
         "name": "Massa-Carrara",
         "showlegend": true,
         "type": "scattergl",
         "x": [
          199080,
          199131,
          200982,
          202350,
          202289,
          202623,
          202427,
          201427,
          200083,
          198797,
          196689,
          195187,
          194207,
          192835,
          191685,
          189836
         ],
         "xaxis": "x",
         "y": [
          19022,
          20019,
          20261,
          19320,
          19062,
          19451,
          19898,
          18676,
          18780,
          20645,
          18191,
          18293,
          18731,
          17321,
          12817,
          14443
         ],
         "yaxis": "y"
        },
        {
         "customdata": [
          [
           "Matera",
           2006
          ],
          [
           "Matera",
           2007
          ],
          [
           "Matera",
           2008
          ],
          [
           "Matera",
           2009
          ],
          [
           "Matera",
           2010
          ],
          [
           "Matera",
           2011
          ],
          [
           "Matera",
           2012
          ],
          [
           "Matera",
           2013
          ],
          [
           "Matera",
           2014
          ],
          [
           "Matera",
           2015
          ],
          [
           "Matera",
           2016
          ],
          [
           "Matera",
           2017
          ],
          [
           "Matera",
           2018
          ],
          [
           "Matera",
           2019
          ],
          [
           "Matera",
           2020
          ],
          [
           "Matera",
           2021
          ]
         ],
         "hovertemplate": "Province=%{customdata[0]}<br>Population=%{x}<br>Value=%{y}<br>Year=%{customdata[1]}<extra></extra>",
         "legendgroup": "Matera",
         "marker": {
          "color": "#ab63fa",
          "symbol": "circle"
         },
         "mode": "markers",
         "name": "Matera",
         "showlegend": true,
         "type": "scattergl",
         "x": [
          202138,
          201107,
          201408,
          201322,
          200860,
          200895,
          200843,
          200715,
          200444,
          199913,
          199033,
          198014,
          197065,
          196135,
          194853,
          192640
         ],
         "xaxis": "x",
         "y": [
          8532,
          9799,
          9229,
          9324,
          10629,
          10246,
          10128,
          10597,
          10814,
          11390,
          10635,
          11544,
          11152,
          11235,
          10787,
          11083
         ],
         "yaxis": "y"
        },
        {
         "customdata": [
          [
           "Messina",
           2006
          ],
          [
           "Messina",
           2007
          ],
          [
           "Messina",
           2008
          ],
          [
           "Messina",
           2009
          ],
          [
           "Messina",
           2010
          ],
          [
           "Messina",
           2011
          ],
          [
           "Messina",
           2012
          ],
          [
           "Messina",
           2013
          ],
          [
           "Messina",
           2014
          ],
          [
           "Messina",
           2015
          ],
          [
           "Messina",
           2016
          ],
          [
           "Messina",
           2017
          ],
          [
           "Messina",
           2018
          ],
          [
           "Messina",
           2019
          ],
          [
           "Messina",
           2020
          ],
          [
           "Messina",
           2021
          ]
         ],
         "hovertemplate": "Province=%{customdata[0]}<br>Population=%{x}<br>Value=%{y}<br>Year=%{customdata[1]}<extra></extra>",
         "legendgroup": "Messina",
         "marker": {
          "color": "#FFA15A",
          "symbol": "circle"
         },
         "mode": "markers",
         "name": "Messina",
         "showlegend": true,
         "type": "scattergl",
         "x": [
          655654,
          654112,
          654525,
          655476,
          654929,
          655087,
          653043,
          649222,
          645599,
          641243,
          635610,
          630489,
          624147,
          618713,
          613887,
          603980
         ],
         "xaxis": "x",
         "y": [
          44339,
          49161,
          51110,
          46822,
          46540,
          46621,
          47561,
          46998,
          51203,
          44289,
          39018,
          38755,
          38257,
          36730,
          34200,
          34479
         ],
         "yaxis": "y"
        },
        {
         "customdata": [
          [
           "Milano",
           2006
          ],
          [
           "Milano",
           2007
          ],
          [
           "Milano",
           2008
          ],
          [
           "Milano",
           2009
          ],
          [
           "Milano",
           2010
          ],
          [
           "Milano",
           2011
          ],
          [
           "Milano",
           2012
          ],
          [
           "Milano",
           2013
          ],
          [
           "Milano",
           2014
          ],
          [
           "Milano",
           2015
          ],
          [
           "Milano",
           2016
          ],
          [
           "Milano",
           2017
          ],
          [
           "Milano",
           2018
          ],
          [
           "Milano",
           2019
          ],
          [
           "Milano",
           2020
          ],
          [
           "Milano",
           2021
          ]
         ],
         "hovertemplate": "Province=%{customdata[0]}<br>Population=%{x}<br>Value=%{y}<br>Year=%{customdata[1]}<extra></extra>",
         "legendgroup": "Milano",
         "marker": {
          "color": "#19d3f3",
          "symbol": "circle"
         },
         "mode": "markers",
         "name": "Milano",
         "showlegend": true,
         "type": "scattergl",
         "x": [
          2996002,
          2999062,
          3006001,
          3013241,
          3034843,
          3063241,
          3095104,
          3125287,
          3163522,
          3186367,
          3200447,
          3214702,
          3232728,
          3250077,
          3265327,
          3241813
         ],
         "xaxis": "x",
         "y": [
          709029,
          749608,
          676513,
          659068,
          660606,
          636023,
          626229,
          638342,
          627139,
          590389,
          571899,
          561019,
          545920,
          517961,
          366687,
          448789
         ],
         "yaxis": "y"
        },
        {
         "customdata": [
          [
           "Modena",
           2006
          ],
          [
           "Modena",
           2007
          ],
          [
           "Modena",
           2008
          ],
          [
           "Modena",
           2009
          ],
          [
           "Modena",
           2010
          ],
          [
           "Modena",
           2011
          ],
          [
           "Modena",
           2012
          ],
          [
           "Modena",
           2013
          ],
          [
           "Modena",
           2014
          ],
          [
           "Modena",
           2015
          ],
          [
           "Modena",
           2016
          ],
          [
           "Modena",
           2017
          ],
          [
           "Modena",
           2018
          ],
          [
           "Modena",
           2019
          ],
          [
           "Modena",
           2020
          ],
          [
           "Modena",
           2021
          ]
         ],
         "hovertemplate": "Province=%{customdata[0]}<br>Population=%{x}<br>Value=%{y}<br>Year=%{customdata[1]}<extra></extra>",
         "legendgroup": "Modena",
         "marker": {
          "color": "#FF6692",
          "symbol": "circle"
         },
         "mode": "markers",
         "name": "Modena",
         "showlegend": true,
         "type": "scattergl",
         "x": [
          661014,
          664637,
          671181,
          680847,
          686013,
          691178,
          693464,
          696677,
          699006,
          700222,
          700166,
          700472,
          701962,
          706757,
          707119,
          703696
         ],
         "xaxis": "x",
         "y": [
          87224,
          98769,
          88295,
          84356,
          82792,
          89372,
          82967,
          86811,
          85185,
          81228,
          77732,
          75299,
          73117,
          75113,
          59862,
          60852
         ],
         "yaxis": "y"
        },
        {
         "customdata": [
          [
           "Monza e della Brianza",
           2011
          ],
          [
           "Monza e della Brianza",
           2012
          ],
          [
           "Monza e della Brianza",
           2013
          ],
          [
           "Monza e della Brianza",
           2014
          ],
          [
           "Monza e della Brianza",
           2015
          ],
          [
           "Monza e della Brianza",
           2016
          ],
          [
           "Monza e della Brianza",
           2017
          ],
          [
           "Monza e della Brianza",
           2018
          ],
          [
           "Monza e della Brianza",
           2019
          ],
          [
           "Monza e della Brianza",
           2020
          ],
          [
           "Monza e della Brianza",
           2021
          ]
         ],
         "hovertemplate": "Province=%{customdata[0]}<br>Population=%{x}<br>Value=%{y}<br>Year=%{customdata[1]}<extra></extra>",
         "legendgroup": "Monza e della Brianza",
         "marker": {
          "color": "#B6E880",
          "symbol": "circle"
         },
         "mode": "markers",
         "name": "Monza e della Brianza",
         "showlegend": true,
         "type": "scattergl",
         "x": [
          839897,
          846580,
          855068,
          858244,
          860065,
          861122,
          863267,
          865666,
          867385,
          870193,
          870113
         ],
         "xaxis": "x",
         "y": [
          75765,
          77239,
          84357,
          79081,
          71715,
          66435,
          65411,
          65397,
          65026,
          52364,
          60508
         ],
         "yaxis": "y"
        },
        {
         "customdata": [
          [
           "Napoli",
           2006
          ],
          [
           "Napoli",
           2007
          ],
          [
           "Napoli",
           2008
          ],
          [
           "Napoli",
           2009
          ],
          [
           "Napoli",
           2010
          ],
          [
           "Napoli",
           2011
          ],
          [
           "Napoli",
           2012
          ],
          [
           "Napoli",
           2013
          ],
          [
           "Napoli",
           2014
          ],
          [
           "Napoli",
           2015
          ],
          [
           "Napoli",
           2016
          ],
          [
           "Napoli",
           2017
          ],
          [
           "Napoli",
           2018
          ],
          [
           "Napoli",
           2019
          ],
          [
           "Napoli",
           2020
          ],
          [
           "Napoli",
           2021
          ]
         ],
         "hovertemplate": "Province=%{customdata[0]}<br>Population=%{x}<br>Value=%{y}<br>Year=%{customdata[1]}<extra></extra>",
         "legendgroup": "Napoli",
         "marker": {
          "color": "#FF97FF",
          "symbol": "circle"
         },
         "mode": "markers",
         "name": "Napoli",
         "showlegend": true,
         "type": "scattergl",
         "x": [
          3072876,
          3070651,
          3074086,
          3068657,
          3076550,
          3081165,
          3081729,
          3079037,
          3078259,
          3075600,
          3071681,
          3065231,
          3060023,
          3048194,
          3034410,
          2986745
         ],
         "xaxis": "x",
         "y": [
          356586,
          355028,
          341694,
          315996,
          297442,
          317161,
          320210,
          326146,
          323789,
          326370,
          324668,
          309253,
          317262,
          306102,
          256262,
          290933
         ],
         "yaxis": "y"
        },
        {
         "customdata": [
          [
           "Novara",
           2006
          ],
          [
           "Novara",
           2007
          ],
          [
           "Novara",
           2008
          ],
          [
           "Novara",
           2009
          ],
          [
           "Novara",
           2010
          ],
          [
           "Novara",
           2011
          ],
          [
           "Novara",
           2012
          ],
          [
           "Novara",
           2013
          ],
          [
           "Novara",
           2014
          ],
          [
           "Novara",
           2015
          ],
          [
           "Novara",
           2016
          ],
          [
           "Novara",
           2017
          ],
          [
           "Novara",
           2018
          ],
          [
           "Novara",
           2019
          ],
          [
           "Novara",
           2020
          ],
          [
           "Novara",
           2021
          ]
         ],
         "hovertemplate": "Province=%{customdata[0]}<br>Population=%{x}<br>Value=%{y}<br>Year=%{customdata[1]}<extra></extra>",
         "legendgroup": "Novara",
         "marker": {
          "color": "#FECB52",
          "symbol": "circle"
         },
         "mode": "markers",
         "name": "Novara",
         "showlegend": true,
         "type": "scattergl",
         "x": [
          353538,
          355551,
          360063,
          364378,
          366302,
          368573,
          369167,
          370383,
          370255,
          369393,
          368071,
          367314,
          366691,
          365773,
          364980,
          362925
         ],
         "xaxis": "x",
         "y": [
          35351,
          37258,
          35253,
          34842,
          35026,
          39119,
          39004,
          41437,
          39855,
          34350,
          30771,
          28877,
          28603,
          28931,
          23735,
          25657
         ],
         "yaxis": "y"
        },
        {
         "customdata": [
          [
           "Nuoro",
           2006
          ],
          [
           "Nuoro",
           2007
          ],
          [
           "Nuoro",
           2008
          ],
          [
           "Nuoro",
           2009
          ],
          [
           "Nuoro",
           2010
          ],
          [
           "Nuoro",
           2011
          ],
          [
           "Nuoro",
           2012
          ],
          [
           "Nuoro",
           2013
          ],
          [
           "Nuoro",
           2014
          ],
          [
           "Nuoro",
           2015
          ],
          [
           "Nuoro",
           2016
          ],
          [
           "Nuoro",
           2017
          ],
          [
           "Nuoro",
           2018
          ],
          [
           "Nuoro",
           2019
          ],
          [
           "Nuoro",
           2020
          ],
          [
           "Nuoro",
           2021
          ]
         ],
         "hovertemplate": "Province=%{customdata[0]}<br>Population=%{x}<br>Value=%{y}<br>Year=%{customdata[1]}<extra></extra>",
         "legendgroup": "Nuoro",
         "marker": {
          "color": "#636efa",
          "symbol": "circle"
         },
         "mode": "markers",
         "name": "Nuoro",
         "showlegend": true,
         "type": "scattergl",
         "x": [
          218534,
          217986,
          217945,
          217771,
          217209,
          216694,
          216019,
          215083,
          214391,
          213365,
          211644,
          210532,
          209100,
          207108,
          205205,
          201517
         ],
         "xaxis": "x",
         "y": [
          16355,
          17468,
          16774,
          16546,
          15976,
          16057,
          16531,
          16203,
          14660,
          14229,
          13256,
          12758,
          12470,
          12720,
          11747,
          11598
         ],
         "yaxis": "y"
        },
        {
         "customdata": [
          [
           "Oristano",
           2006
          ],
          [
           "Oristano",
           2007
          ],
          [
           "Oristano",
           2008
          ],
          [
           "Oristano",
           2009
          ],
          [
           "Oristano",
           2010
          ],
          [
           "Oristano",
           2011
          ],
          [
           "Oristano",
           2012
          ],
          [
           "Oristano",
           2013
          ],
          [
           "Oristano",
           2014
          ],
          [
           "Oristano",
           2015
          ],
          [
           "Oristano",
           2016
          ],
          [
           "Oristano",
           2017
          ],
          [
           "Oristano",
           2018
          ],
          [
           "Oristano",
           2019
          ],
          [
           "Oristano",
           2020
          ],
          [
           "Oristano",
           2021
          ]
         ],
         "hovertemplate": "Province=%{customdata[0]}<br>Population=%{x}<br>Value=%{y}<br>Year=%{customdata[1]}<extra></extra>",
         "legendgroup": "Oristano",
         "marker": {
          "color": "#EF553B",
          "symbol": "circle"
         },
         "mode": "markers",
         "name": "Oristano",
         "showlegend": true,
         "type": "scattergl",
         "x": [
          166244,
          166119,
          165792,
          165278,
          164816,
          164393,
          163594,
          162768,
          162007,
          161055,
          159947,
          158935,
          158197,
          156623,
          154974,
          152418
         ],
         "xaxis": "x",
         "y": [
          8807,
          8321,
          7960,
          6781,
          6966,
          7734,
          8223,
          8527,
          7431,
          6988,
          6157,
          5521,
          5046,
          5314,
          5427,
          5053
         ],
         "yaxis": "y"
        },
        {
         "customdata": [
          [
           "Padova",
           2006
          ],
          [
           "Padova",
           2007
          ],
          [
           "Padova",
           2008
          ],
          [
           "Padova",
           2009
          ],
          [
           "Padova",
           2010
          ],
          [
           "Padova",
           2011
          ],
          [
           "Padova",
           2012
          ],
          [
           "Padova",
           2013
          ],
          [
           "Padova",
           2014
          ],
          [
           "Padova",
           2015
          ],
          [
           "Padova",
           2016
          ],
          [
           "Padova",
           2017
          ],
          [
           "Padova",
           2018
          ],
          [
           "Padova",
           2019
          ],
          [
           "Padova",
           2020
          ],
          [
           "Padova",
           2021
          ]
         ],
         "hovertemplate": "Province=%{customdata[0]}<br>Population=%{x}<br>Value=%{y}<br>Year=%{customdata[1]}<extra></extra>",
         "legendgroup": "Padova",
         "marker": {
          "color": "#00cc96",
          "symbol": "circle"
         },
         "mode": "markers",
         "name": "Padova",
         "showlegend": true,
         "type": "scattergl",
         "x": [
          885912,
          892194,
          903768,
          914158,
          919669,
          924305,
          927041,
          930818,
          932899,
          934138,
          932928,
          931890,
          932464,
          933867,
          933700,
          932629
         ],
         "xaxis": "x",
         "y": [
          102304,
          114569,
          98289,
          100070,
          94557,
          99384,
          107547,
          107503,
          102023,
          91412,
          85584,
          79820,
          78311,
          79104,
          64192,
          70552
         ],
         "yaxis": "y"
        },
        {
         "customdata": [
          [
           "Palermo",
           2006
          ],
          [
           "Palermo",
           2007
          ],
          [
           "Palermo",
           2008
          ],
          [
           "Palermo",
           2009
          ],
          [
           "Palermo",
           2010
          ],
          [
           "Palermo",
           2011
          ],
          [
           "Palermo",
           2012
          ],
          [
           "Palermo",
           2013
          ],
          [
           "Palermo",
           2014
          ],
          [
           "Palermo",
           2015
          ],
          [
           "Palermo",
           2016
          ],
          [
           "Palermo",
           2017
          ],
          [
           "Palermo",
           2018
          ],
          [
           "Palermo",
           2019
          ],
          [
           "Palermo",
           2020
          ],
          [
           "Palermo",
           2021
          ]
         ],
         "hovertemplate": "Province=%{customdata[0]}<br>Population=%{x}<br>Value=%{y}<br>Year=%{customdata[1]}<extra></extra>",
         "legendgroup": "Palermo",
         "marker": {
          "color": "#ab63fa",
          "symbol": "circle"
         },
         "mode": "markers",
         "name": "Palermo",
         "showlegend": true,
         "type": "scattergl",
         "x": [
          1237529,
          1239981,
          1243180,
          1245961,
          1248936,
          1253450,
          1254504,
          1256056,
          1256483,
          1255334,
          1250836,
          1246163,
          1238675,
          1231602,
          1222988,
          1208819
         ],
         "xaxis": "x",
         "y": [
          120899,
          128343,
          124396,
          110333,
          120628,
          125752,
          133914,
          138457,
          136079,
          122345,
          111956,
          103116,
          107385,
          101901,
          87096,
          90669
         ],
         "yaxis": "y"
        },
        {
         "customdata": [
          [
           "Parma",
           2006
          ],
          [
           "Parma",
           2007
          ],
          [
           "Parma",
           2008
          ],
          [
           "Parma",
           2009
          ],
          [
           "Parma",
           2010
          ],
          [
           "Parma",
           2011
          ],
          [
           "Parma",
           2012
          ],
          [
           "Parma",
           2013
          ],
          [
           "Parma",
           2014
          ],
          [
           "Parma",
           2015
          ],
          [
           "Parma",
           2016
          ],
          [
           "Parma",
           2017
          ],
          [
           "Parma",
           2018
          ],
          [
           "Parma",
           2019
          ],
          [
           "Parma",
           2020
          ],
          [
           "Parma",
           2021
          ]
         ],
         "hovertemplate": "Province=%{customdata[0]}<br>Population=%{x}<br>Value=%{y}<br>Year=%{customdata[1]}<extra></extra>",
         "legendgroup": "Parma",
         "marker": {
          "color": "#FFA15A",
          "symbol": "circle"
         },
         "mode": "markers",
         "name": "Parma",
         "showlegend": true,
         "type": "scattergl",
         "x": [
          409880,
          412437,
          417613,
          424990,
          428711,
          432723,
          435124,
          438921,
          442271,
          443892,
          446764,
          448455,
          450486,
          452505,
          454873,
          449628
         ],
         "xaxis": "x",
         "y": [
          46586,
          50676,
          45274,
          48018,
          48472,
          52348,
          55253,
          54506,
          53129,
          50534,
          49434,
          52796,
          48305,
          44736,
          36477,
          39087
         ],
         "yaxis": "y"
        },
        {
         "customdata": [
          [
           "Pavia",
           2006
          ],
          [
           "Pavia",
           2007
          ],
          [
           "Pavia",
           2008
          ],
          [
           "Pavia",
           2009
          ],
          [
           "Pavia",
           2010
          ],
          [
           "Pavia",
           2011
          ],
          [
           "Pavia",
           2012
          ],
          [
           "Pavia",
           2013
          ],
          [
           "Pavia",
           2014
          ],
          [
           "Pavia",
           2015
          ],
          [
           "Pavia",
           2016
          ],
          [
           "Pavia",
           2017
          ],
          [
           "Pavia",
           2018
          ],
          [
           "Pavia",
           2019
          ],
          [
           "Pavia",
           2020
          ],
          [
           "Pavia",
           2021
          ]
         ],
         "hovertemplate": "Province=%{customdata[0]}<br>Population=%{x}<br>Value=%{y}<br>Year=%{customdata[1]}<extra></extra>",
         "legendgroup": "Pavia",
         "marker": {
          "color": "#19d3f3",
          "symbol": "circle"
         },
         "mode": "markers",
         "name": "Pavia",
         "showlegend": true,
         "type": "scattergl",
         "x": [
          512181,
          517608,
          526133,
          533069,
          536774,
          539471,
          541920,
          544494,
          544765,
          544841,
          543875,
          543138,
          541617,
          541717,
          540376,
          535801
         ],
         "xaxis": "x",
         "y": [
          60256,
          64353,
          61282,
          58029,
          60760,
          63727,
          65425,
          69278,
          64525,
          61484,
          55176,
          53168,
          49470,
          49572,
          40328,
          46762
         ],
         "yaxis": "y"
        },
        {
         "customdata": [
          [
           "Perugia",
           2006
          ],
          [
           "Perugia",
           2007
          ],
          [
           "Perugia",
           2008
          ],
          [
           "Perugia",
           2009
          ],
          [
           "Perugia",
           2010
          ],
          [
           "Perugia",
           2011
          ],
          [
           "Perugia",
           2012
          ],
          [
           "Perugia",
           2013
          ],
          [
           "Perugia",
           2014
          ],
          [
           "Perugia",
           2015
          ],
          [
           "Perugia",
           2016
          ],
          [
           "Perugia",
           2017
          ],
          [
           "Perugia",
           2018
          ],
          [
           "Perugia",
           2019
          ],
          [
           "Perugia",
           2020
          ],
          [
           "Perugia",
           2021
          ]
         ],
         "hovertemplate": "Province=%{customdata[0]}<br>Population=%{x}<br>Value=%{y}<br>Year=%{customdata[1]}<extra></extra>",
         "legendgroup": "Perugia",
         "marker": {
          "color": "#FF6692",
          "symbol": "circle"
         },
         "mode": "markers",
         "name": "Perugia",
         "showlegend": true,
         "type": "scattergl",
         "x": [
          631226,
          634441,
          643356,
          650960,
          655333,
          659129,
          660352,
          662252,
          661638,
          658819,
          655997,
          653802,
          650524,
          648829,
          646710,
          645506
         ],
         "xaxis": "x",
         "y": [
          63027,
          66756,
          60518,
          60289,
          59592,
          62817,
          64671,
          67839,
          62714,
          58359,
          53045,
          55128,
          56378,
          55012,
          43680,
          46042
         ],
         "yaxis": "y"
        },
        {
         "customdata": [
          [
           "Pesaro e Urbino",
           2006
          ],
          [
           "Pesaro e Urbino",
           2007
          ],
          [
           "Pesaro e Urbino",
           2008
          ],
          [
           "Pesaro e Urbino",
           2009
          ],
          [
           "Pesaro e Urbino",
           2010
          ],
          [
           "Pesaro e Urbino",
           2011
          ],
          [
           "Pesaro e Urbino",
           2012
          ],
          [
           "Pesaro e Urbino",
           2013
          ],
          [
           "Pesaro e Urbino",
           2014
          ],
          [
           "Pesaro e Urbino",
           2015
          ],
          [
           "Pesaro e Urbino",
           2016
          ],
          [
           "Pesaro e Urbino",
           2017
          ],
          [
           "Pesaro e Urbino",
           2018
          ],
          [
           "Pesaro e Urbino",
           2019
          ],
          [
           "Pesaro e Urbino",
           2020
          ],
          [
           "Pesaro e Urbino",
           2021
          ]
         ],
         "hovertemplate": "Province=%{customdata[0]}<br>Population=%{x}<br>Value=%{y}<br>Year=%{customdata[1]}<extra></extra>",
         "legendgroup": "Pesaro e Urbino",
         "marker": {
          "color": "#B6E880",
          "symbol": "circle"
         },
         "mode": "markers",
         "name": "Pesaro e Urbino",
         "showlegend": true,
         "type": "scattergl",
         "x": [
          347759,
          350162,
          357069,
          362578,
          363902,
          364199,
          364117,
          363950,
          362931,
          361969,
          360203,
          359369,
          359033,
          358143,
          356497,
          353272
         ],
         "xaxis": "x",
         "y": [
          25127,
          26607,
          27100,
          25043,
          23471,
          25198,
          27888,
          28237,
          26904,
          25209,
          22857,
          23348,
          21281,
          20416,
          16424,
          17958
         ],
         "yaxis": "y"
        },
        {
         "customdata": [
          [
           "Pescara",
           2006
          ],
          [
           "Pescara",
           2007
          ],
          [
           "Pescara",
           2008
          ],
          [
           "Pescara",
           2009
          ],
          [
           "Pescara",
           2010
          ],
          [
           "Pescara",
           2011
          ],
          [
           "Pescara",
           2012
          ],
          [
           "Pescara",
           2013
          ],
          [
           "Pescara",
           2014
          ],
          [
           "Pescara",
           2015
          ],
          [
           "Pescara",
           2016
          ],
          [
           "Pescara",
           2017
          ],
          [
           "Pescara",
           2018
          ],
          [
           "Pescara",
           2019
          ],
          [
           "Pescara",
           2020
          ],
          [
           "Pescara",
           2021
          ]
         ],
         "hovertemplate": "Province=%{customdata[0]}<br>Population=%{x}<br>Value=%{y}<br>Year=%{customdata[1]}<extra></extra>",
         "legendgroup": "Pescara",
         "marker": {
          "color": "#FF97FF",
          "symbol": "circle"
         },
         "mode": "markers",
         "name": "Pescara",
         "showlegend": true,
         "type": "scattergl",
         "x": [
          305182,
          307299,
          312170,
          315846,
          318143,
          320237,
          321369,
          322011,
          322271,
          321830,
          320710,
          320008,
          318034,
          317366,
          316363,
          313882
         ],
         "xaxis": "x",
         "y": [
          37656,
          40791,
          39902,
          37178,
          37087,
          38034,
          39195,
          40675,
          39903,
          38010,
          33046,
          30563,
          28201,
          25785,
          21001,
          22325
         ],
         "yaxis": "y"
        },
        {
         "customdata": [
          [
           "Piacenza",
           2006
          ],
          [
           "Piacenza",
           2007
          ],
          [
           "Piacenza",
           2008
          ],
          [
           "Piacenza",
           2009
          ],
          [
           "Piacenza",
           2010
          ],
          [
           "Piacenza",
           2011
          ],
          [
           "Piacenza",
           2012
          ],
          [
           "Piacenza",
           2013
          ],
          [
           "Piacenza",
           2014
          ],
          [
           "Piacenza",
           2015
          ],
          [
           "Piacenza",
           2016
          ],
          [
           "Piacenza",
           2017
          ],
          [
           "Piacenza",
           2018
          ],
          [
           "Piacenza",
           2019
          ],
          [
           "Piacenza",
           2020
          ],
          [
           "Piacenza",
           2021
          ]
         ],
         "hovertemplate": "Province=%{customdata[0]}<br>Population=%{x}<br>Value=%{y}<br>Year=%{customdata[1]}<extra></extra>",
         "legendgroup": "Piacenza",
         "marker": {
          "color": "#FECB52",
          "symbol": "circle"
         },
         "mode": "markers",
         "name": "Piacenza",
         "showlegend": true,
         "type": "scattergl",
         "x": [
          273528,
          275593,
          278870,
          283165,
          284820,
          286139,
          287232,
          287953,
          288231,
          287469,
          286412,
          286162,
          286204,
          286265,
          286433,
          283742
         ],
         "xaxis": "x",
         "y": [
          23746,
          26157,
          23873,
          24142,
          24009,
          27195,
          26920,
          31889,
          30382,
          29480,
          24775,
          23405,
          21705,
          20383,
          18238,
          22071
         ],
         "yaxis": "y"
        },
        {
         "customdata": [
          [
           "Pisa",
           2006
          ],
          [
           "Pisa",
           2007
          ],
          [
           "Pisa",
           2008
          ],
          [
           "Pisa",
           2009
          ],
          [
           "Pisa",
           2010
          ],
          [
           "Pisa",
           2011
          ],
          [
           "Pisa",
           2012
          ],
          [
           "Pisa",
           2013
          ],
          [
           "Pisa",
           2014
          ],
          [
           "Pisa",
           2015
          ],
          [
           "Pisa",
           2016
          ],
          [
           "Pisa",
           2017
          ],
          [
           "Pisa",
           2018
          ],
          [
           "Pisa",
           2019
          ],
          [
           "Pisa",
           2020
          ],
          [
           "Pisa",
           2021
          ]
         ],
         "hovertemplate": "Province=%{customdata[0]}<br>Population=%{x}<br>Value=%{y}<br>Year=%{customdata[1]}<extra></extra>",
         "legendgroup": "Pisa",
         "marker": {
          "color": "#636efa",
          "symbol": "circle"
         },
         "mode": "markers",
         "name": "Pisa",
         "showlegend": true,
         "type": "scattergl",
         "x": [
          394900,
          397731,
          403917,
          408315,
          411993,
          415375,
          417345,
          419298,
          420380,
          421062,
          419784,
          420564,
          419636,
          418300,
          418122,
          417983
         ],
         "xaxis": "x",
         "y": [
          47737,
          51686,
          48978,
          49685,
          48025,
          54311,
          53983,
          51925,
          53222,
          51936,
          50387,
          50729,
          45795,
          41847,
          30693,
          34432
         ],
         "yaxis": "y"
        },
        {
         "customdata": [
          [
           "Pistoia",
           2006
          ],
          [
           "Pistoia",
           2007
          ],
          [
           "Pistoia",
           2008
          ],
          [
           "Pistoia",
           2009
          ],
          [
           "Pistoia",
           2010
          ],
          [
           "Pistoia",
           2011
          ],
          [
           "Pistoia",
           2012
          ],
          [
           "Pistoia",
           2013
          ],
          [
           "Pistoia",
           2014
          ],
          [
           "Pistoia",
           2015
          ],
          [
           "Pistoia",
           2016
          ],
          [
           "Pistoia",
           2017
          ],
          [
           "Pistoia",
           2018
          ],
          [
           "Pistoia",
           2019
          ],
          [
           "Pistoia",
           2020
          ],
          [
           "Pistoia",
           2021
          ]
         ],
         "hovertemplate": "Province=%{customdata[0]}<br>Population=%{x}<br>Value=%{y}<br>Year=%{customdata[1]}<extra></extra>",
         "legendgroup": "Pistoia",
         "marker": {
          "color": "#EF553B",
          "symbol": "circle"
         },
         "mode": "markers",
         "name": "Pistoia",
         "showlegend": true,
         "type": "scattergl",
         "x": [
          279113,
          281108,
          285469,
          288895,
          290420,
          291373,
          291524,
          291426,
          291254,
          291267,
          290612,
          290462,
          290665,
          291413,
          291697,
          290245
         ],
         "xaxis": "x",
         "y": [
          32074,
          33914,
          32472,
          30750,
          28710,
          30702,
          31228,
          31022,
          30166,
          30501,
          30254,
          29386,
          25471,
          25344,
          19873,
          20637
         ],
         "yaxis": "y"
        },
        {
         "customdata": [
          [
           "Pordenone",
           2006
          ],
          [
           "Pordenone",
           2007
          ],
          [
           "Pordenone",
           2008
          ],
          [
           "Pordenone",
           2009
          ],
          [
           "Pordenone",
           2010
          ],
          [
           "Pordenone",
           2011
          ],
          [
           "Pordenone",
           2012
          ],
          [
           "Pordenone",
           2013
          ],
          [
           "Pordenone",
           2014
          ],
          [
           "Pordenone",
           2015
          ],
          [
           "Pordenone",
           2016
          ],
          [
           "Pordenone",
           2017
          ],
          [
           "Pordenone",
           2018
          ],
          [
           "Pordenone",
           2019
          ],
          [
           "Pordenone",
           2020
          ],
          [
           "Pordenone",
           2021
          ]
         ],
         "hovertemplate": "Province=%{customdata[0]}<br>Population=%{x}<br>Value=%{y}<br>Year=%{customdata[1]}<extra></extra>",
         "legendgroup": "Pordenone",
         "marker": {
          "color": "#00cc96",
          "symbol": "circle"
         },
         "mode": "markers",
         "name": "Pordenone",
         "showlegend": true,
         "type": "scattergl",
         "x": [
          298958,
          302120,
          306257,
          310507,
          311231,
          311783,
          311833,
          312803,
          312862,
          312003,
          310755,
          309706,
          309946,
          310636,
          310502,
          310634
         ],
         "xaxis": "x",
         "y": [
          23808,
          25341,
          22153,
          20889,
          18993,
          19605,
          21249,
          20371,
          19960,
          16939,
          15397,
          15379,
          14813,
          15015,
          12436,
          14308
         ],
         "yaxis": "y"
        },
        {
         "customdata": [
          [
           "Potenza",
           2006
          ],
          [
           "Potenza",
           2007
          ],
          [
           "Potenza",
           2008
          ],
          [
           "Potenza",
           2009
          ],
          [
           "Potenza",
           2010
          ],
          [
           "Potenza",
           2011
          ],
          [
           "Potenza",
           2012
          ],
          [
           "Potenza",
           2013
          ],
          [
           "Potenza",
           2014
          ],
          [
           "Potenza",
           2015
          ],
          [
           "Potenza",
           2016
          ],
          [
           "Potenza",
           2017
          ],
          [
           "Potenza",
           2018
          ],
          [
           "Potenza",
           2019
          ],
          [
           "Potenza",
           2020
          ],
          [
           "Potenza",
           2021
          ]
         ],
         "hovertemplate": "Province=%{customdata[0]}<br>Population=%{x}<br>Value=%{y}<br>Year=%{customdata[1]}<extra></extra>",
         "legendgroup": "Potenza",
         "marker": {
          "color": "#ab63fa",
          "symbol": "circle"
         },
         "mode": "markers",
         "name": "Potenza",
         "showlegend": true,
         "type": "scattergl",
         "x": [
          387973,
          385424,
          384685,
          383588,
          381758,
          379895,
          378517,
          376835,
          375370,
          373323,
          370854,
          368391,
          365903,
          362452,
          358401,
          352490
         ],
         "xaxis": "x",
         "y": [
          18858,
          20332,
          19760,
          18508,
          19596,
          21027,
          22903,
          21510,
          20593,
          20772,
          18601,
          18154,
          17302,
          16675,
          15472,
          15927
         ],
         "yaxis": "y"
        },
        {
         "customdata": [
          [
           "Prato",
           2006
          ],
          [
           "Prato",
           2007
          ],
          [
           "Prato",
           2008
          ],
          [
           "Prato",
           2009
          ],
          [
           "Prato",
           2010
          ],
          [
           "Prato",
           2011
          ],
          [
           "Prato",
           2012
          ],
          [
           "Prato",
           2013
          ],
          [
           "Prato",
           2014
          ],
          [
           "Prato",
           2015
          ],
          [
           "Prato",
           2016
          ],
          [
           "Prato",
           2017
          ],
          [
           "Prato",
           2018
          ],
          [
           "Prato",
           2019
          ],
          [
           "Prato",
           2020
          ],
          [
           "Prato",
           2021
          ]
         ],
         "hovertemplate": "Province=%{customdata[0]}<br>Population=%{x}<br>Value=%{y}<br>Year=%{customdata[1]}<extra></extra>",
         "legendgroup": "Prato",
         "marker": {
          "color": "#FFA15A",
          "symbol": "circle"
         },
         "mode": "markers",
         "name": "Prato",
         "showlegend": true,
         "type": "scattergl",
         "x": [
          241585,
          244400,
          245866,
          246462,
          248079,
          249263,
          249134,
          251893,
          253550,
          252588,
          253400,
          254606,
          255259,
          256534,
          257073,
          265269
         ],
         "xaxis": "x",
         "y": [
          29635,
          31358,
          30217,
          30576,
          31904,
          35043,
          34315,
          34418,
          35895,
          34008,
          35379,
          31813,
          30363,
          29471,
          25140,
          25537
         ],
         "yaxis": "y"
        },
        {
         "customdata": [
          [
           "Ragusa",
           2006
          ],
          [
           "Ragusa",
           2007
          ],
          [
           "Ragusa",
           2008
          ],
          [
           "Ragusa",
           2009
          ],
          [
           "Ragusa",
           2010
          ],
          [
           "Ragusa",
           2011
          ],
          [
           "Ragusa",
           2012
          ],
          [
           "Ragusa",
           2013
          ],
          [
           "Ragusa",
           2014
          ],
          [
           "Ragusa",
           2015
          ],
          [
           "Ragusa",
           2016
          ],
          [
           "Ragusa",
           2017
          ],
          [
           "Ragusa",
           2018
          ],
          [
           "Ragusa",
           2019
          ],
          [
           "Ragusa",
           2020
          ],
          [
           "Ragusa",
           2021
          ]
         ],
         "hovertemplate": "Province=%{customdata[0]}<br>Population=%{x}<br>Value=%{y}<br>Year=%{customdata[1]}<extra></extra>",
         "legendgroup": "Ragusa",
         "marker": {
          "color": "#19d3f3",
          "symbol": "circle"
         },
         "mode": "markers",
         "name": "Ragusa",
         "showlegend": true,
         "type": "scattergl",
         "x": [
          302210,
          303536,
          306377,
          308912,
          311437,
          314431,
          316385,
          317305,
          317335,
          317146,
          317324,
          317476,
          316682,
          315564,
          315601,
          314910
         ],
         "xaxis": "x",
         "y": [
          22914,
          24245,
          24312,
          25064,
          24514,
          27143,
          28793,
          29078,
          27397,
          23817,
          22915,
          22687,
          22414,
          21831,
          18736,
          17870
         ],
         "yaxis": "y"
        },
        {
         "customdata": [
          [
           "Ravenna",
           2006
          ],
          [
           "Ravenna",
           2007
          ],
          [
           "Ravenna",
           2008
          ],
          [
           "Ravenna",
           2009
          ],
          [
           "Ravenna",
           2010
          ],
          [
           "Ravenna",
           2011
          ],
          [
           "Ravenna",
           2012
          ],
          [
           "Ravenna",
           2013
          ],
          [
           "Ravenna",
           2014
          ],
          [
           "Ravenna",
           2015
          ],
          [
           "Ravenna",
           2016
          ],
          [
           "Ravenna",
           2017
          ],
          [
           "Ravenna",
           2018
          ],
          [
           "Ravenna",
           2019
          ],
          [
           "Ravenna",
           2020
          ],
          [
           "Ravenna",
           2021
          ]
         ],
         "hovertemplate": "Province=%{customdata[0]}<br>Population=%{x}<br>Value=%{y}<br>Year=%{customdata[1]}<extra></extra>",
         "legendgroup": "Ravenna",
         "marker": {
          "color": "#FF6692",
          "symbol": "circle"
         },
         "mode": "markers",
         "name": "Ravenna",
         "showlegend": true,
         "type": "scattergl",
         "x": [
          363983,
          367900,
          374367,
          380588,
          384305,
          387032,
          389072,
          390631,
          391295,
          390424,
          389996,
          389924,
          389939,
          388913,
          387970,
          386643
         ],
         "xaxis": "x",
         "y": [
          48241,
          53915,
          48952,
          46210,
          47235,
          54092,
          53586,
          56170,
          57020,
          54257,
          44047,
          42532,
          40139,
          38292,
          30344,
          32042
         ],
         "yaxis": "y"
        },
        {
         "customdata": [
          [
           "Reggio di Calabria",
           2006
          ],
          [
           "Reggio di Calabria",
           2007
          ],
          [
           "Reggio di Calabria",
           2008
          ],
          [
           "Reggio di Calabria",
           2009
          ],
          [
           "Reggio di Calabria",
           2010
          ],
          [
           "Reggio di Calabria",
           2011
          ],
          [
           "Reggio di Calabria",
           2012
          ],
          [
           "Reggio di Calabria",
           2013
          ],
          [
           "Reggio di Calabria",
           2014
          ],
          [
           "Reggio di Calabria",
           2015
          ],
          [
           "Reggio di Calabria",
           2016
          ],
          [
           "Reggio di Calabria",
           2017
          ],
          [
           "Reggio di Calabria",
           2018
          ],
          [
           "Reggio di Calabria",
           2019
          ],
          [
           "Reggio di Calabria",
           2020
          ],
          [
           "Reggio di Calabria",
           2021
          ]
         ],
         "hovertemplate": "Province=%{customdata[0]}<br>Population=%{x}<br>Value=%{y}<br>Year=%{customdata[1]}<extra></extra>",
         "legendgroup": "Reggio di Calabria",
         "marker": {
          "color": "#B6E880",
          "symbol": "circle"
         },
         "mode": "markers",
         "name": "Reggio di Calabria",
         "showlegend": true,
         "type": "scattergl",
         "x": [
          557704,
          554971,
          557822,
          556039,
          554563,
          554859,
          553518,
          551984,
          550884,
          549202,
          546527,
          543930,
          540579,
          536487,
          530967,
          523791
         ],
         "xaxis": "x",
         "y": [
          48489,
          48339,
          44907,
          43273,
          42498,
          41858,
          44532,
          41145,
          40065,
          40126,
          37374,
          36782,
          35248,
          32673,
          30220,
          31395
         ],
         "yaxis": "y"
        },
        {
         "customdata": [
          [
           "Reggio nell'Emilia",
           2006
          ],
          [
           "Reggio nell'Emilia",
           2007
          ],
          [
           "Reggio nell'Emilia",
           2008
          ],
          [
           "Reggio nell'Emilia",
           2009
          ],
          [
           "Reggio nell'Emilia",
           2010
          ],
          [
           "Reggio nell'Emilia",
           2011
          ],
          [
           "Reggio nell'Emilia",
           2012
          ],
          [
           "Reggio nell'Emilia",
           2013
          ],
          [
           "Reggio nell'Emilia",
           2014
          ],
          [
           "Reggio nell'Emilia",
           2015
          ],
          [
           "Reggio nell'Emilia",
           2016
          ],
          [
           "Reggio nell'Emilia",
           2017
          ],
          [
           "Reggio nell'Emilia",
           2018
          ],
          [
           "Reggio nell'Emilia",
           2019
          ],
          [
           "Reggio nell'Emilia",
           2020
          ],
          [
           "Reggio nell'Emilia",
           2021
          ]
         ],
         "hovertemplate": "Province=%{customdata[0]}<br>Population=%{x}<br>Value=%{y}<br>Year=%{customdata[1]}<extra></extra>",
         "legendgroup": "Reggio nell'Emilia",
         "marker": {
          "color": "#FF97FF",
          "symbol": "circle"
         },
         "mode": "markers",
         "name": "Reggio nell'Emilia",
         "showlegend": true,
         "type": "scattergl",
         "x": [
          487578,
          494211,
          502876,
          511697,
          516752,
          521464,
          524564,
          528349,
          530584,
          529306,
          529643,
          529479,
          529588,
          529932,
          529609,
          527140
         ],
         "xaxis": "x",
         "y": [
          50919,
          56142,
          52734,
          54813,
          52696,
          52271,
          57693,
          58637,
          61749,
          61894,
          56191,
          53125,
          46018,
          46237,
          35026,
          37376
         ],
         "yaxis": "y"
        },
        {
         "customdata": [
          [
           "Rieti",
           2006
          ],
          [
           "Rieti",
           2007
          ],
          [
           "Rieti",
           2008
          ],
          [
           "Rieti",
           2009
          ],
          [
           "Rieti",
           2010
          ],
          [
           "Rieti",
           2011
          ],
          [
           "Rieti",
           2012
          ],
          [
           "Rieti",
           2013
          ],
          [
           "Rieti",
           2014
          ],
          [
           "Rieti",
           2015
          ],
          [
           "Rieti",
           2016
          ],
          [
           "Rieti",
           2017
          ],
          [
           "Rieti",
           2018
          ],
          [
           "Rieti",
           2019
          ],
          [
           "Rieti",
           2020
          ],
          [
           "Rieti",
           2021
          ]
         ],
         "hovertemplate": "Province=%{customdata[0]}<br>Population=%{x}<br>Value=%{y}<br>Year=%{customdata[1]}<extra></extra>",
         "legendgroup": "Rieti",
         "marker": {
          "color": "#FECB52",
          "symbol": "circle"
         },
         "mode": "markers",
         "name": "Rieti",
         "showlegend": true,
         "type": "scattergl",
         "x": [
          151905,
          152474,
          154220,
          156414,
          157279,
          157401,
          157316,
          158188,
          158024,
          157477,
          156869,
          155875,
          154828,
          153534,
          152497,
          151335
         ],
         "xaxis": "x",
         "y": [
          10004,
          10075,
          9863,
          10352,
          10091,
          10380,
          10868,
          11290,
          9594,
          8582,
          8003,
          9415,
          9672,
          8747,
          7898,
          8821
         ],
         "yaxis": "y"
        },
        {
         "customdata": [
          [
           "Rimini",
           2006
          ],
          [
           "Rimini",
           2007
          ],
          [
           "Rimini",
           2008
          ],
          [
           "Rimini",
           2009
          ],
          [
           "Rimini",
           2010
          ],
          [
           "Rimini",
           2011
          ],
          [
           "Rimini",
           2012
          ],
          [
           "Rimini",
           2013
          ],
          [
           "Rimini",
           2014
          ],
          [
           "Rimini",
           2015
          ],
          [
           "Rimini",
           2016
          ],
          [
           "Rimini",
           2017
          ],
          [
           "Rimini",
           2018
          ],
          [
           "Rimini",
           2019
          ],
          [
           "Rimini",
           2020
          ],
          [
           "Rimini",
           2021
          ]
         ],
         "hovertemplate": "Province=%{customdata[0]}<br>Population=%{x}<br>Value=%{y}<br>Year=%{customdata[1]}<extra></extra>",
         "legendgroup": "Rimini",
         "marker": {
          "color": "#636efa",
          "symbol": "circle"
         },
         "mode": "markers",
         "name": "Rimini",
         "showlegend": true,
         "type": "scattergl",
         "x": [
          304774,
          308776,
          312989,
          317632,
          321122,
          324539,
          326491,
          329679,
          331788,
          332716,
          333056,
          334320,
          334877,
          336554,
          336798,
          337777
         ],
         "xaxis": "x",
         "y": [
          55844,
          61744,
          50707,
          51018,
          45733,
          52739,
          56990,
          62089,
          62592,
          61598,
          57570,
          55486,
          50758,
          46126,
          35013,
          41881
         ],
         "yaxis": "y"
        },
        {
         "customdata": [
          [
           "Roma",
           2006
          ],
          [
           "Roma",
           2007
          ],
          [
           "Roma",
           2008
          ],
          [
           "Roma",
           2009
          ],
          [
           "Roma",
           2010
          ],
          [
           "Roma",
           2011
          ],
          [
           "Roma",
           2012
          ],
          [
           "Roma",
           2013
          ],
          [
           "Roma",
           2014
          ],
          [
           "Roma",
           2015
          ],
          [
           "Roma",
           2016
          ],
          [
           "Roma",
           2017
          ],
          [
           "Roma",
           2018
          ],
          [
           "Roma",
           2019
          ],
          [
           "Roma",
           2020
          ],
          [
           "Roma",
           2021
          ]
         ],
         "hovertemplate": "Province=%{customdata[0]}<br>Population=%{x}<br>Value=%{y}<br>Year=%{customdata[1]}<extra></extra>",
         "legendgroup": "Roma",
         "marker": {
          "color": "#EF553B",
          "symbol": "circle"
         },
         "mode": "markers",
         "name": "Roma",
         "showlegend": true,
         "type": "scattergl",
         "x": [
          3824411,
          3863032,
          3914771,
          3964507,
          4008077,
          4048608,
          4085141,
          4149642,
          4194085,
          4216217,
          4236445,
          4254033,
          4259443,
          4263542,
          4253314,
          4231451
         ],
         "xaxis": "x",
         "y": [
          659834,
          681292,
          566141,
          527247,
          569981,
          615538,
          642491,
          664453,
          672724,
          624349,
          551448,
          556132,
          540054,
          520347,
          417458,
          477589
         ],
         "yaxis": "y"
        },
        {
         "customdata": [
          [
           "Rovigo",
           2006
          ],
          [
           "Rovigo",
           2007
          ],
          [
           "Rovigo",
           2008
          ],
          [
           "Rovigo",
           2009
          ],
          [
           "Rovigo",
           2010
          ],
          [
           "Rovigo",
           2011
          ],
          [
           "Rovigo",
           2012
          ],
          [
           "Rovigo",
           2013
          ],
          [
           "Rovigo",
           2014
          ],
          [
           "Rovigo",
           2015
          ],
          [
           "Rovigo",
           2016
          ],
          [
           "Rovigo",
           2017
          ],
          [
           "Rovigo",
           2018
          ],
          [
           "Rovigo",
           2019
          ],
          [
           "Rovigo",
           2020
          ],
          [
           "Rovigo",
           2021
          ]
         ],
         "hovertemplate": "Province=%{customdata[0]}<br>Population=%{x}<br>Value=%{y}<br>Year=%{customdata[1]}<extra></extra>",
         "legendgroup": "Rovigo",
         "marker": {
          "color": "#00cc96",
          "symbol": "circle"
         },
         "mode": "markers",
         "name": "Rovigo",
         "showlegend": true,
         "type": "scattergl",
         "x": [
          243941,
          243715,
          244902,
          245212,
          244675,
          244610,
          244007,
          243750,
          242748,
          241057,
          238940,
          236994,
          234870,
          233428,
          231734,
          230763
         ],
         "xaxis": "x",
         "y": [
          20504,
          22993,
          19704,
          18697,
          17692,
          19074,
          19633,
          19423,
          20550,
          18774,
          16378,
          14846,
          14414,
          15528,
          12482,
          14168
         ],
         "yaxis": "y"
        },
        {
         "customdata": [
          [
           "Salerno",
           2006
          ],
          [
           "Salerno",
           2007
          ],
          [
           "Salerno",
           2008
          ],
          [
           "Salerno",
           2009
          ],
          [
           "Salerno",
           2010
          ],
          [
           "Salerno",
           2011
          ],
          [
           "Salerno",
           2012
          ],
          [
           "Salerno",
           2013
          ],
          [
           "Salerno",
           2014
          ],
          [
           "Salerno",
           2015
          ],
          [
           "Salerno",
           2016
          ],
          [
           "Salerno",
           2017
          ],
          [
           "Salerno",
           2018
          ],
          [
           "Salerno",
           2019
          ],
          [
           "Salerno",
           2020
          ],
          [
           "Salerno",
           2021
          ]
         ],
         "hovertemplate": "Province=%{customdata[0]}<br>Population=%{x}<br>Value=%{y}<br>Year=%{customdata[1]}<extra></extra>",
         "legendgroup": "Salerno",
         "marker": {
          "color": "#ab63fa",
          "symbol": "circle"
         },
         "mode": "markers",
         "name": "Salerno",
         "showlegend": true,
         "type": "scattergl",
         "x": [
          1088131,
          1087924,
          1093905,
          1098578,
          1100822,
          1104369,
          1106182,
          1105702,
          1103254,
          1102188,
          1098529,
          1095614,
          1091434,
          1087055,
          1081380,
          1065967
         ],
         "xaxis": "x",
         "y": [
          80570,
          85037,
          79884,
          77729,
          78031,
          85005,
          90120,
          92644,
          92229,
          92011,
          85023,
          87115,
          82794,
          79671,
          68422,
          72321
         ],
         "yaxis": "y"
        },
        {
         "customdata": [
          [
           "Sassari",
           2006
          ],
          [
           "Sassari",
           2007
          ],
          [
           "Sassari",
           2008
          ],
          [
           "Sassari",
           2009
          ],
          [
           "Sassari",
           2010
          ],
          [
           "Sassari",
           2011
          ],
          [
           "Sassari",
           2012
          ],
          [
           "Sassari",
           2013
          ],
          [
           "Sassari",
           2014
          ],
          [
           "Sassari",
           2015
          ],
          [
           "Sassari",
           2016
          ],
          [
           "Sassari",
           2017
          ],
          [
           "Sassari",
           2018
          ],
          [
           "Sassari",
           2019
          ],
          [
           "Sassari",
           2020
          ],
          [
           "Sassari",
           2021
          ]
         ],
         "hovertemplate": "Province=%{customdata[0]}<br>Population=%{x}<br>Value=%{y}<br>Year=%{customdata[1]}<extra></extra>",
         "legendgroup": "Sassari",
         "marker": {
          "color": "#FFA15A",
          "symbol": "circle"
         },
         "mode": "markers",
         "name": "Sassari",
         "showlegend": true,
         "type": "scattergl",
         "x": [
          470188,
          472539,
          477508,
          481280,
          483032,
          485100,
          486257,
          487737,
          488789,
          488917,
          488904,
          488453,
          487509,
          486689,
          484407,
          476357
         ],
         "xaxis": "x",
         "y": [
          38859,
          39563,
          40099,
          39273,
          40144,
          42649,
          42449,
          42692,
          39296,
          38134,
          35669,
          33699,
          31184,
          32174,
          28754,
          30399
         ],
         "yaxis": "y"
        },
        {
         "customdata": [
          [
           "Savona",
           2006
          ],
          [
           "Savona",
           2007
          ],
          [
           "Savona",
           2008
          ],
          [
           "Savona",
           2009
          ],
          [
           "Savona",
           2010
          ],
          [
           "Savona",
           2011
          ],
          [
           "Savona",
           2012
          ],
          [
           "Savona",
           2013
          ],
          [
           "Savona",
           2014
          ],
          [
           "Savona",
           2015
          ],
          [
           "Savona",
           2016
          ],
          [
           "Savona",
           2017
          ],
          [
           "Savona",
           2018
          ],
          [
           "Savona",
           2019
          ],
          [
           "Savona",
           2020
          ],
          [
           "Savona",
           2021
          ]
         ],
         "hovertemplate": "Province=%{customdata[0]}<br>Population=%{x}<br>Value=%{y}<br>Year=%{customdata[1]}<extra></extra>",
         "legendgroup": "Savona",
         "marker": {
          "color": "#19d3f3",
          "symbol": "circle"
         },
         "mode": "markers",
         "name": "Savona",
         "showlegend": true,
         "type": "scattergl",
         "x": [
          278149,
          279310,
          281398,
          283062,
          283640,
          284364,
          283660,
          283440,
          282258,
          280806,
          278768,
          277357,
          275698,
          273732,
          271832,
          269752
         ],
         "xaxis": "x",
         "y": [
          36025,
          39497,
          34541,
          36547,
          34213,
          36175,
          37608,
          39090,
          36536,
          35920,
          32583,
          32887,
          29846,
          27392,
          21342,
          23961
         ],
         "yaxis": "y"
        },
        {
         "customdata": [
          [
           "Siena",
           2006
          ],
          [
           "Siena",
           2007
          ],
          [
           "Siena",
           2008
          ],
          [
           "Siena",
           2009
          ],
          [
           "Siena",
           2010
          ],
          [
           "Siena",
           2011
          ],
          [
           "Siena",
           2012
          ],
          [
           "Siena",
           2013
          ],
          [
           "Siena",
           2014
          ],
          [
           "Siena",
           2015
          ],
          [
           "Siena",
           2016
          ],
          [
           "Siena",
           2017
          ],
          [
           "Siena",
           2018
          ],
          [
           "Siena",
           2019
          ],
          [
           "Siena",
           2020
          ],
          [
           "Siena",
           2021
          ]
         ],
         "hovertemplate": "Province=%{customdata[0]}<br>Population=%{x}<br>Value=%{y}<br>Year=%{customdata[1]}<extra></extra>",
         "legendgroup": "Siena",
         "marker": {
          "color": "#FF6692",
          "symbol": "circle"
         },
         "mode": "markers",
         "name": "Siena",
         "showlegend": true,
         "type": "scattergl",
         "x": [
          260489,
          261460,
          264790,
          267905,
          269591,
          270689,
          271065,
          271056,
          270705,
          269912,
          268679,
          267330,
          266880,
          266033,
          265179,
          263801
         ],
         "xaxis": "x",
         "y": [
          21534,
          20317,
          19393,
          20421,
          19012,
          19045,
          21345,
          21824,
          20153,
          19373,
          19126,
          18021,
          17320,
          16304,
          12403,
          14451
         ],
         "yaxis": "y"
        },
        {
         "customdata": [
          [
           "Siracusa",
           2006
          ],
          [
           "Siracusa",
           2007
          ],
          [
           "Siracusa",
           2008
          ],
          [
           "Siracusa",
           2009
          ],
          [
           "Siracusa",
           2010
          ],
          [
           "Siracusa",
           2011
          ],
          [
           "Siracusa",
           2012
          ],
          [
           "Siracusa",
           2013
          ],
          [
           "Siracusa",
           2014
          ],
          [
           "Siracusa",
           2015
          ],
          [
           "Siracusa",
           2016
          ],
          [
           "Siracusa",
           2017
          ],
          [
           "Siracusa",
           2018
          ],
          [
           "Siracusa",
           2019
          ],
          [
           "Siracusa",
           2020
          ],
          [
           "Siracusa",
           2021
          ]
         ],
         "hovertemplate": "Province=%{customdata[0]}<br>Population=%{x}<br>Value=%{y}<br>Year=%{customdata[1]}<extra></extra>",
         "legendgroup": "Siracusa",
         "marker": {
          "color": "#B6E880",
          "symbol": "circle"
         },
         "mode": "markers",
         "name": "Siracusa",
         "showlegend": true,
         "type": "scattergl",
         "x": [
          398083,
          398723,
          401459,
          403806,
          404726,
          405967,
          406140,
          404627,
          403111,
          401808,
          399617,
          397377,
          394169,
          391400,
          389344,
          386071
         ],
         "xaxis": "x",
         "y": [
          30790,
          32702,
          32814,
          30321,
          30604,
          33905,
          35482,
          36874,
          37924,
          36964,
          35488,
          34923,
          34364,
          33530,
          29232,
          28677
         ],
         "yaxis": "y"
        },
        {
         "customdata": [
          [
           "Sondrio",
           2006
          ],
          [
           "Sondrio",
           2007
          ],
          [
           "Sondrio",
           2008
          ],
          [
           "Sondrio",
           2009
          ],
          [
           "Sondrio",
           2010
          ],
          [
           "Sondrio",
           2011
          ],
          [
           "Sondrio",
           2012
          ],
          [
           "Sondrio",
           2013
          ],
          [
           "Sondrio",
           2014
          ],
          [
           "Sondrio",
           2015
          ],
          [
           "Sondrio",
           2016
          ],
          [
           "Sondrio",
           2017
          ],
          [
           "Sondrio",
           2018
          ],
          [
           "Sondrio",
           2019
          ],
          [
           "Sondrio",
           2020
          ],
          [
           "Sondrio",
           2021
          ]
         ],
         "hovertemplate": "Province=%{customdata[0]}<br>Population=%{x}<br>Value=%{y}<br>Year=%{customdata[1]}<extra></extra>",
         "legendgroup": "Sondrio",
         "marker": {
          "color": "#FF97FF",
          "symbol": "circle"
         },
         "mode": "markers",
         "name": "Sondrio",
         "showlegend": true,
         "type": "scattergl",
         "x": [
          179447,
          180058,
          180791,
          181277,
          181620,
          181789,
          181848,
          181974,
          182348,
          181859,
          181469,
          181083,
          181025,
          180680,
          180425,
          178798
         ],
         "xaxis": "x",
         "y": [
          11584,
          11517,
          11242,
          11737,
          11175,
          11840,
          10845,
          11293,
          10389,
          10486,
          8910,
          9339,
          8672,
          9393,
          7782,
          8667
         ],
         "yaxis": "y"
        },
        {
         "customdata": [
          [
           "Taranto",
           2006
          ],
          [
           "Taranto",
           2007
          ],
          [
           "Taranto",
           2008
          ],
          [
           "Taranto",
           2009
          ],
          [
           "Taranto",
           2010
          ],
          [
           "Taranto",
           2011
          ],
          [
           "Taranto",
           2012
          ],
          [
           "Taranto",
           2013
          ],
          [
           "Taranto",
           2014
          ],
          [
           "Taranto",
           2015
          ],
          [
           "Taranto",
           2016
          ],
          [
           "Taranto",
           2017
          ],
          [
           "Taranto",
           2018
          ],
          [
           "Taranto",
           2019
          ],
          [
           "Taranto",
           2020
          ],
          [
           "Taranto",
           2021
          ]
         ],
         "hovertemplate": "Province=%{customdata[0]}<br>Population=%{x}<br>Value=%{y}<br>Year=%{customdata[1]}<extra></extra>",
         "legendgroup": "Taranto",
         "marker": {
          "color": "#FECB52",
          "symbol": "circle"
         },
         "mode": "markers",
         "name": "Taranto",
         "showlegend": true,
         "type": "scattergl",
         "x": [
          583340,
          584442,
          586357,
          587549,
          588860,
          588940,
          588744,
          586653,
          584796,
          582400,
          579310,
          576041,
          572436,
          568258,
          563995,
          561958
         ],
         "xaxis": "x",
         "y": [
          41864,
          46607,
          45514,
          41749,
          42340,
          44209,
          44942,
          46287,
          46252,
          44081,
          40914,
          41616,
          39057,
          36057,
          31490,
          32844
         ],
         "yaxis": "y"
        },
        {
         "customdata": [
          [
           "Teramo",
           2006
          ],
          [
           "Teramo",
           2007
          ],
          [
           "Teramo",
           2008
          ],
          [
           "Teramo",
           2009
          ],
          [
           "Teramo",
           2010
          ],
          [
           "Teramo",
           2011
          ],
          [
           "Teramo",
           2012
          ],
          [
           "Teramo",
           2013
          ],
          [
           "Teramo",
           2014
          ],
          [
           "Teramo",
           2015
          ],
          [
           "Teramo",
           2016
          ],
          [
           "Teramo",
           2017
          ],
          [
           "Teramo",
           2018
          ],
          [
           "Teramo",
           2019
          ],
          [
           "Teramo",
           2020
          ],
          [
           "Teramo",
           2021
          ]
         ],
         "hovertemplate": "Province=%{customdata[0]}<br>Population=%{x}<br>Value=%{y}<br>Year=%{customdata[1]}<extra></extra>",
         "legendgroup": "Teramo",
         "marker": {
          "color": "#636efa",
          "symbol": "circle"
         },
         "mode": "markers",
         "name": "Teramo",
         "showlegend": true,
         "type": "scattergl",
         "x": [
          297838,
          299867,
          303587,
          307080,
          309023,
          309564,
          310139,
          310723,
          310157,
          309674,
          308326,
          307687,
          305894,
          305291,
          303900,
          301104
         ],
         "xaxis": "x",
         "y": [
          28813,
          29090,
          27680,
          27024,
          29204,
          30132,
          27320,
          28366,
          27858,
          25649,
          22292,
          23534,
          22500,
          22667,
          20402,
          19255
         ],
         "yaxis": "y"
        },
        {
         "customdata": [
          [
           "Terni",
           2006
          ],
          [
           "Terni",
           2007
          ],
          [
           "Terni",
           2008
          ],
          [
           "Terni",
           2009
          ],
          [
           "Terni",
           2010
          ],
          [
           "Terni",
           2011
          ],
          [
           "Terni",
           2012
          ],
          [
           "Terni",
           2013
          ],
          [
           "Terni",
           2014
          ],
          [
           "Terni",
           2015
          ],
          [
           "Terni",
           2016
          ],
          [
           "Terni",
           2017
          ],
          [
           "Terni",
           2018
          ],
          [
           "Terni",
           2019
          ],
          [
           "Terni",
           2020
          ],
          [
           "Terni",
           2021
          ]
         ],
         "hovertemplate": "Province=%{customdata[0]}<br>Population=%{x}<br>Value=%{y}<br>Year=%{customdata[1]}<extra></extra>",
         "legendgroup": "Terni",
         "marker": {
          "color": "#EF553B",
          "symbol": "circle"
         },
         "mode": "markers",
         "name": "Terni",
         "showlegend": true,
         "type": "scattergl",
         "x": [
          224329,
          224366,
          226942,
          228680,
          229604,
          230321,
          230055,
          230490,
          230461,
          229469,
          228095,
          227190,
          225953,
          224915,
          223455,
          219946
         ],
         "xaxis": "x",
         "y": [
          19103,
          21828,
          18966,
          18931,
          19732,
          19250,
          20373,
          21129,
          20088,
          17617,
          16149,
          16762,
          16803,
          14886,
          12233,
          13334
         ],
         "yaxis": "y"
        },
        {
         "customdata": [
          [
           "Torino",
           2006
          ],
          [
           "Torino",
           2007
          ],
          [
           "Torino",
           2008
          ],
          [
           "Torino",
           2009
          ],
          [
           "Torino",
           2010
          ],
          [
           "Torino",
           2011
          ],
          [
           "Torino",
           2012
          ],
          [
           "Torino",
           2013
          ],
          [
           "Torino",
           2014
          ],
          [
           "Torino",
           2015
          ],
          [
           "Torino",
           2016
          ],
          [
           "Torino",
           2017
          ],
          [
           "Torino",
           2018
          ],
          [
           "Torino",
           2019
          ],
          [
           "Torino",
           2020
          ],
          [
           "Torino",
           2021
          ]
         ],
         "hovertemplate": "Province=%{customdata[0]}<br>Population=%{x}<br>Value=%{y}<br>Year=%{customdata[1]}<extra></extra>",
         "legendgroup": "Torino",
         "marker": {
          "color": "#00cc96",
          "symbol": "circle"
         },
         "mode": "markers",
         "name": "Torino",
         "showlegend": true,
         "type": "scattergl",
         "x": [
          2208364,
          2214122,
          2245170,
          2260921,
          2268453,
          2273859,
          2278547,
          2286885,
          2285336,
          2275771,
          2268360,
          2262336,
          2249616,
          2238663,
          2230946,
          2219206
         ],
         "xaxis": "x",
         "y": [
          402479,
          416323,
          363743,
          360362,
          352326,
          367290,
          380013,
          385555,
          379877,
          358144,
          326788,
          304314,
          284829,
          270724,
          215513,
          252886
         ],
         "yaxis": "y"
        },
        {
         "customdata": [
          [
           "Trapani",
           2006
          ],
          [
           "Trapani",
           2007
          ],
          [
           "Trapani",
           2008
          ],
          [
           "Trapani",
           2009
          ],
          [
           "Trapani",
           2010
          ],
          [
           "Trapani",
           2011
          ],
          [
           "Trapani",
           2012
          ],
          [
           "Trapani",
           2013
          ],
          [
           "Trapani",
           2014
          ],
          [
           "Trapani",
           2015
          ],
          [
           "Trapani",
           2016
          ],
          [
           "Trapani",
           2017
          ],
          [
           "Trapani",
           2018
          ],
          [
           "Trapani",
           2019
          ],
          [
           "Trapani",
           2020
          ],
          [
           "Trapani",
           2021
          ]
         ],
         "hovertemplate": "Province=%{customdata[0]}<br>Population=%{x}<br>Value=%{y}<br>Year=%{customdata[1]}<extra></extra>",
         "legendgroup": "Trapani",
         "marker": {
          "color": "#ab63fa",
          "symbol": "circle"
         },
         "mode": "markers",
         "name": "Trapani",
         "showlegend": true,
         "type": "scattergl",
         "x": [
          429413,
          430169,
          432444,
          433389,
          434697,
          435961,
          436395,
          435260,
          433677,
          432813,
          431516,
          429535,
          426963,
          424039,
          421256,
          418277
         ],
         "xaxis": "x",
         "y": [
          35543,
          38011,
          38549,
          35068,
          37046,
          39507,
          40150,
          38508,
          41358,
          40909,
          37263,
          34313,
          32531,
          33788,
          29639,
          28954
         ],
         "yaxis": "y"
        },
        {
         "customdata": [
          [
           "Trento",
           2006
          ],
          [
           "Trento",
           2007
          ],
          [
           "Trento",
           2008
          ],
          [
           "Trento",
           2009
          ],
          [
           "Trento",
           2010
          ],
          [
           "Trento",
           2011
          ],
          [
           "Trento",
           2012
          ],
          [
           "Trento",
           2013
          ],
          [
           "Trento",
           2014
          ],
          [
           "Trento",
           2015
          ],
          [
           "Trento",
           2016
          ],
          [
           "Trento",
           2017
          ],
          [
           "Trento",
           2018
          ],
          [
           "Trento",
           2019
          ],
          [
           "Trento",
           2020
          ],
          [
           "Trento",
           2021
          ]
         ],
         "hovertemplate": "Province=%{customdata[0]}<br>Population=%{x}<br>Value=%{y}<br>Year=%{customdata[1]}<extra></extra>",
         "legendgroup": "Trento",
         "marker": {
          "color": "#FFA15A",
          "symbol": "circle"
         },
         "mode": "markers",
         "name": "Trento",
         "showlegend": true,
         "type": "scattergl",
         "x": [
          499712,
          504098,
          510511,
          516859,
          521531,
          525833,
          529246,
          533435,
          536813,
          538188,
          539513,
          540280,
          541966,
          543721,
          545425,
          542166
         ],
         "xaxis": "x",
         "y": [
          36655,
          40800,
          37555,
          38057,
          34831,
          37449,
          40067,
          42923,
          42486,
          42494,
          37034,
          36273,
          36029,
          33290,
          24769,
          26348
         ],
         "yaxis": "y"
        },
        {
         "customdata": [
          [
           "Treviso",
           2006
          ],
          [
           "Treviso",
           2007
          ],
          [
           "Treviso",
           2008
          ],
          [
           "Treviso",
           2009
          ],
          [
           "Treviso",
           2010
          ],
          [
           "Treviso",
           2011
          ],
          [
           "Treviso",
           2012
          ],
          [
           "Treviso",
           2013
          ],
          [
           "Treviso",
           2014
          ],
          [
           "Treviso",
           2015
          ],
          [
           "Treviso",
           2016
          ],
          [
           "Treviso",
           2017
          ],
          [
           "Treviso",
           2018
          ],
          [
           "Treviso",
           2019
          ],
          [
           "Treviso",
           2020
          ],
          [
           "Treviso",
           2021
          ]
         ],
         "hovertemplate": "Province=%{customdata[0]}<br>Population=%{x}<br>Value=%{y}<br>Year=%{customdata[1]}<extra></extra>",
         "legendgroup": "Treviso",
         "marker": {
          "color": "#19d3f3",
          "symbol": "circle"
         },
         "mode": "markers",
         "name": "Treviso",
         "showlegend": true,
         "type": "scattergl",
         "x": [
          846082,
          852817,
          864674,
          873880,
          876779,
          879538,
          881011,
          883959,
          884463,
          883548,
          881315,
          881749,
          883346,
          884173,
          883522,
          880417
         ],
         "xaxis": "x",
         "y": [
          63862,
          65714,
          55752,
          57347,
          52015,
          54880,
          60837,
          60652,
          59294,
          54146,
          50019,
          47050,
          48434,
          45806,
          38260,
          42735
         ],
         "yaxis": "y"
        },
        {
         "customdata": [
          [
           "Trieste",
           2006
          ],
          [
           "Trieste",
           2007
          ],
          [
           "Trieste",
           2008
          ],
          [
           "Trieste",
           2009
          ],
          [
           "Trieste",
           2010
          ],
          [
           "Trieste",
           2011
          ],
          [
           "Trieste",
           2012
          ],
          [
           "Trieste",
           2013
          ],
          [
           "Trieste",
           2014
          ],
          [
           "Trieste",
           2015
          ],
          [
           "Trieste",
           2016
          ],
          [
           "Trieste",
           2017
          ],
          [
           "Trieste",
           2018
          ],
          [
           "Trieste",
           2019
          ],
          [
           "Trieste",
           2020
          ],
          [
           "Trieste",
           2021
          ]
         ],
         "hovertemplate": "Province=%{customdata[0]}<br>Population=%{x}<br>Value=%{y}<br>Year=%{customdata[1]}<extra></extra>",
         "legendgroup": "Trieste",
         "marker": {
          "color": "#FF6692",
          "symbol": "circle"
         },
         "mode": "markers",
         "name": "Trieste",
         "showlegend": true,
         "type": "scattergl",
         "x": [
          236064,
          235070,
          234904,
          234661,
          234479,
          234125,
          233404,
          233194,
          233208,
          232703,
          231828,
          231911,
          232274,
          232405,
          231445,
          230689
         ],
         "xaxis": "x",
         "y": [
          23023,
          24455,
          23368,
          22615,
          21805,
          23198,
          24096,
          28440,
          24796,
          25938,
          22992,
          22117,
          21451,
          20058,
          16662,
          18340
         ],
         "yaxis": "y"
        },
        {
         "customdata": [
          [
           "Udine",
           2006
          ],
          [
           "Udine",
           2007
          ],
          [
           "Udine",
           2008
          ],
          [
           "Udine",
           2009
          ],
          [
           "Udine",
           2010
          ],
          [
           "Udine",
           2011
          ],
          [
           "Udine",
           2012
          ],
          [
           "Udine",
           2013
          ],
          [
           "Udine",
           2014
          ],
          [
           "Udine",
           2015
          ],
          [
           "Udine",
           2016
          ],
          [
           "Udine",
           2017
          ],
          [
           "Udine",
           2018
          ],
          [
           "Udine",
           2019
          ],
          [
           "Udine",
           2020
          ],
          [
           "Udine",
           2021
          ]
         ],
         "hovertemplate": "Province=%{customdata[0]}<br>Population=%{x}<br>Value=%{y}<br>Year=%{customdata[1]}<extra></extra>",
         "legendgroup": "Udine",
         "marker": {
          "color": "#B6E880",
          "symbol": "circle"
         },
         "mode": "markers",
         "name": "Udine",
         "showlegend": true,
         "type": "scattergl",
         "x": [
          529308,
          531124,
          535256,
          538393,
          538952,
          538619,
          537947,
          538776,
          538692,
          537054,
          534391,
          532637,
          530717,
          529230,
          526474,
          521117
         ],
         "xaxis": "x",
         "y": [
          38307,
          39715,
          36849,
          36634,
          35521,
          37642,
          38602,
          40427,
          39339,
          35461,
          33239,
          34209,
          31334,
          32275,
          25239,
          27088
         ],
         "yaxis": "y"
        },
        {
         "customdata": [
          [
           "Varese",
           2006
          ],
          [
           "Varese",
           2007
          ],
          [
           "Varese",
           2008
          ],
          [
           "Varese",
           2009
          ],
          [
           "Varese",
           2010
          ],
          [
           "Varese",
           2011
          ],
          [
           "Varese",
           2012
          ],
          [
           "Varese",
           2013
          ],
          [
           "Varese",
           2014
          ],
          [
           "Varese",
           2015
          ],
          [
           "Varese",
           2016
          ],
          [
           "Varese",
           2017
          ],
          [
           "Varese",
           2018
          ],
          [
           "Varese",
           2019
          ],
          [
           "Varese",
           2020
          ],
          [
           "Varese",
           2021
          ]
         ],
         "hovertemplate": "Province=%{customdata[0]}<br>Population=%{x}<br>Value=%{y}<br>Year=%{customdata[1]}<extra></extra>",
         "legendgroup": "Varese",
         "marker": {
          "color": "#FF97FF",
          "symbol": "circle"
         },
         "mode": "markers",
         "name": "Varese",
         "showlegend": true,
         "type": "scattergl",
         "x": [
          841082,
          848925,
          856315,
          863673,
          867890,
          873919,
          877956,
          882582,
          885120,
          885922,
          885308,
          884887,
          884919,
          885085,
          884876,
          880093
         ],
         "xaxis": "x",
         "y": [
          83228,
          84441,
          79354,
          74181,
          73777,
          81490,
          82570,
          88916,
          85057,
          74871,
          69068,
          68939,
          69688,
          69469,
          54023,
          61381
         ],
         "yaxis": "y"
        },
        {
         "customdata": [
          [
           "Venezia",
           2006
          ],
          [
           "Venezia",
           2007
          ],
          [
           "Venezia",
           2008
          ],
          [
           "Venezia",
           2009
          ],
          [
           "Venezia",
           2010
          ],
          [
           "Venezia",
           2011
          ],
          [
           "Venezia",
           2012
          ],
          [
           "Venezia",
           2013
          ],
          [
           "Venezia",
           2014
          ],
          [
           "Venezia",
           2015
          ],
          [
           "Venezia",
           2016
          ],
          [
           "Venezia",
           2017
          ],
          [
           "Venezia",
           2018
          ],
          [
           "Venezia",
           2019
          ],
          [
           "Venezia",
           2020
          ],
          [
           "Venezia",
           2021
          ]
         ],
         "hovertemplate": "Province=%{customdata[0]}<br>Population=%{x}<br>Value=%{y}<br>Year=%{customdata[1]}<extra></extra>",
         "legendgroup": "Venezia",
         "marker": {
          "color": "#FECB52",
          "symbol": "circle"
         },
         "mode": "markers",
         "name": "Venezia",
         "showlegend": true,
         "type": "scattergl",
         "x": [
          825268,
          828852,
          836440,
          844667,
          848803,
          852008,
          853311,
          854270,
          854685,
          854245,
          852177,
          851353,
          850607,
          851057,
          848829,
          843545
         ],
         "xaxis": "x",
         "y": [
          99521,
          112951,
          97246,
          94929,
          95709,
          101453,
          103431,
          111927,
          110791,
          100483,
          90959,
          96708,
          91635,
          90747,
          67506,
          72118
         ],
         "yaxis": "y"
        },
        {
         "customdata": [
          [
           "Verbano-Cusio-Ossola",
           2006
          ],
          [
           "Verbano-Cusio-Ossola",
           2007
          ],
          [
           "Verbano-Cusio-Ossola",
           2008
          ],
          [
           "Verbano-Cusio-Ossola",
           2009
          ],
          [
           "Verbano-Cusio-Ossola",
           2010
          ],
          [
           "Verbano-Cusio-Ossola",
           2011
          ],
          [
           "Verbano-Cusio-Ossola",
           2012
          ],
          [
           "Verbano-Cusio-Ossola",
           2013
          ],
          [
           "Verbano-Cusio-Ossola",
           2014
          ],
          [
           "Verbano-Cusio-Ossola",
           2015
          ],
          [
           "Verbano-Cusio-Ossola",
           2016
          ],
          [
           "Verbano-Cusio-Ossola",
           2017
          ],
          [
           "Verbano-Cusio-Ossola",
           2018
          ],
          [
           "Verbano-Cusio-Ossola",
           2019
          ],
          [
           "Verbano-Cusio-Ossola",
           2020
          ],
          [
           "Verbano-Cusio-Ossola",
           2021
          ]
         ],
         "hovertemplate": "Province=%{customdata[0]}<br>Population=%{x}<br>Value=%{y}<br>Year=%{customdata[1]}<extra></extra>",
         "legendgroup": "Verbano-Cusio-Ossola",
         "marker": {
          "color": "#636efa",
          "symbol": "circle"
         },
         "mode": "markers",
         "name": "Verbano-Cusio-Ossola",
         "showlegend": true,
         "type": "scattergl",
         "x": [
          160905,
          160981,
          161604,
          161931,
          162087,
          162004,
          161719,
          161356,
          160906,
          160240,
          159292,
          158744,
          158131,
          157278,
          156320,
          154926
         ],
         "xaxis": "x",
         "y": [
          13450,
          13473,
          12007,
          10508,
          10847,
          11636,
          11216,
          12202,
          11093,
          11079,
          9239,
          8949,
          8183,
          9069,
          7497,
          8750
         ],
         "yaxis": "y"
        },
        {
         "customdata": [
          [
           "Vercelli",
           2006
          ],
          [
           "Vercelli",
           2007
          ],
          [
           "Vercelli",
           2008
          ],
          [
           "Vercelli",
           2009
          ],
          [
           "Vercelli",
           2010
          ],
          [
           "Vercelli",
           2011
          ],
          [
           "Vercelli",
           2012
          ],
          [
           "Vercelli",
           2013
          ],
          [
           "Vercelli",
           2014
          ],
          [
           "Vercelli",
           2015
          ],
          [
           "Vercelli",
           2016
          ],
          [
           "Vercelli",
           2017
          ],
          [
           "Vercelli",
           2018
          ],
          [
           "Vercelli",
           2019
          ],
          [
           "Vercelli",
           2020
          ],
          [
           "Vercelli",
           2021
          ]
         ],
         "hovertemplate": "Province=%{customdata[0]}<br>Population=%{x}<br>Value=%{y}<br>Year=%{customdata[1]}<extra></extra>",
         "legendgroup": "Vercelli",
         "marker": {
          "color": "#EF553B",
          "symbol": "circle"
         },
         "mode": "markers",
         "name": "Vercelli",
         "showlegend": true,
         "type": "scattergl",
         "x": [
          177455,
          177249,
          178300,
          178646,
          178626,
          178522,
          177960,
          177580,
          176707,
          175540,
          174247,
          173229,
          171904,
          170493,
          169390,
          166584
         ],
         "xaxis": "x",
         "y": [
          14940,
          16455,
          14412,
          15206,
          14925,
          15245,
          15411,
          16054,
          15101,
          14785,
          12720,
          11636,
          11293,
          10393,
          8655,
          9974
         ],
         "yaxis": "y"
        },
        {
         "customdata": [
          [
           "Verona",
           2006
          ],
          [
           "Verona",
           2007
          ],
          [
           "Verona",
           2008
          ],
          [
           "Verona",
           2009
          ],
          [
           "Verona",
           2010
          ],
          [
           "Verona",
           2011
          ],
          [
           "Verona",
           2012
          ],
          [
           "Verona",
           2013
          ],
          [
           "Verona",
           2014
          ],
          [
           "Verona",
           2015
          ],
          [
           "Verona",
           2016
          ],
          [
           "Verona",
           2017
          ],
          [
           "Verona",
           2018
          ],
          [
           "Verona",
           2019
          ],
          [
           "Verona",
           2020
          ],
          [
           "Verona",
           2021
          ]
         ],
         "hovertemplate": "Province=%{customdata[0]}<br>Population=%{x}<br>Value=%{y}<br>Year=%{customdata[1]}<extra></extra>",
         "legendgroup": "Verona",
         "marker": {
          "color": "#00cc96",
          "symbol": "circle"
         },
         "mode": "markers",
         "name": "Verona",
         "showlegend": true,
         "type": "scattergl",
         "x": [
          862458,
          871030,
          886890,
          898031,
          902367,
          906094,
          909045,
          914291,
          917081,
          918450,
          918050,
          918069,
          919179,
          922857,
          924742,
          927810
         ],
         "xaxis": "x",
         "y": [
          105621,
          110993,
          91590,
          87890,
          80221,
          86066,
          91546,
          93942,
          95996,
          86070,
          84452,
          74418,
          77176,
          75410,
          56401,
          67268
         ],
         "yaxis": "y"
        },
        {
         "customdata": [
          [
           "Vibo Valentia",
           2006
          ],
          [
           "Vibo Valentia",
           2007
          ],
          [
           "Vibo Valentia",
           2008
          ],
          [
           "Vibo Valentia",
           2009
          ],
          [
           "Vibo Valentia",
           2010
          ],
          [
           "Vibo Valentia",
           2011
          ],
          [
           "Vibo Valentia",
           2012
          ],
          [
           "Vibo Valentia",
           2013
          ],
          [
           "Vibo Valentia",
           2014
          ],
          [
           "Vibo Valentia",
           2015
          ],
          [
           "Vibo Valentia",
           2016
          ],
          [
           "Vibo Valentia",
           2017
          ],
          [
           "Vibo Valentia",
           2018
          ],
          [
           "Vibo Valentia",
           2019
          ],
          [
           "Vibo Valentia",
           2020
          ],
          [
           "Vibo Valentia",
           2021
          ]
         ],
         "hovertemplate": "Province=%{customdata[0]}<br>Population=%{x}<br>Value=%{y}<br>Year=%{customdata[1]}<extra></extra>",
         "legendgroup": "Vibo Valentia",
         "marker": {
          "color": "#ab63fa",
          "symbol": "circle"
         },
         "mode": "markers",
         "name": "Vibo Valentia",
         "showlegend": true,
         "type": "scattergl",
         "x": [
          167640,
          166598,
          166554,
          165835,
          165131,
          164605,
          163824,
          162516,
          161634,
          160684,
          159824,
          158569,
          157632,
          156378,
          154715,
          152193
         ],
         "xaxis": "x",
         "y": [
          13910,
          14489,
          13968,
          13493,
          12346,
          14074,
          13638,
          13335,
          12519,
          13227,
          11614,
          11291,
          10924,
          10159,
          9491,
          10071
         ],
         "yaxis": "y"
        },
        {
         "customdata": [
          [
           "Vicenza",
           2006
          ],
          [
           "Vicenza",
           2007
          ],
          [
           "Vicenza",
           2008
          ],
          [
           "Vicenza",
           2009
          ],
          [
           "Vicenza",
           2010
          ],
          [
           "Vicenza",
           2011
          ],
          [
           "Vicenza",
           2012
          ],
          [
           "Vicenza",
           2013
          ],
          [
           "Vicenza",
           2014
          ],
          [
           "Vicenza",
           2015
          ],
          [
           "Vicenza",
           2016
          ],
          [
           "Vicenza",
           2017
          ],
          [
           "Vicenza",
           2018
          ],
          [
           "Vicenza",
           2019
          ],
          [
           "Vicenza",
           2020
          ],
          [
           "Vicenza",
           2021
          ]
         ],
         "hovertemplate": "Province=%{customdata[0]}<br>Population=%{x}<br>Value=%{y}<br>Year=%{customdata[1]}<extra></extra>",
         "legendgroup": "Vicenza",
         "marker": {
          "color": "#FFA15A",
          "symbol": "circle"
         },
         "mode": "markers",
         "name": "Vicenza",
         "showlegend": true,
         "type": "scattergl",
         "x": [
          835920,
          840571,
          848024,
          856830,
          860002,
          862700,
          863323,
          865839,
          866418,
          865350,
          862551,
          859736,
          857645,
          856939,
          855297,
          854962
         ],
         "xaxis": "x",
         "y": [
          71619,
          70475,
          63746,
          63501,
          62785,
          68020,
          70754,
          73554,
          71064,
          65018,
          58072,
          53411,
          53998,
          55572,
          47071,
          52020
         ],
         "yaxis": "y"
        },
        {
         "customdata": [
          [
           "Viterbo",
           2006
          ],
          [
           "Viterbo",
           2007
          ],
          [
           "Viterbo",
           2008
          ],
          [
           "Viterbo",
           2009
          ],
          [
           "Viterbo",
           2010
          ],
          [
           "Viterbo",
           2011
          ],
          [
           "Viterbo",
           2012
          ],
          [
           "Viterbo",
           2013
          ],
          [
           "Viterbo",
           2014
          ],
          [
           "Viterbo",
           2015
          ],
          [
           "Viterbo",
           2016
          ],
          [
           "Viterbo",
           2017
          ],
          [
           "Viterbo",
           2018
          ],
          [
           "Viterbo",
           2019
          ],
          [
           "Viterbo",
           2020
          ],
          [
           "Viterbo",
           2021
          ]
         ],
         "hovertemplate": "Province=%{customdata[0]}<br>Population=%{x}<br>Value=%{y}<br>Year=%{customdata[1]}<extra></extra>",
         "legendgroup": "Viterbo",
         "marker": {
          "color": "#19d3f3",
          "symbol": "circle"
         },
         "mode": "markers",
         "name": "Viterbo",
         "showlegend": true,
         "type": "scattergl",
         "x": [
          299353,
          301265,
          306638,
          311308,
          313270,
          314801,
          316475,
          318165,
          317858,
          317302,
          315682,
          314003,
          313010,
          311761,
          309795,
          308830
         ],
         "xaxis": "x",
         "y": [
          24013,
          25419,
          25843,
          23344,
          24017,
          25049,
          26240,
          26351,
          24462,
          22378,
          21586,
          20887,
          20468,
          20727,
          17150,
          19165
         ],
         "yaxis": "y"
        },
        {
         "hovertemplate": "<b>OLS trendline</b><br>Value = 0.143109 * Population + -23346.1<br>R<sup>2</sup>=0.887136<br><br>Population=%{x}<br>Value=%{y} <b>(trend)</b><extra></extra>",
         "legendgroup": "Overall Trendline",
         "line": {
          "color": "#FF6692"
         },
         "mode": "lines",
         "name": "Overall Trendline",
         "showlegend": true,
         "type": "scatter",
         "x": [
          81415,
          83154,
          84027,
          84971,
          85497,
          86069,
          86489,
          86839,
          87043,
          87213,
          87431,
          87769,
          88040,
          88500,
          88541,
          89068,
          123839,
          124089,
          124636,
          125034,
          125653,
          125658,
          126213,
          126515,
          126677,
          126957,
          127030,
          127153,
          127305,
          127951,
          127972,
          128245,
          137795,
          138143,
          138218,
          138555,
          139070,
          139234,
          139518,
          139816,
          139904,
          140214,
          140222,
          140458,
          140642,
          140834,
          141092,
          141248,
          151335,
          151905,
          152193,
          152418,
          152474,
          152497,
          153534,
          154220,
          154715,
          154828,
          154926,
          154974,
          155875,
          156320,
          156378,
          156414,
          156623,
          156869,
          157278,
          157279,
          157316,
          157401,
          157477,
          157632,
          157690,
          158024,
          158131,
          158188,
          158197,
          158569,
          158744,
          158935,
          159292,
          159824,
          159947,
          160161,
          160240,
          160684,
          160905,
          160906,
          160981,
          161055,
          161356,
          161604,
          161634,
          161719,
          161931,
          162004,
          162007,
          162087,
          162371,
          162516,
          162768,
          163594,
          163824,
          164059,
          164159,
          164393,
          164605,
          164816,
          165131,
          165278,
          165792,
          165835,
          166119,
          166244,
          166296,
          166554,
          166584,
          166598,
          167640,
          168273,
          168581,
          169390,
          169710,
          169922,
          170254,
          170493,
          170724,
          170776,
          170776,
          170985,
          171176,
          171356,
          171465,
          171480,
          171486,
          171737,
          171758,
          171904,
          171904,
          171969,
          171985,
          172000,
          172635,
          172681,
          172799,
          173229,
          173393,
          174011,
          174170,
          174247,
          174251,
          174761,
          174778,
          174849,
          175076,
          175227,
          175252,
          175281,
          175341,
          175540,
          175696,
          175758,
          176009,
          176029,
          176030,
          176707,
          176737,
          177249,
          177455,
          177580,
          177960,
          178042,
          178300,
          178522,
          178626,
          178646,
          178798,
          179121,
          179447,
          180058,
          180425,
          180633,
          180680,
          180791,
          181025,
          181083,
          181277,
          181469,
          181620,
          181750,
          181789,
          181848,
          181859,
          181974,
          182348,
          182897,
          183715,
          184448,
          185569,
          186380,
          186412,
          186633,
          187154,
          189836,
          191685,
          192640,
          192835,
          194207,
          194853,
          195187,
          196135,
          196689,
          197065,
          198014,
          198797,
          199033,
          199080,
          199131,
          199704,
          199913,
          200083,
          200444,
          200715,
          200843,
          200860,
          200895,
          200982,
          201107,
          201309,
          201322,
          201408,
          201427,
          201517,
          202138,
          202269,
          202289,
          202350,
          202427,
          202623,
          202825,
          203425,
          203582,
          204687,
          205205,
          205906,
          206172,
          207108,
          207309,
          207418,
          207938,
          208428,
          208488,
          208586,
          209100,
          209244,
          209382,
          209390,
          209440,
          209590,
          209982,
          210070,
          210187,
          210188,
          210252,
          210351,
          210418,
          210532,
          210735,
          211077,
          211081,
          211137,
          211364,
          211455,
          211561,
          211639,
          211644,
          211665,
          211674,
          211917,
          211926,
          212010,
          212010,
          212400,
          212879,
          213022,
          213242,
          213365,
          213393,
          213504,
          213959,
          214038,
          214391,
          214897,
          214981,
          215083,
          215563,
          215800,
          215887,
          216019,
          216226,
          216694,
          216734,
          216756,
          216988,
          217088,
          217209,
          217223,
          217252,
          217362,
          217418,
          217545,
          217771,
          217796,
          217846,
          217934,
          217945,
          217986,
          218083,
          218094,
          218254,
          218534,
          218614,
          218708,
          218923,
          219136,
          219373,
          219690,
          219741,
          219763,
          219775,
          219946,
          219957,
          220111,
          220159,
          220439,
          220539,
          220601,
          220609,
          221042,
          221219,
          221271,
          221278,
          221301,
          221339,
          221349,
          221492,
          221593,
          222258,
          222903,
          222981,
          223116,
          223455,
          223708,
          223957,
          224192,
          224329,
          224366,
          224518,
          224909,
          224915,
          224946,
          225140,
          225824,
          225953,
          225970,
          226007,
          226058,
          226365,
          226405,
          226686,
          226703,
          226807,
          226942,
          226949,
          226999,
          227168,
          227190,
          227343,
          227385,
          227412,
          227637,
          227647,
          228095,
          228170,
          228680,
          228796,
          229042,
          229157,
          229384,
          229469,
          229604,
          230055,
          230321,
          230461,
          230490,
          230689,
          230763,
          231445,
          231734,
          231828,
          231911,
          232274,
          232405,
          232703,
          233194,
          233208,
          233404,
          233428,
          234125,
          234479,
          234661,
          234870,
          234904,
          235070,
          236064,
          236994,
          238940,
          241057,
          241585,
          242748,
          243715,
          243750,
          243941,
          244007,
          244400,
          244610,
          244675,
          244902,
          245212,
          245866,
          246462,
          248079,
          249134,
          249263,
          251893,
          252588,
          253400,
          253550,
          253688,
          254606,
          255259,
          255931,
          256534,
          257073,
          259586,
          260489,
          261460,
          263235,
          263801,
          264790,
          265179,
          265269,
          266033,
          266428,
          266716,
          266880,
          267330,
          267905,
          268679,
          268749,
          269591,
          269752,
          269912,
          270689,
          270705,
          270972,
          271056,
          271065,
          271832,
          272007,
          272318,
          272462,
          272646,
          273200,
          273417,
          273528,
          273732,
          273973,
          274697,
          274877,
          275384,
          275396,
          275593,
          275698,
          277357,
          277579,
          278149,
          278475,
          278768,
          278870,
          279113,
          279310,
          279778,
          280806,
          281108,
          281398,
          281563,
          282258,
          283062,
          283165,
          283431,
          283440,
          283640,
          283660,
          283742,
          284364,
          284820,
          284901,
          285469,
          286139,
          286162,
          286204,
          286265,
          286412,
          286433,
          286469,
          287232,
          287254,
          287469,
          287513,
          287730,
          287822,
          287846,
          287953,
          288215,
          288231,
          288895,
          290245,
          290420,
          290462,
          290612,
          290665,
          290811,
          291254,
          291267,
          291373,
          291413,
          291426,
          291524,
          291697,
          294838,
          297313,
          297838,
          298958,
          299084,
          299353,
          299867,
          300762,
          301104,
          301265,
          302120,
          302210,
          302311,
          303094,
          303226,
          303536,
          303587,
          303900,
          304136,
          304774,
          305182,
          305243,
          305291,
          305639,
          305819,
          305894,
          306124,
          306200,
          306257,
          306279,
          306377,
          306499,
          306638,
          307080,
          307299,
          307410,
          307687,
          308326,
          308776,
          308830,
          308912,
          309023,
          309564,
          309674,
          309706,
          309795,
          309946,
          310139,
          310157,
          310502,
          310507,
          310634,
          310636,
          310723,
          310755,
          310815,
          311231,
          311308,
          311437,
          311761,
          311783,
          311833,
          312003,
          312168,
          312170,
          312803,
          312862,
          312989,
          313010,
          313022,
          313097,
          313270,
          313882,
          314003,
          314431,
          314801,
          314910,
          314944,
          315564,
          315601,
          315682,
          315846,
          316363,
          316385,
          316475,
          316587,
          316682,
          317146,
          317302,
          317305,
          317324,
          317335,
          317366,
          317476,
          317542,
          317632,
          317858,
          318034,
          318143,
          318165,
          319057,
          319422,
          320008,
          320237,
          320710,
          320894,
          320934,
          321122,
          321322,
          321356,
          321369,
          321492,
          321791,
          321830,
          322011,
          322271,
          322357,
          324413,
          324539,
          326491,
          328230,
          328996,
          329679,
          331738,
          331788,
          331877,
          332340,
          332716,
          332887,
          333056,
          333435,
          333569,
          333654,
          334255,
          334320,
          334483,
          334877,
          334961,
          335414,
          335554,
          335588,
          335706,
          335744,
          335812,
          335870,
          336224,
          336322,
          336501,
          336554,
          336798,
          336860,
          337162,
          337545,
          337777,
          337883,
          338006,
          338374,
          339172,
          339455,
          339683,
          340349,
          340831,
          341044,
          341375,
          341461,
          341636,
          342061,
          342549,
          343761,
          344439,
          344510,
          344744,
          345538,
          345706,
          346105,
          346447,
          346567,
          347257,
          347353,
          347519,
          347759,
          347788,
          347866,
          348661,
          349092,
          349344,
          350162,
          350206,
          350704,
          352065,
          352242,
          352490,
          352901,
          353272,
          353293,
          353538,
          354211,
          354362,
          355000,
          355098,
          355163,
          355551,
          355747,
          355871,
          355908,
          356086,
          356150,
          356497,
          356585,
          356897,
          357069,
          357168,
          357926,
          357980,
          358143,
          358243,
          358401,
          358849,
          359033,
          359072,
          359369,
          359451,
          359489,
          360063,
          360160,
          360175,
          360203,
          360340,
          360815,
          361015,
          361571,
          361969,
          362106,
          362124,
          362248,
          362452,
          362578,
          362614,
          362715,
          362925,
          362931,
          363711,
          363902,
          363950,
          363983,
          364117,
          364199,
          364378,
          364980,
          365773,
          365903,
          366302,
          366691,
          367314,
          367900,
          368071,
          368391,
          368573,
          369167,
          369393,
          370255,
          370383,
          370854,
          373237,
          373323,
          374367,
          375215,
          375370,
          375993,
          376835,
          378517,
          378840,
          379895,
          380512,
          380588,
          380675,
          380858,
          381091,
          381758,
          381946,
          381999,
          382543,
          383047,
          383477,
          383588,
          383957,
          384305,
          384685,
          384801,
          385235,
          385329,
          385399,
          385424,
          385473,
          386071,
          386530,
          386609,
          386643,
          386738,
          386741,
          386753,
          387032,
          387817,
          387947,
          387970,
          387973,
          388297,
          388470,
          388913,
          389072,
          389330,
          389344,
          389924,
          389939,
          389996,
          390196,
          390307,
          390339,
          390424,
          390570,
          390631,
          390740,
          391295,
          391332,
          391400,
          391459,
          391851,
          391936,
          392171,
          392462,
          392625,
          392642,
          393030,
          393038,
          393295,
          393337,
          393570,
          393704,
          393717,
          393718,
          393786,
          393804,
          393867,
          393916,
          394169,
          394298,
          394493,
          394520,
          394565,
          394618,
          394753,
          394759,
          394900,
          394957,
          395210,
          395306,
          395438,
          395737,
          396312,
          397377,
          397731,
          398083,
          398723,
          399338,
          399617,
          400439,
          401459,
          401494,
          401613,
          401808,
          401925,
          402411,
          402929,
          403009,
          403111,
          403260,
          403806,
          403917,
          403964,
          404627,
          404726,
          404888,
          404901,
          405895,
          405967,
          406061,
          406140,
          406919,
          407574,
          407851,
          407866,
          408315,
          408668,
          409392,
          409504,
          409789,
          409880,
          410369,
          411086,
          411971,
          411993,
          412437,
          412575,
          412704,
          414109,
          415375,
          416181,
          417288,
          417345,
          417613,
          417983,
          418122,
          418123,
          418277,
          418300,
          419298,
          419636,
          419784,
          419789,
          420300,
          420380,
          420564,
          420719,
          421062,
          421135,
          421256,
          421488,
          422247,
          422840,
          423296,
          423372,
          423488,
          423662,
          424039,
          424105,
          424257,
          424990,
          425206,
          425365,
          425391,
          425431,
          425677,
          425735,
          425775,
          426011,
          426678,
          426740,
          426909,
          426963,
          427056,
          427857,
          428003,
          428711,
          429413,
          429535,
          429901,
          430169,
          430179,
          430946,
          431516,
          432335,
          432444,
          432723,
          432813,
          432970,
          433059,
          433236,
          433389,
          433426,
          433670,
          433677,
          434312,
          434377,
          434697,
          434893,
          434937,
          435124,
          435260,
          435787,
          435961,
          436395,
          436481,
          436525,
          436552,
          437155,
          437189,
          438921,
          441375,
          442271,
          443892,
          445117,
          446764,
          447397,
          447968,
          448455,
          448752,
          449492,
          449628,
          449845,
          450199,
          450486,
          451030,
          451892,
          452122,
          452505,
          454873,
          462745,
          464419,
          464468,
          467451,
          468180,
          469166,
          470188,
          470533,
          472098,
          472539,
          472559,
          473012,
          474334,
          474490,
          476111,
          476219,
          476357,
          476903,
          477487,
          477502,
          477508,
          478001,
          480403,
          480968,
          481280,
          483032,
          483156,
          484407,
          485100,
          485196,
          486257,
          486273,
          486689,
          487509,
          487578,
          487737,
          488453,
          488789,
          488839,
          488869,
          488904,
          488917,
          489159,
          491338,
          491410,
          492566,
          493461,
          494211,
          494937,
          495056,
          495526,
          495663,
          495815,
          496079,
          499712,
          500450,
          502876,
          504098,
          504406,
          507989,
          510511,
          511619,
          511697,
          512181,
          512845,
          515389,
          516752,
          516859,
          516999,
          517608,
          517994,
          520252,
          521117,
          521464,
          521531,
          523454,
          523791,
          524564,
          525815,
          525833,
          526133,
          526474,
          526772,
          527140,
          528349,
          529230,
          529246,
          529306,
          529308,
          529479,
          529588,
          529609,
          529643,
          529932,
          530313,
          530584,
          530717,
          530967,
          531124,
          532637,
          532644,
          533069,
          533435,
          534391,
          534833,
          534912,
          535256,
          535801,
          536487,
          536774,
          536813,
          537054,
          537947,
          538188,
          538393,
          538619,
          538692,
          538776,
          538952,
          539471,
          539513,
          540280,
          540376,
          540579,
          541617,
          541717,
          541737,
          541920,
          541966,
          542166,
          543138,
          543721,
          543875,
          543930,
          544494,
          544765,
          544841,
          545425,
          546421,
          546527,
          549202,
          550884,
          551248,
          551984,
          553518,
          554563,
          554859,
          554971,
          556039,
          557704,
          557713,
          557822,
          560527,
          561958,
          562493,
          562592,
          563271,
          563302,
          563643,
          563908,
          563995,
          564169,
          566224,
          567881,
          568258,
          570154,
          571890,
          572436,
          573108,
          576041,
          579101,
          579168,
          579310,
          581798,
          582400,
          583340,
          583725,
          584442,
          584482,
          584796,
          586113,
          586357,
          586653,
          587213,
          587334,
          587549,
          587914,
          588639,
          588744,
          588860,
          588940,
          589206,
          589212,
          590522,
          591101,
          591451,
          592331,
          592436,
          592800,
          594725,
          596456,
          596740,
          597433,
          597486,
          597642,
          597807,
          597842,
          597927,
          602394,
          603980,
          606904,
          611518,
          613887,
          616829,
          618713,
          621555,
          624147,
          625294,
          629554,
          630489,
          631226,
          632597,
          634441,
          635508,
          635610,
          638760,
          639399,
          640212,
          640391,
          640725,
          640753,
          641243,
          642398,
          643356,
          645506,
          645599,
          646710,
          648829,
          649222,
          650524,
          650960,
          653043,
          653802,
          654112,
          654525,
          654929,
          655087,
          655333,
          655476,
          655654,
          655997,
          658819,
          659129,
          660352,
          661014,
          661638,
          662252,
          664637,
          671181,
          676119,
          680847,
          686013,
          690503,
          691178,
          693464,
          695605,
          696677,
          699006,
          699142,
          700166,
          700222,
          700472,
          701962,
          703066,
          703696,
          706757,
          706823,
          707119,
          710806,
          713368,
          715559,
          718008,
          718158,
          718703,
          720506,
          721074,
          721200,
          722119,
          776230,
          782165,
          786408,
          791902,
          796925,
          800384,
          800949,
          803154,
          804812,
          807270,
          808602,
          809901,
          812271,
          812490,
          814923,
          815462,
          823612,
          825268,
          826194,
          828852,
          831172,
          835920,
          836148,
          836440,
          839897,
          840571,
          841082,
          842249,
          843545,
          844667,
          846082,
          846211,
          846580,
          848024,
          848803,
          848829,
          848925,
          850607,
          851057,
          851353,
          852008,
          852177,
          852817,
          853201,
          853311,
          854245,
          854270,
          854685,
          854962,
          855068,
          855297,
          856315,
          856830,
          856939,
          857645,
          858244,
          859736,
          860002,
          860065,
          860560,
          861122,
          862458,
          862551,
          862700,
          863267,
          863323,
          863673,
          864674,
          865118,
          865350,
          865666,
          865839,
          866418,
          867082,
          867385,
          867890,
          868956,
          869169,
          869560,
          870113,
          870193,
          870576,
          871030,
          872587,
          873880,
          873919,
          875282,
          876779,
          877956,
          879538,
          879789,
          880093,
          880417,
          881011,
          881315,
          881749,
          882582,
          883346,
          883522,
          883548,
          883959,
          884173,
          884463,
          884876,
          884887,
          884919,
          885085,
          885120,
          885308,
          885497,
          885912,
          885922,
          886890,
          892194,
          892751,
          898031,
          899448,
          901903,
          902367,
          903768,
          905721,
          906094,
          909045,
          913228,
          913666,
          914158,
          914291,
          915549,
          915730,
          916615,
          917081,
          917423,
          917426,
          917820,
          917923,
          918050,
          918069,
          918110,
          918450,
          919179,
          919669,
          922857,
          924305,
          924742,
          927041,
          927810,
          930818,
          931890,
          932464,
          932629,
          932899,
          932928,
          933700,
          933867,
          934138,
          940326,
          945206,
          954130,
          955086,
          957756,
          964323,
          966533,
          972638,
          973567,
          979999,
          981089,
          985902,
          987954,
          991721,
          993332,
          995517,
          998431,
          998967,
          998976,
          999027,
          1002098,
          1002913,
          1003893,
          1005022,
          1005359,
          1005814,
          1005824,
          1009831,
          1012550,
          1015608,
          1017551,
          1021501,
          1030911,
          1040923,
          1054956,
          1065967,
          1069939,
          1071805,
          1072634,
          1074040,
          1074089,
          1077270,
          1079639,
          1080037,
          1081380,
          1081823,
          1084439,
          1086981,
          1087055,
          1087924,
          1088131,
          1088517,
          1089522,
          1091100,
          1091434,
          1092537,
          1093905,
          1093911,
          1094229,
          1094665,
          1095009,
          1095388,
          1095614,
          1098529,
          1098578,
          1100822,
          1101727,
          1102188,
          1103254,
          1103556,
          1104369,
          1104383,
          1104999,
          1105276,
          1105702,
          1105724,
          1106160,
          1106182,
          1107159,
          1108126,
          1177290,
          1189408,
          1204416,
          1208819,
          1220795,
          1222988,
          1230158,
          1230205,
          1230529,
          1231602,
          1234997,
          1237283,
          1237529,
          1238675,
          1239946,
          1239981,
          1240589,
          1241188,
          1243180,
          1244048,
          1245190,
          1245961,
          1246163,
          1247357,
          1247513,
          1248936,
          1249699,
          1250836,
          1251306,
          1251412,
          1251873,
          1253450,
          1253461,
          1253581,
          1253852,
          1254419,
          1254504,
          1255334,
          1255437,
          1255637,
          1255709,
          1255890,
          1256056,
          1256483,
          1256495,
          1257549,
          1258054,
          1259733,
          2208364,
          2214122,
          2219206,
          2230946,
          2238663,
          2245170,
          2249616,
          2260921,
          2262336,
          2268360,
          2268453,
          2273859,
          2275771,
          2278547,
          2285336,
          2286885,
          2986745,
          2996002,
          2999062,
          3006001,
          3013241,
          3034410,
          3034843,
          3048194,
          3060023,
          3063241,
          3065231,
          3068657,
          3070651,
          3071681,
          3072876,
          3074086,
          3075600,
          3076550,
          3078259,
          3079037,
          3081165,
          3081729,
          3095104,
          3125287,
          3163522,
          3186367,
          3200447,
          3214702,
          3232728,
          3241813,
          3250077,
          3265327,
          3824411,
          3863032,
          3914771,
          3964507,
          4008077,
          4048608,
          4085141,
          4149642,
          4194085,
          4216217,
          4231451,
          4236445,
          4253314,
          4254033,
          4259443,
          4263542
         ],
         "xaxis": "x",
         "y": [
          -11694.805664866959,
          -11445.938467173963,
          -11321.003985525898,
          -11185.90873847461,
          -11110.633208867644,
          -11028.774648154364,
          -10968.668711966291,
          -10918.580431809565,
          -10889.386119946786,
          -10865.057526727805,
          -10833.859683658757,
          -10785.488715964546,
          -10746.706076186052,
          -10680.875765122924,
          -10675.008280875994,
          -10599.589641897152,
          -5623.533672384125,
          -5587.756329415031,
          -5509.475502998663,
          -5452.517972991871,
          -5363.933271800401,
          -5363.21772494102,
          -5283.7920235496385,
          -5240.572993242975,
          -5217.389274999005,
          -5177.318650873622,
          -5166.871666726649,
          -5149.2692139858555,
          -5127.516589460647,
          -5035.067935228519,
          -5032.062638419113,
          -4992.993779896868,
          -3626.299278477596,
          -3576.4972170646215,
          -3565.7640141738957,
          -3517.5361558515615,
          -3443.8348293352356,
          -3420.364892347512,
          -3379.721830734623,
          -3337.075237915469,
          -3324.4816131903463,
          -3280.1177079086738,
          -3278.972832933665,
          -3245.1990211708435,
          -3218.8668967455924,
          -3191.389897345329,
          -3154.4676794012266,
          -3132.1426173885156,
          -1688.5983832716374,
          -1607.0260413021133,
          -1565.810542201718,
          -1533.6109335295369,
          -1525.5968087044603,
          -1522.3052931513048,
          -1373.9008745155152,
          -1275.7278454083316,
          -1204.8887063295297,
          -1188.7173473075018,
          -1174.6926288636168,
          -1167.8233790135528,
          -1038.8818349529502,
          -975.198164467969,
          -966.8978208991393,
          -961.7458835115904,
          -931.8360247894307,
          -896.6311193078436,
          -838.0993862104115,
          -837.9562768385367,
          -832.6612300791094,
          -820.4969334696179,
          -809.6206212070174,
          -787.4386685661811,
          -779.1383249973514,
          -731.3397947906451,
          -716.0270919998729,
          -707.8698578029216,
          -706.5818734560344,
          -653.3451871180259,
          -628.3010470396621,
          -600.9671570112769,
          -549.877111251415,
          -473.74292541318937,
          -456.1404726723995,
          -425.51506709085515,
          -414.2094267126231,
          -350.66886559952036,
          -319.0416944148419,
          -318.89858504296717,
          -308.1653821522377,
          -297.57528863338666,
          -254.49936769860142,
          -219.00824347326488,
          -214.7149623169753,
          -202.55066570748386,
          -172.21147886969266,
          -161.76449472271997,
          -161.33516660708847,
          -149.88641685698167,
          -109.24335524409253,
          -88.4924963220219,
          -52.42893460917912,
          65.77940656069768,
          98.69456209226337,
          132.3252644832064,
          146.63620167084446,
          180.12379468991276,
          210.46298152770032,
          240.65905899361314,
          285.73851113467026,
          306.775588800494,
          380.3338059449452,
          386.4875089356283,
          427.1305705485174,
          445.01924203306044,
          452.46092937063077,
          489.3831473147329,
          493.67642847102616,
          495.6799596772944,
          644.799925172465,
          735.3881575702035,
          779.4658441081228,
          895.2413259560999,
          941.036324956538,
          971.3755117943256,
          1018.8878232572788,
          1053.090963135728,
          1086.1492280391685,
          1093.5909153767388,
          1093.5909153767388,
          1123.5007740988985,
          1150.8346641272838,
          1176.5943510650286,
          1192.193272599554,
          1194.3399131777005,
          1195.1985694089562,
          1231.1190217499243,
          1234.1243185593266,
          1255.0182868532756,
          1255.0182868532756,
          1264.3203960252395,
          1266.6101459752645,
          1268.7567865534074,
          1359.631237694899,
          1366.21426880121,
          1383.1011746826225,
          1444.638204589457,
          1468.1081415771805,
          1556.549733396776,
          1579.3041235251148,
          1590.3235451595974,
          1590.8959826471037,
          1663.8817623040486,
          1666.3146216259447,
          1676.475387029168,
          1708.961214445102,
          1730.570729598432,
          1734.1484638953407,
          1738.2986356797555,
          1746.8851979923384,
          1775.3639629957324,
          1797.689025008447,
          1806.561806064783,
          1842.4822584057474,
          1845.344445843275,
          1845.4875552151534,
          1942.3725999754497,
          1946.6658811317393,
          2019.9378795324374,
          2049.418410138969,
          2067.307081623516,
          2121.688642936533,
          2133.4236114303967,
          2170.345829374495,
          2202.1161099310484,
          2216.9994846061927,
          2219.8616720437167,
          2241.614296568925,
          2287.838623684991,
          2334.492278916685,
          2421.9321051331426,
          2474.45324461177,
          2504.2199939620514,
          2510.9461344402407,
          2526.831274718519,
          2560.3188677375874,
          2568.619211306417,
          2596.38242945043,
          2623.85942885069,
          2645.468944004024,
          2664.0731623479514,
          2669.6544278511283,
          2678.0978807918327,
          2679.672083882473,
          2696.129661648254,
          2749.6525667300157,
          2828.2196118901375,
          2945.2830780850054,
          3050.1822476703783,
          3210.607853543781,
          3326.669554135511,
          3331.249054035554,
          3362.8762252202323,
          3437.4362079678176,
          3821.255543340223,
          4085.8647719396176,
          4222.534222081547,
          4250.440549597435,
          4446.786607811806,
          4539.235262043938,
          4587.033792250644,
          4722.701476789436,
          4801.9840688089425,
          4855.793192634454,
          4991.603986545124,
          5103.658624724314,
          5137.432436487135,
          5144.158576965325,
          5151.45715493102,
          5233.458825016176,
          5263.368683738336,
          5287.6972769573185,
          5339.359760204687,
          5378.142399983179,
          5396.460399583353,
          5398.893258905253,
          5403.9020869209235,
          5416.352602274168,
          5434.241273758715,
          5463.14936687774,
          5465.009788712134,
          5477.3171946935,
          5480.036272759149,
          5492.916116228022,
          5581.787036163245,
          5600.534363879047,
          5603.396551316575,
          5612.1262230010325,
          5623.145644635515,
          5651.195081523281,
          5680.103174642307,
          5765.968797768124,
          5788.436969152714,
          5946.572825076095,
          6020.703479708052,
          6121.0231493933825,
          6159.0902423124935,
          6293.04061438877,
          6321.8055981359175,
          6337.404519670443,
          6411.82139304615,
          6481.944985265571,
          6490.53154757815,
          6504.556266022035,
          6578.114483166486,
          6598.722232716682,
          6618.471326035618,
          6619.616201010631,
          6626.771669604448,
          6648.238075385903,
          6704.336949161439,
          6716.930573886559,
          6733.674370396093,
          6733.817479767968,
          6742.976479568057,
          6757.144307383816,
          6766.732635299533,
          6783.04710369344,
          6812.09830618434,
          6861.041711366055,
          6861.614148853561,
          6869.628273678638,
          6902.114101094572,
          6915.137053935319,
          6930.306647354217,
          6941.46917836057,
          6942.184725219955,
          6945.190022029357,
          6946.478006376245,
          6981.2535837422,
          6982.541568089087,
          6994.562755326704,
          6994.562755326704,
          7050.375410358483,
          7118.924799487264,
          7139.389439665581,
          7170.8735014783815,
          7188.475954219175,
          7192.4830166317115,
          7208.36815690999,
          7273.482921113733,
          7284.788561491969,
          7335.306169764324,
          7407.719511933763,
          7419.74069917138,
          7434.337855102767,
          7503.030353603423,
          7536.947274738119,
          7549.397790091363,
          7568.288227179044,
          7597.911867157451,
          7664.887053195587,
          7670.611428070642,
          7673.759834251923,
          7706.961208527238,
          7721.272145714876,
          7738.588379711917,
          7740.591910918185,
          7744.7420827026,
          7760.484113609,
          7768.4982384340765,
          7786.673128662373,
          7819.015846706432,
          7822.593581003341,
          7829.749049597158,
          7842.342674322277,
          7843.9168774129175,
          7849.784361659851,
          7863.665970731858,
          7865.240173822498,
          7888.137673322715,
          7928.208297448098,
          7939.657047198205,
          7953.109328154584,
          7983.877843108003,
          8014.360139317669,
          8048.277060452365,
          8093.642731337171,
          8100.941309302867,
          8104.089715484148,
          8105.807027946663,
          8130.2787305375205,
          8131.852933628161,
          8153.891776897122,
          8160.761026747186,
          8200.83165087257,
          8215.142588060204,
          8224.01536911654,
          8225.160244091552,
          8287.126602114015,
          8312.456960936132,
          8319.898648273702,
          8320.900413876836,
          8324.191929429995,
          8329.630085561297,
          8331.06117928006,
          8351.52581945838,
          8365.979866017893,
          8461.147598315674,
          8553.453143175928,
          8564.615674182285,
          8583.935439385594,
          8632.449516451681,
          8668.656187536399,
          8704.290421133614,
          8737.92112352456,
          8757.527107471622,
          8762.822154231046,
          8784.574778756254,
          8840.530543159912,
          8841.389199391171,
          8845.82558991934,
          8873.588808063352,
          8971.475618426786,
          8989.936727398836,
          8992.369586720735,
          8997.664633480159,
          9004.963211445855,
          9048.8977886119,
          9054.62216348695,
          9094.835896984208,
          9097.268756306108,
          9112.152130981249,
          9131.471896184557,
          9132.473661787695,
          9139.629130381512,
          9163.814614228617,
          9166.963020409898,
          9188.85875430698,
          9194.869347925789,
          9198.73330096645,
          9230.932909638632,
          9232.364003357394,
          9296.477001958006,
          9307.210204848732,
          9380.195984505677,
          9396.796671643337,
          9432.00157712492,
          9448.459154890701,
          9480.944982306635,
          9493.10927891613,
          9512.429044119435,
          9576.971370835676,
          9615.038463754794,
          9635.073775817484,
          9639.223947601899,
          9667.702712605289,
          9678.292806124144,
          9775.893397743825,
          9817.252006216095,
          9830.704287172473,
          9842.582365038212,
          9894.53106702933,
          9913.278394745128,
          9955.924987564289,
          10026.191689155585,
          10028.195220361853,
          10056.244657249616,
          10059.679282174653,
          10159.426514372473,
          10210.087232016707,
          10236.133137698209,
          10266.042996420369,
          10270.90871506416,
          10294.664870795637,
          10436.915586440748,
          10570.007302285765,
          10848.498139957166,
          11151.460680219428,
          11227.022428570144,
          11393.458628062359,
          11531.845390666804,
          11536.854218682474,
          11564.18810871086,
          11573.633327254702,
          11629.875310402113,
          11659.928278496143,
          11669.230387668107,
          11701.716215084041,
          11746.080120365714,
          11839.673649572858,
          11924.966835211173,
          12156.374689535249,
          12307.35507686481,
          12325.816185836866,
          12702.193833871697,
          12801.654847325768,
          12917.859657289377,
          12939.326063070836,
          12959.075156389768,
          13090.449559772274,
          13183.89997960754,
          13280.069477508452,
          13366.364428749901,
          13443.500380191264,
          13803.134231716558,
          13932.361994520918,
          14071.321194612869,
          14325.340329693408,
          14406.34023417543,
          14547.875402961155,
          14603.54494862106,
          14616.424792089932,
          14725.760352203473,
          14782.28855409464,
          14823.504053195033,
          14846.973990182752,
          14911.373207527122,
          14993.661096356027,
          15104.42775018833,
          15114.445406219678,
          15234.943497339573,
          15257.984106211672,
          15280.881605711886,
          15392.077587659824,
          15394.367337609841,
          15432.57753990083,
          15444.598727138447,
          15445.886711485338,
          15555.651599714507,
          15580.695739792867,
          15625.202754446418,
          15645.810503996614,
          15672.142628421865,
          15751.425220441368,
          15782.47995413854,
          15798.365094416822,
          15827.559406279597,
          15862.0487649018,
          15965.659950140285,
          15991.41963707803,
          16063.97608861935,
          16065.693401081862,
          16093.88594734151,
          16108.91243138853,
          16346.33087933141,
          16378.101159887967,
          16459.673501857495,
          16506.327157089185,
          16548.25820304896,
          16562.855358980352,
          16597.630936346304,
          16625.823482605952,
          16692.79866864409,
          16839.91510293299,
          16883.13413323965,
          16924.6358510838,
          16948.248897443398,
          17047.70991089747,
          17162.769845886065,
          17177.510111189335,
          17215.577204108446,
          17216.86518845533,
          17245.487062830605,
          17248.34925026813,
          17260.084218761996,
          17349.09824806909,
          17414.356121644716,
          17425.947980766698,
          17507.234103992476,
          17603.117383149638,
          17606.40889870279,
          17612.419492321602,
          17621.14916400606,
          17642.186241671883,
          17645.191538481286,
          17650.343475868835,
          17759.535926610504,
          17762.684332791778,
          17793.4528477452,
          17799.749660107762,
          17830.804393804927,
          17843.970456017556,
          17847.405080942586,
          17862.717783733362,
          17900.212439164967,
          17902.502189114985,
          17997.52681204089,
          18190.724464073985,
          18215.768604152345,
          18221.779197771157,
          18243.24560355261,
          18250.830400262053,
          18271.724368556006,
          18335.121820297234,
          18336.982242131624,
          18352.15183555052,
          18357.876210425577,
          18359.736632259966,
          18373.76135070385,
          18398.519272038462,
          18848.02580910212,
          19202.221504496116,
          19277.35392473121,
          19437.636421232735,
          19455.668202089157,
          19494.164623123903,
          19567.72284026835,
          19695.805728097697,
          19744.749133279412,
          19767.789742151504,
          19890.148255105796,
          19903.02809857467,
          19917.48214513418,
          20029.536783313375,
          20048.427220401052,
          20092.791125682725,
          20100.08970364842,
          20144.88293704572,
          20178.656748808546,
          20269.960528065665,
          20328.349151791223,
          20337.07882347568,
          20343.948073325748,
          20393.75013473872,
          20419.509821676464,
          20430.24302456719,
          20463.15818009876,
          20474.034492361363,
          20482.191726558314,
          20485.340132739595,
          20499.364851183473,
          20516.824194552395,
          20536.716397243206,
          20599.970739612556,
          20631.311692053485,
          20647.19683233176,
          20686.83812834151,
          20778.28501697051,
          20842.68423431487,
          20850.412140396194,
          20862.147108890054,
          20878.032249168336,
          20955.454419353442,
          20971.196450259846,
          20975.77595015989,
          20988.512684256882,
          21010.12219941022,
          21037.742308182354,
          21040.31827687613,
          21089.691010173472,
          21090.406557032857,
          21108.581447261156,
          21108.867666004906,
          21121.31818135815,
          21125.897681258193,
          21134.484243570772,
          21194.017742271342,
          21205.037163905825,
          21223.498272877874,
          21269.865709365815,
          21273.014115547096,
          21280.169584140913,
          21304.498177359896,
          21328.111223719494,
          21328.39744246325,
          21418.985674860985,
          21427.429127801694,
          21445.604018029986,
          21448.609314839396,
          21450.326627301907,
          21461.05983019264,
          21485.81775152725,
          21573.400687115583,
          21590.71692111262,
          21651.96773227571,
          21704.91819986996,
          21720.517121404486,
          21725.382840048278,
          21814.110650611623,
          21819.40569737105,
          21830.99755649304,
          21854.46749348076,
          21928.45503874084,
          21931.603444922122,
          21944.483288390995,
          21960.511538041148,
          21974.106928369398,
          22040.509676920028,
          22062.834738932743,
          22063.26406704837,
          22065.983145114024,
          22067.557348204664,
          22071.99373873283,
          22087.735769639232,
          22097.180988183074,
          22110.060831651947,
          22142.403549696002,
          22167.59079914624,
          22183.189720680766,
          22186.338126862047,
          22313.99168657576,
          22366.226607310633,
          22450.088699230186,
          22482.86074538987,
          22550.55147828739,
          22576.88360271264,
          22582.607977587697,
          22609.512539500454,
          22638.134413875723,
          22643.000132519523,
          22644.860554353912,
          22662.463007094706,
          22705.252709285738,
          22710.833974788915,
          22736.736771098538,
          22773.945207786393,
          22786.25261376776,
          23080.485482345564,
          23098.517263201986,
          23377.86675710465,
          23626.73395479764,
          23736.35573365494,
          23834.09943464649,
          24128.761631339923,
          24135.91709993374,
          24148.65383403074,
          24214.913473209494,
          24268.72259703501,
          24293.19429962587,
          24317.379783472974,
          24371.618235414116,
          24390.794891245543,
          24402.959187855038,
          24488.96792035273,
          24498.270029524694,
          24521.596857140543,
          24577.981949659832,
          24590.00313689744,
          24654.83168235744,
          24674.86699442013,
          24679.73271306392,
          24696.619618945337,
          24702.057775076635,
          24711.789212364227,
          24720.089555933057,
          24770.75027357729,
          24784.774992021175,
          24810.391569587042,
          24817.976366296487,
          24852.895053034325,
          24861.76783409066,
          24904.98686439732,
          24959.79775382597,
          24992.99912810128,
          25008.16872152018,
          25025.77117426097,
          25078.435423111474,
          25192.636701868807,
          25233.13665410982,
          25265.765590897634,
          25361.07643256729,
          25430.055149811695,
          25460.53744602136,
          25507.906648112436,
          25520.2140540938,
          25545.25819417217,
          25606.079677219623,
          25675.91705069529,
          25849.365609409437,
          25946.39376354161,
          25956.55452894484,
          25990.042121963907,
          26103.67096323374,
          26127.713337708967,
          26184.813977087633,
          26233.75738226935,
          26250.930506894514,
          26349.675973489208,
          26363.414473189336,
          26387.170628920812,
          26421.516878171144,
          26425.66704995556,
          26436.829580961912,
          26550.601531603617,
          26612.281670882334,
          26648.345232595177,
          26765.40869879004,
          26771.705511152602,
          26842.973978347032,
          27037.74583347076,
          27063.076192292876,
          27098.567316518212,
          27157.385268359398,
          27210.478845325528,
          27213.484142134937,
          27248.545938244646,
          27344.858545517436,
          27366.468060670766,
          27457.771839927886,
          27471.79655837177,
          27481.098667543734,
          27536.62510383176,
          27564.67454071953,
          27582.420102832202,
          27587.715149591622,
          27613.188617785618,
          27622.347617585703,
          27672.006569626803,
          27684.600194351926,
          27729.250318377348,
          27753.86513034008,
          27768.032958155844,
          27876.50986203813,
          27884.237768119452,
          27907.564595735294,
          27921.875532922935,
          27944.4868136794,
          28008.599812280012,
          28034.931936705263,
          28040.51320220844,
          28083.016685655715,
          28094.751654149582,
          28100.18981028088,
          28182.334589737915,
          28196.21619880992,
          28198.362839388068,
          28202.369901800605,
          28221.975885747666,
          28289.952837388937,
          28318.574711764213,
          28398.143522527473,
          28455.10105253426,
          28474.707036481323,
          28477.283005175097,
          28495.02856728777,
          28524.222879150544,
          28542.254660006965,
          28547.406597394514,
          28561.860643954027,
          28591.913612048065,
          28592.77226827932,
          28704.397578342887,
          28731.731468371272,
          28738.60071822134,
          28743.32332749326,
          28762.499983324687,
          28774.234951818555,
          28799.85152938442,
          28886.00337125399,
          28999.489103151947,
          29018.093321495875,
          29075.19396087454,
          29130.863506534453,
          29220.020645213426,
          29303.88273713297,
          29328.354439723833,
          29374.149438724267,
          29400.19534440577,
          29485.202311300327,
          29517.545029344383,
          29640.90530790181,
          29659.223307501987,
          29726.62782165575,
          30067.657454837125,
          30079.96486081849,
          30229.371045057418,
          30350.72779240857,
          30372.909745049405,
          30462.066883728385,
          30582.56497484828,
          30823.27493834432,
          30869.49926546039,
          31020.47965278995,
          31108.778135237666,
          31119.65444750027,
          31132.104962853515,
          31158.293977906887,
          31191.638461554085,
          31287.09241259562,
          31313.99697450837,
          31321.58177121782,
          31399.433269518562,
          31471.560392944248,
          31533.097422851086,
          31548.98256312936,
          31601.78992135174,
          31651.591982764712,
          31705.973544077733,
          31722.574231215393,
          31784.68369860973,
          31798.13597956611,
          31808.153635597457,
          31811.731369894365,
          31818.743729116304,
          31904.32313349837,
          31970.01033518962,
          31981.315975567853,
          31986.181694211653,
          31999.777084539903,
          32000.20641265553,
          32001.92372511805,
          32041.851239871557,
          32154.1920967945,
          32172.79631513843,
          32176.087830691587,
          32176.517158807215,
          32222.884595295156,
          32247.642516629767,
          32311.039968370995,
          32333.794358499337,
          32370.716576443436,
          32372.720107649704,
          32455.723543338,
          32457.87018391614,
          32466.0274181131,
          32494.649292488368,
          32510.534432766643,
          32515.113932666685,
          32527.27822927618,
          32548.172197570126,
          32556.901869254583,
          32572.50079078911,
          32651.92649218049,
          32657.221538939917,
          32666.95297622751,
          32675.396429168217,
          32731.49530294375,
          32743.659599553244,
          32777.29030194419,
          32818.93512916021,
          32842.261956776056,
          32844.69481609795,
          32900.22125238598,
          32901.36612736099,
          32938.14523593322,
          32944.15582955202,
          32977.50031319921,
          32996.676969030654,
          32998.53739086505,
          32998.68050023692,
          33008.411937524506,
          33010.98790621829,
          33020.0037966465,
          33027.016155868434,
          33063.22282695316,
          33081.683935925204,
          33109.5902634411,
          33113.45421648177,
          33119.8941382162,
          33127.478934925646,
          33146.79870012896,
          33147.657356360214,
          33167.83577779478,
          33175.99301199174,
          33212.199683076455,
          33225.93818277659,
          33244.82861986426,
          33287.61832205529,
          33369.906210884204,
          33522.317691932534,
          33572.97840957677,
          33623.352908477245,
          33714.942906478114,
          33802.955170182075,
          33842.88268493558,
          33960.51858861795,
          34106.49014793185,
          34111.498975947514,
          34128.5289912008,
          34156.4353187167,
          34173.17911522623,
          34242.73026995815,
          34316.8609245901,
          34328.30967434021,
          34342.906830271604,
          34364.230126681185,
          34442.367843725675,
          34458.25298400395,
          34464.97912448214,
          34559.860638036174,
          34574.02846585192,
          34597.2121840959,
          34599.0726059303,
          34741.3233215754,
          34751.6271963505,
          34765.07947730688,
          34776.3851176851,
          34887.8673183768,
          34981.603956955805,
          35021.24525296556,
          35023.39189354371,
          35087.648001516194,
          35138.16560978856,
          35241.776795027035,
          35257.805044677196,
          35298.59121566196,
          35311.61416850271,
          35381.59465135024,
          35484.204070985594,
          35610.85586509618,
          35614.00427127746,
          35677.54483239056,
          35697.2939257095,
          35715.755034681555,
          35916.82370216785,
          36098.00016696332,
          36213.346320695666,
          36371.7683953628,
          36379.92562955976,
          36418.27894122263,
          36471.22940881687,
          36491.1216115077,
          36491.26472087957,
          36513.30356414853,
          36516.595079701685,
          36659.41823283429,
          36707.78920052851,
          36728.969387566205,
          36729.68493442559,
          36802.8138234544,
          36814.26257320451,
          36840.59469762977,
          36862.77665027061,
          36911.8631648242,
          36922.31014897117,
          36939.626382968214,
          36972.82775724353,
          37081.44777049769,
          37166.31162802037,
          37231.569501595994,
          37242.44581385859,
          37259.04650099625,
          37283.94753170274,
          37337.899764900125,
          37347.34498344397,
          37369.097607969175,
          37473.99677755455,
          37504.908401879846,
          37527.662792008196,
          37531.383635676975,
          37537.10801055202,
          37572.31291603361,
          37580.61325960244,
          37586.3376344775,
          37620.11144624032,
          37715.565397281855,
          37724.43817833818,
          37748.62366218529,
          37756.35156826662,
          37769.660739851126,
          37884.29134672409,
          37905.18531501804,
          38006.50675030651,
          38106.969529363705,
          38124.42887273262,
          38176.806902839366,
          38215.16021450223,
          38216.591308221,
          38326.35619645017,
          38407.9285384197,
          38525.13511398644,
          38540.73403552096,
          38580.66155027447,
          38593.54139374335,
          38616.009565127926,
          38628.746299224935,
          38654.07665804704,
          38675.97239194413,
          38681.26743870355,
          38716.18612544138,
          38717.18789104452,
          38808.06234218601,
          38817.36445135798,
          38863.159450358406,
          38891.208887246175,
          38897.50569960874,
          38924.26715214962,
          38943.73002672481,
          39019.148665703644,
          39044.04969641013,
          39106.15916380448,
          39118.46656978584,
          39124.763382148405,
          39128.62733518907,
          39214.922286430505,
          39219.78800507431,
          39467.653437164176,
          39818.84383574876,
          39947.06983294999,
          40179.050124761576,
          40354.35910531011,
          40590.06024079048,
          40680.64847318822,
          40762.36392452962,
          40832.05818863341,
          40874.5616720807,
          40980.462607269204,
          40999.92548184439,
          41030.98021554157,
          41081.6409331858,
          41122.71332291431,
          41200.564821215055,
          41323.925099772474,
          41356.840255304036,
          41411.65114473269,
          41750.53413733591,
          42877.09111274664,
          43116.65620126767,
          43123.66856048962,
          43550.56381679681,
          43654.89054889468,
          43795.99638956477,
          43942.25416762242,
          43991.62690091976,
          44215.59306790627,
          44278.704300903744,
          44281.56648834127,
          44346.395033801266,
          44535.58562342182,
          44557.91068543453,
          44789.89097724612,
          44805.346789408766,
          44825.095882727706,
          44903.2335997722,
          44986.80947294799,
          44988.95611352613,
          44989.8147697574,
          45060.36769009245,
          45404.116401339474,
          45484.97319644962,
          45529.62332047503,
          45780.35094000242,
          45798.09650211509,
          45977.12632633242,
          46076.30112104275,
          46090.03962074287,
          46241.8786643037,
          46244.16841425371,
          46303.70191295429,
          46421.0515978929,
          46430.92614455237,
          46453.68053468071,
          46556.14684494419,
          46604.231593894656,
          46611.38706248847,
          46615.68034364475,
          46620.68917166043,
          46622.54959349483,
          46657.1820614889,
          46969.017382807506,
          46979.321257582604,
          47144.75569147167,
          47272.838579301024,
          47380.1706082083,
          47484.06801219053,
          47501.09802744382,
          47568.35943222571,
          47587.96541617277,
          47609.718040697975,
          47647.498914873344,
          48167.41526290016,
          48273.02997934492,
          48620.21331551697,
          48795.092967949895,
          48839.17065448781,
          49351.931533920826,
          49712.85336979301,
          49871.418553832016,
          49882.581084838384,
          49951.846020826546,
          50046.87064375244,
          50410.94088580592,
          50605.998959673394,
          50621.31166246417,
          50641.34697452685,
          50728.50058199956,
          50783.74079954384,
          51106.88176124067,
          51230.67136791372,
          51280.330319954825,
          51289.91864787054,
          51565.11796998879,
          51613.34582831111,
          51723.96937277155,
          51902.99919698888,
          51905.57516568265,
          51948.507977245565,
          51997.3082730554,
          52039.95486587456,
          52092.61911472505,
          52265.638345323576,
          52391.71770194666,
          52394.00745189667,
          52402.59401420926,
          52402.880232953015,
          52427.35193554388,
          52442.950857078395,
          52445.956153887804,
          52450.8218725316,
          52492.18048100386,
          52546.70515168876,
          52585.487791467254,
          52604.52133792681,
          52640.298680895896,
          52662.76685228049,
          52879.29133192943,
          52880.29309753256,
          52941.11458058002,
          52993.492610686764,
          53130.30517020056,
          53193.55951256992,
          53204.86515294816,
          53254.09477687362,
          53332.08938454624,
          53430.26241365343,
          53471.334803381935,
          53476.916068885126,
          53511.40542750733,
          53639.20209659291,
          53673.691455215114,
          53703.02887644977,
          53735.37159449383,
          53745.8185786408,
          53757.83976587842,
          53783.027015328655,
          53857.300779332494,
          53863.3113729513,
          53973.07626118047,
          53986.8147608806,
          54015.8659633715,
          54164.413491379164,
          54178.7244285668,
          54181.58661600434,
          54207.77563105771,
          54214.35866216401,
          54242.9805365393,
          54382.08284600312,
          54465.515609807044,
          54487.554453075994,
          54495.425468529196,
          54576.13915426747,
          54614.921794045964,
          54625.79810630856,
          54709.37397948436,
          54851.91091387322,
          54867.08050729211,
          55249.898077061385,
          55490.60804055743,
          55542.69985192042,
          55648.028349621425,
          55867.55812607976,
          56017.10741969057,
          56059.46779376597,
          56075.49604341612,
          56228.336852580076,
          56466.61395675423,
          56467.90194110111,
          56483.50086263563,
          56870.6117135612,
          57075.401224716275,
          57151.964738670125,
          57166.13256648589,
          57263.303829989934,
          57267.7402205181,
          57316.54051632795,
          57354.464499875176,
          57366.91501522843,
          57391.81604593492,
          57685.905805140836,
          57923.038034339974,
          57976.99026753736,
          58248.32563661494,
          58496.76350619231,
          58574.90122323681,
          58671.07072113773,
          59090.81050885109,
          59528.72518679277,
          59538.31351470848,
          59558.63504551492,
          59914.691162743315,
          60000.84300461289,
          60135.36581417668,
          60190.46292234908,
          60293.07234198443,
          60298.79671685948,
          60343.73305962866,
          60532.208102389835,
          60567.126789127666,
          60609.48716320307,
          60689.62841145383,
          60706.94464545087,
          60737.71316040428,
          60789.948081139155,
          60893.70237574952,
          60908.72885979654,
          60925.3295469342,
          60936.77829668431,
          60974.84538960342,
          60975.704045834675,
          61163.17732299272,
          61246.03764930913,
          61296.12592946585,
          61422.06217671705,
          61437.08866076407,
          61489.180472127075,
          61764.666012989066,
          62012.38833570706,
          62053.03139731994,
          62152.206192030266,
          62159.79098873971,
          62182.11605075242,
          62205.729097112024,
          62210.73792512769,
          62222.90222173718,
          62862.1717859089,
          63089.14324970481,
          63507.5950530713,
          64167.90169490884,
          64506.927796883945,
          64927.955568944206,
          65197.57362555928,
          65604.29046043189,
          65975.22995233543,
          66139.37640187761,
          66749.02232607093,
          66882.82958877532,
          66988.30119584821,
          67184.5041446907,
          67448.39782643071,
          67601.0955262228,
          67615.69268215419,
          68066.48720356473,
          68157.93409219373,
          68274.2820115292,
          68299.89858909507,
          68347.69711930178,
          68351.70418171432,
          68421.82777393374,
          68587.11909845093,
          68724.21787670848,
          69031.90302624267,
          69045.21219782718,
          69204.20670998181,
          69507.45546898783,
          69563.69745213524,
          69750.02585431826,
          69812.42154045636,
          70110.51836207483,
          70219.13837532898,
          70263.50228061066,
          70322.60645119559,
          70380.42263743364,
          70403.0339181901,
          70438.2388236717,
          70458.70346385002,
          70484.176932044,
          70533.2634465976,
          70937.1180940327,
          70981.48199931438,
          71156.50476111915,
          71251.24316530132,
          71340.54341335216,
          71428.41256768425,
          71769.72841960938,
          72706.2361491683,
          73412.91022749378,
          74089.53133772523,
          74828.83435283852,
          75471.3954325634,
          75567.99425857993,
          75895.1422826893,
          76201.5394478766,
          76354.95269452805,
          76688.25442162811,
          76707.7172962033,
          76854.26129300469,
          76862.27541782976,
          76898.05276079886,
          77111.28572489464,
          77269.27847144614,
          77359.43737572824,
          77797.49516304179,
          77806.94038158563,
          77849.30075566104,
          78376.94500976919,
          78743.59122051643,
          79057.14385429755,
          79407.61870602277,
          79429.08511180422,
          79507.07971947684,
          79765.10591696991,
          79846.39204019569,
          79864.42382105211,
          79995.94133380649,
          87739.73255540838,
          88589.0866774946,
          89196.29974236601,
          89982.54263145475,
          90701.38100638973,
          91196.39632371007,
          91277.25311882021,
          91592.80928380758,
          91830.0846223786,
          92181.8474584507,
          92372.46914179002,
          92558.36821585741,
          92897.5374272044,
          92928.87837964532,
          93277.06348142051,
          93354.19943286187,
          94520.54081365422,
          94757.52993348149,
          94890.049211839,
          95270.43392228638,
          95602.44766503954,
          96281.9309627085,
          96314.55989949632,
          96356.34783608421,
          96851.0769346608,
          96947.53265130548,
          97020.6615403343,
          97187.67017731401,
          97373.13992326577,
          97533.70863851106,
          97736.20839971611,
          97754.66950868817,
          97807.47686691054,
          98014.12679990001,
          98125.60900059169,
          98129.32984426049,
          98143.06834396061,
          98383.77830745665,
          98448.17752480102,
          98490.53789887643,
          98584.27453745544,
          98608.46002130254,
          98700.05001930342,
          98755.00401810394,
          98770.74604901034,
          98904.41020234287,
          98907.98793663978,
          98967.37832596847,
          99007.01962197822,
          99022.18921539711,
          99054.9612615568,
          99200.64660212694,
          99274.34792864327,
          99289.94685017779,
          99390.9820667225,
          99476.70458047645,
          99690.22376331598,
          99728.2908562351,
          99737.3067466633,
          99808.1458857421,
          99888.57335273661,
          100079.76747356344,
          100093.07664514794,
          100114.39994155752,
          100195.54295541141,
          100203.5570802365,
          100253.64536039322,
          100396.89784164146,
          100460.43840275456,
          100493.63977702988,
          100538.8623385428,
          100563.62025987743,
          100646.48058619384,
          100741.50520911974,
          100784.86734879827,
          100857.13758159585,
          101009.69217201605,
          101040.17446822571,
          101096.13023262937,
          101175.269715277,
          101186.71846502711,
          101241.52935445575,
          101306.50100928762,
          101529.32230129912,
          101714.36271913526,
          101719.94398463843,
          101915.00205850592,
          102129.23678820484,
          102297.67651890332,
          102524.07554521172,
          102559.99599755269,
          102603.5012466031,
          102649.86868309104,
          102734.87564998561,
          102778.38089903601,
          102840.49036643036,
          102959.70047320337,
          103069.03603331691,
          103094.22328276715,
          103097.94412643593,
          103156.76207827713,
          103187.38748385866,
          103228.88920170281,
          103287.99337228775,
          103289.56757537839,
          103294.14707527844,
          103317.90323100991,
          103322.91205902558,
          103349.81662093833,
          103376.86429222298,
          103436.25468155165,
          103437.68577527042,
          103576.21564724675,
          104335.26775567897,
          104414.97967581412,
          105170.5971593213,
          105373.38313927011,
          105724.71664722658,
          105791.11939577722,
          105991.615625776,
          106271.10822905054,
          106324.48802476043,
          106746.80378116757,
          107345.4302837264,
          107408.11218860825,
          107478.52199957141,
          107497.55554603097,
          107677.58713585144,
          107703.48993216106,
          107830.14172627166,
          107896.83069356604,
          107945.77409874773,
          107946.20342686339,
          108002.58851938267,
          108017.32878468593,
          108035.50367491422,
          108038.22275297987,
          108044.0902372268,
          108092.74742366478,
          108197.07415576265,
          108267.19774798205,
          108723.4304255239,
          108930.65279600088,
          108993.19159151084,
          109322.2000374546,
          109432.25114442752,
          109862.72413503163,
          110016.1373816831,
          110098.28216114012,
          110121.89520749974,
          110160.53473790633,
          110164.68490969075,
          110275.16534477932,
          110299.06460988265,
          110337.84724966116,
          111223.4080428321,
          111921.78177758874,
          113198.8898122134,
          113335.70237172721,
          113717.80439463712,
          114657.60363974917,
          114973.87535159595,
          115847.55806690114,
          115980.50667337427,
          116900.98615328304,
          117056.97536862828,
          117745.76077546921,
          118039.42120655952,
          118578.51421041778,
          118809.06340851061,
          119121.75738606046,
          119538.77809570817,
          119615.4847190339,
          119616.77270338079,
          119624.07128134649,
          120063.5601623788,
          120180.19430045804,
          120320.44148489687,
          120482.0119657453,
          120530.23982406763,
          120595.35458827138,
          120596.78568199012,
          121170.22493509873,
          121559.33931723057,
          121996.96777642847,
          122275.02928598426,
          122840.31130489588,
          124186.97049425245,
          125619.78152547861,
          127628.03534101963,
          129203.81263475024,
          129772.24305984317,
          130039.28514776446,
          130157.92281704996,
          130359.13459390812,
          130366.14695313008,
          130821.37786506879,
          131160.40396704388,
          131217.36149705068,
          131409.55738348063,
          131472.95483522187,
          131847.32895205042,
          132211.11297536016,
          132221.703068879,
          132346.06511303957,
          132375.68875301795,
          132430.92897056224,
          132574.75388929798,
          132800.58047811888,
          132848.3790083256,
          133006.2286455052,
          133202.0022662321,
          133202.86092246335,
          133248.36970272003,
          133310.76538885813,
          133359.9950127836,
          133414.23346472473,
          133446.5761827688,
          133863.7400017884,
          133870.75236101032,
          134191.8897915009,
          134321.403773049,
          134387.37719348402,
          134539.9317839042,
          134583.15081421088,
          134699.49873354635,
          134701.50226475263,
          134789.65763782847,
          134829.2989338382,
          134890.26352625753,
          134893.41193243882,
          134955.80761857692,
          134958.9560247582,
          135098.7738810814,
          135237.16064368584,
          145135.17724014263,
          146869.37660854042,
          149017.16206166087,
          149647.2726260325,
          151361.1504636238,
          151674.98931614868,
          152701.0835125022,
          152707.8096529804,
          152754.17708946834,
          152907.73344549167,
          153393.58976301193,
          153720.7377871213,
          153755.9426926029,
          153919.9460327732,
          154101.83804442806,
          154106.84687244374,
          154193.85737054455,
          154279.5798842985,
          154564.6537530762,
          154688.8726878649,
          154852.3035905477,
          154962.64091626438,
          154991.5490093834,
          155162.42159940378,
          155184.7466614165,
          155388.39129759656,
          155497.58374833822,
          155660.29910416165,
          155727.56050894354,
          155742.73010236243,
          155808.70352279744,
          156034.38700224645,
          156035.9612053371,
          156053.13432996228,
          156091.91696974076,
          156173.05998359466,
          156185.22428020416,
          156304.00505886154,
          156318.7453241648,
          156347.36719854007,
          156357.67107331517,
          156383.5738696248,
          156407.33002535626,
          156468.43772714748,
          156470.15503961,
          156620.99231756767,
          156693.26255036524,
          156933.54318574566,
          292691.52973819204,
          293515.5535014561,
          294243.1215480756,
          295923.22557390406,
          297027.60059667396,
          297958.81327947346,
          298595.07754683576,
          300212.92899589805,
          300415.4287571031,
          301277.5196132863,
          301290.8287848708,
          302064.4780492344,
          302338.10316826205,
          302735.37478459085,
          303706.9443102595,
          303928.6207272959,
          404085.1457286875,
          405409.909184147,
          405847.8238620887,
          406840.8597935388,
          407876.9716459237,
          410906.4539391744,
          410968.4202971969,
          412879.0735211182,
          414571.9142810437,
          415032.4402397418,
          415317.22788977576,
          415807.5205978242,
          416092.8806853457,
          416240.28333837836,
          416411.2990377706,
          416584.461377741,
          416801.1289667618,
          416937.08287004434,
          417181.65678658104,
          417292.99587790086,
          417597.53262125375,
          417678.246306992,
          419592.3341558384,
          423911.80432718265,
          429383.5911608754,
          432652.92476139095,
          434667.9047174101,
          436707.92881350766,
          439287.618350951,
          440587.7669944478,
          441770.42284363403,
          443952.8407647486,
          523963.0008308732,
          529490.0278821103,
          536894.3636736216,
          544012.0513932643,
          550247.3267259174,
          556047.6926774384,
          561275.9073601975,
          570506.6049555949,
          576866.814769896,
          580034.1113882638,
          582214.2395594282,
          582928.9277625788,
          585343.0397567612,
          585445.9353951403,
          586220.1570969914,
          586806.7624123126
         ],
         "yaxis": "y"
        }
       ],
       "layout": {
        "legend": {
         "title": {
          "text": "Province"
         },
         "tracegroupgap": 0
        },
        "template": {
         "data": {
          "bar": [
           {
            "error_x": {
             "color": "#2a3f5f"
            },
            "error_y": {
             "color": "#2a3f5f"
            },
            "marker": {
             "line": {
              "color": "#E5ECF6",
              "width": 0.5
             },
             "pattern": {
              "fillmode": "overlay",
              "size": 10,
              "solidity": 0.2
             }
            },
            "type": "bar"
           }
          ],
          "barpolar": [
           {
            "marker": {
             "line": {
              "color": "#E5ECF6",
              "width": 0.5
             },
             "pattern": {
              "fillmode": "overlay",
              "size": 10,
              "solidity": 0.2
             }
            },
            "type": "barpolar"
           }
          ],
          "carpet": [
           {
            "aaxis": {
             "endlinecolor": "#2a3f5f",
             "gridcolor": "white",
             "linecolor": "white",
             "minorgridcolor": "white",
             "startlinecolor": "#2a3f5f"
            },
            "baxis": {
             "endlinecolor": "#2a3f5f",
             "gridcolor": "white",
             "linecolor": "white",
             "minorgridcolor": "white",
             "startlinecolor": "#2a3f5f"
            },
            "type": "carpet"
           }
          ],
          "choropleth": [
           {
            "colorbar": {
             "outlinewidth": 0,
             "ticks": ""
            },
            "type": "choropleth"
           }
          ],
          "contour": [
           {
            "colorbar": {
             "outlinewidth": 0,
             "ticks": ""
            },
            "colorscale": [
             [
              0,
              "#0d0887"
             ],
             [
              0.1111111111111111,
              "#46039f"
             ],
             [
              0.2222222222222222,
              "#7201a8"
             ],
             [
              0.3333333333333333,
              "#9c179e"
             ],
             [
              0.4444444444444444,
              "#bd3786"
             ],
             [
              0.5555555555555556,
              "#d8576b"
             ],
             [
              0.6666666666666666,
              "#ed7953"
             ],
             [
              0.7777777777777778,
              "#fb9f3a"
             ],
             [
              0.8888888888888888,
              "#fdca26"
             ],
             [
              1,
              "#f0f921"
             ]
            ],
            "type": "contour"
           }
          ],
          "contourcarpet": [
           {
            "colorbar": {
             "outlinewidth": 0,
             "ticks": ""
            },
            "type": "contourcarpet"
           }
          ],
          "heatmap": [
           {
            "colorbar": {
             "outlinewidth": 0,
             "ticks": ""
            },
            "colorscale": [
             [
              0,
              "#0d0887"
             ],
             [
              0.1111111111111111,
              "#46039f"
             ],
             [
              0.2222222222222222,
              "#7201a8"
             ],
             [
              0.3333333333333333,
              "#9c179e"
             ],
             [
              0.4444444444444444,
              "#bd3786"
             ],
             [
              0.5555555555555556,
              "#d8576b"
             ],
             [
              0.6666666666666666,
              "#ed7953"
             ],
             [
              0.7777777777777778,
              "#fb9f3a"
             ],
             [
              0.8888888888888888,
              "#fdca26"
             ],
             [
              1,
              "#f0f921"
             ]
            ],
            "type": "heatmap"
           }
          ],
          "heatmapgl": [
           {
            "colorbar": {
             "outlinewidth": 0,
             "ticks": ""
            },
            "colorscale": [
             [
              0,
              "#0d0887"
             ],
             [
              0.1111111111111111,
              "#46039f"
             ],
             [
              0.2222222222222222,
              "#7201a8"
             ],
             [
              0.3333333333333333,
              "#9c179e"
             ],
             [
              0.4444444444444444,
              "#bd3786"
             ],
             [
              0.5555555555555556,
              "#d8576b"
             ],
             [
              0.6666666666666666,
              "#ed7953"
             ],
             [
              0.7777777777777778,
              "#fb9f3a"
             ],
             [
              0.8888888888888888,
              "#fdca26"
             ],
             [
              1,
              "#f0f921"
             ]
            ],
            "type": "heatmapgl"
           }
          ],
          "histogram": [
           {
            "marker": {
             "pattern": {
              "fillmode": "overlay",
              "size": 10,
              "solidity": 0.2
             }
            },
            "type": "histogram"
           }
          ],
          "histogram2d": [
           {
            "colorbar": {
             "outlinewidth": 0,
             "ticks": ""
            },
            "colorscale": [
             [
              0,
              "#0d0887"
             ],
             [
              0.1111111111111111,
              "#46039f"
             ],
             [
              0.2222222222222222,
              "#7201a8"
             ],
             [
              0.3333333333333333,
              "#9c179e"
             ],
             [
              0.4444444444444444,
              "#bd3786"
             ],
             [
              0.5555555555555556,
              "#d8576b"
             ],
             [
              0.6666666666666666,
              "#ed7953"
             ],
             [
              0.7777777777777778,
              "#fb9f3a"
             ],
             [
              0.8888888888888888,
              "#fdca26"
             ],
             [
              1,
              "#f0f921"
             ]
            ],
            "type": "histogram2d"
           }
          ],
          "histogram2dcontour": [
           {
            "colorbar": {
             "outlinewidth": 0,
             "ticks": ""
            },
            "colorscale": [
             [
              0,
              "#0d0887"
             ],
             [
              0.1111111111111111,
              "#46039f"
             ],
             [
              0.2222222222222222,
              "#7201a8"
             ],
             [
              0.3333333333333333,
              "#9c179e"
             ],
             [
              0.4444444444444444,
              "#bd3786"
             ],
             [
              0.5555555555555556,
              "#d8576b"
             ],
             [
              0.6666666666666666,
              "#ed7953"
             ],
             [
              0.7777777777777778,
              "#fb9f3a"
             ],
             [
              0.8888888888888888,
              "#fdca26"
             ],
             [
              1,
              "#f0f921"
             ]
            ],
            "type": "histogram2dcontour"
           }
          ],
          "mesh3d": [
           {
            "colorbar": {
             "outlinewidth": 0,
             "ticks": ""
            },
            "type": "mesh3d"
           }
          ],
          "parcoords": [
           {
            "line": {
             "colorbar": {
              "outlinewidth": 0,
              "ticks": ""
             }
            },
            "type": "parcoords"
           }
          ],
          "pie": [
           {
            "automargin": true,
            "type": "pie"
           }
          ],
          "scatter": [
           {
            "fillpattern": {
             "fillmode": "overlay",
             "size": 10,
             "solidity": 0.2
            },
            "type": "scatter"
           }
          ],
          "scatter3d": [
           {
            "line": {
             "colorbar": {
              "outlinewidth": 0,
              "ticks": ""
             }
            },
            "marker": {
             "colorbar": {
              "outlinewidth": 0,
              "ticks": ""
             }
            },
            "type": "scatter3d"
           }
          ],
          "scattercarpet": [
           {
            "marker": {
             "colorbar": {
              "outlinewidth": 0,
              "ticks": ""
             }
            },
            "type": "scattercarpet"
           }
          ],
          "scattergeo": [
           {
            "marker": {
             "colorbar": {
              "outlinewidth": 0,
              "ticks": ""
             }
            },
            "type": "scattergeo"
           }
          ],
          "scattergl": [
           {
            "marker": {
             "colorbar": {
              "outlinewidth": 0,
              "ticks": ""
             }
            },
            "type": "scattergl"
           }
          ],
          "scattermapbox": [
           {
            "marker": {
             "colorbar": {
              "outlinewidth": 0,
              "ticks": ""
             }
            },
            "type": "scattermapbox"
           }
          ],
          "scatterpolar": [
           {
            "marker": {
             "colorbar": {
              "outlinewidth": 0,
              "ticks": ""
             }
            },
            "type": "scatterpolar"
           }
          ],
          "scatterpolargl": [
           {
            "marker": {
             "colorbar": {
              "outlinewidth": 0,
              "ticks": ""
             }
            },
            "type": "scatterpolargl"
           }
          ],
          "scatterternary": [
           {
            "marker": {
             "colorbar": {
              "outlinewidth": 0,
              "ticks": ""
             }
            },
            "type": "scatterternary"
           }
          ],
          "surface": [
           {
            "colorbar": {
             "outlinewidth": 0,
             "ticks": ""
            },
            "colorscale": [
             [
              0,
              "#0d0887"
             ],
             [
              0.1111111111111111,
              "#46039f"
             ],
             [
              0.2222222222222222,
              "#7201a8"
             ],
             [
              0.3333333333333333,
              "#9c179e"
             ],
             [
              0.4444444444444444,
              "#bd3786"
             ],
             [
              0.5555555555555556,
              "#d8576b"
             ],
             [
              0.6666666666666666,
              "#ed7953"
             ],
             [
              0.7777777777777778,
              "#fb9f3a"
             ],
             [
              0.8888888888888888,
              "#fdca26"
             ],
             [
              1,
              "#f0f921"
             ]
            ],
            "type": "surface"
           }
          ],
          "table": [
           {
            "cells": {
             "fill": {
              "color": "#EBF0F8"
             },
             "line": {
              "color": "white"
             }
            },
            "header": {
             "fill": {
              "color": "#C8D4E3"
             },
             "line": {
              "color": "white"
             }
            },
            "type": "table"
           }
          ]
         },
         "layout": {
          "annotationdefaults": {
           "arrowcolor": "#2a3f5f",
           "arrowhead": 0,
           "arrowwidth": 1
          },
          "autotypenumbers": "strict",
          "coloraxis": {
           "colorbar": {
            "outlinewidth": 0,
            "ticks": ""
           }
          },
          "colorscale": {
           "diverging": [
            [
             0,
             "#8e0152"
            ],
            [
             0.1,
             "#c51b7d"
            ],
            [
             0.2,
             "#de77ae"
            ],
            [
             0.3,
             "#f1b6da"
            ],
            [
             0.4,
             "#fde0ef"
            ],
            [
             0.5,
             "#f7f7f7"
            ],
            [
             0.6,
             "#e6f5d0"
            ],
            [
             0.7,
             "#b8e186"
            ],
            [
             0.8,
             "#7fbc41"
            ],
            [
             0.9,
             "#4d9221"
            ],
            [
             1,
             "#276419"
            ]
           ],
           "sequential": [
            [
             0,
             "#0d0887"
            ],
            [
             0.1111111111111111,
             "#46039f"
            ],
            [
             0.2222222222222222,
             "#7201a8"
            ],
            [
             0.3333333333333333,
             "#9c179e"
            ],
            [
             0.4444444444444444,
             "#bd3786"
            ],
            [
             0.5555555555555556,
             "#d8576b"
            ],
            [
             0.6666666666666666,
             "#ed7953"
            ],
            [
             0.7777777777777778,
             "#fb9f3a"
            ],
            [
             0.8888888888888888,
             "#fdca26"
            ],
            [
             1,
             "#f0f921"
            ]
           ],
           "sequentialminus": [
            [
             0,
             "#0d0887"
            ],
            [
             0.1111111111111111,
             "#46039f"
            ],
            [
             0.2222222222222222,
             "#7201a8"
            ],
            [
             0.3333333333333333,
             "#9c179e"
            ],
            [
             0.4444444444444444,
             "#bd3786"
            ],
            [
             0.5555555555555556,
             "#d8576b"
            ],
            [
             0.6666666666666666,
             "#ed7953"
            ],
            [
             0.7777777777777778,
             "#fb9f3a"
            ],
            [
             0.8888888888888888,
             "#fdca26"
            ],
            [
             1,
             "#f0f921"
            ]
           ]
          },
          "colorway": [
           "#636efa",
           "#EF553B",
           "#00cc96",
           "#ab63fa",
           "#FFA15A",
           "#19d3f3",
           "#FF6692",
           "#B6E880",
           "#FF97FF",
           "#FECB52"
          ],
          "font": {
           "color": "#2a3f5f"
          },
          "geo": {
           "bgcolor": "white",
           "lakecolor": "white",
           "landcolor": "#E5ECF6",
           "showlakes": true,
           "showland": true,
           "subunitcolor": "white"
          },
          "hoverlabel": {
           "align": "left"
          },
          "hovermode": "closest",
          "mapbox": {
           "style": "light"
          },
          "paper_bgcolor": "white",
          "plot_bgcolor": "#E5ECF6",
          "polar": {
           "angularaxis": {
            "gridcolor": "white",
            "linecolor": "white",
            "ticks": ""
           },
           "bgcolor": "#E5ECF6",
           "radialaxis": {
            "gridcolor": "white",
            "linecolor": "white",
            "ticks": ""
           }
          },
          "scene": {
           "xaxis": {
            "backgroundcolor": "#E5ECF6",
            "gridcolor": "white",
            "gridwidth": 2,
            "linecolor": "white",
            "showbackground": true,
            "ticks": "",
            "zerolinecolor": "white"
           },
           "yaxis": {
            "backgroundcolor": "#E5ECF6",
            "gridcolor": "white",
            "gridwidth": 2,
            "linecolor": "white",
            "showbackground": true,
            "ticks": "",
            "zerolinecolor": "white"
           },
           "zaxis": {
            "backgroundcolor": "#E5ECF6",
            "gridcolor": "white",
            "gridwidth": 2,
            "linecolor": "white",
            "showbackground": true,
            "ticks": "",
            "zerolinecolor": "white"
           }
          },
          "shapedefaults": {
           "line": {
            "color": "#2a3f5f"
           }
          },
          "ternary": {
           "aaxis": {
            "gridcolor": "white",
            "linecolor": "white",
            "ticks": ""
           },
           "baxis": {
            "gridcolor": "white",
            "linecolor": "white",
            "ticks": ""
           },
           "bgcolor": "#E5ECF6",
           "caxis": {
            "gridcolor": "white",
            "linecolor": "white",
            "ticks": ""
           }
          },
          "title": {
           "x": 0.05
          },
          "xaxis": {
           "automargin": true,
           "gridcolor": "white",
           "linecolor": "white",
           "ticks": "",
           "title": {
            "standoff": 15
           },
           "zerolinecolor": "white",
           "zerolinewidth": 2
          },
          "yaxis": {
           "automargin": true,
           "gridcolor": "white",
           "linecolor": "white",
           "ticks": "",
           "title": {
            "standoff": 15
           },
           "zerolinecolor": "white",
           "zerolinewidth": 2
          }
         }
        },
        "title": {
         "text": "Relationship between population and crime rates"
        },
        "xaxis": {
         "anchor": "y",
         "domain": [
          0,
          1
         ],
         "title": {
          "text": "Population"
         }
        },
        "yaxis": {
         "anchor": "x",
         "domain": [
          0,
          1
         ],
         "title": {
          "text": "Value"
         }
        }
       }
      }
     },
     "metadata": {},
     "output_type": "display_data"
    },
    {
     "name": "stdout",
     "output_type": "stream",
     "text": [
      "                            OLS Regression Results                            \n",
      "==============================================================================\n",
      "Dep. Variable:                      y   R-squared:                       0.887\n",
      "Model:                            OLS   Adj. R-squared:                  0.887\n",
      "Method:                 Least Squares   F-statistic:                 1.320e+04\n",
      "Date:                Wed, 28 Jun 2023   Prob (F-statistic):               0.00\n",
      "Time:                        21:28:25   Log-Likelihood:                -19743.\n",
      "No. Observations:                1681   AIC:                         3.949e+04\n",
      "Df Residuals:                    1679   BIC:                         3.950e+04\n",
      "Df Model:                           1                                         \n",
      "Covariance Type:            nonrobust                                         \n",
      "==============================================================================\n",
      "                 coef    std err          t      P>|t|      [0.025      0.975]\n",
      "------------------------------------------------------------------------------\n",
      "const      -2.335e+04   1020.687    -22.873      0.000   -2.53e+04   -2.13e+04\n",
      "x1             0.1431      0.001    114.880      0.000       0.141       0.146\n",
      "==============================================================================\n",
      "Omnibus:                     1293.448   Durbin-Watson:                   1.060\n",
      "Prob(Omnibus):                  0.000   Jarque-Bera (JB):            72358.294\n",
      "Skew:                           3.082   Prob(JB):                         0.00\n",
      "Kurtosis:                      34.545   Cond. No.                     1.12e+06\n",
      "==============================================================================\n",
      "\n",
      "Notes:\n",
      "[1] Standard Errors assume that the covariance matrix of the errors is correctly specified.\n",
      "[2] The condition number is large, 1.12e+06. This might indicate that there are\n",
      "strong multicollinearity or other numerical problems.\n"
     ]
    }
   ],
   "source": [
    "# Scatter plot and linear regression with Plotly and Statsmodels\n",
    "fig = px.scatter(data_frame= df.groupby(['Province', 'Year', 'Population']).sum(numeric_only=True)['Value'].reset_index(),\n",
    "           x = 'Population',\n",
    "           y = 'Value',\n",
    "           color= 'Province',\n",
    "           hover_data= ['Province', 'Year'],\n",
    "           trendline= \"ols\",\n",
    "           trendline_scope= 'overall',\n",
    "           title = 'Relationship between population and crime rates')\n",
    "\n",
    "fig.show()\n",
    "\n",
    "results = px.get_trendline_results(fig)\n",
    "print(results.px_fit_results.iloc[0].summary())"
   ]
  },
  {
   "attachments": {},
   "cell_type": "markdown",
   "metadata": {},
   "source": [
    "Looking at the plot, it is confirmed that bigger cities tend to have more crime rates."
   ]
  },
  {
   "attachments": {},
   "cell_type": "markdown",
   "metadata": {},
   "source": [
    "### A focus on the cybercrimes rate"
   ]
  },
  {
   "cell_type": "code",
   "execution_count": 104,
   "metadata": {},
   "outputs": [
    {
     "data": {
      "application/vnd.plotly.v1+json": {
       "config": {
        "plotlyServerURL": "https://plot.ly"
       },
       "data": [
        {
         "hovertemplate": "Year=%{x}<br>Value=%{y}<extra></extra>",
         "legendgroup": "",
         "marker": {
          "color": "#636efa",
          "symbol": "circle"
         },
         "mode": "markers",
         "name": "",
         "orientation": "v",
         "showlegend": false,
         "type": "scatter",
         "x": [
          2006,
          2007,
          2008,
          2009,
          2010,
          2011,
          2012,
          2013,
          2014,
          2015,
          2016,
          2017,
          2018,
          2019,
          2020,
          2021
         ],
         "xaxis": "x",
         "y": [
          2388,
          3777,
          4937,
          5506,
          5969,
          6928,
          7338,
          9407,
          10839,
          9851,
          10822,
          10572,
          13273,
          16136,
          19336,
          22053
         ],
         "yaxis": "y"
        },
        {
         "hovertemplate": "<b>OLS trendline</b><br>Value = 1104.41 * Year + -2.21378e+06<br>R<sup>2</sup>=0.905260<br><br>Year=%{x}<br>Value=%{y} <b>(trend)</b><extra></extra>",
         "legendgroup": "",
         "line": {
          "color": "red"
         },
         "marker": {
          "color": "#636efa",
          "symbol": "circle"
         },
         "mode": "lines",
         "name": "",
         "showlegend": false,
         "type": "scatter",
         "x": [
          2006,
          2007,
          2008,
          2009,
          2010,
          2011,
          2012,
          2013,
          2014,
          2015,
          2016,
          2017,
          2018,
          2019,
          2020,
          2021
         ],
         "xaxis": "x",
         "y": [
          1662.7058823509142,
          2767.1117647038773,
          3871.5176470568404,
          4975.923529409803,
          6080.329411763232,
          7184.735294116195,
          8289.141176469158,
          9393.547058822121,
          10497.952941175085,
          11602.358823528048,
          12706.76470588101,
          13811.17058823444,
          14915.576470587403,
          16019.982352940366,
          17124.38823529333,
          18228.794117646292
         ],
         "yaxis": "y"
        }
       ],
       "layout": {
        "legend": {
         "tracegroupgap": 0
        },
        "template": {
         "data": {
          "bar": [
           {
            "error_x": {
             "color": "#2a3f5f"
            },
            "error_y": {
             "color": "#2a3f5f"
            },
            "marker": {
             "line": {
              "color": "#E5ECF6",
              "width": 0.5
             },
             "pattern": {
              "fillmode": "overlay",
              "size": 10,
              "solidity": 0.2
             }
            },
            "type": "bar"
           }
          ],
          "barpolar": [
           {
            "marker": {
             "line": {
              "color": "#E5ECF6",
              "width": 0.5
             },
             "pattern": {
              "fillmode": "overlay",
              "size": 10,
              "solidity": 0.2
             }
            },
            "type": "barpolar"
           }
          ],
          "carpet": [
           {
            "aaxis": {
             "endlinecolor": "#2a3f5f",
             "gridcolor": "white",
             "linecolor": "white",
             "minorgridcolor": "white",
             "startlinecolor": "#2a3f5f"
            },
            "baxis": {
             "endlinecolor": "#2a3f5f",
             "gridcolor": "white",
             "linecolor": "white",
             "minorgridcolor": "white",
             "startlinecolor": "#2a3f5f"
            },
            "type": "carpet"
           }
          ],
          "choropleth": [
           {
            "colorbar": {
             "outlinewidth": 0,
             "ticks": ""
            },
            "type": "choropleth"
           }
          ],
          "contour": [
           {
            "colorbar": {
             "outlinewidth": 0,
             "ticks": ""
            },
            "colorscale": [
             [
              0,
              "#0d0887"
             ],
             [
              0.1111111111111111,
              "#46039f"
             ],
             [
              0.2222222222222222,
              "#7201a8"
             ],
             [
              0.3333333333333333,
              "#9c179e"
             ],
             [
              0.4444444444444444,
              "#bd3786"
             ],
             [
              0.5555555555555556,
              "#d8576b"
             ],
             [
              0.6666666666666666,
              "#ed7953"
             ],
             [
              0.7777777777777778,
              "#fb9f3a"
             ],
             [
              0.8888888888888888,
              "#fdca26"
             ],
             [
              1,
              "#f0f921"
             ]
            ],
            "type": "contour"
           }
          ],
          "contourcarpet": [
           {
            "colorbar": {
             "outlinewidth": 0,
             "ticks": ""
            },
            "type": "contourcarpet"
           }
          ],
          "heatmap": [
           {
            "colorbar": {
             "outlinewidth": 0,
             "ticks": ""
            },
            "colorscale": [
             [
              0,
              "#0d0887"
             ],
             [
              0.1111111111111111,
              "#46039f"
             ],
             [
              0.2222222222222222,
              "#7201a8"
             ],
             [
              0.3333333333333333,
              "#9c179e"
             ],
             [
              0.4444444444444444,
              "#bd3786"
             ],
             [
              0.5555555555555556,
              "#d8576b"
             ],
             [
              0.6666666666666666,
              "#ed7953"
             ],
             [
              0.7777777777777778,
              "#fb9f3a"
             ],
             [
              0.8888888888888888,
              "#fdca26"
             ],
             [
              1,
              "#f0f921"
             ]
            ],
            "type": "heatmap"
           }
          ],
          "heatmapgl": [
           {
            "colorbar": {
             "outlinewidth": 0,
             "ticks": ""
            },
            "colorscale": [
             [
              0,
              "#0d0887"
             ],
             [
              0.1111111111111111,
              "#46039f"
             ],
             [
              0.2222222222222222,
              "#7201a8"
             ],
             [
              0.3333333333333333,
              "#9c179e"
             ],
             [
              0.4444444444444444,
              "#bd3786"
             ],
             [
              0.5555555555555556,
              "#d8576b"
             ],
             [
              0.6666666666666666,
              "#ed7953"
             ],
             [
              0.7777777777777778,
              "#fb9f3a"
             ],
             [
              0.8888888888888888,
              "#fdca26"
             ],
             [
              1,
              "#f0f921"
             ]
            ],
            "type": "heatmapgl"
           }
          ],
          "histogram": [
           {
            "marker": {
             "pattern": {
              "fillmode": "overlay",
              "size": 10,
              "solidity": 0.2
             }
            },
            "type": "histogram"
           }
          ],
          "histogram2d": [
           {
            "colorbar": {
             "outlinewidth": 0,
             "ticks": ""
            },
            "colorscale": [
             [
              0,
              "#0d0887"
             ],
             [
              0.1111111111111111,
              "#46039f"
             ],
             [
              0.2222222222222222,
              "#7201a8"
             ],
             [
              0.3333333333333333,
              "#9c179e"
             ],
             [
              0.4444444444444444,
              "#bd3786"
             ],
             [
              0.5555555555555556,
              "#d8576b"
             ],
             [
              0.6666666666666666,
              "#ed7953"
             ],
             [
              0.7777777777777778,
              "#fb9f3a"
             ],
             [
              0.8888888888888888,
              "#fdca26"
             ],
             [
              1,
              "#f0f921"
             ]
            ],
            "type": "histogram2d"
           }
          ],
          "histogram2dcontour": [
           {
            "colorbar": {
             "outlinewidth": 0,
             "ticks": ""
            },
            "colorscale": [
             [
              0,
              "#0d0887"
             ],
             [
              0.1111111111111111,
              "#46039f"
             ],
             [
              0.2222222222222222,
              "#7201a8"
             ],
             [
              0.3333333333333333,
              "#9c179e"
             ],
             [
              0.4444444444444444,
              "#bd3786"
             ],
             [
              0.5555555555555556,
              "#d8576b"
             ],
             [
              0.6666666666666666,
              "#ed7953"
             ],
             [
              0.7777777777777778,
              "#fb9f3a"
             ],
             [
              0.8888888888888888,
              "#fdca26"
             ],
             [
              1,
              "#f0f921"
             ]
            ],
            "type": "histogram2dcontour"
           }
          ],
          "mesh3d": [
           {
            "colorbar": {
             "outlinewidth": 0,
             "ticks": ""
            },
            "type": "mesh3d"
           }
          ],
          "parcoords": [
           {
            "line": {
             "colorbar": {
              "outlinewidth": 0,
              "ticks": ""
             }
            },
            "type": "parcoords"
           }
          ],
          "pie": [
           {
            "automargin": true,
            "type": "pie"
           }
          ],
          "scatter": [
           {
            "fillpattern": {
             "fillmode": "overlay",
             "size": 10,
             "solidity": 0.2
            },
            "type": "scatter"
           }
          ],
          "scatter3d": [
           {
            "line": {
             "colorbar": {
              "outlinewidth": 0,
              "ticks": ""
             }
            },
            "marker": {
             "colorbar": {
              "outlinewidth": 0,
              "ticks": ""
             }
            },
            "type": "scatter3d"
           }
          ],
          "scattercarpet": [
           {
            "marker": {
             "colorbar": {
              "outlinewidth": 0,
              "ticks": ""
             }
            },
            "type": "scattercarpet"
           }
          ],
          "scattergeo": [
           {
            "marker": {
             "colorbar": {
              "outlinewidth": 0,
              "ticks": ""
             }
            },
            "type": "scattergeo"
           }
          ],
          "scattergl": [
           {
            "marker": {
             "colorbar": {
              "outlinewidth": 0,
              "ticks": ""
             }
            },
            "type": "scattergl"
           }
          ],
          "scattermapbox": [
           {
            "marker": {
             "colorbar": {
              "outlinewidth": 0,
              "ticks": ""
             }
            },
            "type": "scattermapbox"
           }
          ],
          "scatterpolar": [
           {
            "marker": {
             "colorbar": {
              "outlinewidth": 0,
              "ticks": ""
             }
            },
            "type": "scatterpolar"
           }
          ],
          "scatterpolargl": [
           {
            "marker": {
             "colorbar": {
              "outlinewidth": 0,
              "ticks": ""
             }
            },
            "type": "scatterpolargl"
           }
          ],
          "scatterternary": [
           {
            "marker": {
             "colorbar": {
              "outlinewidth": 0,
              "ticks": ""
             }
            },
            "type": "scatterternary"
           }
          ],
          "surface": [
           {
            "colorbar": {
             "outlinewidth": 0,
             "ticks": ""
            },
            "colorscale": [
             [
              0,
              "#0d0887"
             ],
             [
              0.1111111111111111,
              "#46039f"
             ],
             [
              0.2222222222222222,
              "#7201a8"
             ],
             [
              0.3333333333333333,
              "#9c179e"
             ],
             [
              0.4444444444444444,
              "#bd3786"
             ],
             [
              0.5555555555555556,
              "#d8576b"
             ],
             [
              0.6666666666666666,
              "#ed7953"
             ],
             [
              0.7777777777777778,
              "#fb9f3a"
             ],
             [
              0.8888888888888888,
              "#fdca26"
             ],
             [
              1,
              "#f0f921"
             ]
            ],
            "type": "surface"
           }
          ],
          "table": [
           {
            "cells": {
             "fill": {
              "color": "#EBF0F8"
             },
             "line": {
              "color": "white"
             }
            },
            "header": {
             "fill": {
              "color": "#C8D4E3"
             },
             "line": {
              "color": "white"
             }
            },
            "type": "table"
           }
          ]
         },
         "layout": {
          "annotationdefaults": {
           "arrowcolor": "#2a3f5f",
           "arrowhead": 0,
           "arrowwidth": 1
          },
          "autotypenumbers": "strict",
          "coloraxis": {
           "colorbar": {
            "outlinewidth": 0,
            "ticks": ""
           }
          },
          "colorscale": {
           "diverging": [
            [
             0,
             "#8e0152"
            ],
            [
             0.1,
             "#c51b7d"
            ],
            [
             0.2,
             "#de77ae"
            ],
            [
             0.3,
             "#f1b6da"
            ],
            [
             0.4,
             "#fde0ef"
            ],
            [
             0.5,
             "#f7f7f7"
            ],
            [
             0.6,
             "#e6f5d0"
            ],
            [
             0.7,
             "#b8e186"
            ],
            [
             0.8,
             "#7fbc41"
            ],
            [
             0.9,
             "#4d9221"
            ],
            [
             1,
             "#276419"
            ]
           ],
           "sequential": [
            [
             0,
             "#0d0887"
            ],
            [
             0.1111111111111111,
             "#46039f"
            ],
            [
             0.2222222222222222,
             "#7201a8"
            ],
            [
             0.3333333333333333,
             "#9c179e"
            ],
            [
             0.4444444444444444,
             "#bd3786"
            ],
            [
             0.5555555555555556,
             "#d8576b"
            ],
            [
             0.6666666666666666,
             "#ed7953"
            ],
            [
             0.7777777777777778,
             "#fb9f3a"
            ],
            [
             0.8888888888888888,
             "#fdca26"
            ],
            [
             1,
             "#f0f921"
            ]
           ],
           "sequentialminus": [
            [
             0,
             "#0d0887"
            ],
            [
             0.1111111111111111,
             "#46039f"
            ],
            [
             0.2222222222222222,
             "#7201a8"
            ],
            [
             0.3333333333333333,
             "#9c179e"
            ],
            [
             0.4444444444444444,
             "#bd3786"
            ],
            [
             0.5555555555555556,
             "#d8576b"
            ],
            [
             0.6666666666666666,
             "#ed7953"
            ],
            [
             0.7777777777777778,
             "#fb9f3a"
            ],
            [
             0.8888888888888888,
             "#fdca26"
            ],
            [
             1,
             "#f0f921"
            ]
           ]
          },
          "colorway": [
           "#636efa",
           "#EF553B",
           "#00cc96",
           "#ab63fa",
           "#FFA15A",
           "#19d3f3",
           "#FF6692",
           "#B6E880",
           "#FF97FF",
           "#FECB52"
          ],
          "font": {
           "color": "#2a3f5f"
          },
          "geo": {
           "bgcolor": "white",
           "lakecolor": "white",
           "landcolor": "#E5ECF6",
           "showlakes": true,
           "showland": true,
           "subunitcolor": "white"
          },
          "hoverlabel": {
           "align": "left"
          },
          "hovermode": "closest",
          "mapbox": {
           "style": "light"
          },
          "paper_bgcolor": "white",
          "plot_bgcolor": "#E5ECF6",
          "polar": {
           "angularaxis": {
            "gridcolor": "white",
            "linecolor": "white",
            "ticks": ""
           },
           "bgcolor": "#E5ECF6",
           "radialaxis": {
            "gridcolor": "white",
            "linecolor": "white",
            "ticks": ""
           }
          },
          "scene": {
           "xaxis": {
            "backgroundcolor": "#E5ECF6",
            "gridcolor": "white",
            "gridwidth": 2,
            "linecolor": "white",
            "showbackground": true,
            "ticks": "",
            "zerolinecolor": "white"
           },
           "yaxis": {
            "backgroundcolor": "#E5ECF6",
            "gridcolor": "white",
            "gridwidth": 2,
            "linecolor": "white",
            "showbackground": true,
            "ticks": "",
            "zerolinecolor": "white"
           },
           "zaxis": {
            "backgroundcolor": "#E5ECF6",
            "gridcolor": "white",
            "gridwidth": 2,
            "linecolor": "white",
            "showbackground": true,
            "ticks": "",
            "zerolinecolor": "white"
           }
          },
          "shapedefaults": {
           "line": {
            "color": "#2a3f5f"
           }
          },
          "ternary": {
           "aaxis": {
            "gridcolor": "white",
            "linecolor": "white",
            "ticks": ""
           },
           "baxis": {
            "gridcolor": "white",
            "linecolor": "white",
            "ticks": ""
           },
           "bgcolor": "#E5ECF6",
           "caxis": {
            "gridcolor": "white",
            "linecolor": "white",
            "ticks": ""
           }
          },
          "title": {
           "x": 0.05
          },
          "xaxis": {
           "automargin": true,
           "gridcolor": "white",
           "linecolor": "white",
           "ticks": "",
           "title": {
            "standoff": 15
           },
           "zerolinecolor": "white",
           "zerolinewidth": 2
          },
          "yaxis": {
           "automargin": true,
           "gridcolor": "white",
           "linecolor": "white",
           "ticks": "",
           "title": {
            "standoff": 15
           },
           "zerolinecolor": "white",
           "zerolinewidth": 2
          }
         }
        },
        "title": {
         "text": "Trend of cybercrimes over the years (OLS)"
        },
        "xaxis": {
         "anchor": "y",
         "domain": [
          0,
          1
         ],
         "title": {
          "text": "Year"
         }
        },
        "yaxis": {
         "anchor": "x",
         "domain": [
          0,
          1
         ],
         "title": {
          "text": "Value"
         }
        }
       }
      }
     },
     "metadata": {},
     "output_type": "display_data"
    },
    {
     "data": {
      "application/vnd.plotly.v1+json": {
       "config": {
        "plotlyServerURL": "https://plot.ly"
       },
       "data": [
        {
         "hovertemplate": "Year=%{x}<br>Value=%{y}<extra></extra>",
         "legendgroup": "",
         "marker": {
          "color": "#636efa",
          "symbol": "circle"
         },
         "mode": "markers",
         "name": "",
         "orientation": "v",
         "showlegend": false,
         "type": "scatter",
         "x": [
          2006,
          2007,
          2008,
          2009,
          2010,
          2011,
          2012,
          2013,
          2014,
          2015,
          2016,
          2017,
          2018,
          2019,
          2020,
          2021
         ],
         "xaxis": "x",
         "y": [
          2388,
          3777,
          4937,
          5506,
          5969,
          6928,
          7338,
          9407,
          10839,
          9851,
          10822,
          10572,
          13273,
          16136,
          19336,
          22053
         ],
         "yaxis": "y"
        },
        {
         "hovertemplate": "<b>LOWESS trendline</b><br><br>Year=%{x}<br>Value=%{y} <b>(trend)</b><extra></extra>",
         "legendgroup": "",
         "line": {
          "color": "red"
         },
         "marker": {
          "color": "#636efa",
          "symbol": "circle"
         },
         "mode": "lines",
         "name": "",
         "showlegend": false,
         "type": "scatter",
         "x": [
          2006,
          2007,
          2008,
          2009,
          2010,
          2011,
          2012,
          2013,
          2014,
          2015,
          2016,
          2017,
          2018,
          2019,
          2020,
          2021
         ],
         "xaxis": "x",
         "y": [
          2774.1175605186536,
          3632.326686639543,
          4488.656027145137,
          5353.493729874428,
          6224.109497646909,
          7123.932435850184,
          7971.066680558864,
          8772.403433333026,
          9562.756492017825,
          10452.461085748791,
          11620.81521038043,
          13039.087147636663,
          14964.898744840591,
          16895.095302439462,
          18885.909218732817,
          20956.295893389135
         ],
         "yaxis": "y"
        }
       ],
       "layout": {
        "legend": {
         "tracegroupgap": 0
        },
        "template": {
         "data": {
          "bar": [
           {
            "error_x": {
             "color": "#2a3f5f"
            },
            "error_y": {
             "color": "#2a3f5f"
            },
            "marker": {
             "line": {
              "color": "#E5ECF6",
              "width": 0.5
             },
             "pattern": {
              "fillmode": "overlay",
              "size": 10,
              "solidity": 0.2
             }
            },
            "type": "bar"
           }
          ],
          "barpolar": [
           {
            "marker": {
             "line": {
              "color": "#E5ECF6",
              "width": 0.5
             },
             "pattern": {
              "fillmode": "overlay",
              "size": 10,
              "solidity": 0.2
             }
            },
            "type": "barpolar"
           }
          ],
          "carpet": [
           {
            "aaxis": {
             "endlinecolor": "#2a3f5f",
             "gridcolor": "white",
             "linecolor": "white",
             "minorgridcolor": "white",
             "startlinecolor": "#2a3f5f"
            },
            "baxis": {
             "endlinecolor": "#2a3f5f",
             "gridcolor": "white",
             "linecolor": "white",
             "minorgridcolor": "white",
             "startlinecolor": "#2a3f5f"
            },
            "type": "carpet"
           }
          ],
          "choropleth": [
           {
            "colorbar": {
             "outlinewidth": 0,
             "ticks": ""
            },
            "type": "choropleth"
           }
          ],
          "contour": [
           {
            "colorbar": {
             "outlinewidth": 0,
             "ticks": ""
            },
            "colorscale": [
             [
              0,
              "#0d0887"
             ],
             [
              0.1111111111111111,
              "#46039f"
             ],
             [
              0.2222222222222222,
              "#7201a8"
             ],
             [
              0.3333333333333333,
              "#9c179e"
             ],
             [
              0.4444444444444444,
              "#bd3786"
             ],
             [
              0.5555555555555556,
              "#d8576b"
             ],
             [
              0.6666666666666666,
              "#ed7953"
             ],
             [
              0.7777777777777778,
              "#fb9f3a"
             ],
             [
              0.8888888888888888,
              "#fdca26"
             ],
             [
              1,
              "#f0f921"
             ]
            ],
            "type": "contour"
           }
          ],
          "contourcarpet": [
           {
            "colorbar": {
             "outlinewidth": 0,
             "ticks": ""
            },
            "type": "contourcarpet"
           }
          ],
          "heatmap": [
           {
            "colorbar": {
             "outlinewidth": 0,
             "ticks": ""
            },
            "colorscale": [
             [
              0,
              "#0d0887"
             ],
             [
              0.1111111111111111,
              "#46039f"
             ],
             [
              0.2222222222222222,
              "#7201a8"
             ],
             [
              0.3333333333333333,
              "#9c179e"
             ],
             [
              0.4444444444444444,
              "#bd3786"
             ],
             [
              0.5555555555555556,
              "#d8576b"
             ],
             [
              0.6666666666666666,
              "#ed7953"
             ],
             [
              0.7777777777777778,
              "#fb9f3a"
             ],
             [
              0.8888888888888888,
              "#fdca26"
             ],
             [
              1,
              "#f0f921"
             ]
            ],
            "type": "heatmap"
           }
          ],
          "heatmapgl": [
           {
            "colorbar": {
             "outlinewidth": 0,
             "ticks": ""
            },
            "colorscale": [
             [
              0,
              "#0d0887"
             ],
             [
              0.1111111111111111,
              "#46039f"
             ],
             [
              0.2222222222222222,
              "#7201a8"
             ],
             [
              0.3333333333333333,
              "#9c179e"
             ],
             [
              0.4444444444444444,
              "#bd3786"
             ],
             [
              0.5555555555555556,
              "#d8576b"
             ],
             [
              0.6666666666666666,
              "#ed7953"
             ],
             [
              0.7777777777777778,
              "#fb9f3a"
             ],
             [
              0.8888888888888888,
              "#fdca26"
             ],
             [
              1,
              "#f0f921"
             ]
            ],
            "type": "heatmapgl"
           }
          ],
          "histogram": [
           {
            "marker": {
             "pattern": {
              "fillmode": "overlay",
              "size": 10,
              "solidity": 0.2
             }
            },
            "type": "histogram"
           }
          ],
          "histogram2d": [
           {
            "colorbar": {
             "outlinewidth": 0,
             "ticks": ""
            },
            "colorscale": [
             [
              0,
              "#0d0887"
             ],
             [
              0.1111111111111111,
              "#46039f"
             ],
             [
              0.2222222222222222,
              "#7201a8"
             ],
             [
              0.3333333333333333,
              "#9c179e"
             ],
             [
              0.4444444444444444,
              "#bd3786"
             ],
             [
              0.5555555555555556,
              "#d8576b"
             ],
             [
              0.6666666666666666,
              "#ed7953"
             ],
             [
              0.7777777777777778,
              "#fb9f3a"
             ],
             [
              0.8888888888888888,
              "#fdca26"
             ],
             [
              1,
              "#f0f921"
             ]
            ],
            "type": "histogram2d"
           }
          ],
          "histogram2dcontour": [
           {
            "colorbar": {
             "outlinewidth": 0,
             "ticks": ""
            },
            "colorscale": [
             [
              0,
              "#0d0887"
             ],
             [
              0.1111111111111111,
              "#46039f"
             ],
             [
              0.2222222222222222,
              "#7201a8"
             ],
             [
              0.3333333333333333,
              "#9c179e"
             ],
             [
              0.4444444444444444,
              "#bd3786"
             ],
             [
              0.5555555555555556,
              "#d8576b"
             ],
             [
              0.6666666666666666,
              "#ed7953"
             ],
             [
              0.7777777777777778,
              "#fb9f3a"
             ],
             [
              0.8888888888888888,
              "#fdca26"
             ],
             [
              1,
              "#f0f921"
             ]
            ],
            "type": "histogram2dcontour"
           }
          ],
          "mesh3d": [
           {
            "colorbar": {
             "outlinewidth": 0,
             "ticks": ""
            },
            "type": "mesh3d"
           }
          ],
          "parcoords": [
           {
            "line": {
             "colorbar": {
              "outlinewidth": 0,
              "ticks": ""
             }
            },
            "type": "parcoords"
           }
          ],
          "pie": [
           {
            "automargin": true,
            "type": "pie"
           }
          ],
          "scatter": [
           {
            "fillpattern": {
             "fillmode": "overlay",
             "size": 10,
             "solidity": 0.2
            },
            "type": "scatter"
           }
          ],
          "scatter3d": [
           {
            "line": {
             "colorbar": {
              "outlinewidth": 0,
              "ticks": ""
             }
            },
            "marker": {
             "colorbar": {
              "outlinewidth": 0,
              "ticks": ""
             }
            },
            "type": "scatter3d"
           }
          ],
          "scattercarpet": [
           {
            "marker": {
             "colorbar": {
              "outlinewidth": 0,
              "ticks": ""
             }
            },
            "type": "scattercarpet"
           }
          ],
          "scattergeo": [
           {
            "marker": {
             "colorbar": {
              "outlinewidth": 0,
              "ticks": ""
             }
            },
            "type": "scattergeo"
           }
          ],
          "scattergl": [
           {
            "marker": {
             "colorbar": {
              "outlinewidth": 0,
              "ticks": ""
             }
            },
            "type": "scattergl"
           }
          ],
          "scattermapbox": [
           {
            "marker": {
             "colorbar": {
              "outlinewidth": 0,
              "ticks": ""
             }
            },
            "type": "scattermapbox"
           }
          ],
          "scatterpolar": [
           {
            "marker": {
             "colorbar": {
              "outlinewidth": 0,
              "ticks": ""
             }
            },
            "type": "scatterpolar"
           }
          ],
          "scatterpolargl": [
           {
            "marker": {
             "colorbar": {
              "outlinewidth": 0,
              "ticks": ""
             }
            },
            "type": "scatterpolargl"
           }
          ],
          "scatterternary": [
           {
            "marker": {
             "colorbar": {
              "outlinewidth": 0,
              "ticks": ""
             }
            },
            "type": "scatterternary"
           }
          ],
          "surface": [
           {
            "colorbar": {
             "outlinewidth": 0,
             "ticks": ""
            },
            "colorscale": [
             [
              0,
              "#0d0887"
             ],
             [
              0.1111111111111111,
              "#46039f"
             ],
             [
              0.2222222222222222,
              "#7201a8"
             ],
             [
              0.3333333333333333,
              "#9c179e"
             ],
             [
              0.4444444444444444,
              "#bd3786"
             ],
             [
              0.5555555555555556,
              "#d8576b"
             ],
             [
              0.6666666666666666,
              "#ed7953"
             ],
             [
              0.7777777777777778,
              "#fb9f3a"
             ],
             [
              0.8888888888888888,
              "#fdca26"
             ],
             [
              1,
              "#f0f921"
             ]
            ],
            "type": "surface"
           }
          ],
          "table": [
           {
            "cells": {
             "fill": {
              "color": "#EBF0F8"
             },
             "line": {
              "color": "white"
             }
            },
            "header": {
             "fill": {
              "color": "#C8D4E3"
             },
             "line": {
              "color": "white"
             }
            },
            "type": "table"
           }
          ]
         },
         "layout": {
          "annotationdefaults": {
           "arrowcolor": "#2a3f5f",
           "arrowhead": 0,
           "arrowwidth": 1
          },
          "autotypenumbers": "strict",
          "coloraxis": {
           "colorbar": {
            "outlinewidth": 0,
            "ticks": ""
           }
          },
          "colorscale": {
           "diverging": [
            [
             0,
             "#8e0152"
            ],
            [
             0.1,
             "#c51b7d"
            ],
            [
             0.2,
             "#de77ae"
            ],
            [
             0.3,
             "#f1b6da"
            ],
            [
             0.4,
             "#fde0ef"
            ],
            [
             0.5,
             "#f7f7f7"
            ],
            [
             0.6,
             "#e6f5d0"
            ],
            [
             0.7,
             "#b8e186"
            ],
            [
             0.8,
             "#7fbc41"
            ],
            [
             0.9,
             "#4d9221"
            ],
            [
             1,
             "#276419"
            ]
           ],
           "sequential": [
            [
             0,
             "#0d0887"
            ],
            [
             0.1111111111111111,
             "#46039f"
            ],
            [
             0.2222222222222222,
             "#7201a8"
            ],
            [
             0.3333333333333333,
             "#9c179e"
            ],
            [
             0.4444444444444444,
             "#bd3786"
            ],
            [
             0.5555555555555556,
             "#d8576b"
            ],
            [
             0.6666666666666666,
             "#ed7953"
            ],
            [
             0.7777777777777778,
             "#fb9f3a"
            ],
            [
             0.8888888888888888,
             "#fdca26"
            ],
            [
             1,
             "#f0f921"
            ]
           ],
           "sequentialminus": [
            [
             0,
             "#0d0887"
            ],
            [
             0.1111111111111111,
             "#46039f"
            ],
            [
             0.2222222222222222,
             "#7201a8"
            ],
            [
             0.3333333333333333,
             "#9c179e"
            ],
            [
             0.4444444444444444,
             "#bd3786"
            ],
            [
             0.5555555555555556,
             "#d8576b"
            ],
            [
             0.6666666666666666,
             "#ed7953"
            ],
            [
             0.7777777777777778,
             "#fb9f3a"
            ],
            [
             0.8888888888888888,
             "#fdca26"
            ],
            [
             1,
             "#f0f921"
            ]
           ]
          },
          "colorway": [
           "#636efa",
           "#EF553B",
           "#00cc96",
           "#ab63fa",
           "#FFA15A",
           "#19d3f3",
           "#FF6692",
           "#B6E880",
           "#FF97FF",
           "#FECB52"
          ],
          "font": {
           "color": "#2a3f5f"
          },
          "geo": {
           "bgcolor": "white",
           "lakecolor": "white",
           "landcolor": "#E5ECF6",
           "showlakes": true,
           "showland": true,
           "subunitcolor": "white"
          },
          "hoverlabel": {
           "align": "left"
          },
          "hovermode": "closest",
          "mapbox": {
           "style": "light"
          },
          "paper_bgcolor": "white",
          "plot_bgcolor": "#E5ECF6",
          "polar": {
           "angularaxis": {
            "gridcolor": "white",
            "linecolor": "white",
            "ticks": ""
           },
           "bgcolor": "#E5ECF6",
           "radialaxis": {
            "gridcolor": "white",
            "linecolor": "white",
            "ticks": ""
           }
          },
          "scene": {
           "xaxis": {
            "backgroundcolor": "#E5ECF6",
            "gridcolor": "white",
            "gridwidth": 2,
            "linecolor": "white",
            "showbackground": true,
            "ticks": "",
            "zerolinecolor": "white"
           },
           "yaxis": {
            "backgroundcolor": "#E5ECF6",
            "gridcolor": "white",
            "gridwidth": 2,
            "linecolor": "white",
            "showbackground": true,
            "ticks": "",
            "zerolinecolor": "white"
           },
           "zaxis": {
            "backgroundcolor": "#E5ECF6",
            "gridcolor": "white",
            "gridwidth": 2,
            "linecolor": "white",
            "showbackground": true,
            "ticks": "",
            "zerolinecolor": "white"
           }
          },
          "shapedefaults": {
           "line": {
            "color": "#2a3f5f"
           }
          },
          "ternary": {
           "aaxis": {
            "gridcolor": "white",
            "linecolor": "white",
            "ticks": ""
           },
           "baxis": {
            "gridcolor": "white",
            "linecolor": "white",
            "ticks": ""
           },
           "bgcolor": "#E5ECF6",
           "caxis": {
            "gridcolor": "white",
            "linecolor": "white",
            "ticks": ""
           }
          },
          "title": {
           "x": 0.05
          },
          "xaxis": {
           "automargin": true,
           "gridcolor": "white",
           "linecolor": "white",
           "ticks": "",
           "title": {
            "standoff": 15
           },
           "zerolinecolor": "white",
           "zerolinewidth": 2
          },
          "yaxis": {
           "automargin": true,
           "gridcolor": "white",
           "linecolor": "white",
           "ticks": "",
           "title": {
            "standoff": 15
           },
           "zerolinecolor": "white",
           "zerolinewidth": 2
          }
         }
        },
        "title": {
         "text": "Trend of cybercrimes over the years (Lowess)"
        },
        "xaxis": {
         "anchor": "y",
         "domain": [
          0,
          1
         ],
         "title": {
          "text": "Year"
         }
        },
        "yaxis": {
         "anchor": "x",
         "domain": [
          0,
          1
         ],
         "title": {
          "text": "Value"
         }
        }
       }
      }
     },
     "metadata": {},
     "output_type": "display_data"
    }
   ],
   "source": [
    "cyber_crime_df = df.loc[df['Crime'] == 'delitti informatici']\n",
    "cyber_crime_df_groupby = cyber_crime_df.groupby('Year').sum(numeric_only=True)['Value'].reset_index()\n",
    "\n",
    "fig = px.scatter(data_frame= cyber_crime_df_groupby,\n",
    "              x = 'Year',\n",
    "              y = 'Value',\n",
    "              trendline='ols',\n",
    "              trendline_color_override= 'red',\n",
    "              title= 'Trend of cybercrimes over the years (OLS)')\n",
    "fig.show()\n",
    "\n",
    "\n",
    "fig = px.scatter(data_frame= cyber_crime_df_groupby,\n",
    "              x = 'Year',\n",
    "              y = 'Value',\n",
    "              trendline='lowess',\n",
    "              trendline_color_override= 'red',\n",
    "              title= 'Trend of cybercrimes over the years (Lowess)')\n",
    "fig.show()"
   ]
  }
 ],
 "metadata": {
  "kernelspec": {
   "display_name": "Python 3",
   "language": "python",
   "name": "python3"
  },
  "language_info": {
   "codemirror_mode": {
    "name": "ipython",
    "version": 3
   },
   "file_extension": ".py",
   "mimetype": "text/x-python",
   "name": "python",
   "nbconvert_exporter": "python",
   "pygments_lexer": "ipython3",
   "version": "3.11.3"
  },
  "orig_nbformat": 4
 },
 "nbformat": 4,
 "nbformat_minor": 2
}
